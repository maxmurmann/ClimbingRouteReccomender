{
 "cells": [
  {
   "cell_type": "code",
   "execution_count": 1,
   "metadata": {
    "ExecuteTime": {
     "end_time": "2020-03-04T11:07:59.313085Z",
     "start_time": "2020-03-04T11:07:57.391319Z"
    }
   },
   "outputs": [
    {
     "name": "stderr",
     "output_type": "stream",
     "text": [
      "/Users/max/opt/anaconda3/lib/python3.7/site-packages/tqdm/std.py:658: FutureWarning: The Panel class is removed from pandas. Accessing it from the top-level namespace will also be removed in the next version\n",
      "  from pandas import Panel\n"
     ]
    }
   ],
   "source": [
    "import pandas as pd\n",
    "import numpy as np\n",
    "from pandas.io import sql\n",
    "from sqlalchemy import create_engine\n",
    "import csv\n",
    "from tqdm.notebook import tqdm\n",
    "import matplotlib.pyplot as plt\n",
    "from surprise import Reader, Dataset\n",
    "\n",
    "tqdm.pandas()"
   ]
  },
  {
   "cell_type": "code",
   "execution_count": 2,
   "metadata": {
    "ExecuteTime": {
     "end_time": "2020-03-04T11:07:59.365864Z",
     "start_time": "2020-03-04T11:07:59.315287Z"
    }
   },
   "outputs": [],
   "source": [
    "db_user = 'postgres'\n",
    "db_password = ''\n",
    "db_host = 'localhost'\n",
    "db_port = 5432\n",
    "database = 'climbing'\n",
    "\n",
    "conn_str = f'postgresql://{db_user}:{db_password}@{db_host}:{db_port}/{database}'\n",
    "connection = create_engine(conn_str)"
   ]
  },
  {
   "cell_type": "code",
   "execution_count": 3,
   "metadata": {
    "ExecuteTime": {
     "end_time": "2020-03-04T11:08:00.047847Z",
     "start_time": "2020-03-04T11:07:59.368382Z"
    }
   },
   "outputs": [],
   "source": [
    "df_clusters = pd.read_sql('select * from clusters',connection,index_col='index')"
   ]
  },
  {
   "cell_type": "code",
   "execution_count": 4,
   "metadata": {
    "ExecuteTime": {
     "end_time": "2020-03-04T11:08:03.279830Z",
     "start_time": "2020-03-04T11:08:00.049882Z"
    }
   },
   "outputs": [
    {
     "data": {
      "application/vnd.jupyter.widget-view+json": {
       "model_id": "0ea357332b3749cb9f8d3c1513fe7090",
       "version_major": 2,
       "version_minor": 0
      },
      "text/plain": [
       "HBox(children=(FloatProgress(value=0.0, max=33062.0), HTML(value='')))"
      ]
     },
     "metadata": {},
     "output_type": "display_data"
    },
    {
     "name": "stdout",
     "output_type": "stream",
     "text": [
      "\n"
     ]
    }
   ],
   "source": [
    "cluster_dict = df_clusters.T.to_dict()\n",
    "rating = []\n",
    "for user in tqdm(cluster_dict):\n",
    "    for thing in cluster_dict[user]:\n",
    "        rating.append([user,thing,cluster_dict[user][thing]])"
   ]
  },
  {
   "cell_type": "code",
   "execution_count": 5,
   "metadata": {
    "ExecuteTime": {
     "end_time": "2020-03-04T11:08:03.671327Z",
     "start_time": "2020-03-04T11:08:03.282204Z"
    }
   },
   "outputs": [],
   "source": [
    "df_rating = pd.DataFrame(rating,columns=['user','cluster','rat'])"
   ]
  },
  {
   "cell_type": "code",
   "execution_count": 6,
   "metadata": {
    "ExecuteTime": {
     "end_time": "2020-03-04T11:08:03.684957Z",
     "start_time": "2020-03-04T11:08:03.672981Z"
    }
   },
   "outputs": [
    {
     "data": {
      "text/html": [
       "<div>\n",
       "<style scoped>\n",
       "    .dataframe tbody tr th:only-of-type {\n",
       "        vertical-align: middle;\n",
       "    }\n",
       "\n",
       "    .dataframe tbody tr th {\n",
       "        vertical-align: top;\n",
       "    }\n",
       "\n",
       "    .dataframe thead th {\n",
       "        text-align: right;\n",
       "    }\n",
       "</style>\n",
       "<table border=\"1\" class=\"dataframe\">\n",
       "  <thead>\n",
       "    <tr style=\"text-align: right;\">\n",
       "      <th></th>\n",
       "      <th>user</th>\n",
       "      <th>cluster</th>\n",
       "      <th>rat</th>\n",
       "    </tr>\n",
       "  </thead>\n",
       "  <tbody>\n",
       "    <tr>\n",
       "      <th>0</th>\n",
       "      <td>100002</td>\n",
       "      <td>cluster_0</td>\n",
       "      <td>0.000000</td>\n",
       "    </tr>\n",
       "    <tr>\n",
       "      <th>1</th>\n",
       "      <td>100002</td>\n",
       "      <td>cluster_1</td>\n",
       "      <td>0.000000</td>\n",
       "    </tr>\n",
       "    <tr>\n",
       "      <th>2</th>\n",
       "      <td>100002</td>\n",
       "      <td>cluster_2</td>\n",
       "      <td>0.000000</td>\n",
       "    </tr>\n",
       "    <tr>\n",
       "      <th>3</th>\n",
       "      <td>100002</td>\n",
       "      <td>cluster_3</td>\n",
       "      <td>0.000000</td>\n",
       "    </tr>\n",
       "    <tr>\n",
       "      <th>4</th>\n",
       "      <td>100002</td>\n",
       "      <td>cluster_4</td>\n",
       "      <td>0.000000</td>\n",
       "    </tr>\n",
       "    <tr>\n",
       "      <th>...</th>\n",
       "      <td>...</td>\n",
       "      <td>...</td>\n",
       "      <td>...</td>\n",
       "    </tr>\n",
       "    <tr>\n",
       "      <th>1322475</th>\n",
       "      <td>99999</td>\n",
       "      <td>cluster_35</td>\n",
       "      <td>0.000000</td>\n",
       "    </tr>\n",
       "    <tr>\n",
       "      <th>1322476</th>\n",
       "      <td>99999</td>\n",
       "      <td>cluster_36</td>\n",
       "      <td>0.000000</td>\n",
       "    </tr>\n",
       "    <tr>\n",
       "      <th>1322477</th>\n",
       "      <td>99999</td>\n",
       "      <td>cluster_37</td>\n",
       "      <td>0.092308</td>\n",
       "    </tr>\n",
       "    <tr>\n",
       "      <th>1322478</th>\n",
       "      <td>99999</td>\n",
       "      <td>cluster_38</td>\n",
       "      <td>0.000000</td>\n",
       "    </tr>\n",
       "    <tr>\n",
       "      <th>1322479</th>\n",
       "      <td>99999</td>\n",
       "      <td>cluster_39</td>\n",
       "      <td>0.000000</td>\n",
       "    </tr>\n",
       "  </tbody>\n",
       "</table>\n",
       "<p>1322480 rows × 3 columns</p>\n",
       "</div>"
      ],
      "text/plain": [
       "           user     cluster       rat\n",
       "0        100002   cluster_0  0.000000\n",
       "1        100002   cluster_1  0.000000\n",
       "2        100002   cluster_2  0.000000\n",
       "3        100002   cluster_3  0.000000\n",
       "4        100002   cluster_4  0.000000\n",
       "...         ...         ...       ...\n",
       "1322475   99999  cluster_35  0.000000\n",
       "1322476   99999  cluster_36  0.000000\n",
       "1322477   99999  cluster_37  0.092308\n",
       "1322478   99999  cluster_38  0.000000\n",
       "1322479   99999  cluster_39  0.000000\n",
       "\n",
       "[1322480 rows x 3 columns]"
      ]
     },
     "execution_count": 6,
     "metadata": {},
     "output_type": "execute_result"
    }
   ],
   "source": [
    "df_rating"
   ]
  },
  {
   "cell_type": "code",
   "execution_count": 7,
   "metadata": {
    "ExecuteTime": {
     "end_time": "2020-03-04T11:08:04.686661Z",
     "start_time": "2020-03-04T11:08:03.686381Z"
    }
   },
   "outputs": [],
   "source": [
    "reader= Reader(rating_scale=(0,1))\n",
    "\n",
    "data = Dataset.load_from_df(df_rating,reader)"
   ]
  },
  {
   "cell_type": "code",
   "execution_count": 8,
   "metadata": {
    "ExecuteTime": {
     "end_time": "2020-03-04T11:08:06.810701Z",
     "start_time": "2020-03-04T11:08:04.690825Z"
    }
   },
   "outputs": [],
   "source": [
    "from surprise.model_selection import train_test_split\n",
    "\n",
    "trainset, testset = train_test_split(data, test_size=0.25)"
   ]
  },
  {
   "cell_type": "code",
   "execution_count": 9,
   "metadata": {
    "ExecuteTime": {
     "end_time": "2020-03-04T11:08:07.210063Z",
     "start_time": "2020-03-04T11:08:06.814087Z"
    }
   },
   "outputs": [],
   "source": [
    "import sklearn"
   ]
  },
  {
   "cell_type": "code",
   "execution_count": 10,
   "metadata": {
    "ExecuteTime": {
     "end_time": "2020-03-04T11:08:07.215052Z",
     "start_time": "2020-03-04T11:08:07.212323Z"
    }
   },
   "outputs": [],
   "source": [
    "from surprise import SVD, accuracy,SlopeOne\n",
    "from surprise.model_selection.search import GridSearchCV"
   ]
  },
  {
   "cell_type": "code",
   "execution_count": 11,
   "metadata": {
    "ExecuteTime": {
     "end_time": "2020-03-04T11:08:07.219887Z",
     "start_time": "2020-03-04T11:08:07.216986Z"
    }
   },
   "outputs": [
    {
     "name": "stdout",
     "output_type": "stream",
     "text": [
      "1\n",
      "11\n",
      "21\n",
      "31\n",
      "41\n"
     ]
    }
   ],
   "source": [
    "for i in range(1,50,10):\n",
    "    print(i)"
   ]
  },
  {
   "cell_type": "code",
   "execution_count": 12,
   "metadata": {
    "ExecuteTime": {
     "end_time": "2020-03-04T11:08:56.520088Z",
     "start_time": "2020-03-04T11:08:07.222006Z"
    }
   },
   "outputs": [],
   "source": [
    "#try slopeone, cosine similarities\n",
    "# grid_params = {'n_epochs':range(1,50,10)}\n",
    "\n",
    "algo = SVD()\n",
    "# gscv = GridSearchCV(SVD,grid_params,cv=5,n_jobs=-1,joblib_verbose=1)\n",
    "algo.fit(trainset)\n",
    "predicitons = algo.test(testset)"
   ]
  },
  {
   "cell_type": "code",
   "execution_count": 13,
   "metadata": {
    "ExecuteTime": {
     "end_time": "2020-03-04T11:08:56.525077Z",
     "start_time": "2020-03-04T11:08:56.522470Z"
    }
   },
   "outputs": [],
   "source": [
    "from surprise import accuracy"
   ]
  },
  {
   "cell_type": "code",
   "execution_count": 14,
   "metadata": {
    "ExecuteTime": {
     "end_time": "2020-03-04T11:08:56.768249Z",
     "start_time": "2020-03-04T11:08:56.527025Z"
    }
   },
   "outputs": [
    {
     "name": "stdout",
     "output_type": "stream",
     "text": [
      "RMSE: 0.0551\n"
     ]
    },
    {
     "data": {
      "text/plain": [
       "0.055087812134741905"
      ]
     },
     "execution_count": 14,
     "metadata": {},
     "output_type": "execute_result"
    }
   ],
   "source": [
    "accuracy.rmse(predicitons)"
   ]
  },
  {
   "cell_type": "code",
   "execution_count": 15,
   "metadata": {
    "ExecuteTime": {
     "end_time": "2020-03-04T11:08:56.772827Z",
     "start_time": "2020-03-04T11:08:56.770200Z"
    }
   },
   "outputs": [],
   "source": [
    "from surprise.model_selection import cross_validate"
   ]
  },
  {
   "cell_type": "code",
   "execution_count": 16,
   "metadata": {
    "ExecuteTime": {
     "end_time": "2020-03-04T11:13:56.747416Z",
     "start_time": "2020-03-04T11:08:56.774683Z"
    }
   },
   "outputs": [
    {
     "name": "stdout",
     "output_type": "stream",
     "text": [
      "Evaluating RMSE, MAE of algorithm SVD on 5 split(s).\n",
      "\n",
      "                  Fold 1  Fold 2  Fold 3  Fold 4  Fold 5  Mean    Std     \n",
      "RMSE (testset)    0.0560  0.0563  0.0541  0.0552  0.0553  0.0554  0.0008  \n",
      "MAE (testset)     0.0153  0.0157  0.0154  0.0155  0.0156  0.0155  0.0001  \n",
      "Fit time          52.67   53.67   57.13   55.22   54.92   54.72   1.51    \n",
      "Test time         1.76    2.87    3.25    1.67    3.81    2.67    0.84    \n"
     ]
    },
    {
     "data": {
      "text/plain": [
       "{'test_rmse': array([0.05604606, 0.05629977, 0.05413847, 0.05524828, 0.0553402 ]),\n",
       " 'test_mae': array([0.01528279, 0.015655  , 0.015408  , 0.01549958, 0.01563877]),\n",
       " 'fit_time': (52.66636800765991,\n",
       "  53.6676459312439,\n",
       "  57.13153600692749,\n",
       "  55.221237897872925,\n",
       "  54.91775393486023),\n",
       " 'test_time': (1.7640609741210938,\n",
       "  2.8695619106292725,\n",
       "  3.248008966445923,\n",
       "  1.6650030612945557,\n",
       "  3.8054280281066895)}"
      ]
     },
     "execution_count": 16,
     "metadata": {},
     "output_type": "execute_result"
    }
   ],
   "source": [
    "cross_validate(algo, data, verbose=True)"
   ]
  },
  {
   "cell_type": "code",
   "execution_count": 17,
   "metadata": {
    "ExecuteTime": {
     "end_time": "2020-03-04T11:13:56.756063Z",
     "start_time": "2020-03-04T11:13:56.749744Z"
    }
   },
   "outputs": [
    {
     "data": {
      "text/plain": [
       "[Prediction(uid=14570, iid='cluster_10', r_ui=0.0, est=0.0033140286463013147, details={'was_impossible': False})]"
      ]
     },
     "execution_count": 17,
     "metadata": {},
     "output_type": "execute_result"
    }
   ],
   "source": [
    "algo.test([df_rating.loc[279250]])"
   ]
  },
  {
   "cell_type": "code",
   "execution_count": 20,
   "metadata": {
    "ExecuteTime": {
     "end_time": "2020-03-03T12:24:19.310155Z",
     "start_time": "2020-03-03T12:24:19.306979Z"
    }
   },
   "outputs": [],
   "source": [
    "# from surprise import SVD, SVDpp, SlopeOne, NMF, NormalPredictor, KNNBaseline, KNNBasic, KNNWithMeans, KNNWithZScore, BaselineOnly, CoClustering\n",
    "# from surprise.model_selection import cross_validate\n",
    "\n",
    "# benchmark = []\n",
    "# # Iterate over all algorithms\n",
    "# for algorithm in tqdm([KNNWithMeans(),SVD(), NormalPredictor(),BaselineOnly()]):\n",
    "#     # Perform cross validation\n",
    "#     print(algorithm)\n",
    "#     try:\n",
    "#         results = cross_validate(algorithm, data, measures=['RMSE'], cv=3, verbose=False)\n",
    "    \n",
    "#     # Get results & append algorithm name\n",
    "#         tmp = pd.DataFrame.from_dict(results).mean(axis=0)\n",
    "#         tmp = tmp.append(pd.Series([str(algorithm).split(' ')[0].split('.')[-1]], index=['Algorithm']))\n",
    "#         benchmark.append(tmp)\n",
    "#     except:\n",
    "#         print('failed')\n",
    "    \n",
    "# pd.DataFrame(benchmark).set_index('Algorithm').sort_values('test_rmse')   "
   ]
  },
  {
   "cell_type": "code",
   "execution_count": 21,
   "metadata": {
    "ExecuteTime": {
     "end_time": "2020-03-03T12:24:19.316943Z",
     "start_time": "2020-03-03T12:24:19.312374Z"
    }
   },
   "outputs": [
    {
     "data": {
      "text/plain": [
       "Index(['cluster_0', 'cluster_1', 'cluster_2', 'cluster_3', 'cluster_4',\n",
       "       'cluster_5', 'cluster_6', 'cluster_7', 'cluster_8', 'cluster_9',\n",
       "       'cluster_10', 'cluster_11', 'cluster_12', 'cluster_13', 'cluster_14',\n",
       "       'cluster_15', 'cluster_16', 'cluster_17', 'cluster_18', 'cluster_19',\n",
       "       'cluster_20', 'cluster_21', 'cluster_22', 'cluster_23', 'cluster_24',\n",
       "       'cluster_25', 'cluster_26', 'cluster_27', 'cluster_28', 'cluster_29',\n",
       "       'cluster_30', 'cluster_31', 'cluster_32', 'cluster_33', 'cluster_34',\n",
       "       'cluster_35', 'cluster_36', 'cluster_37', 'cluster_38', 'cluster_39'],\n",
       "      dtype='object')"
      ]
     },
     "execution_count": 21,
     "metadata": {},
     "output_type": "execute_result"
    }
   ],
   "source": [
    "df_clusters.columns"
   ]
  },
  {
   "cell_type": "code",
   "execution_count": 22,
   "metadata": {
    "ExecuteTime": {
     "end_time": "2020-03-03T12:24:19.327639Z",
     "start_time": "2020-03-03T12:24:19.319046Z"
    }
   },
   "outputs": [
    {
     "data": {
      "text/plain": [
       "cluster_0     0.000000\n",
       "cluster_1     0.103448\n",
       "cluster_2     0.103448\n",
       "cluster_3     0.000000\n",
       "cluster_4     0.000000\n",
       "cluster_5     0.000000\n",
       "cluster_6     0.000000\n",
       "cluster_7     0.000000\n",
       "cluster_8     0.000000\n",
       "cluster_9     0.000000\n",
       "cluster_10    0.068966\n",
       "cluster_11    0.000000\n",
       "cluster_12    0.034483\n",
       "cluster_13    0.000000\n",
       "cluster_14    0.000000\n",
       "cluster_15    0.000000\n",
       "cluster_16    0.103448\n",
       "cluster_17    0.000000\n",
       "cluster_18    0.000000\n",
       "cluster_19    0.034483\n",
       "cluster_20    0.103448\n",
       "cluster_21    0.000000\n",
       "cluster_22    0.000000\n",
       "cluster_23    0.068966\n",
       "cluster_24    0.034483\n",
       "cluster_25    0.000000\n",
       "cluster_26    0.000000\n",
       "cluster_27    0.000000\n",
       "cluster_28    0.000000\n",
       "cluster_29    0.000000\n",
       "cluster_30    0.000000\n",
       "cluster_31    0.034483\n",
       "cluster_32    0.000000\n",
       "cluster_33    0.000000\n",
       "cluster_34    0.034483\n",
       "cluster_35    0.000000\n",
       "cluster_36    0.034483\n",
       "cluster_37    0.000000\n",
       "cluster_38    0.000000\n",
       "cluster_39    0.241379\n",
       "Name: 221061, dtype: float64"
      ]
     },
     "execution_count": 22,
     "metadata": {},
     "output_type": "execute_result"
    }
   ],
   "source": [
    "df_clusters.loc[221061]"
   ]
  },
  {
   "cell_type": "code",
   "execution_count": 23,
   "metadata": {
    "ExecuteTime": {
     "end_time": "2020-03-03T12:24:19.341710Z",
     "start_time": "2020-03-03T12:24:19.330291Z"
    }
   },
   "outputs": [
    {
     "name": "stdout",
     "output_type": "stream",
     "text": [
      "cluster_0\n",
      "cluster_1\n",
      "cluster_2\n",
      "cluster_3\n",
      "cluster_4\n",
      "cluster_5\n",
      "cluster_6\n",
      "cluster_7\n",
      "cluster_8\n",
      "cluster_9\n",
      "cluster_10\n",
      "cluster_11\n",
      "cluster_12\n",
      "cluster_13\n",
      "cluster_14\n",
      "cluster_15\n",
      "cluster_16\n",
      "cluster_17\n",
      "cluster_18\n",
      "cluster_19\n",
      "cluster_20\n",
      "cluster_21\n",
      "cluster_22\n",
      "cluster_23\n",
      "cluster_24\n",
      "cluster_25\n",
      "cluster_26\n",
      "cluster_27\n",
      "cluster_28\n",
      "cluster_29\n",
      "cluster_30\n",
      "cluster_31\n",
      "cluster_32\n",
      "cluster_33\n",
      "cluster_34\n",
      "cluster_35\n",
      "cluster_36\n",
      "cluster_37\n",
      "cluster_38\n",
      "cluster_39\n"
     ]
    }
   ],
   "source": [
    "predictions_user = []\n",
    "for column in df_clusters.columns:\n",
    "    print(column)\n",
    "    predictions_user.append((column,algo.predict(221061,column).est))"
   ]
  },
  {
   "cell_type": "code",
   "execution_count": 30,
   "metadata": {
    "ExecuteTime": {
     "end_time": "2020-03-03T14:14:12.207077Z",
     "start_time": "2020-03-03T14:14:12.202172Z"
    }
   },
   "outputs": [
    {
     "data": {
      "text/plain": [
       "cluster_0     0.000000\n",
       "cluster_1     0.103448\n",
       "cluster_2     0.103448\n",
       "cluster_3     0.000000\n",
       "cluster_4     0.000000\n",
       "cluster_5     0.000000\n",
       "cluster_6     0.000000\n",
       "cluster_7     0.000000\n",
       "cluster_8     0.000000\n",
       "cluster_9     0.000000\n",
       "cluster_10    0.068966\n",
       "cluster_11    0.000000\n",
       "cluster_12    0.034483\n",
       "cluster_13    0.000000\n",
       "cluster_14    0.000000\n",
       "cluster_15    0.000000\n",
       "cluster_16    0.103448\n",
       "cluster_17    0.000000\n",
       "cluster_18    0.000000\n",
       "cluster_19    0.034483\n",
       "cluster_20    0.103448\n",
       "cluster_21    0.000000\n",
       "cluster_22    0.000000\n",
       "cluster_23    0.068966\n",
       "cluster_24    0.034483\n",
       "cluster_25    0.000000\n",
       "cluster_26    0.000000\n",
       "cluster_27    0.000000\n",
       "cluster_28    0.000000\n",
       "cluster_29    0.000000\n",
       "cluster_30    0.000000\n",
       "cluster_31    0.034483\n",
       "cluster_32    0.000000\n",
       "cluster_33    0.000000\n",
       "cluster_34    0.034483\n",
       "cluster_35    0.000000\n",
       "cluster_36    0.034483\n",
       "cluster_37    0.000000\n",
       "cluster_38    0.000000\n",
       "cluster_39    0.241379\n",
       "Name: 221061, dtype: float64"
      ]
     },
     "execution_count": 30,
     "metadata": {},
     "output_type": "execute_result"
    }
   ],
   "source": [
    "df_clusters.loc[221061]"
   ]
  },
  {
   "cell_type": "code",
   "execution_count": 54,
   "metadata": {
    "ExecuteTime": {
     "end_time": "2020-03-03T17:58:55.981523Z",
     "start_time": "2020-03-03T17:58:55.967420Z"
    }
   },
   "outputs": [
    {
     "data": {
      "text/plain": [
       "array([0.13793103, 0.        , 0.03448276, 0.03448276, 0.        ,\n",
       "       0.        , 0.        , 0.        , 0.        , 0.03448276,\n",
       "       0.        , 0.        , 0.        , 0.        , 0.        ,\n",
       "       0.03448276, 0.06896552, 0.06896552, 0.03448276, 0.        ,\n",
       "       0.03448276, 0.        , 0.        , 0.03448276, 0.        ,\n",
       "       0.06896552, 0.03448276, 0.        , 0.06896552, 0.        ,\n",
       "       0.        , 0.        , 0.        , 0.        , 0.        ,\n",
       "       0.03448276, 0.        , 0.03448276, 0.        , 0.24137931])"
      ]
     },
     "execution_count": 54,
     "metadata": {},
     "output_type": "execute_result"
    }
   ],
   "source": [
    "df_clusters.loc[221061].values"
   ]
  },
  {
   "cell_type": "code",
   "execution_count": 59,
   "metadata": {
    "ExecuteTime": {
     "end_time": "2020-03-03T17:59:43.168922Z",
     "start_time": "2020-03-03T17:59:43.165545Z"
    }
   },
   "outputs": [],
   "source": [
    "df_results = pd.DataFrame(predictions_user)"
   ]
  },
  {
   "cell_type": "code",
   "execution_count": 60,
   "metadata": {
    "ExecuteTime": {
     "end_time": "2020-03-03T17:59:43.532977Z",
     "start_time": "2020-03-03T17:59:43.528849Z"
    }
   },
   "outputs": [],
   "source": [
    "df_results['real'] = df_clusters.loc[221061].values"
   ]
  },
  {
   "cell_type": "code",
   "execution_count": 63,
   "metadata": {
    "ExecuteTime": {
     "end_time": "2020-03-03T18:00:24.091876Z",
     "start_time": "2020-03-03T18:00:24.074208Z"
    }
   },
   "outputs": [
    {
     "data": {
      "text/html": [
       "<div>\n",
       "<style scoped>\n",
       "    .dataframe tbody tr th:only-of-type {\n",
       "        vertical-align: middle;\n",
       "    }\n",
       "\n",
       "    .dataframe tbody tr th {\n",
       "        vertical-align: top;\n",
       "    }\n",
       "\n",
       "    .dataframe thead th {\n",
       "        text-align: right;\n",
       "    }\n",
       "</style>\n",
       "<table border=\"1\" class=\"dataframe\">\n",
       "  <thead>\n",
       "    <tr style=\"text-align: right;\">\n",
       "      <th></th>\n",
       "      <th>0</th>\n",
       "      <th>1</th>\n",
       "      <th>real</th>\n",
       "    </tr>\n",
       "  </thead>\n",
       "  <tbody>\n",
       "    <tr>\n",
       "      <th>18</th>\n",
       "      <td>cluster_18</td>\n",
       "      <td>0.013179</td>\n",
       "      <td>0.034483</td>\n",
       "    </tr>\n",
       "    <tr>\n",
       "      <th>25</th>\n",
       "      <td>cluster_25</td>\n",
       "      <td>0.013502</td>\n",
       "      <td>0.068966</td>\n",
       "    </tr>\n",
       "    <tr>\n",
       "      <th>15</th>\n",
       "      <td>cluster_15</td>\n",
       "      <td>0.013581</td>\n",
       "      <td>0.034483</td>\n",
       "    </tr>\n",
       "    <tr>\n",
       "      <th>27</th>\n",
       "      <td>cluster_27</td>\n",
       "      <td>0.013631</td>\n",
       "      <td>0.000000</td>\n",
       "    </tr>\n",
       "    <tr>\n",
       "      <th>28</th>\n",
       "      <td>cluster_28</td>\n",
       "      <td>0.013810</td>\n",
       "      <td>0.068966</td>\n",
       "    </tr>\n",
       "    <tr>\n",
       "      <th>7</th>\n",
       "      <td>cluster_7</td>\n",
       "      <td>0.013862</td>\n",
       "      <td>0.000000</td>\n",
       "    </tr>\n",
       "    <tr>\n",
       "      <th>38</th>\n",
       "      <td>cluster_38</td>\n",
       "      <td>0.014006</td>\n",
       "      <td>0.000000</td>\n",
       "    </tr>\n",
       "    <tr>\n",
       "      <th>17</th>\n",
       "      <td>cluster_17</td>\n",
       "      <td>0.014244</td>\n",
       "      <td>0.068966</td>\n",
       "    </tr>\n",
       "    <tr>\n",
       "      <th>4</th>\n",
       "      <td>cluster_4</td>\n",
       "      <td>0.014335</td>\n",
       "      <td>0.000000</td>\n",
       "    </tr>\n",
       "    <tr>\n",
       "      <th>33</th>\n",
       "      <td>cluster_33</td>\n",
       "      <td>0.014376</td>\n",
       "      <td>0.000000</td>\n",
       "    </tr>\n",
       "    <tr>\n",
       "      <th>8</th>\n",
       "      <td>cluster_8</td>\n",
       "      <td>0.014647</td>\n",
       "      <td>0.000000</td>\n",
       "    </tr>\n",
       "    <tr>\n",
       "      <th>9</th>\n",
       "      <td>cluster_9</td>\n",
       "      <td>0.014886</td>\n",
       "      <td>0.034483</td>\n",
       "    </tr>\n",
       "    <tr>\n",
       "      <th>3</th>\n",
       "      <td>cluster_3</td>\n",
       "      <td>0.015003</td>\n",
       "      <td>0.034483</td>\n",
       "    </tr>\n",
       "    <tr>\n",
       "      <th>13</th>\n",
       "      <td>cluster_13</td>\n",
       "      <td>0.015034</td>\n",
       "      <td>0.000000</td>\n",
       "    </tr>\n",
       "    <tr>\n",
       "      <th>6</th>\n",
       "      <td>cluster_6</td>\n",
       "      <td>0.015093</td>\n",
       "      <td>0.000000</td>\n",
       "    </tr>\n",
       "    <tr>\n",
       "      <th>22</th>\n",
       "      <td>cluster_22</td>\n",
       "      <td>0.015171</td>\n",
       "      <td>0.000000</td>\n",
       "    </tr>\n",
       "    <tr>\n",
       "      <th>21</th>\n",
       "      <td>cluster_21</td>\n",
       "      <td>0.015707</td>\n",
       "      <td>0.000000</td>\n",
       "    </tr>\n",
       "    <tr>\n",
       "      <th>29</th>\n",
       "      <td>cluster_29</td>\n",
       "      <td>0.015729</td>\n",
       "      <td>0.000000</td>\n",
       "    </tr>\n",
       "    <tr>\n",
       "      <th>30</th>\n",
       "      <td>cluster_30</td>\n",
       "      <td>0.015901</td>\n",
       "      <td>0.000000</td>\n",
       "    </tr>\n",
       "    <tr>\n",
       "      <th>26</th>\n",
       "      <td>cluster_26</td>\n",
       "      <td>0.016065</td>\n",
       "      <td>0.034483</td>\n",
       "    </tr>\n",
       "    <tr>\n",
       "      <th>37</th>\n",
       "      <td>cluster_37</td>\n",
       "      <td>0.016147</td>\n",
       "      <td>0.034483</td>\n",
       "    </tr>\n",
       "    <tr>\n",
       "      <th>0</th>\n",
       "      <td>cluster_0</td>\n",
       "      <td>0.016416</td>\n",
       "      <td>0.137931</td>\n",
       "    </tr>\n",
       "    <tr>\n",
       "      <th>11</th>\n",
       "      <td>cluster_11</td>\n",
       "      <td>0.016921</td>\n",
       "      <td>0.000000</td>\n",
       "    </tr>\n",
       "    <tr>\n",
       "      <th>23</th>\n",
       "      <td>cluster_23</td>\n",
       "      <td>0.017045</td>\n",
       "      <td>0.034483</td>\n",
       "    </tr>\n",
       "    <tr>\n",
       "      <th>32</th>\n",
       "      <td>cluster_32</td>\n",
       "      <td>0.017153</td>\n",
       "      <td>0.000000</td>\n",
       "    </tr>\n",
       "    <tr>\n",
       "      <th>34</th>\n",
       "      <td>cluster_34</td>\n",
       "      <td>0.019013</td>\n",
       "      <td>0.000000</td>\n",
       "    </tr>\n",
       "    <tr>\n",
       "      <th>31</th>\n",
       "      <td>cluster_31</td>\n",
       "      <td>0.019260</td>\n",
       "      <td>0.000000</td>\n",
       "    </tr>\n",
       "    <tr>\n",
       "      <th>12</th>\n",
       "      <td>cluster_12</td>\n",
       "      <td>0.020399</td>\n",
       "      <td>0.000000</td>\n",
       "    </tr>\n",
       "    <tr>\n",
       "      <th>24</th>\n",
       "      <td>cluster_24</td>\n",
       "      <td>0.023354</td>\n",
       "      <td>0.000000</td>\n",
       "    </tr>\n",
       "    <tr>\n",
       "      <th>20</th>\n",
       "      <td>cluster_20</td>\n",
       "      <td>0.024973</td>\n",
       "      <td>0.034483</td>\n",
       "    </tr>\n",
       "    <tr>\n",
       "      <th>19</th>\n",
       "      <td>cluster_19</td>\n",
       "      <td>0.028138</td>\n",
       "      <td>0.000000</td>\n",
       "    </tr>\n",
       "    <tr>\n",
       "      <th>2</th>\n",
       "      <td>cluster_2</td>\n",
       "      <td>0.028619</td>\n",
       "      <td>0.034483</td>\n",
       "    </tr>\n",
       "    <tr>\n",
       "      <th>14</th>\n",
       "      <td>cluster_14</td>\n",
       "      <td>0.029068</td>\n",
       "      <td>0.000000</td>\n",
       "    </tr>\n",
       "    <tr>\n",
       "      <th>5</th>\n",
       "      <td>cluster_5</td>\n",
       "      <td>0.029610</td>\n",
       "      <td>0.000000</td>\n",
       "    </tr>\n",
       "    <tr>\n",
       "      <th>16</th>\n",
       "      <td>cluster_16</td>\n",
       "      <td>0.030151</td>\n",
       "      <td>0.068966</td>\n",
       "    </tr>\n",
       "    <tr>\n",
       "      <th>36</th>\n",
       "      <td>cluster_36</td>\n",
       "      <td>0.037044</td>\n",
       "      <td>0.000000</td>\n",
       "    </tr>\n",
       "    <tr>\n",
       "      <th>1</th>\n",
       "      <td>cluster_1</td>\n",
       "      <td>0.047677</td>\n",
       "      <td>0.000000</td>\n",
       "    </tr>\n",
       "    <tr>\n",
       "      <th>35</th>\n",
       "      <td>cluster_35</td>\n",
       "      <td>0.051135</td>\n",
       "      <td>0.034483</td>\n",
       "    </tr>\n",
       "    <tr>\n",
       "      <th>10</th>\n",
       "      <td>cluster_10</td>\n",
       "      <td>0.061228</td>\n",
       "      <td>0.000000</td>\n",
       "    </tr>\n",
       "    <tr>\n",
       "      <th>39</th>\n",
       "      <td>cluster_39</td>\n",
       "      <td>0.083365</td>\n",
       "      <td>0.241379</td>\n",
       "    </tr>\n",
       "  </tbody>\n",
       "</table>\n",
       "</div>"
      ],
      "text/plain": [
       "             0         1      real\n",
       "18  cluster_18  0.013179  0.034483\n",
       "25  cluster_25  0.013502  0.068966\n",
       "15  cluster_15  0.013581  0.034483\n",
       "27  cluster_27  0.013631  0.000000\n",
       "28  cluster_28  0.013810  0.068966\n",
       "7    cluster_7  0.013862  0.000000\n",
       "38  cluster_38  0.014006  0.000000\n",
       "17  cluster_17  0.014244  0.068966\n",
       "4    cluster_4  0.014335  0.000000\n",
       "33  cluster_33  0.014376  0.000000\n",
       "8    cluster_8  0.014647  0.000000\n",
       "9    cluster_9  0.014886  0.034483\n",
       "3    cluster_3  0.015003  0.034483\n",
       "13  cluster_13  0.015034  0.000000\n",
       "6    cluster_6  0.015093  0.000000\n",
       "22  cluster_22  0.015171  0.000000\n",
       "21  cluster_21  0.015707  0.000000\n",
       "29  cluster_29  0.015729  0.000000\n",
       "30  cluster_30  0.015901  0.000000\n",
       "26  cluster_26  0.016065  0.034483\n",
       "37  cluster_37  0.016147  0.034483\n",
       "0    cluster_0  0.016416  0.137931\n",
       "11  cluster_11  0.016921  0.000000\n",
       "23  cluster_23  0.017045  0.034483\n",
       "32  cluster_32  0.017153  0.000000\n",
       "34  cluster_34  0.019013  0.000000\n",
       "31  cluster_31  0.019260  0.000000\n",
       "12  cluster_12  0.020399  0.000000\n",
       "24  cluster_24  0.023354  0.000000\n",
       "20  cluster_20  0.024973  0.034483\n",
       "19  cluster_19  0.028138  0.000000\n",
       "2    cluster_2  0.028619  0.034483\n",
       "14  cluster_14  0.029068  0.000000\n",
       "5    cluster_5  0.029610  0.000000\n",
       "16  cluster_16  0.030151  0.068966\n",
       "36  cluster_36  0.037044  0.000000\n",
       "1    cluster_1  0.047677  0.000000\n",
       "35  cluster_35  0.051135  0.034483\n",
       "10  cluster_10  0.061228  0.000000\n",
       "39  cluster_39  0.083365  0.241379"
      ]
     },
     "execution_count": 63,
     "metadata": {},
     "output_type": "execute_result"
    }
   ],
   "source": [
    "df_results.sort_values(by=1)"
   ]
  },
  {
   "cell_type": "code",
   "execution_count": null,
   "metadata": {},
   "outputs": [],
   "source": []
  }
 ],
 "metadata": {
  "kernelspec": {
   "display_name": "Python 3",
   "language": "python",
   "name": "python3"
  },
  "language_info": {
   "codemirror_mode": {
    "name": "ipython",
    "version": 3
   },
   "file_extension": ".py",
   "mimetype": "text/x-python",
   "name": "python",
   "nbconvert_exporter": "python",
   "pygments_lexer": "ipython3",
   "version": "3.7.6"
  }
 },
 "nbformat": 4,
 "nbformat_minor": 2
}
