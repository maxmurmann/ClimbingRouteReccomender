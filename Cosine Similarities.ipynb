{
 "cells": [
  {
   "cell_type": "code",
   "execution_count": 1,
   "metadata": {
    "ExecuteTime": {
     "end_time": "2020-03-04T18:13:18.070425Z",
     "start_time": "2020-03-04T18:13:17.090783Z"
    }
   },
   "outputs": [],
   "source": [
    "import pandas as pd\n",
    "import numpy as np\n",
    "from pandas.io import sql\n",
    "from sqlalchemy import create_engine\n",
    "import csv\n",
    "from tqdm.notebook import tqdm\n",
    "import matplotlib.pyplot as plt"
   ]
  },
  {
   "cell_type": "code",
   "execution_count": 2,
   "metadata": {
    "ExecuteTime": {
     "end_time": "2020-03-04T18:13:18.079301Z",
     "start_time": "2020-03-04T18:13:18.072888Z"
    }
   },
   "outputs": [
    {
     "name": "stderr",
     "output_type": "stream",
     "text": [
      "/Users/max/opt/anaconda3/lib/python3.7/site-packages/tqdm/std.py:658: FutureWarning: The Panel class is removed from pandas. Accessing it from the top-level namespace will also be removed in the next version\n",
      "  from pandas import Panel\n"
     ]
    }
   ],
   "source": [
    "tqdm.pandas()"
   ]
  },
  {
   "cell_type": "code",
   "execution_count": null,
   "metadata": {},
   "outputs": [],
   "source": []
  },
  {
   "cell_type": "code",
   "execution_count": 3,
   "metadata": {
    "ExecuteTime": {
     "end_time": "2020-03-04T18:13:18.123151Z",
     "start_time": "2020-03-04T18:13:18.081657Z"
    }
   },
   "outputs": [],
   "source": [
    "db_user = 'postgres'\n",
    "db_password = ''\n",
    "db_host = 'localhost'\n",
    "db_port = 5432\n",
    "database = 'climbing'\n",
    "\n",
    "conn_str = f'postgresql://{db_user}:{db_password}@{db_host}:{db_port}/{database}'\n",
    "connection = create_engine(conn_str)"
   ]
  },
  {
   "cell_type": "code",
   "execution_count": 4,
   "metadata": {
    "ExecuteTime": {
     "end_time": "2020-03-04T18:13:23.077948Z",
     "start_time": "2020-03-04T18:13:18.125525Z"
    }
   },
   "outputs": [],
   "source": [
    "df_users = pd.read_sql('select * from users',connection,index_col='index')\n",
    "df_users['climbs'] = [eval(flat) for flat in df_users['climbs_flat']]\n",
    "df_users = df_users.drop('climbs_flat',axis=1)\n"
   ]
  },
  {
   "cell_type": "code",
   "execution_count": 9,
   "metadata": {
    "ExecuteTime": {
     "end_time": "2020-03-04T18:14:06.782709Z",
     "start_time": "2020-03-04T18:14:04.240527Z"
    }
   },
   "outputs": [
    {
     "data": {
      "text/html": [
       "<div>\n",
       "<style scoped>\n",
       "    .dataframe tbody tr th:only-of-type {\n",
       "        vertical-align: middle;\n",
       "    }\n",
       "\n",
       "    .dataframe tbody tr th {\n",
       "        vertical-align: top;\n",
       "    }\n",
       "\n",
       "    .dataframe thead th {\n",
       "        text-align: right;\n",
       "    }\n",
       "</style>\n",
       "<table border=\"1\" class=\"dataframe\">\n",
       "  <thead>\n",
       "    <tr style=\"text-align: right;\">\n",
       "      <th></th>\n",
       "      <th>url</th>\n",
       "      <th>cragname</th>\n",
       "      <th>climbs</th>\n",
       "      <th>rocktype</th>\n",
       "      <th>altitude</th>\n",
       "      <th>faces</th>\n",
       "      <th>lat</th>\n",
       "      <th>long</th>\n",
       "      <th>climb_list</th>\n",
       "    </tr>\n",
       "    <tr>\n",
       "      <th>index</th>\n",
       "      <th></th>\n",
       "      <th></th>\n",
       "      <th></th>\n",
       "      <th></th>\n",
       "      <th></th>\n",
       "      <th></th>\n",
       "      <th></th>\n",
       "      <th></th>\n",
       "      <th></th>\n",
       "    </tr>\n",
       "  </thead>\n",
       "  <tbody>\n",
       "    <tr>\n",
       "      <th>4</th>\n",
       "      <td>https://www.ukclimbing.com/logbook/crag.php?id=4</td>\n",
       "      <td>Dinas Cromlech</td>\n",
       "      <td>79</td>\n",
       "      <td>Rhyolite</td>\n",
       "      <td>500.0</td>\n",
       "      <td>S</td>\n",
       "      <td>53.0917</td>\n",
       "      <td>-4.0489</td>\n",
       "      <td>[(3166, 0), (3167, 0), (3168, 3), (3169, 1), (...</td>\n",
       "    </tr>\n",
       "    <tr>\n",
       "      <th>5</th>\n",
       "      <td>https://www.ukclimbing.com/logbook/crag.php?id=5</td>\n",
       "      <td>Bus Stop Quarry</td>\n",
       "      <td>115</td>\n",
       "      <td>Slate</td>\n",
       "      <td>450.0</td>\n",
       "      <td>None</td>\n",
       "      <td>53.1294</td>\n",
       "      <td>-4.1058</td>\n",
       "      <td>[(141016, 1), (136481, 1), (134391, 1), (1309,...</td>\n",
       "    </tr>\n",
       "    <tr>\n",
       "      <th>6</th>\n",
       "      <td>https://www.ukclimbing.com/logbook/crag.php?id=6</td>\n",
       "      <td>Craig Pant Ifan (Tremadog)</td>\n",
       "      <td>176</td>\n",
       "      <td>Dolerite</td>\n",
       "      <td>NaN</td>\n",
       "      <td>S</td>\n",
       "      <td>52.9436</td>\n",
       "      <td>-4.1311</td>\n",
       "      <td>[(152703, 0), (100182, 1), (2561, 2), (2562, 2...</td>\n",
       "    </tr>\n",
       "    <tr>\n",
       "      <th>7</th>\n",
       "      <td>https://www.ukclimbing.com/logbook/crag.php?id=7</td>\n",
       "      <td>St. Govan's Head</td>\n",
       "      <td>151</td>\n",
       "      <td>Limestone</td>\n",
       "      <td>12.0</td>\n",
       "      <td>SW</td>\n",
       "      <td>51.5977</td>\n",
       "      <td>-4.9277</td>\n",
       "      <td>[(401447, 0), (138693, 1), (58187, 1), (150671...</td>\n",
       "    </tr>\n",
       "    <tr>\n",
       "      <th>8</th>\n",
       "      <td>https://www.ukclimbing.com/logbook/crag.php?id=8</td>\n",
       "      <td>Carreg-y-Barcud Area</td>\n",
       "      <td>128</td>\n",
       "      <td>Sandstone (hard)</td>\n",
       "      <td>13.0</td>\n",
       "      <td>S</td>\n",
       "      <td>51.8719</td>\n",
       "      <td>-5.2350</td>\n",
       "      <td>[(503566, 0), (503567, 0), (503568, 0), (50356...</td>\n",
       "    </tr>\n",
       "    <tr>\n",
       "      <th>...</th>\n",
       "      <td>...</td>\n",
       "      <td>...</td>\n",
       "      <td>...</td>\n",
       "      <td>...</td>\n",
       "      <td>...</td>\n",
       "      <td>...</td>\n",
       "      <td>...</td>\n",
       "      <td>...</td>\n",
       "      <td>...</td>\n",
       "    </tr>\n",
       "    <tr>\n",
       "      <th>27429</th>\n",
       "      <td>https://www.ukclimbing.com/logbook/crag.php?id...</td>\n",
       "      <td>Gap Bon ami boulders</td>\n",
       "      <td>0</td>\n",
       "      <td>UNKNOWN</td>\n",
       "      <td>NaN</td>\n",
       "      <td>None</td>\n",
       "      <td>48.8067</td>\n",
       "      <td>-64.2198</td>\n",
       "      <td>[]</td>\n",
       "    </tr>\n",
       "    <tr>\n",
       "      <th>27430</th>\n",
       "      <td>https://www.ukclimbing.com/logbook/crag.php?id...</td>\n",
       "      <td>Metal Expert</td>\n",
       "      <td>8</td>\n",
       "      <td>UNKNOWN</td>\n",
       "      <td>NaN</td>\n",
       "      <td>None</td>\n",
       "      <td>45.5454</td>\n",
       "      <td>25.5181</td>\n",
       "      <td>[(560519, 3), (560520, 3), (560521, 0), (56052...</td>\n",
       "    </tr>\n",
       "    <tr>\n",
       "      <th>27431</th>\n",
       "      <td>https://www.ukclimbing.com/logbook/crag.php?id...</td>\n",
       "      <td>Las Palomas</td>\n",
       "      <td>3</td>\n",
       "      <td>UNKNOWN</td>\n",
       "      <td>NaN</td>\n",
       "      <td>None</td>\n",
       "      <td>28.1159</td>\n",
       "      <td>-16.5589</td>\n",
       "      <td>[(560451, 2), (560452, 2), (560453, 2)]</td>\n",
       "    </tr>\n",
       "    <tr>\n",
       "      <th>27432</th>\n",
       "      <td>https://www.ukclimbing.com/logbook/crag.php?id...</td>\n",
       "      <td>Corral de Vacos</td>\n",
       "      <td>62</td>\n",
       "      <td>UNKNOWN</td>\n",
       "      <td>NaN</td>\n",
       "      <td>None</td>\n",
       "      <td>39.5282</td>\n",
       "      <td>-0.8342</td>\n",
       "      <td>[(560454, 0), (560455, 0), (560456, 0), (56045...</td>\n",
       "    </tr>\n",
       "    <tr>\n",
       "      <th>27434</th>\n",
       "      <td>https://www.ukclimbing.com/logbook/crag.php?id...</td>\n",
       "      <td>Elsie's Peak</td>\n",
       "      <td>0</td>\n",
       "      <td>UNKNOWN</td>\n",
       "      <td>NaN</td>\n",
       "      <td>None</td>\n",
       "      <td>-34.1501</td>\n",
       "      <td>18.4355</td>\n",
       "      <td>[]</td>\n",
       "    </tr>\n",
       "  </tbody>\n",
       "</table>\n",
       "<p>19749 rows × 9 columns</p>\n",
       "</div>"
      ],
      "text/plain": [
       "                                                     url  \\\n",
       "index                                                      \n",
       "4       https://www.ukclimbing.com/logbook/crag.php?id=4   \n",
       "5       https://www.ukclimbing.com/logbook/crag.php?id=5   \n",
       "6       https://www.ukclimbing.com/logbook/crag.php?id=6   \n",
       "7       https://www.ukclimbing.com/logbook/crag.php?id=7   \n",
       "8       https://www.ukclimbing.com/logbook/crag.php?id=8   \n",
       "...                                                  ...   \n",
       "27429  https://www.ukclimbing.com/logbook/crag.php?id...   \n",
       "27430  https://www.ukclimbing.com/logbook/crag.php?id...   \n",
       "27431  https://www.ukclimbing.com/logbook/crag.php?id...   \n",
       "27432  https://www.ukclimbing.com/logbook/crag.php?id...   \n",
       "27434  https://www.ukclimbing.com/logbook/crag.php?id...   \n",
       "\n",
       "                         cragname  climbs          rocktype  altitude faces  \\\n",
       "index                                                                         \n",
       "4                  Dinas Cromlech      79          Rhyolite     500.0     S   \n",
       "5                 Bus Stop Quarry     115             Slate     450.0  None   \n",
       "6      Craig Pant Ifan (Tremadog)     176          Dolerite       NaN     S   \n",
       "7                St. Govan's Head     151         Limestone      12.0    SW   \n",
       "8            Carreg-y-Barcud Area     128  Sandstone (hard)      13.0     S   \n",
       "...                           ...     ...               ...       ...   ...   \n",
       "27429        Gap Bon ami boulders       0           UNKNOWN       NaN  None   \n",
       "27430                Metal Expert       8           UNKNOWN       NaN  None   \n",
       "27431                 Las Palomas       3           UNKNOWN       NaN  None   \n",
       "27432             Corral de Vacos      62           UNKNOWN       NaN  None   \n",
       "27434                Elsie's Peak       0           UNKNOWN       NaN  None   \n",
       "\n",
       "           lat     long                                         climb_list  \n",
       "index                                                                       \n",
       "4      53.0917  -4.0489  [(3166, 0), (3167, 0), (3168, 3), (3169, 1), (...  \n",
       "5      53.1294  -4.1058  [(141016, 1), (136481, 1), (134391, 1), (1309,...  \n",
       "6      52.9436  -4.1311  [(152703, 0), (100182, 1), (2561, 2), (2562, 2...  \n",
       "7      51.5977  -4.9277  [(401447, 0), (138693, 1), (58187, 1), (150671...  \n",
       "8      51.8719  -5.2350  [(503566, 0), (503567, 0), (503568, 0), (50356...  \n",
       "...        ...      ...                                                ...  \n",
       "27429  48.8067 -64.2198                                                 []  \n",
       "27430  45.5454  25.5181  [(560519, 3), (560520, 3), (560521, 0), (56052...  \n",
       "27431  28.1159 -16.5589            [(560451, 2), (560452, 2), (560453, 2)]  \n",
       "27432  39.5282  -0.8342  [(560454, 0), (560455, 0), (560456, 0), (56045...  \n",
       "27434 -34.1501  18.4355                                                 []  \n",
       "\n",
       "[19749 rows x 9 columns]"
      ]
     },
     "execution_count": 9,
     "metadata": {},
     "output_type": "execute_result"
    }
   ],
   "source": [
    "df_crags = pd.read_sql('select * from crags',connection,index_col='index')\n",
    "df_crags['climb_list'] = [eval(flat) for flat in df_crags['climbs_flat']]\n",
    "df_crags = df_crags.drop('climbs_flat',axis=1)\n",
    "df_crags"
   ]
  },
  {
   "cell_type": "code",
   "execution_count": 5,
   "metadata": {
    "ExecuteTime": {
     "end_time": "2020-03-04T18:13:39.463996Z",
     "start_time": "2020-03-04T18:13:23.080124Z"
    }
   },
   "outputs": [
    {
     "data": {
      "text/html": [
       "<div>\n",
       "<style scoped>\n",
       "    .dataframe tbody tr th:only-of-type {\n",
       "        vertical-align: middle;\n",
       "    }\n",
       "\n",
       "    .dataframe tbody tr th {\n",
       "        vertical-align: top;\n",
       "    }\n",
       "\n",
       "    .dataframe thead th {\n",
       "        text-align: right;\n",
       "    }\n",
       "</style>\n",
       "<table border=\"1\" class=\"dataframe\">\n",
       "  <thead>\n",
       "    <tr style=\"text-align: right;\">\n",
       "      <th></th>\n",
       "      <th>id</th>\n",
       "      <th>url</th>\n",
       "      <th>climbname</th>\n",
       "      <th>rating</th>\n",
       "      <th>grade</th>\n",
       "      <th>crag_id</th>\n",
       "      <th>desc</th>\n",
       "      <th>num_comments</th>\n",
       "      <th>type</th>\n",
       "      <th>comments_flat</th>\n",
       "      <th>logs</th>\n",
       "    </tr>\n",
       "    <tr>\n",
       "      <th>index</th>\n",
       "      <th></th>\n",
       "      <th></th>\n",
       "      <th></th>\n",
       "      <th></th>\n",
       "      <th></th>\n",
       "      <th></th>\n",
       "      <th></th>\n",
       "      <th></th>\n",
       "      <th></th>\n",
       "      <th></th>\n",
       "      <th></th>\n",
       "    </tr>\n",
       "  </thead>\n",
       "  <tbody>\n",
       "    <tr>\n",
       "      <th>3166</th>\n",
       "      <td>3166</td>\n",
       "      <td>https://www.ukclimbing.com/logbook/c.php?i=3166</td>\n",
       "      <td>Millwood's Wall</td>\n",
       "      <td>0</td>\n",
       "      <td>S 4a</td>\n",
       "      <td>4</td>\n",
       "      <td></td>\n",
       "      <td>0</td>\n",
       "      <td>trad</td>\n",
       "      <td>' '</td>\n",
       "      <td>{}</td>\n",
       "    </tr>\n",
       "    <tr>\n",
       "      <th>3167</th>\n",
       "      <td>3167</td>\n",
       "      <td>https://www.ukclimbing.com/logbook/c.php?i=3167</td>\n",
       "      <td>Vanishing Point</td>\n",
       "      <td>0</td>\n",
       "      <td>E1 5b</td>\n",
       "      <td>4</td>\n",
       "      <td></td>\n",
       "      <td>2</td>\n",
       "      <td>trad</td>\n",
       "      <td>'   '</td>\n",
       "      <td>{'187067': '', '63530': ''}</td>\n",
       "    </tr>\n",
       "    <tr>\n",
       "      <th>3168</th>\n",
       "      <td>3168</td>\n",
       "      <td>https://www.ukclimbing.com/logbook/c.php?i=3168</td>\n",
       "      <td>The Thing</td>\n",
       "      <td>3</td>\n",
       "      <td>E2 5c</td>\n",
       "      <td>4</td>\n",
       "      <td></td>\n",
       "      <td>124</td>\n",
       "      <td>trad</td>\n",
       "      <td>\"  Joe led this in one pitch, taking the direc...</td>\n",
       "      <td>{'253245': '', '206609': 'Joe led this in one ...</td>\n",
       "    </tr>\n",
       "    <tr>\n",
       "      <th>3169</th>\n",
       "      <td>3169</td>\n",
       "      <td>https://www.ukclimbing.com/logbook/c.php?i=3169</td>\n",
       "      <td>Rootorooni</td>\n",
       "      <td>1</td>\n",
       "      <td>E3 5c</td>\n",
       "      <td>4</td>\n",
       "      <td></td>\n",
       "      <td>0</td>\n",
       "      <td>trad</td>\n",
       "      <td>' '</td>\n",
       "      <td>{}</td>\n",
       "    </tr>\n",
       "    <tr>\n",
       "      <th>3170</th>\n",
       "      <td>3170</td>\n",
       "      <td>https://www.ukclimbing.com/logbook/c.php?i=3170</td>\n",
       "      <td>Cobweb Crack</td>\n",
       "      <td>2</td>\n",
       "      <td>VS 5a</td>\n",
       "      <td>4</td>\n",
       "      <td></td>\n",
       "      <td>181</td>\n",
       "      <td>trad</td>\n",
       "      <td>'    Note that the description in the CC Llanb...</td>\n",
       "      <td>{'185136': '', '197782': '', '6106': '', '2410...</td>\n",
       "    </tr>\n",
       "    <tr>\n",
       "      <th>...</th>\n",
       "      <td>...</td>\n",
       "      <td>...</td>\n",
       "      <td>...</td>\n",
       "      <td>...</td>\n",
       "      <td>...</td>\n",
       "      <td>...</td>\n",
       "      <td>...</td>\n",
       "      <td>...</td>\n",
       "      <td>...</td>\n",
       "      <td>...</td>\n",
       "      <td>...</td>\n",
       "    </tr>\n",
       "    <tr>\n",
       "      <th>560510</th>\n",
       "      <td>560510</td>\n",
       "      <td>https://www.ukclimbing.com/logbook/c.php?i=560510</td>\n",
       "      <td>El chivo loco</td>\n",
       "      <td>0</td>\n",
       "      <td>6b</td>\n",
       "      <td>27432</td>\n",
       "      <td></td>\n",
       "      <td>0</td>\n",
       "      <td>lead</td>\n",
       "      <td>' '</td>\n",
       "      <td>{}</td>\n",
       "    </tr>\n",
       "    <tr>\n",
       "      <th>560511</th>\n",
       "      <td>560511</td>\n",
       "      <td>https://www.ukclimbing.com/logbook/c.php?i=560511</td>\n",
       "      <td>Victorking</td>\n",
       "      <td>0</td>\n",
       "      <td>6b+</td>\n",
       "      <td>27432</td>\n",
       "      <td></td>\n",
       "      <td>0</td>\n",
       "      <td>lead</td>\n",
       "      <td>' '</td>\n",
       "      <td>{}</td>\n",
       "    </tr>\n",
       "    <tr>\n",
       "      <th>560512</th>\n",
       "      <td>560512</td>\n",
       "      <td>https://www.ukclimbing.com/logbook/c.php?i=560512</td>\n",
       "      <td>Puto Maldonado</td>\n",
       "      <td>0</td>\n",
       "      <td>6c+</td>\n",
       "      <td>27432</td>\n",
       "      <td></td>\n",
       "      <td>0</td>\n",
       "      <td>lead</td>\n",
       "      <td>' '</td>\n",
       "      <td>{}</td>\n",
       "    </tr>\n",
       "    <tr>\n",
       "      <th>560513</th>\n",
       "      <td>560513</td>\n",
       "      <td>https://www.ukclimbing.com/logbook/c.php?i=560513</td>\n",
       "      <td>Bracitos de acero</td>\n",
       "      <td>0</td>\n",
       "      <td>6c</td>\n",
       "      <td>27432</td>\n",
       "      <td></td>\n",
       "      <td>0</td>\n",
       "      <td>lead</td>\n",
       "      <td>' '</td>\n",
       "      <td>{}</td>\n",
       "    </tr>\n",
       "    <tr>\n",
       "      <th>560514</th>\n",
       "      <td>560514</td>\n",
       "      <td>https://www.ukclimbing.com/logbook/c.php?i=560514</td>\n",
       "      <td>Los solidarios</td>\n",
       "      <td>0</td>\n",
       "      <td>6b</td>\n",
       "      <td>27432</td>\n",
       "      <td></td>\n",
       "      <td>0</td>\n",
       "      <td>lead</td>\n",
       "      <td>' '</td>\n",
       "      <td>{}</td>\n",
       "    </tr>\n",
       "  </tbody>\n",
       "</table>\n",
       "<p>492841 rows × 11 columns</p>\n",
       "</div>"
      ],
      "text/plain": [
       "            id                                                url  \\\n",
       "index                                                               \n",
       "3166      3166    https://www.ukclimbing.com/logbook/c.php?i=3166   \n",
       "3167      3167    https://www.ukclimbing.com/logbook/c.php?i=3167   \n",
       "3168      3168    https://www.ukclimbing.com/logbook/c.php?i=3168   \n",
       "3169      3169    https://www.ukclimbing.com/logbook/c.php?i=3169   \n",
       "3170      3170    https://www.ukclimbing.com/logbook/c.php?i=3170   \n",
       "...        ...                                                ...   \n",
       "560510  560510  https://www.ukclimbing.com/logbook/c.php?i=560510   \n",
       "560511  560511  https://www.ukclimbing.com/logbook/c.php?i=560511   \n",
       "560512  560512  https://www.ukclimbing.com/logbook/c.php?i=560512   \n",
       "560513  560513  https://www.ukclimbing.com/logbook/c.php?i=560513   \n",
       "560514  560514  https://www.ukclimbing.com/logbook/c.php?i=560514   \n",
       "\n",
       "                climbname  rating  grade  crag_id desc  num_comments  type  \\\n",
       "index                                                                        \n",
       "3166      Millwood's Wall       0   S 4a        4                  0  trad   \n",
       "3167      Vanishing Point       0  E1 5b        4                  2  trad   \n",
       "3168            The Thing       3  E2 5c        4                124  trad   \n",
       "3169           Rootorooni       1  E3 5c        4                  0  trad   \n",
       "3170         Cobweb Crack       2  VS 5a        4                181  trad   \n",
       "...                   ...     ...    ...      ...  ...           ...   ...   \n",
       "560510      El chivo loco       0     6b    27432                  0  lead   \n",
       "560511         Victorking       0    6b+    27432                  0  lead   \n",
       "560512     Puto Maldonado       0    6c+    27432                  0  lead   \n",
       "560513  Bracitos de acero       0     6c    27432                  0  lead   \n",
       "560514     Los solidarios       0     6b    27432                  0  lead   \n",
       "\n",
       "                                            comments_flat  \\\n",
       "index                                                       \n",
       "3166                                                  ' '   \n",
       "3167                                                '   '   \n",
       "3168    \"  Joe led this in one pitch, taking the direc...   \n",
       "3169                                                  ' '   \n",
       "3170    '    Note that the description in the CC Llanb...   \n",
       "...                                                   ...   \n",
       "560510                                                ' '   \n",
       "560511                                                ' '   \n",
       "560512                                                ' '   \n",
       "560513                                                ' '   \n",
       "560514                                                ' '   \n",
       "\n",
       "                                                     logs  \n",
       "index                                                      \n",
       "3166                                                   {}  \n",
       "3167                          {'187067': '', '63530': ''}  \n",
       "3168    {'253245': '', '206609': 'Joe led this in one ...  \n",
       "3169                                                   {}  \n",
       "3170    {'185136': '', '197782': '', '6106': '', '2410...  \n",
       "...                                                   ...  \n",
       "560510                                                 {}  \n",
       "560511                                                 {}  \n",
       "560512                                                 {}  \n",
       "560513                                                 {}  \n",
       "560514                                                 {}  \n",
       "\n",
       "[492841 rows x 11 columns]"
      ]
     },
     "execution_count": 5,
     "metadata": {},
     "output_type": "execute_result"
    }
   ],
   "source": [
    "df_climbs = pd.read_sql('select * from climbs',connection,index_col='index')\n",
    "df_climbs['logs'] = [eval(flat) for flat in df_climbs['logs_flat']]\n",
    "df_climbs = df_climbs.drop('logs_flat',axis=1)\n",
    "df_climbs"
   ]
  },
  {
   "cell_type": "code",
   "execution_count": 6,
   "metadata": {
    "ExecuteTime": {
     "end_time": "2020-03-04T18:13:39.964557Z",
     "start_time": "2020-03-04T18:13:39.466428Z"
    }
   },
   "outputs": [],
   "source": [
    "from sklearn.metrics.pairwise import cosine_similarity"
   ]
  },
  {
   "cell_type": "code",
   "execution_count": 7,
   "metadata": {
    "ExecuteTime": {
     "end_time": "2020-03-04T18:13:39.978360Z",
     "start_time": "2020-03-04T18:13:39.968030Z"
    }
   },
   "outputs": [],
   "source": [
    "from sklearn.feature_extraction.text import TfidfVectorizer"
   ]
  },
  {
   "cell_type": "code",
   "execution_count": 10,
   "metadata": {
    "ExecuteTime": {
     "end_time": "2020-03-04T18:14:07.851414Z",
     "start_time": "2020-03-04T18:14:07.841229Z"
    }
   },
   "outputs": [],
   "source": [
    "uk_crags = df_crags[(df_crags['lat']>50)&(df_crags['long']>-8.2)&(df_crags['lat']<58.9)&(df_crags['long']<2.1)].index"
   ]
  },
  {
   "cell_type": "code",
   "execution_count": 11,
   "metadata": {
    "ExecuteTime": {
     "end_time": "2020-03-04T18:14:08.296947Z",
     "start_time": "2020-03-04T18:14:08.064392Z"
    }
   },
   "outputs": [],
   "source": [
    "df_climbs['in_uk'] = df_climbs.crag_id.map(lambda x : x in uk_crags)"
   ]
  },
  {
   "cell_type": "code",
   "execution_count": 12,
   "metadata": {
    "ExecuteTime": {
     "end_time": "2020-03-04T18:14:08.368294Z",
     "start_time": "2020-03-04T18:14:08.299031Z"
    }
   },
   "outputs": [],
   "source": [
    "df_test = df_climbs[(df_climbs['in_uk'])&(df_climbs['type']=='boulder')]"
   ]
  },
  {
   "cell_type": "code",
   "execution_count": 13,
   "metadata": {
    "ExecuteTime": {
     "end_time": "2020-03-04T18:14:12.144372Z",
     "start_time": "2020-03-04T18:14:08.820271Z"
    }
   },
   "outputs": [
    {
     "data": {
      "text/plain": [
       "<56756x397416 sparse matrix of type '<class 'numpy.float64'>'\n",
       "\twith 1769622 stored elements in Compressed Sparse Row format>"
      ]
     },
     "execution_count": 13,
     "metadata": {},
     "output_type": "execute_result"
    }
   ],
   "source": [
    "cv_climbing_words = TfidfVectorizer(ngram_range=(1,2),stop_words='english')\n",
    "\n",
    "climbs_nlp_spmat = cv_climbing_words.fit_transform(df_test.comments_flat.values)\n",
    "climbs_nlp_spmat"
   ]
  },
  {
   "cell_type": "code",
   "execution_count": 14,
   "metadata": {
    "ExecuteTime": {
     "end_time": "2020-03-04T18:14:12.456296Z",
     "start_time": "2020-03-04T18:14:12.146222Z"
    }
   },
   "outputs": [],
   "source": [
    "from vaderSentiment.vaderSentiment import SentimentIntensityAnalyzer\n",
    "analyser = SentimentIntensityAnalyzer()"
   ]
  },
  {
   "cell_type": "code",
   "execution_count": 15,
   "metadata": {
    "ExecuteTime": {
     "end_time": "2020-03-04T18:14:12.461138Z",
     "start_time": "2020-03-04T18:14:12.458446Z"
    }
   },
   "outputs": [],
   "source": [
    "def num_there(s):\n",
    "    return any(i.isdigit() for i in s)"
   ]
  },
  {
   "cell_type": "code",
   "execution_count": 16,
   "metadata": {
    "ExecuteTime": {
     "end_time": "2020-03-04T18:14:12.467722Z",
     "start_time": "2020-03-04T18:14:12.462939Z"
    }
   },
   "outputs": [],
   "source": [
    "def get_vocab(columns):\n",
    "    vocab = []\n",
    "    for i in tqdm(columns):\n",
    "        sent = analyser.polarity_scores(i)\n",
    "        if len(i.split())==1 and sent['neu'] == 1 and num_there(i)==False:\n",
    "            vocab.append(i.lower())\n",
    "        elif len(i.split())>1 and num_there(i)==False and sent['neu'] < 0.2:\n",
    "            vocab.append(i.lower())\n",
    "    return vocab"
   ]
  },
  {
   "cell_type": "code",
   "execution_count": 18,
   "metadata": {
    "ExecuteTime": {
     "end_time": "2020-03-04T18:14:41.099082Z",
     "start_time": "2020-03-04T18:14:26.044603Z"
    }
   },
   "outputs": [
    {
     "data": {
      "application/vnd.jupyter.widget-view+json": {
       "model_id": "0fdf276fbfe34881997312391acadac5",
       "version_major": 2,
       "version_minor": 0
      },
      "text/plain": [
       "HBox(children=(FloatProgress(value=0.0, max=397416.0), HTML(value='')))"
      ]
     },
     "metadata": {},
     "output_type": "display_data"
    },
    {
     "name": "stdout",
     "output_type": "stream",
     "text": [
      "\n"
     ]
    }
   ],
   "source": [
    "vocab = get_vocab(cv_climbing_words.get_feature_names())"
   ]
  },
  {
   "cell_type": "code",
   "execution_count": 19,
   "metadata": {
    "ExecuteTime": {
     "end_time": "2020-03-04T18:14:42.380466Z",
     "start_time": "2020-03-04T18:14:41.101256Z"
    }
   },
   "outputs": [
    {
     "data": {
      "text/plain": [
       "<56756x38821 sparse matrix of type '<class 'numpy.float64'>'\n",
       "\twith 673791 stored elements in Compressed Sparse Row format>"
      ]
     },
     "execution_count": 19,
     "metadata": {},
     "output_type": "execute_result"
    }
   ],
   "source": [
    "tfv_climbing_words = TfidfVectorizer(stop_words='english',vocabulary=vocab)\n",
    "\n",
    "climbs_nlp_spmat = tfv_climbing_words.fit_transform(df_test.comments_flat.values)\n",
    "\n",
    "climbs_nlp_spmat"
   ]
  },
  {
   "cell_type": "code",
   "execution_count": 30,
   "metadata": {
    "ExecuteTime": {
     "end_time": "2020-03-04T18:16:05.903169Z",
     "start_time": "2020-03-04T18:16:05.900652Z"
    }
   },
   "outputs": [],
   "source": [
    "me = 279250\n",
    "ethan = 221061\n",
    "user = me"
   ]
  },
  {
   "cell_type": "code",
   "execution_count": 31,
   "metadata": {
    "ExecuteTime": {
     "end_time": "2020-03-04T18:16:06.410490Z",
     "start_time": "2020-03-04T18:16:06.400108Z"
    }
   },
   "outputs": [],
   "source": [
    "user_comments_flat = ''\n",
    "for climb in df_users.loc[user].climbs:\n",
    "    user_comments_flat += df_climbs.loc[climb].comments_flat"
   ]
  },
  {
   "cell_type": "code",
   "execution_count": 32,
   "metadata": {
    "ExecuteTime": {
     "end_time": "2020-03-04T18:16:06.509201Z",
     "start_time": "2020-03-04T18:16:06.483894Z"
    }
   },
   "outputs": [],
   "source": [
    "user_nlp_spmat = tfv_climbing_words.fit_transform([user_comments_flat])"
   ]
  },
  {
   "cell_type": "code",
   "execution_count": 33,
   "metadata": {
    "ExecuteTime": {
     "end_time": "2020-03-04T18:16:06.590094Z",
     "start_time": "2020-03-04T18:16:06.568199Z"
    }
   },
   "outputs": [],
   "source": [
    "index = df_test.index\n",
    "cosine_spmat = cosine_similarity(user_nlp_spmat,climbs_nlp_spmat,dense_output=True)\n"
   ]
  },
  {
   "cell_type": "code",
   "execution_count": 34,
   "metadata": {
    "ExecuteTime": {
     "end_time": "2020-03-04T18:16:06.666886Z",
     "start_time": "2020-03-04T18:16:06.650513Z"
    }
   },
   "outputs": [],
   "source": [
    "df_reccomended = pd.DataFrame(cosine_spmat,columns=index).T.sort_values(by=0,ascending=False)\n",
    "user_climbs = [climb for climb in df_users.loc[user].climbs if climb in index]\n",
    "    \n",
    "df_reccomended = df_reccomended.drop(user_climbs)"
   ]
  },
  {
   "cell_type": "code",
   "execution_count": 35,
   "metadata": {
    "ExecuteTime": {
     "end_time": "2020-03-04T18:16:06.738526Z",
     "start_time": "2020-03-04T18:16:06.733458Z"
    }
   },
   "outputs": [
    {
     "data": {
      "text/html": [
       "<div>\n",
       "<style scoped>\n",
       "    .dataframe tbody tr th:only-of-type {\n",
       "        vertical-align: middle;\n",
       "    }\n",
       "\n",
       "    .dataframe tbody tr th {\n",
       "        vertical-align: top;\n",
       "    }\n",
       "\n",
       "    .dataframe thead th {\n",
       "        text-align: right;\n",
       "    }\n",
       "</style>\n",
       "<table border=\"1\" class=\"dataframe\">\n",
       "  <thead>\n",
       "    <tr style=\"text-align: right;\">\n",
       "      <th></th>\n",
       "      <th>0</th>\n",
       "    </tr>\n",
       "    <tr>\n",
       "      <th>index</th>\n",
       "      <th></th>\n",
       "    </tr>\n",
       "  </thead>\n",
       "  <tbody>\n",
       "    <tr>\n",
       "      <th>10078</th>\n",
       "      <td>0.577797</td>\n",
       "    </tr>\n",
       "    <tr>\n",
       "      <th>29101</th>\n",
       "      <td>0.568794</td>\n",
       "    </tr>\n",
       "    <tr>\n",
       "      <th>29105</th>\n",
       "      <td>0.547255</td>\n",
       "    </tr>\n",
       "    <tr>\n",
       "      <th>28888</th>\n",
       "      <td>0.536037</td>\n",
       "    </tr>\n",
       "    <tr>\n",
       "      <th>58285</th>\n",
       "      <td>0.534569</td>\n",
       "    </tr>\n",
       "    <tr>\n",
       "      <th>10487</th>\n",
       "      <td>0.531674</td>\n",
       "    </tr>\n",
       "    <tr>\n",
       "      <th>29571</th>\n",
       "      <td>0.530941</td>\n",
       "    </tr>\n",
       "    <tr>\n",
       "      <th>10072</th>\n",
       "      <td>0.516335</td>\n",
       "    </tr>\n",
       "    <tr>\n",
       "      <th>29256</th>\n",
       "      <td>0.515279</td>\n",
       "    </tr>\n",
       "    <tr>\n",
       "      <th>29811</th>\n",
       "      <td>0.506413</td>\n",
       "    </tr>\n",
       "  </tbody>\n",
       "</table>\n",
       "</div>"
      ],
      "text/plain": [
       "              0\n",
       "index          \n",
       "10078  0.577797\n",
       "29101  0.568794\n",
       "29105  0.547255\n",
       "28888  0.536037\n",
       "58285  0.534569\n",
       "10487  0.531674\n",
       "29571  0.530941\n",
       "10072  0.516335\n",
       "29256  0.515279\n",
       "29811  0.506413"
      ]
     },
     "execution_count": 35,
     "metadata": {},
     "output_type": "execute_result"
    }
   ],
   "source": [
    "df_reccomended.head(10)"
   ]
  },
  {
   "cell_type": "code",
   "execution_count": 40,
   "metadata": {
    "ExecuteTime": {
     "end_time": "2020-03-04T18:18:55.061573Z",
     "start_time": "2020-03-04T18:18:53.961281Z"
    }
   },
   "outputs": [],
   "source": [
    "df_user_rec = df_climbs.loc[df_reccomended.index]\n",
    "df_user_rec['cosine'] = df_reccomended[0]"
   ]
  },
  {
   "cell_type": "code",
   "execution_count": 42,
   "metadata": {
    "ExecuteTime": {
     "end_time": "2020-03-04T18:19:02.492575Z",
     "start_time": "2020-03-04T18:19:02.462198Z"
    }
   },
   "outputs": [
    {
     "data": {
      "text/html": [
       "<div>\n",
       "<style scoped>\n",
       "    .dataframe tbody tr th:only-of-type {\n",
       "        vertical-align: middle;\n",
       "    }\n",
       "\n",
       "    .dataframe tbody tr th {\n",
       "        vertical-align: top;\n",
       "    }\n",
       "\n",
       "    .dataframe thead th {\n",
       "        text-align: right;\n",
       "    }\n",
       "</style>\n",
       "<table border=\"1\" class=\"dataframe\">\n",
       "  <thead>\n",
       "    <tr style=\"text-align: right;\">\n",
       "      <th></th>\n",
       "      <th>climbname</th>\n",
       "      <th>cosine</th>\n",
       "    </tr>\n",
       "    <tr>\n",
       "      <th>index</th>\n",
       "      <th></th>\n",
       "      <th></th>\n",
       "    </tr>\n",
       "  </thead>\n",
       "  <tbody>\n",
       "    <tr>\n",
       "      <th>10078</th>\n",
       "      <td>Not to be Taken Away</td>\n",
       "      <td>0.577797</td>\n",
       "    </tr>\n",
       "    <tr>\n",
       "      <th>29101</th>\n",
       "      <td>The Green Traverse</td>\n",
       "      <td>0.568794</td>\n",
       "    </tr>\n",
       "    <tr>\n",
       "      <th>29105</th>\n",
       "      <td>Pebble Arête</td>\n",
       "      <td>0.547255</td>\n",
       "    </tr>\n",
       "    <tr>\n",
       "      <th>28888</th>\n",
       "      <td>Gorilla Warfare</td>\n",
       "      <td>0.536037</td>\n",
       "    </tr>\n",
       "    <tr>\n",
       "      <th>58285</th>\n",
       "      <td>Back Wall Traverse</td>\n",
       "      <td>0.534569</td>\n",
       "    </tr>\n",
       "    <tr>\n",
       "      <th>10487</th>\n",
       "      <td>Banana Finger</td>\n",
       "      <td>0.531674</td>\n",
       "    </tr>\n",
       "    <tr>\n",
       "      <th>29571</th>\n",
       "      <td>Three Pocket Slab</td>\n",
       "      <td>0.530941</td>\n",
       "    </tr>\n",
       "    <tr>\n",
       "      <th>10072</th>\n",
       "      <td>Crescent Arête</td>\n",
       "      <td>0.516335</td>\n",
       "    </tr>\n",
       "    <tr>\n",
       "      <th>29256</th>\n",
       "      <td>Razor Roof</td>\n",
       "      <td>0.515279</td>\n",
       "    </tr>\n",
       "    <tr>\n",
       "      <th>29811</th>\n",
       "      <td>Weedkiller Traverse</td>\n",
       "      <td>0.506413</td>\n",
       "    </tr>\n",
       "  </tbody>\n",
       "</table>\n",
       "</div>"
      ],
      "text/plain": [
       "                  climbname    cosine\n",
       "index                                \n",
       "10078  Not to be Taken Away  0.577797\n",
       "29101    The Green Traverse  0.568794\n",
       "29105          Pebble Arête  0.547255\n",
       "28888       Gorilla Warfare  0.536037\n",
       "58285    Back Wall Traverse  0.534569\n",
       "10487         Banana Finger  0.531674\n",
       "29571     Three Pocket Slab  0.530941\n",
       "10072        Crescent Arête  0.516335\n",
       "29256            Razor Roof  0.515279\n",
       "29811   Weedkiller Traverse  0.506413"
      ]
     },
     "execution_count": 42,
     "metadata": {},
     "output_type": "execute_result"
    }
   ],
   "source": [
    "df_user_rec[['climbname','cosine']].head(10)"
   ]
  },
  {
   "cell_type": "code",
   "execution_count": null,
   "metadata": {},
   "outputs": [],
   "source": []
  }
 ],
 "metadata": {
  "kernelspec": {
   "display_name": "Python 3",
   "language": "python",
   "name": "python3"
  },
  "language_info": {
   "codemirror_mode": {
    "name": "ipython",
    "version": 3
   },
   "file_extension": ".py",
   "mimetype": "text/x-python",
   "name": "python",
   "nbconvert_exporter": "python",
   "pygments_lexer": "ipython3",
   "version": "3.7.6"
  }
 },
 "nbformat": 4,
 "nbformat_minor": 2
}
