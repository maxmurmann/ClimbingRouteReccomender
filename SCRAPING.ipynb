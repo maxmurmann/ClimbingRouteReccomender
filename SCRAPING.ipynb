{
 "cells": [
  {
   "cell_type": "code",
   "execution_count": 3,
   "metadata": {
    "ExecuteTime": {
     "end_time": "2020-03-03T16:38:28.582351Z",
     "start_time": "2020-03-03T16:38:26.624816Z"
    }
   },
   "outputs": [],
   "source": [
    "import requests\n",
    "import re\n",
    "from bs4 import BeautifulSoup\n",
    "from tqdm.notebook import tqdm\n",
    "import pandas as pd\n",
    "import seaborn as sns\n",
    "import numpy as np\n",
    "from pandas.io import sql\n",
    "import sqlite3\n",
    "from time import sleep\n",
    "from multiprocessing import Pool\n",
    "\n",
    "import psycopg2"
   ]
  },
  {
   "cell_type": "code",
   "execution_count": 4,
   "metadata": {
    "ExecuteTime": {
     "end_time": "2020-03-03T16:38:28.610031Z",
     "start_time": "2020-03-03T16:38:28.584540Z"
    }
   },
   "outputs": [],
   "source": [
    "def get_crag_ids(i):\n",
    "    url_base = 'https://www.ukclimbing.com/logbook/crag.php?id={}'\n",
    "    headers = {'User-Agent': \n",
    "           'Mozilla/5.0 (X11; Linux x86_64) AppleWebKit/537.36 (KHTML, like Gecko) Chrome/47.0.2526.106 Safari/537.36'}\n",
    "    url = url_base.format(i)\n",
    "    r= requests.get(url,headers=headers)\n",
    "    if r.status_code==200:\n",
    "        return scrape_crag_info(i)\n",
    "    else:\n",
    "        pass\n",
    "def get_user_ids(i):\n",
    "    url_base = 'https://www.ukclimbing.com/logbook/showlog.php?id={}'\n",
    "    headers = {'User-Agent': \n",
    "           'Mozilla/5.0 (X11; Linux x86_64) AppleWebKit/537.36 (KHTML, like Gecko) Chrome/47.0.2526.106 Safari/537.36'}\n",
    "    url = url_base.format(i)\n",
    "    r= requests.get(url,headers=headers)\n",
    "    if r.status_code==410:\n",
    "        pass\n",
    "    else:\n",
    "        return scrape_user_info(i)\n",
    "def scrape_crag_info(i):\n",
    "    url_base_crag = 'https://www.ukclimbing.com/logbook/crag.php?id={}'\n",
    "    headers = {'User-Agent': \n",
    "           'Mozilla/5.0 (X11; Linux x86_64) AppleWebKit/537.36 (KHTML, like Gecko) Chrome/47.0.2526.106 Safari/537.36'}\n",
    "\n",
    "    crag = {}\n",
    "    url = url_base_crag.format(i)\n",
    "    crag['url'] = url\n",
    "    r= requests.get(url,headers=headers)\n",
    "    soup = BeautifulSoup(r.text,'html.parser')\n",
    "    try:\n",
    "        crag['cragname'] = soup.find('div',attrs={\"id\":\"breadcrumb-container\"}).find('h1').text\n",
    "        climbs = []\n",
    "        for climb in soup.find_all('tr',{'class':'climb'}):\n",
    "            num_stars = len(re.findall('\\*',str(climb)))\n",
    "            climbs.append((climb.attrs['data-id'],num_stars))\n",
    "\n",
    "        crag['climb_list'] = climbs          \n",
    "        try:\n",
    "            for attr,value in zip(soup.find('div',attrs={\"id\":\"crag_thumb\"}).find('p').find_all('b'),re.findall('</b> ([^<]*)<',str(soup.find('div',attrs={\"id\":\"crag_thumb\"}).find('p')))):\n",
    "                crag[attr.text] = value.strip()\n",
    "            crag['Climbs'] = len(climbs)\n",
    "        except:\n",
    "            crag['Climbs'] = len(climbs)\n",
    "            crag['Rocktype'] = 'UNKNOWN'\n",
    "        latlong=re.findall('<meta content=\"([^>]*)\" property=\"place:location:',str(soup.find('meta',attrs={\"property\":\"og:title\"})))\n",
    "        crag['lat'] = latlong[0]    \n",
    "        crag['long'] = latlong[1]\n",
    "        crag['id'] = i\n",
    "        return crag     \n",
    "    except:\n",
    "        print('not enough info for id ' + str(i))\n",
    "    \n",
    "def scrape_climb_info(climb_id):\n",
    "    url_base_climb = 'https://www.ukclimbing.com/logbook/c.php?i={}'\n",
    "    headers = {'User-Agent': \n",
    "           'Mozilla/5.0 (X11; Linux x86_64) AppleWebKit/537.36 (KHTML, like Gecko) Chrome/47.0.2526.106 Safari/537.36'}\n",
    "\n",
    "    climb={}\n",
    "    try:\n",
    "        url = url_base_climb.format(climb_id[0])\n",
    "        climb['id'] = climb_id[0]\n",
    "        climb['url'] = url\n",
    "        r= requests.get(url,headers=headers)\n",
    "        soup = BeautifulSoup(r.text,'html.parser')   \n",
    "        info_title = soup.find('div',attrs={'class':'nav-tabs-header'}).find('h1')\n",
    "        climb['climbname'] = re.findall('>([^<]+)\\t?<',str(info_title))[0].replace('\\t','')\n",
    "        climb['rating'] = len(re.findall('fa fa-star',str(info_title)))\n",
    "        climb['grade'] = info_title.find('small').text.strip()\n",
    "        climb['crag_id'] = climb_id[1]\n",
    "        #climb['rocktype'] = df_crags.loc[crag].rocktype\n",
    "        try:\n",
    "            desc = soup.find('div',attrs={'id':'overview'})\n",
    "            if \"No description has been\" not in desc.text:\n",
    "                if \"Ticklist\" in desc.text:\n",
    "                    climb['desc'] = desc.text.split('Ticklist')[0]\n",
    "                else:\n",
    "                    climb['desc'] = desc.text.split('Feedback')[0]\n",
    "            else:\n",
    "                climb['desc'] = ''\n",
    "                \n",
    "        except:\n",
    "            climb['desc'] = ''\n",
    "        try:\n",
    "            comments = []\n",
    "            users = []\n",
    "\n",
    "\n",
    "            for comment in soup.find('table',attrs={'class':'table table-sm mb-0'}).find_all('tr',attrs={'class':re.compile('entry_[0-9]+$')}):\n",
    "                if 'd-table-row d-sm-none' not in str(comment):\n",
    "                    users.append(re.search('id=([0-9]+)$',comment.find('a').attrs['href'])[1])\n",
    "                    if 'no_content_entry' not in str(comment):\n",
    "                        comments.append(comment.find('span',attrs={'class':'comment_desc'}).text)\n",
    "                    else:\n",
    "                        comments.append('')\n",
    "        except:\n",
    "            comments = []\n",
    "            users = []\n",
    "        climb['logs'] = {user:comment for (user,comment) in zip(users,comments)}\n",
    "        climb['num_comments'] = len(comments)\n",
    "        return climb\n",
    "    except:\n",
    "        return\n",
    "\n",
    "def scrape_user_info(i):\n",
    "    url_base_logbook = 'https://www.ukclimbing.com/logbook/showlog.php?id={}&sort=x&country=0&crag=0&gradetype=0&partner=0&year=0&season=0&nresults=100&pg=1'\n",
    "    headers = {'User-Agent': 'Mozilla/5.0 (X11; Linux x86_64) AppleWebKit/537.36 (KHTML, like Gecko) Chrome/47.0.2526.106 Safari/537.36'}\n",
    "    user = {}\n",
    "    user['id'] = i\n",
    "    user['logbook_url'] = url_base_logbook.format(i)\n",
    "    url_base_profile = 'https://www.ukclimbing.com/user/profile.php?id={}'\n",
    "    url = url_base_profile.format(i)\n",
    "    user['profile_url'] = url\n",
    "    r = requests.get(url,headers=headers)\n",
    "    soup = BeautifulSoup(r.text,'html.parser')\n",
    "    try:\n",
    "        user['username'] = soup.find('div',attrs={'class':'col-lg-8 col-xl-9','id':'has_sidebar'}).find('h1').text\n",
    "        return user\n",
    "    except: \n",
    "        return\n",
    "            \n"
   ]
  },
  {
   "cell_type": "code",
   "execution_count": 5,
   "metadata": {
    "ExecuteTime": {
     "end_time": "2020-03-03T16:38:28.896387Z",
     "start_time": "2020-03-03T16:38:28.613165Z"
    },
    "scrolled": true
   },
   "outputs": [
    {
     "data": {
      "text/plain": [
       "{'id': 192935,\n",
       " 'url': 'https://www.ukclimbing.com/logbook/c.php?i=192935',\n",
       " 'climbname': 'Patience Direct - Beauty',\n",
       " 'rating': 0,\n",
       " 'grade': 'E2 5c',\n",
       " 'crag_id': 142,\n",
       " 'desc': '',\n",
       " 'logs': {'13422': 'Both lead (thought this was just called Patience direct or Patience left hand)'},\n",
       " 'num_comments': 4}"
      ]
     },
     "execution_count": 5,
     "metadata": {},
     "output_type": "execute_result"
    }
   ],
   "source": [
    "scrape_climb_info((192935,142))"
   ]
  },
  {
   "cell_type": "code",
   "execution_count": 6,
   "metadata": {
    "ExecuteTime": {
     "end_time": "2020-03-03T16:38:33.915189Z",
     "start_time": "2020-03-03T16:38:28.898644Z"
    }
   },
   "outputs": [
    {
     "data": {
      "application/vnd.jupyter.widget-view+json": {
       "model_id": "0f6b7887d04d49ea9e7c993566849014",
       "version_major": 2,
       "version_minor": 0
      },
      "text/plain": [
       "HBox(children=(FloatProgress(value=0.0, max=30000.0), HTML(value='')))"
      ]
     },
     "metadata": {},
     "output_type": "display_data"
    },
    {
     "name": "stderr",
     "output_type": "stream",
     "text": [
      "Process ForkPoolWorker-1:\n",
      "Process ForkPoolWorker-4:\n"
     ]
    },
    {
     "name": "stdout",
     "output_type": "stream",
     "text": [
      "not enough info for id 56\n"
     ]
    },
    {
     "name": "stderr",
     "output_type": "stream",
     "text": [
      "Process ForkPoolWorker-3:\n",
      "Process ForkPoolWorker-2:\n",
      "Process ForkPoolWorker-8:\n",
      "Process ForkPoolWorker-6:\n"
     ]
    },
    {
     "name": "stdout",
     "output_type": "stream",
     "text": [
      "not enough info for id 59\n"
     ]
    },
    {
     "name": "stderr",
     "output_type": "stream",
     "text": [
      "Traceback (most recent call last):\n",
      "Traceback (most recent call last):\n",
      "  File \"/Users/max/opt/anaconda3/lib/python3.7/multiprocessing/process.py\", line 297, in _bootstrap\n",
      "    self.run()\n",
      "  File \"/Users/max/opt/anaconda3/lib/python3.7/multiprocessing/process.py\", line 297, in _bootstrap\n",
      "    self.run()\n",
      "  File \"/Users/max/opt/anaconda3/lib/python3.7/multiprocessing/process.py\", line 99, in run\n",
      "    self._target(*self._args, **self._kwargs)\n",
      "  File \"/Users/max/opt/anaconda3/lib/python3.7/multiprocessing/process.py\", line 99, in run\n",
      "    self._target(*self._args, **self._kwargs)\n",
      "  File \"/Users/max/opt/anaconda3/lib/python3.7/multiprocessing/pool.py\", line 121, in worker\n",
      "    result = (True, func(*args, **kwds))\n",
      "  File \"/Users/max/opt/anaconda3/lib/python3.7/multiprocessing/pool.py\", line 121, in worker\n",
      "    result = (True, func(*args, **kwds))\n",
      "  File \"<ipython-input-4-1258cea42550>\", line 8, in get_crag_ids\n",
      "    return scrape_crag_info(i)\n",
      "  File \"<ipython-input-4-1258cea42550>\", line 8, in get_crag_ids\n",
      "    return scrape_crag_info(i)\n",
      "Traceback (most recent call last):\n",
      "Traceback (most recent call last):\n",
      "Traceback (most recent call last):\n",
      "Traceback (most recent call last):\n",
      "  File \"<ipython-input-4-1258cea42550>\", line 30, in scrape_crag_info\n",
      "    soup = BeautifulSoup(r.text,'html.parser')\n",
      "  File \"<ipython-input-4-1258cea42550>\", line 30, in scrape_crag_info\n",
      "    soup = BeautifulSoup(r.text,'html.parser')\n",
      "  File \"/Users/max/opt/anaconda3/lib/python3.7/multiprocessing/process.py\", line 297, in _bootstrap\n",
      "    self.run()\n",
      "  File \"/Users/max/opt/anaconda3/lib/python3.7/multiprocessing/process.py\", line 297, in _bootstrap\n",
      "    self.run()\n",
      "  File \"/Users/max/opt/anaconda3/lib/python3.7/multiprocessing/process.py\", line 297, in _bootstrap\n",
      "    self.run()\n",
      "  File \"/Users/max/opt/anaconda3/lib/python3.7/multiprocessing/process.py\", line 297, in _bootstrap\n",
      "    self.run()\n",
      "  File \"/Users/max/opt/anaconda3/lib/python3.7/site-packages/bs4/__init__.py\", line 325, in __init__\n",
      "    self._feed()\n",
      "  File \"/Users/max/opt/anaconda3/lib/python3.7/site-packages/bs4/__init__.py\", line 325, in __init__\n",
      "    self._feed()\n",
      "  File \"/Users/max/opt/anaconda3/lib/python3.7/multiprocessing/process.py\", line 99, in run\n",
      "    self._target(*self._args, **self._kwargs)\n",
      "  File \"/Users/max/opt/anaconda3/lib/python3.7/multiprocessing/process.py\", line 99, in run\n",
      "    self._target(*self._args, **self._kwargs)\n",
      "  File \"/Users/max/opt/anaconda3/lib/python3.7/multiprocessing/process.py\", line 99, in run\n",
      "    self._target(*self._args, **self._kwargs)\n",
      "  File \"/Users/max/opt/anaconda3/lib/python3.7/multiprocessing/process.py\", line 99, in run\n",
      "    self._target(*self._args, **self._kwargs)\n",
      "  File \"/Users/max/opt/anaconda3/lib/python3.7/site-packages/bs4/__init__.py\", line 399, in _feed\n",
      "    self.builder.feed(self.markup)\n",
      "  File \"/Users/max/opt/anaconda3/lib/python3.7/site-packages/bs4/__init__.py\", line 399, in _feed\n",
      "    self.builder.feed(self.markup)\n",
      "  File \"/Users/max/opt/anaconda3/lib/python3.7/multiprocessing/pool.py\", line 121, in worker\n",
      "    result = (True, func(*args, **kwds))\n",
      "  File \"/Users/max/opt/anaconda3/lib/python3.7/multiprocessing/pool.py\", line 121, in worker\n",
      "    result = (True, func(*args, **kwds))\n",
      "  File \"/Users/max/opt/anaconda3/lib/python3.7/multiprocessing/pool.py\", line 121, in worker\n",
      "    result = (True, func(*args, **kwds))\n",
      "  File \"/Users/max/opt/anaconda3/lib/python3.7/multiprocessing/pool.py\", line 121, in worker\n",
      "    result = (True, func(*args, **kwds))\n",
      "  File \"/Users/max/opt/anaconda3/lib/python3.7/site-packages/bs4/builder/_htmlparser.py\", line 339, in feed\n",
      "    parser.feed(markup)\n",
      "  File \"/Users/max/opt/anaconda3/lib/python3.7/site-packages/bs4/builder/_htmlparser.py\", line 339, in feed\n",
      "    parser.feed(markup)\n",
      "  File \"<ipython-input-4-1258cea42550>\", line 8, in get_crag_ids\n",
      "    return scrape_crag_info(i)\n",
      "  File \"<ipython-input-4-1258cea42550>\", line 6, in get_crag_ids\n",
      "    r= requests.get(url,headers=headers)\n",
      "  File \"<ipython-input-4-1258cea42550>\", line 6, in get_crag_ids\n",
      "    r= requests.get(url,headers=headers)\n",
      "  File \"<ipython-input-4-1258cea42550>\", line 6, in get_crag_ids\n",
      "    r= requests.get(url,headers=headers)\n",
      "  File \"/Users/max/opt/anaconda3/lib/python3.7/html/parser.py\", line 111, in feed\n",
      "    self.goahead(0)\n",
      "  File \"/Users/max/opt/anaconda3/lib/python3.7/html/parser.py\", line 111, in feed\n",
      "    self.goahead(0)\n",
      "  File \"<ipython-input-4-1258cea42550>\", line 29, in scrape_crag_info\n",
      "    r= requests.get(url,headers=headers)\n",
      "  File \"/Users/max/opt/anaconda3/lib/python3.7/site-packages/requests/api.py\", line 75, in get\n",
      "    return request('get', url, params=params, **kwargs)\n",
      "  File \"/Users/max/opt/anaconda3/lib/python3.7/site-packages/requests/api.py\", line 75, in get\n",
      "    return request('get', url, params=params, **kwargs)\n",
      "  File \"/Users/max/opt/anaconda3/lib/python3.7/site-packages/requests/api.py\", line 75, in get\n",
      "    return request('get', url, params=params, **kwargs)\n",
      "  File \"/Users/max/opt/anaconda3/lib/python3.7/site-packages/requests/api.py\", line 75, in get\n",
      "    return request('get', url, params=params, **kwargs)\n",
      "  File \"/Users/max/opt/anaconda3/lib/python3.7/html/parser.py\", line 173, in goahead\n",
      "    k = self.parse_endtag(i)\n",
      "  File \"/Users/max/opt/anaconda3/lib/python3.7/html/parser.py\", line 171, in goahead\n",
      "    k = self.parse_starttag(i)\n",
      "  File \"/Users/max/opt/anaconda3/lib/python3.7/site-packages/requests/api.py\", line 60, in request\n",
      "    return session.request(method=method, url=url, **kwargs)\n",
      "  File \"/Users/max/opt/anaconda3/lib/python3.7/site-packages/requests/api.py\", line 60, in request\n",
      "    return session.request(method=method, url=url, **kwargs)\n",
      "  File \"/Users/max/opt/anaconda3/lib/python3.7/site-packages/requests/api.py\", line 60, in request\n",
      "    return session.request(method=method, url=url, **kwargs)\n",
      "  File \"/Users/max/opt/anaconda3/lib/python3.7/site-packages/requests/api.py\", line 60, in request\n",
      "    return session.request(method=method, url=url, **kwargs)\n",
      "  File \"/Users/max/opt/anaconda3/lib/python3.7/html/parser.py\", line 421, in parse_endtag\n",
      "    self.handle_endtag(elem)\n",
      "  File \"/Users/max/opt/anaconda3/lib/python3.7/html/parser.py\", line 316, in parse_starttag\n",
      "    m = attrfind_tolerant.match(rawdata, k)\n",
      "  File \"/Users/max/opt/anaconda3/lib/python3.7/site-packages/requests/sessions.py\", line 533, in request\n",
      "    resp = self.send(prep, **send_kwargs)\n",
      "  File \"/Users/max/opt/anaconda3/lib/python3.7/site-packages/requests/sessions.py\", line 533, in request\n",
      "    resp = self.send(prep, **send_kwargs)\n",
      "  File \"/Users/max/opt/anaconda3/lib/python3.7/site-packages/requests/sessions.py\", line 533, in request\n",
      "    resp = self.send(prep, **send_kwargs)\n",
      "  File \"/Users/max/opt/anaconda3/lib/python3.7/site-packages/bs4/builder/_htmlparser.py\", line 157, in handle_endtag\n",
      "    self.soup.handle_endtag(name)\n",
      "KeyboardInterrupt\n",
      "  File \"/Users/max/opt/anaconda3/lib/python3.7/site-packages/requests/sessions.py\", line 533, in request\n",
      "    resp = self.send(prep, **send_kwargs)\n",
      "  File \"/Users/max/opt/anaconda3/lib/python3.7/site-packages/requests/sessions.py\", line 646, in send\n",
      "    r = adapter.send(request, **kwargs)\n",
      "  File \"/Users/max/opt/anaconda3/lib/python3.7/site-packages/requests/sessions.py\", line 646, in send\n",
      "    r = adapter.send(request, **kwargs)\n",
      "  File \"/Users/max/opt/anaconda3/lib/python3.7/site-packages/requests/sessions.py\", line 646, in send\n",
      "    r = adapter.send(request, **kwargs)\n",
      "  File \"/Users/max/opt/anaconda3/lib/python3.7/site-packages/bs4/__init__.py\", line 652, in handle_endtag\n",
      "    self._popToTag(name, nsprefix)\n",
      "  File \"/Users/max/opt/anaconda3/lib/python3.7/site-packages/requests/sessions.py\", line 646, in send\n",
      "    r = adapter.send(request, **kwargs)\n",
      "  File \"/Users/max/opt/anaconda3/lib/python3.7/site-packages/requests/adapters.py\", line 449, in send\n",
      "    timeout=timeout\n",
      "  File \"/Users/max/opt/anaconda3/lib/python3.7/site-packages/requests/adapters.py\", line 449, in send\n",
      "    timeout=timeout\n",
      "  File \"/Users/max/opt/anaconda3/lib/python3.7/site-packages/requests/adapters.py\", line 449, in send\n",
      "    timeout=timeout\n",
      "  File \"/Users/max/opt/anaconda3/lib/python3.7/site-packages/requests/adapters.py\", line 449, in send\n",
      "    timeout=timeout\n",
      "  File \"/Users/max/opt/anaconda3/lib/python3.7/site-packages/bs4/__init__.py\", line 600, in _popToTag\n",
      "    most_recently_popped = self.popTag()\n"
     ]
    },
    {
     "name": "stderr",
     "output_type": "stream",
     "text": [
      "  File \"/Users/max/opt/anaconda3/lib/python3.7/site-packages/urllib3/connectionpool.py\", line 672, in urlopen\n",
      "    chunked=chunked,\n",
      "  File \"/Users/max/opt/anaconda3/lib/python3.7/site-packages/urllib3/connectionpool.py\", line 672, in urlopen\n",
      "    chunked=chunked,\n",
      "  File \"/Users/max/opt/anaconda3/lib/python3.7/site-packages/urllib3/connectionpool.py\", line 672, in urlopen\n",
      "    chunked=chunked,\n",
      "  File \"/Users/max/opt/anaconda3/lib/python3.7/site-packages/urllib3/connectionpool.py\", line 672, in urlopen\n",
      "    chunked=chunked,\n",
      "KeyboardInterrupt\n",
      "  File \"/Users/max/opt/anaconda3/lib/python3.7/site-packages/urllib3/connectionpool.py\", line 421, in _make_request\n",
      "    six.raise_from(e, None)\n",
      "  File \"/Users/max/opt/anaconda3/lib/python3.7/site-packages/urllib3/connectionpool.py\", line 421, in _make_request\n",
      "    six.raise_from(e, None)\n",
      "  File \"/Users/max/opt/anaconda3/lib/python3.7/site-packages/urllib3/connectionpool.py\", line 421, in _make_request\n",
      "    six.raise_from(e, None)\n",
      "  File \"/Users/max/opt/anaconda3/lib/python3.7/site-packages/urllib3/connectionpool.py\", line 421, in _make_request\n",
      "    six.raise_from(e, None)\n",
      "  File \"<string>\", line 3, in raise_from\n",
      "  File \"<string>\", line 3, in raise_from\n",
      "  File \"<string>\", line 3, in raise_from\n",
      "  File \"<string>\", line 3, in raise_from\n",
      "  File \"/Users/max/opt/anaconda3/lib/python3.7/site-packages/urllib3/connectionpool.py\", line 416, in _make_request\n",
      "    httplib_response = conn.getresponse()\n",
      "  File \"/Users/max/opt/anaconda3/lib/python3.7/site-packages/urllib3/connectionpool.py\", line 416, in _make_request\n",
      "    httplib_response = conn.getresponse()\n",
      "  File \"/Users/max/opt/anaconda3/lib/python3.7/site-packages/urllib3/connectionpool.py\", line 416, in _make_request\n",
      "    httplib_response = conn.getresponse()\n",
      "  File \"/Users/max/opt/anaconda3/lib/python3.7/site-packages/urllib3/connectionpool.py\", line 416, in _make_request\n",
      "    httplib_response = conn.getresponse()\n",
      "  File \"/Users/max/opt/anaconda3/lib/python3.7/http/client.py\", line 1344, in getresponse\n",
      "    response.begin()\n",
      "  File \"/Users/max/opt/anaconda3/lib/python3.7/http/client.py\", line 1344, in getresponse\n",
      "    response.begin()\n",
      "  File \"/Users/max/opt/anaconda3/lib/python3.7/http/client.py\", line 1344, in getresponse\n",
      "    response.begin()\n",
      "  File \"/Users/max/opt/anaconda3/lib/python3.7/http/client.py\", line 1344, in getresponse\n",
      "    response.begin()\n",
      "  File \"/Users/max/opt/anaconda3/lib/python3.7/http/client.py\", line 306, in begin\n",
      "    version, status, reason = self._read_status()\n",
      "  File \"/Users/max/opt/anaconda3/lib/python3.7/http/client.py\", line 306, in begin\n",
      "    version, status, reason = self._read_status()\n",
      "  File \"/Users/max/opt/anaconda3/lib/python3.7/http/client.py\", line 267, in _read_status\n",
      "    line = str(self.fp.readline(_MAXLINE + 1), \"iso-8859-1\")\n",
      "  File \"/Users/max/opt/anaconda3/lib/python3.7/http/client.py\", line 306, in begin\n",
      "    version, status, reason = self._read_status()\n",
      "  File \"/Users/max/opt/anaconda3/lib/python3.7/http/client.py\", line 306, in begin\n",
      "    version, status, reason = self._read_status()\n",
      "  File \"/Users/max/opt/anaconda3/lib/python3.7/http/client.py\", line 267, in _read_status\n",
      "    line = str(self.fp.readline(_MAXLINE + 1), \"iso-8859-1\")\n",
      "  File \"/Users/max/opt/anaconda3/lib/python3.7/http/client.py\", line 267, in _read_status\n",
      "    line = str(self.fp.readline(_MAXLINE + 1), \"iso-8859-1\")\n",
      "  File \"/Users/max/opt/anaconda3/lib/python3.7/socket.py\", line 589, in readinto\n",
      "    return self._sock.recv_into(b)\n",
      "  File \"/Users/max/opt/anaconda3/lib/python3.7/socket.py\", line 589, in readinto\n",
      "    return self._sock.recv_into(b)\n",
      "  File \"/Users/max/opt/anaconda3/lib/python3.7/http/client.py\", line 267, in _read_status\n",
      "    line = str(self.fp.readline(_MAXLINE + 1), \"iso-8859-1\")\n",
      "  File \"/Users/max/opt/anaconda3/lib/python3.7/site-packages/urllib3/contrib/pyopenssl.py\", line 313, in recv_into\n",
      "    return self.connection.recv_into(*args, **kwargs)\n",
      "  File \"/Users/max/opt/anaconda3/lib/python3.7/site-packages/urllib3/contrib/pyopenssl.py\", line 313, in recv_into\n",
      "    return self.connection.recv_into(*args, **kwargs)\n",
      "  File \"/Users/max/opt/anaconda3/lib/python3.7/socket.py\", line 589, in readinto\n",
      "    return self._sock.recv_into(b)\n",
      "  File \"/Users/max/opt/anaconda3/lib/python3.7/socket.py\", line 589, in readinto\n",
      "    return self._sock.recv_into(b)\n",
      "  File \"/Users/max/opt/anaconda3/lib/python3.7/site-packages/OpenSSL/SSL.py\", line 1839, in recv_into\n",
      "    result = _lib.SSL_read(self._ssl, buf, nbytes)\n",
      "  File \"/Users/max/opt/anaconda3/lib/python3.7/site-packages/urllib3/contrib/pyopenssl.py\", line 313, in recv_into\n",
      "    return self.connection.recv_into(*args, **kwargs)\n",
      "  File \"/Users/max/opt/anaconda3/lib/python3.7/site-packages/OpenSSL/SSL.py\", line 1839, in recv_into\n",
      "    result = _lib.SSL_read(self._ssl, buf, nbytes)\n",
      "  File \"/Users/max/opt/anaconda3/lib/python3.7/site-packages/urllib3/contrib/pyopenssl.py\", line 313, in recv_into\n",
      "    return self.connection.recv_into(*args, **kwargs)\n",
      "KeyboardInterrupt\n",
      "  File \"/Users/max/opt/anaconda3/lib/python3.7/site-packages/OpenSSL/SSL.py\", line 1839, in recv_into\n",
      "    result = _lib.SSL_read(self._ssl, buf, nbytes)\n",
      "KeyboardInterrupt\n",
      "  File \"/Users/max/opt/anaconda3/lib/python3.7/site-packages/OpenSSL/SSL.py\", line 1839, in recv_into\n",
      "    result = _lib.SSL_read(self._ssl, buf, nbytes)\n",
      "KeyboardInterrupt\n",
      "KeyboardInterrupt\n"
     ]
    },
    {
     "ename": "KeyboardInterrupt",
     "evalue": "",
     "output_type": "error",
     "traceback": [
      "\u001b[0;31m---------------------------------------------------------------------------\u001b[0m",
      "\u001b[0;31mIndexError\u001b[0m                                Traceback (most recent call last)",
      "\u001b[0;32m~/opt/anaconda3/lib/python3.7/multiprocessing/pool.py\u001b[0m in \u001b[0;36mnext\u001b[0;34m(self, timeout)\u001b[0m\n\u001b[1;32m    732\u001b[0m             \u001b[0;32mtry\u001b[0m\u001b[0;34m:\u001b[0m\u001b[0;34m\u001b[0m\u001b[0;34m\u001b[0m\u001b[0m\n\u001b[0;32m--> 733\u001b[0;31m                 \u001b[0mitem\u001b[0m \u001b[0;34m=\u001b[0m \u001b[0mself\u001b[0m\u001b[0;34m.\u001b[0m\u001b[0m_items\u001b[0m\u001b[0;34m.\u001b[0m\u001b[0mpopleft\u001b[0m\u001b[0;34m(\u001b[0m\u001b[0;34m)\u001b[0m\u001b[0;34m\u001b[0m\u001b[0;34m\u001b[0m\u001b[0m\n\u001b[0m\u001b[1;32m    734\u001b[0m             \u001b[0;32mexcept\u001b[0m \u001b[0mIndexError\u001b[0m\u001b[0;34m:\u001b[0m\u001b[0;34m\u001b[0m\u001b[0;34m\u001b[0m\u001b[0m\n",
      "\u001b[0;31mIndexError\u001b[0m: pop from an empty deque",
      "\nDuring handling of the above exception, another exception occurred:\n",
      "\u001b[0;31mKeyboardInterrupt\u001b[0m                         Traceback (most recent call last)",
      "\u001b[0;32m<ipython-input-6-edb5017cd505>\u001b[0m in \u001b[0;36m<module>\u001b[0;34m\u001b[0m\n\u001b[1;32m      2\u001b[0m \u001b[0;34m\u001b[0m\u001b[0m\n\u001b[1;32m      3\u001b[0m \u001b[0mp\u001b[0m \u001b[0;34m=\u001b[0m \u001b[0mPool\u001b[0m\u001b[0;34m(\u001b[0m\u001b[0;34m)\u001b[0m\u001b[0;34m\u001b[0m\u001b[0;34m\u001b[0m\u001b[0m\n\u001b[0;32m----> 4\u001b[0;31m \u001b[0mcrag_list\u001b[0m \u001b[0;34m=\u001b[0m \u001b[0mlist\u001b[0m\u001b[0;34m(\u001b[0m\u001b[0mtqdm\u001b[0m\u001b[0;34m(\u001b[0m\u001b[0mp\u001b[0m\u001b[0;34m.\u001b[0m\u001b[0mimap\u001b[0m\u001b[0;34m(\u001b[0m\u001b[0mget_crag_ids\u001b[0m\u001b[0;34m,\u001b[0m \u001b[0mrange\u001b[0m\u001b[0;34m(\u001b[0m\u001b[0;36m0\u001b[0m\u001b[0;34m,\u001b[0m\u001b[0mtotal_crags\u001b[0m\u001b[0;34m)\u001b[0m\u001b[0;34m)\u001b[0m\u001b[0;34m,\u001b[0m \u001b[0mtotal\u001b[0m\u001b[0;34m=\u001b[0m\u001b[0mtotal_crags\u001b[0m\u001b[0;34m)\u001b[0m\u001b[0;34m)\u001b[0m\u001b[0;34m\u001b[0m\u001b[0;34m\u001b[0m\u001b[0m\n\u001b[0m\u001b[1;32m      5\u001b[0m \u001b[0mp\u001b[0m\u001b[0;34m.\u001b[0m\u001b[0mterminate\u001b[0m\u001b[0;34m(\u001b[0m\u001b[0;34m)\u001b[0m\u001b[0;34m\u001b[0m\u001b[0;34m\u001b[0m\u001b[0m\n\u001b[1;32m      6\u001b[0m \u001b[0mp\u001b[0m\u001b[0;34m.\u001b[0m\u001b[0mjoin\u001b[0m\u001b[0;34m(\u001b[0m\u001b[0;34m)\u001b[0m\u001b[0;34m\u001b[0m\u001b[0;34m\u001b[0m\u001b[0m\n",
      "\u001b[0;32m~/opt/anaconda3/lib/python3.7/site-packages/tqdm/notebook.py\u001b[0m in \u001b[0;36m__iter__\u001b[0;34m(self, *args, **kwargs)\u001b[0m\n\u001b[1;32m    213\u001b[0m     \u001b[0;32mdef\u001b[0m \u001b[0m__iter__\u001b[0m\u001b[0;34m(\u001b[0m\u001b[0mself\u001b[0m\u001b[0;34m,\u001b[0m \u001b[0;34m*\u001b[0m\u001b[0margs\u001b[0m\u001b[0;34m,\u001b[0m \u001b[0;34m**\u001b[0m\u001b[0mkwargs\u001b[0m\u001b[0;34m)\u001b[0m\u001b[0;34m:\u001b[0m\u001b[0;34m\u001b[0m\u001b[0;34m\u001b[0m\u001b[0m\n\u001b[1;32m    214\u001b[0m         \u001b[0;32mtry\u001b[0m\u001b[0;34m:\u001b[0m\u001b[0;34m\u001b[0m\u001b[0;34m\u001b[0m\u001b[0m\n\u001b[0;32m--> 215\u001b[0;31m             \u001b[0;32mfor\u001b[0m \u001b[0mobj\u001b[0m \u001b[0;32min\u001b[0m \u001b[0msuper\u001b[0m\u001b[0;34m(\u001b[0m\u001b[0mtqdm_notebook\u001b[0m\u001b[0;34m,\u001b[0m \u001b[0mself\u001b[0m\u001b[0;34m)\u001b[0m\u001b[0;34m.\u001b[0m\u001b[0m__iter__\u001b[0m\u001b[0;34m(\u001b[0m\u001b[0;34m*\u001b[0m\u001b[0margs\u001b[0m\u001b[0;34m,\u001b[0m \u001b[0;34m**\u001b[0m\u001b[0mkwargs\u001b[0m\u001b[0;34m)\u001b[0m\u001b[0;34m:\u001b[0m\u001b[0;34m\u001b[0m\u001b[0;34m\u001b[0m\u001b[0m\n\u001b[0m\u001b[1;32m    216\u001b[0m                 \u001b[0;31m# return super(tqdm...) will not catch exception\u001b[0m\u001b[0;34m\u001b[0m\u001b[0;34m\u001b[0m\u001b[0;34m\u001b[0m\u001b[0m\n\u001b[1;32m    217\u001b[0m                 \u001b[0;32myield\u001b[0m \u001b[0mobj\u001b[0m\u001b[0;34m\u001b[0m\u001b[0;34m\u001b[0m\u001b[0m\n",
      "\u001b[0;32m~/opt/anaconda3/lib/python3.7/site-packages/tqdm/std.py\u001b[0m in \u001b[0;36m__iter__\u001b[0;34m(self)\u001b[0m\n\u001b[1;32m   1102\u001b[0m                 fp_write=getattr(self.fp, 'write', sys.stderr.write))\n\u001b[1;32m   1103\u001b[0m \u001b[0;34m\u001b[0m\u001b[0m\n\u001b[0;32m-> 1104\u001b[0;31m         \u001b[0;32mfor\u001b[0m \u001b[0mobj\u001b[0m \u001b[0;32min\u001b[0m \u001b[0miterable\u001b[0m\u001b[0;34m:\u001b[0m\u001b[0;34m\u001b[0m\u001b[0;34m\u001b[0m\u001b[0m\n\u001b[0m\u001b[1;32m   1105\u001b[0m             \u001b[0;32myield\u001b[0m \u001b[0mobj\u001b[0m\u001b[0;34m\u001b[0m\u001b[0;34m\u001b[0m\u001b[0m\n\u001b[1;32m   1106\u001b[0m             \u001b[0;31m# Update and possibly print the progressbar.\u001b[0m\u001b[0;34m\u001b[0m\u001b[0;34m\u001b[0m\u001b[0;34m\u001b[0m\u001b[0m\n",
      "\u001b[0;32m~/opt/anaconda3/lib/python3.7/multiprocessing/pool.py\u001b[0m in \u001b[0;36mnext\u001b[0;34m(self, timeout)\u001b[0m\n\u001b[1;32m    735\u001b[0m                 \u001b[0;32mif\u001b[0m \u001b[0mself\u001b[0m\u001b[0;34m.\u001b[0m\u001b[0m_index\u001b[0m \u001b[0;34m==\u001b[0m \u001b[0mself\u001b[0m\u001b[0;34m.\u001b[0m\u001b[0m_length\u001b[0m\u001b[0;34m:\u001b[0m\u001b[0;34m\u001b[0m\u001b[0;34m\u001b[0m\u001b[0m\n\u001b[1;32m    736\u001b[0m                     \u001b[0;32mraise\u001b[0m \u001b[0mStopIteration\u001b[0m \u001b[0;32mfrom\u001b[0m \u001b[0;32mNone\u001b[0m\u001b[0;34m\u001b[0m\u001b[0;34m\u001b[0m\u001b[0m\n\u001b[0;32m--> 737\u001b[0;31m                 \u001b[0mself\u001b[0m\u001b[0;34m.\u001b[0m\u001b[0m_cond\u001b[0m\u001b[0;34m.\u001b[0m\u001b[0mwait\u001b[0m\u001b[0;34m(\u001b[0m\u001b[0mtimeout\u001b[0m\u001b[0;34m)\u001b[0m\u001b[0;34m\u001b[0m\u001b[0;34m\u001b[0m\u001b[0m\n\u001b[0m\u001b[1;32m    738\u001b[0m                 \u001b[0;32mtry\u001b[0m\u001b[0;34m:\u001b[0m\u001b[0;34m\u001b[0m\u001b[0;34m\u001b[0m\u001b[0m\n\u001b[1;32m    739\u001b[0m                     \u001b[0mitem\u001b[0m \u001b[0;34m=\u001b[0m \u001b[0mself\u001b[0m\u001b[0;34m.\u001b[0m\u001b[0m_items\u001b[0m\u001b[0;34m.\u001b[0m\u001b[0mpopleft\u001b[0m\u001b[0;34m(\u001b[0m\u001b[0;34m)\u001b[0m\u001b[0;34m\u001b[0m\u001b[0;34m\u001b[0m\u001b[0m\n",
      "\u001b[0;32m~/opt/anaconda3/lib/python3.7/threading.py\u001b[0m in \u001b[0;36mwait\u001b[0;34m(self, timeout)\u001b[0m\n\u001b[1;32m    294\u001b[0m         \u001b[0;32mtry\u001b[0m\u001b[0;34m:\u001b[0m    \u001b[0;31m# restore state no matter what (e.g., KeyboardInterrupt)\u001b[0m\u001b[0;34m\u001b[0m\u001b[0;34m\u001b[0m\u001b[0m\n\u001b[1;32m    295\u001b[0m             \u001b[0;32mif\u001b[0m \u001b[0mtimeout\u001b[0m \u001b[0;32mis\u001b[0m \u001b[0;32mNone\u001b[0m\u001b[0;34m:\u001b[0m\u001b[0;34m\u001b[0m\u001b[0;34m\u001b[0m\u001b[0m\n\u001b[0;32m--> 296\u001b[0;31m                 \u001b[0mwaiter\u001b[0m\u001b[0;34m.\u001b[0m\u001b[0macquire\u001b[0m\u001b[0;34m(\u001b[0m\u001b[0;34m)\u001b[0m\u001b[0;34m\u001b[0m\u001b[0;34m\u001b[0m\u001b[0m\n\u001b[0m\u001b[1;32m    297\u001b[0m                 \u001b[0mgotit\u001b[0m \u001b[0;34m=\u001b[0m \u001b[0;32mTrue\u001b[0m\u001b[0;34m\u001b[0m\u001b[0;34m\u001b[0m\u001b[0m\n\u001b[1;32m    298\u001b[0m             \u001b[0;32melse\u001b[0m\u001b[0;34m:\u001b[0m\u001b[0;34m\u001b[0m\u001b[0;34m\u001b[0m\u001b[0m\n",
      "\u001b[0;31mKeyboardInterrupt\u001b[0m: "
     ]
    },
    {
     "name": "stderr",
     "output_type": "stream",
     "text": [
      "Process ForkPoolWorker-14:\n",
      "Process ForkPoolWorker-5:\n",
      "Process ForkPoolWorker-7:\n",
      "Process ForkPoolWorker-13:\n",
      "Process ForkPoolWorker-12:\n",
      "Process ForkPoolWorker-10:\n",
      "Process ForkPoolWorker-11:\n",
      "Process ForkPoolWorker-9:\n",
      "Traceback (most recent call last):\n",
      "Traceback (most recent call last):\n",
      "  File \"/Users/max/opt/anaconda3/lib/python3.7/multiprocessing/process.py\", line 297, in _bootstrap\n",
      "    self.run()\n",
      "  File \"/Users/max/opt/anaconda3/lib/python3.7/multiprocessing/process.py\", line 297, in _bootstrap\n",
      "    self.run()\n",
      "Traceback (most recent call last):\n",
      "Traceback (most recent call last):\n",
      "Traceback (most recent call last):\n",
      "Traceback (most recent call last):\n",
      "  File \"/Users/max/opt/anaconda3/lib/python3.7/multiprocessing/process.py\", line 99, in run\n",
      "    self._target(*self._args, **self._kwargs)\n",
      "  File \"/Users/max/opt/anaconda3/lib/python3.7/multiprocessing/process.py\", line 99, in run\n",
      "    self._target(*self._args, **self._kwargs)\n",
      "  File \"/Users/max/opt/anaconda3/lib/python3.7/multiprocessing/process.py\", line 297, in _bootstrap\n",
      "    self.run()\n",
      "  File \"/Users/max/opt/anaconda3/lib/python3.7/multiprocessing/process.py\", line 297, in _bootstrap\n",
      "    self.run()\n",
      "  File \"/Users/max/opt/anaconda3/lib/python3.7/multiprocessing/process.py\", line 297, in _bootstrap\n",
      "    self.run()\n",
      "  File \"/Users/max/opt/anaconda3/lib/python3.7/multiprocessing/process.py\", line 297, in _bootstrap\n",
      "    self.run()\n",
      "  File \"/Users/max/opt/anaconda3/lib/python3.7/multiprocessing/pool.py\", line 121, in worker\n",
      "    result = (True, func(*args, **kwds))\n",
      "  File \"/Users/max/opt/anaconda3/lib/python3.7/multiprocessing/pool.py\", line 121, in worker\n",
      "    result = (True, func(*args, **kwds))\n",
      "  File \"/Users/max/opt/anaconda3/lib/python3.7/multiprocessing/process.py\", line 99, in run\n",
      "    self._target(*self._args, **self._kwargs)\n",
      "  File \"/Users/max/opt/anaconda3/lib/python3.7/multiprocessing/process.py\", line 99, in run\n",
      "    self._target(*self._args, **self._kwargs)\n",
      "  File \"/Users/max/opt/anaconda3/lib/python3.7/multiprocessing/process.py\", line 99, in run\n",
      "    self._target(*self._args, **self._kwargs)\n",
      "  File \"/Users/max/opt/anaconda3/lib/python3.7/multiprocessing/process.py\", line 99, in run\n",
      "    self._target(*self._args, **self._kwargs)\n",
      "  File \"<ipython-input-4-1258cea42550>\", line 6, in get_crag_ids\n",
      "    r= requests.get(url,headers=headers)\n",
      "  File \"<ipython-input-4-1258cea42550>\", line 6, in get_crag_ids\n",
      "    r= requests.get(url,headers=headers)\n",
      "  File \"/Users/max/opt/anaconda3/lib/python3.7/multiprocessing/pool.py\", line 121, in worker\n",
      "    result = (True, func(*args, **kwds))\n",
      "  File \"/Users/max/opt/anaconda3/lib/python3.7/multiprocessing/pool.py\", line 121, in worker\n",
      "    result = (True, func(*args, **kwds))\n",
      "  File \"/Users/max/opt/anaconda3/lib/python3.7/multiprocessing/pool.py\", line 121, in worker\n",
      "    result = (True, func(*args, **kwds))\n",
      "  File \"/Users/max/opt/anaconda3/lib/python3.7/multiprocessing/pool.py\", line 121, in worker\n",
      "    result = (True, func(*args, **kwds))\n",
      "  File \"/Users/max/opt/anaconda3/lib/python3.7/site-packages/requests/api.py\", line 75, in get\n",
      "    return request('get', url, params=params, **kwargs)\n",
      "  File \"/Users/max/opt/anaconda3/lib/python3.7/site-packages/requests/api.py\", line 75, in get\n",
      "    return request('get', url, params=params, **kwargs)\n",
      "  File \"<ipython-input-4-1258cea42550>\", line 6, in get_crag_ids\n",
      "    r= requests.get(url,headers=headers)\n",
      "  File \"<ipython-input-4-1258cea42550>\", line 6, in get_crag_ids\n",
      "    r= requests.get(url,headers=headers)\n",
      "  File \"<ipython-input-4-1258cea42550>\", line 8, in get_crag_ids\n",
      "    return scrape_crag_info(i)\n",
      "  File \"<ipython-input-4-1258cea42550>\", line 8, in get_crag_ids\n",
      "    return scrape_crag_info(i)\n",
      "  File \"/Users/max/opt/anaconda3/lib/python3.7/site-packages/requests/api.py\", line 60, in request\n",
      "    return session.request(method=method, url=url, **kwargs)\n",
      "  File \"/Users/max/opt/anaconda3/lib/python3.7/site-packages/requests/api.py\", line 60, in request\n",
      "    return session.request(method=method, url=url, **kwargs)\n",
      "  File \"/Users/max/opt/anaconda3/lib/python3.7/site-packages/requests/api.py\", line 75, in get\n",
      "    return request('get', url, params=params, **kwargs)\n",
      "  File \"<ipython-input-4-1258cea42550>\", line 29, in scrape_crag_info\n",
      "    r= requests.get(url,headers=headers)\n",
      "  File \"/Users/max/opt/anaconda3/lib/python3.7/site-packages/requests/api.py\", line 75, in get\n",
      "    return request('get', url, params=params, **kwargs)\n",
      "  File \"<ipython-input-4-1258cea42550>\", line 29, in scrape_crag_info\n",
      "    r= requests.get(url,headers=headers)\n",
      "  File \"/Users/max/opt/anaconda3/lib/python3.7/site-packages/requests/sessions.py\", line 533, in request\n",
      "    resp = self.send(prep, **send_kwargs)\n",
      "  File \"/Users/max/opt/anaconda3/lib/python3.7/site-packages/requests/sessions.py\", line 533, in request\n",
      "    resp = self.send(prep, **send_kwargs)\n",
      "  File \"/Users/max/opt/anaconda3/lib/python3.7/site-packages/requests/api.py\", line 60, in request\n",
      "    return session.request(method=method, url=url, **kwargs)\n",
      "  File \"/Users/max/opt/anaconda3/lib/python3.7/site-packages/requests/api.py\", line 75, in get\n",
      "    return request('get', url, params=params, **kwargs)\n",
      "  File \"/Users/max/opt/anaconda3/lib/python3.7/site-packages/requests/api.py\", line 60, in request\n",
      "    return session.request(method=method, url=url, **kwargs)\n",
      "  File \"/Users/max/opt/anaconda3/lib/python3.7/site-packages/requests/api.py\", line 75, in get\n",
      "    return request('get', url, params=params, **kwargs)\n",
      "  File \"/Users/max/opt/anaconda3/lib/python3.7/site-packages/requests/sessions.py\", line 646, in send\n",
      "    r = adapter.send(request, **kwargs)\n",
      "  File \"/Users/max/opt/anaconda3/lib/python3.7/site-packages/requests/api.py\", line 60, in request\n",
      "    return session.request(method=method, url=url, **kwargs)\n",
      "  File \"/Users/max/opt/anaconda3/lib/python3.7/site-packages/requests/sessions.py\", line 533, in request\n",
      "    resp = self.send(prep, **send_kwargs)\n",
      "  File \"/Users/max/opt/anaconda3/lib/python3.7/site-packages/requests/sessions.py\", line 646, in send\n",
      "    r = adapter.send(request, **kwargs)\n",
      "  File \"/Users/max/opt/anaconda3/lib/python3.7/site-packages/requests/sessions.py\", line 533, in request\n",
      "    resp = self.send(prep, **send_kwargs)\n",
      "  File \"/Users/max/opt/anaconda3/lib/python3.7/site-packages/requests/api.py\", line 60, in request\n",
      "    return session.request(method=method, url=url, **kwargs)\n",
      "  File \"/Users/max/opt/anaconda3/lib/python3.7/site-packages/requests/adapters.py\", line 449, in send\n",
      "    timeout=timeout\n",
      "  File \"/Users/max/opt/anaconda3/lib/python3.7/site-packages/requests/sessions.py\", line 533, in request\n",
      "    resp = self.send(prep, **send_kwargs)\n",
      "  File \"/Users/max/opt/anaconda3/lib/python3.7/site-packages/requests/adapters.py\", line 449, in send\n",
      "    timeout=timeout\n",
      "  File \"/Users/max/opt/anaconda3/lib/python3.7/site-packages/requests/sessions.py\", line 646, in send\n",
      "    r = adapter.send(request, **kwargs)\n",
      "  File \"/Users/max/opt/anaconda3/lib/python3.7/site-packages/requests/sessions.py\", line 646, in send\n",
      "    r = adapter.send(request, **kwargs)\n",
      "  File \"/Users/max/opt/anaconda3/lib/python3.7/site-packages/urllib3/connectionpool.py\", line 672, in urlopen\n",
      "    chunked=chunked,\n",
      "  File \"/Users/max/opt/anaconda3/lib/python3.7/site-packages/requests/sessions.py\", line 533, in request\n",
      "    resp = self.send(prep, **send_kwargs)\n",
      "  File \"/Users/max/opt/anaconda3/lib/python3.7/site-packages/requests/sessions.py\", line 646, in send\n",
      "    r = adapter.send(request, **kwargs)\n",
      "  File \"/Users/max/opt/anaconda3/lib/python3.7/site-packages/urllib3/connectionpool.py\", line 672, in urlopen\n",
      "    chunked=chunked,\n",
      "  File \"/Users/max/opt/anaconda3/lib/python3.7/site-packages/requests/adapters.py\", line 449, in send\n",
      "    timeout=timeout\n",
      "  File \"/Users/max/opt/anaconda3/lib/python3.7/site-packages/requests/adapters.py\", line 449, in send\n",
      "    timeout=timeout\n",
      "  File \"/Users/max/opt/anaconda3/lib/python3.7/site-packages/urllib3/connectionpool.py\", line 376, in _make_request\n",
      "    self._validate_conn(conn)\n",
      "  File \"/Users/max/opt/anaconda3/lib/python3.7/site-packages/requests/sessions.py\", line 646, in send\n",
      "    r = adapter.send(request, **kwargs)\n",
      "  File \"/Users/max/opt/anaconda3/lib/python3.7/site-packages/requests/adapters.py\", line 449, in send\n",
      "    timeout=timeout\n"
     ]
    },
    {
     "name": "stderr",
     "output_type": "stream",
     "text": [
      "  File \"/Users/max/opt/anaconda3/lib/python3.7/site-packages/urllib3/connectionpool.py\", line 672, in urlopen\n",
      "    chunked=chunked,\n",
      "  File \"/Users/max/opt/anaconda3/lib/python3.7/site-packages/urllib3/connectionpool.py\", line 376, in _make_request\n",
      "    self._validate_conn(conn)\n",
      "  File \"/Users/max/opt/anaconda3/lib/python3.7/site-packages/urllib3/connectionpool.py\", line 672, in urlopen\n",
      "    chunked=chunked,\n",
      "  File \"/Users/max/opt/anaconda3/lib/python3.7/site-packages/requests/adapters.py\", line 449, in send\n",
      "    timeout=timeout\n",
      "  File \"/Users/max/opt/anaconda3/lib/python3.7/site-packages/urllib3/connectionpool.py\", line 994, in _validate_conn\n",
      "    conn.connect()\n",
      "  File \"/Users/max/opt/anaconda3/lib/python3.7/site-packages/urllib3/connectionpool.py\", line 672, in urlopen\n",
      "    chunked=chunked,\n",
      "  File \"/Users/max/opt/anaconda3/lib/python3.7/site-packages/urllib3/connectionpool.py\", line 994, in _validate_conn\n",
      "    conn.connect()\n",
      "  File \"/Users/max/opt/anaconda3/lib/python3.7/site-packages/urllib3/connectionpool.py\", line 376, in _make_request\n",
      "    self._validate_conn(conn)\n",
      "  File \"/Users/max/opt/anaconda3/lib/python3.7/site-packages/urllib3/connectionpool.py\", line 421, in _make_request\n",
      "    six.raise_from(e, None)\n",
      "  File \"/Users/max/opt/anaconda3/lib/python3.7/site-packages/urllib3/connectionpool.py\", line 672, in urlopen\n",
      "    chunked=chunked,\n",
      "  File \"/Users/max/opt/anaconda3/lib/python3.7/site-packages/urllib3/connection.py\", line 334, in connect\n",
      "    conn = self._new_conn()\n",
      "  File \"/Users/max/opt/anaconda3/lib/python3.7/site-packages/urllib3/connectionpool.py\", line 376, in _make_request\n",
      "    self._validate_conn(conn)\n",
      "  File \"/Users/max/opt/anaconda3/lib/python3.7/site-packages/urllib3/connection.py\", line 334, in connect\n",
      "    conn = self._new_conn()\n",
      "  File \"/Users/max/opt/anaconda3/lib/python3.7/site-packages/urllib3/connectionpool.py\", line 994, in _validate_conn\n",
      "    conn.connect()\n",
      "  File \"<string>\", line 3, in raise_from\n",
      "  File \"/Users/max/opt/anaconda3/lib/python3.7/site-packages/urllib3/connectionpool.py\", line 421, in _make_request\n",
      "    six.raise_from(e, None)\n",
      "  File \"/Users/max/opt/anaconda3/lib/python3.7/site-packages/urllib3/connectionpool.py\", line 994, in _validate_conn\n",
      "    conn.connect()\n",
      "  File \"/Users/max/opt/anaconda3/lib/python3.7/site-packages/urllib3/connection.py\", line 157, in _new_conn\n",
      "    (self._dns_host, self.port), self.timeout, **extra_kw\n",
      "  File \"/Users/max/opt/anaconda3/lib/python3.7/site-packages/urllib3/connection.py\", line 157, in _new_conn\n",
      "    (self._dns_host, self.port), self.timeout, **extra_kw\n",
      "  File \"/Users/max/opt/anaconda3/lib/python3.7/site-packages/urllib3/connectionpool.py\", line 416, in _make_request\n",
      "    httplib_response = conn.getresponse()\n",
      "  File \"/Users/max/opt/anaconda3/lib/python3.7/site-packages/urllib3/connection.py\", line 394, in connect\n",
      "    ssl_context=context,\n",
      "  File \"<string>\", line 3, in raise_from\n",
      "  File \"/Users/max/opt/anaconda3/lib/python3.7/site-packages/urllib3/connection.py\", line 394, in connect\n",
      "    ssl_context=context,\n",
      "  File \"/Users/max/opt/anaconda3/lib/python3.7/site-packages/urllib3/util/connection.py\", line 74, in create_connection\n",
      "    sock.connect(sa)\n",
      "  File \"/Users/max/opt/anaconda3/lib/python3.7/site-packages/urllib3/util/connection.py\", line 74, in create_connection\n",
      "    sock.connect(sa)\n",
      "  File \"/Users/max/opt/anaconda3/lib/python3.7/http/client.py\", line 1344, in getresponse\n",
      "    response.begin()\n",
      "  File \"/Users/max/opt/anaconda3/lib/python3.7/site-packages/urllib3/util/ssl_.py\", line 370, in ssl_wrap_socket\n",
      "    return context.wrap_socket(sock, server_hostname=server_hostname)\n",
      "KeyboardInterrupt\n",
      "  File \"/Users/max/opt/anaconda3/lib/python3.7/site-packages/urllib3/connectionpool.py\", line 416, in _make_request\n",
      "    httplib_response = conn.getresponse()\n",
      "  File \"/Users/max/opt/anaconda3/lib/python3.7/site-packages/urllib3/util/ssl_.py\", line 370, in ssl_wrap_socket\n",
      "    return context.wrap_socket(sock, server_hostname=server_hostname)\n",
      "Traceback (most recent call last):\n",
      "KeyboardInterrupt\n",
      "  File \"/Users/max/opt/anaconda3/lib/python3.7/http/client.py\", line 306, in begin\n",
      "    version, status, reason = self._read_status()\n",
      "  File \"/Users/max/opt/anaconda3/lib/python3.7/site-packages/urllib3/contrib/pyopenssl.py\", line 485, in wrap_socket\n",
      "    cnx.do_handshake()\n",
      "  File \"/Users/max/opt/anaconda3/lib/python3.7/site-packages/urllib3/contrib/pyopenssl.py\", line 485, in wrap_socket\n",
      "    cnx.do_handshake()\n",
      "  File \"/Users/max/opt/anaconda3/lib/python3.7/http/client.py\", line 1344, in getresponse\n",
      "    response.begin()\n",
      "  File \"/Users/max/opt/anaconda3/lib/python3.7/http/client.py\", line 267, in _read_status\n",
      "    line = str(self.fp.readline(_MAXLINE + 1), \"iso-8859-1\")\n",
      "  File \"/Users/max/opt/anaconda3/lib/python3.7/site-packages/OpenSSL/SSL.py\", line 1933, in do_handshake\n",
      "    result = _lib.SSL_do_handshake(self._ssl)\n",
      "  File \"/Users/max/opt/anaconda3/lib/python3.7/site-packages/OpenSSL/SSL.py\", line 1933, in do_handshake\n",
      "    result = _lib.SSL_do_handshake(self._ssl)\n",
      "  File \"/Users/max/opt/anaconda3/lib/python3.7/http/client.py\", line 306, in begin\n",
      "    version, status, reason = self._read_status()\n",
      "  File \"/Users/max/opt/anaconda3/lib/python3.7/socket.py\", line 589, in readinto\n",
      "    return self._sock.recv_into(b)\n",
      "  File \"/Users/max/opt/anaconda3/lib/python3.7/http/client.py\", line 267, in _read_status\n",
      "    line = str(self.fp.readline(_MAXLINE + 1), \"iso-8859-1\")\n",
      "KeyboardInterrupt\n",
      "KeyboardInterrupt\n",
      "  File \"/Users/max/opt/anaconda3/lib/python3.7/site-packages/urllib3/contrib/pyopenssl.py\", line 313, in recv_into\n",
      "    return self.connection.recv_into(*args, **kwargs)\n",
      "  File \"/Users/max/opt/anaconda3/lib/python3.7/socket.py\", line 589, in readinto\n",
      "    return self._sock.recv_into(b)\n",
      "  File \"/Users/max/opt/anaconda3/lib/python3.7/site-packages/OpenSSL/SSL.py\", line 1839, in recv_into\n",
      "    result = _lib.SSL_read(self._ssl, buf, nbytes)\n",
      "  File \"/Users/max/opt/anaconda3/lib/python3.7/site-packages/urllib3/contrib/pyopenssl.py\", line 313, in recv_into\n",
      "    return self.connection.recv_into(*args, **kwargs)\n",
      "KeyboardInterrupt\n",
      "  File \"/Users/max/opt/anaconda3/lib/python3.7/site-packages/OpenSSL/SSL.py\", line 1839, in recv_into\n",
      "    result = _lib.SSL_read(self._ssl, buf, nbytes)\n",
      "KeyboardInterrupt\n",
      "  File \"/Users/max/opt/anaconda3/lib/python3.7/multiprocessing/process.py\", line 297, in _bootstrap\n",
      "    self.run()\n",
      "Traceback (most recent call last):\n",
      "  File \"/Users/max/opt/anaconda3/lib/python3.7/multiprocessing/process.py\", line 297, in _bootstrap\n",
      "    self.run()\n",
      "  File \"/Users/max/opt/anaconda3/lib/python3.7/multiprocessing/process.py\", line 99, in run\n",
      "    self._target(*self._args, **self._kwargs)\n",
      "  File \"/Users/max/opt/anaconda3/lib/python3.7/multiprocessing/pool.py\", line 121, in worker\n",
      "    result = (True, func(*args, **kwds))\n",
      "  File \"/Users/max/opt/anaconda3/lib/python3.7/multiprocessing/process.py\", line 99, in run\n",
      "    self._target(*self._args, **self._kwargs)\n",
      "  File \"<ipython-input-4-1258cea42550>\", line 6, in get_crag_ids\n",
      "    r= requests.get(url,headers=headers)\n",
      "  File \"/Users/max/opt/anaconda3/lib/python3.7/multiprocessing/pool.py\", line 121, in worker\n",
      "    result = (True, func(*args, **kwds))\n",
      "  File \"/Users/max/opt/anaconda3/lib/python3.7/site-packages/requests/api.py\", line 75, in get\n",
      "    return request('get', url, params=params, **kwargs)\n",
      "  File \"<ipython-input-4-1258cea42550>\", line 8, in get_crag_ids\n",
      "    return scrape_crag_info(i)\n",
      "  File \"<ipython-input-4-1258cea42550>\", line 29, in scrape_crag_info\n",
      "    r= requests.get(url,headers=headers)\n",
      "  File \"/Users/max/opt/anaconda3/lib/python3.7/site-packages/requests/api.py\", line 60, in request\n",
      "    return session.request(method=method, url=url, **kwargs)\n",
      "  File \"/Users/max/opt/anaconda3/lib/python3.7/site-packages/requests/api.py\", line 75, in get\n",
      "    return request('get', url, params=params, **kwargs)\n",
      "  File \"/Users/max/opt/anaconda3/lib/python3.7/site-packages/requests/sessions.py\", line 533, in request\n",
      "    resp = self.send(prep, **send_kwargs)\n",
      "  File \"/Users/max/opt/anaconda3/lib/python3.7/site-packages/requests/api.py\", line 60, in request\n",
      "    return session.request(method=method, url=url, **kwargs)\n",
      "  File \"/Users/max/opt/anaconda3/lib/python3.7/site-packages/requests/sessions.py\", line 646, in send\n",
      "    r = adapter.send(request, **kwargs)\n"
     ]
    },
    {
     "name": "stderr",
     "output_type": "stream",
     "text": [
      "  File \"/Users/max/opt/anaconda3/lib/python3.7/site-packages/requests/sessions.py\", line 533, in request\n",
      "    resp = self.send(prep, **send_kwargs)\n",
      "  File \"/Users/max/opt/anaconda3/lib/python3.7/site-packages/requests/adapters.py\", line 449, in send\n",
      "    timeout=timeout\n",
      "  File \"/Users/max/opt/anaconda3/lib/python3.7/site-packages/requests/sessions.py\", line 668, in send\n",
      "    history = [resp for resp in gen] if allow_redirects else []\n",
      "  File \"/Users/max/opt/anaconda3/lib/python3.7/site-packages/urllib3/connectionpool.py\", line 672, in urlopen\n",
      "    chunked=chunked,\n",
      "  File \"/Users/max/opt/anaconda3/lib/python3.7/site-packages/urllib3/connectionpool.py\", line 421, in _make_request\n",
      "    six.raise_from(e, None)\n",
      "  File \"/Users/max/opt/anaconda3/lib/python3.7/site-packages/requests/sessions.py\", line 668, in <listcomp>\n",
      "    history = [resp for resp in gen] if allow_redirects else []\n",
      "  File \"<string>\", line 3, in raise_from\n",
      "  File \"/Users/max/opt/anaconda3/lib/python3.7/site-packages/requests/sessions.py\", line 247, in resolve_redirects\n",
      "    **adapter_kwargs\n",
      "  File \"/Users/max/opt/anaconda3/lib/python3.7/site-packages/urllib3/connectionpool.py\", line 416, in _make_request\n",
      "    httplib_response = conn.getresponse()\n",
      "  File \"/Users/max/opt/anaconda3/lib/python3.7/site-packages/requests/sessions.py\", line 646, in send\n",
      "    r = adapter.send(request, **kwargs)\n",
      "  File \"/Users/max/opt/anaconda3/lib/python3.7/http/client.py\", line 1344, in getresponse\n",
      "    response.begin()\n",
      "  File \"/Users/max/opt/anaconda3/lib/python3.7/site-packages/requests/adapters.py\", line 449, in send\n",
      "    timeout=timeout\n",
      "  File \"/Users/max/opt/anaconda3/lib/python3.7/http/client.py\", line 306, in begin\n",
      "    version, status, reason = self._read_status()\n",
      "  File \"/Users/max/opt/anaconda3/lib/python3.7/site-packages/urllib3/connectionpool.py\", line 672, in urlopen\n",
      "    chunked=chunked,\n",
      "  File \"/Users/max/opt/anaconda3/lib/python3.7/http/client.py\", line 267, in _read_status\n",
      "    line = str(self.fp.readline(_MAXLINE + 1), \"iso-8859-1\")\n",
      "  File \"/Users/max/opt/anaconda3/lib/python3.7/site-packages/urllib3/connectionpool.py\", line 421, in _make_request\n",
      "    six.raise_from(e, None)\n",
      "  File \"/Users/max/opt/anaconda3/lib/python3.7/socket.py\", line 589, in readinto\n",
      "    return self._sock.recv_into(b)\n",
      "  File \"<string>\", line 3, in raise_from\n",
      "  File \"/Users/max/opt/anaconda3/lib/python3.7/site-packages/urllib3/contrib/pyopenssl.py\", line 313, in recv_into\n",
      "    return self.connection.recv_into(*args, **kwargs)\n",
      "  File \"/Users/max/opt/anaconda3/lib/python3.7/site-packages/urllib3/connectionpool.py\", line 416, in _make_request\n",
      "    httplib_response = conn.getresponse()\n",
      "  File \"/Users/max/opt/anaconda3/lib/python3.7/site-packages/OpenSSL/SSL.py\", line 1839, in recv_into\n",
      "    result = _lib.SSL_read(self._ssl, buf, nbytes)\n",
      "KeyboardInterrupt\n",
      "  File \"/Users/max/opt/anaconda3/lib/python3.7/http/client.py\", line 1344, in getresponse\n",
      "    response.begin()\n",
      "  File \"/Users/max/opt/anaconda3/lib/python3.7/http/client.py\", line 306, in begin\n",
      "    version, status, reason = self._read_status()\n",
      "  File \"/Users/max/opt/anaconda3/lib/python3.7/http/client.py\", line 267, in _read_status\n",
      "    line = str(self.fp.readline(_MAXLINE + 1), \"iso-8859-1\")\n",
      "  File \"/Users/max/opt/anaconda3/lib/python3.7/socket.py\", line 589, in readinto\n",
      "    return self._sock.recv_into(b)\n",
      "  File \"/Users/max/opt/anaconda3/lib/python3.7/site-packages/urllib3/contrib/pyopenssl.py\", line 313, in recv_into\n",
      "    return self.connection.recv_into(*args, **kwargs)\n",
      "  File \"/Users/max/opt/anaconda3/lib/python3.7/site-packages/OpenSSL/SSL.py\", line 1839, in recv_into\n",
      "    result = _lib.SSL_read(self._ssl, buf, nbytes)\n",
      "KeyboardInterrupt\n"
     ]
    }
   ],
   "source": [
    "total_crags = 30000\n",
    "\n",
    "p = Pool()\n",
    "crag_list = list(tqdm(p.imap(get_crag_ids, range(0,total_crags)), total=total_crags))\n",
    "p.terminate()\n",
    "p.join()\n",
    "\n",
    "crag_dic = {}\n",
    "\n",
    "for crag in crag_list:\n",
    "    if crag:\n",
    "        crag_dic[int(crag['id'])] = crag\n",
    "        "
   ]
  },
  {
   "cell_type": "code",
   "execution_count": null,
   "metadata": {},
   "outputs": [],
   "source": []
  },
  {
   "cell_type": "code",
   "execution_count": null,
   "metadata": {
    "ExecuteTime": {
     "end_time": "2020-03-03T16:38:33.919726Z",
     "start_time": "2020-03-03T16:38:28.087Z"
    }
   },
   "outputs": [],
   "source": [
    "df_crags = pd.DataFrame(crag_dic).T\n",
    "df_crags.columns = [column.lower() for column in df_crags.columns]\n",
    "df_crags['climbs'] = df_crags['climbs'].replace('?',0).astype(int)\n",
    "df_crags['id'] = df_crags['id'].astype(int)\n",
    "df_crags['lat'] = df_crags['lat'].astype(float)\n",
    "df_crags['long'] = df_crags['long'].astype(float)\n",
    "\n",
    "def strip_numbers(alt):\n",
    "    if type(alt)==str:\n",
    "        num = re.search('[0-9]*',alt)\n",
    "        try:\n",
    "            return int(num[0])\n",
    "        except:\n",
    "            return np.nan\n",
    "    else:\n",
    "        return alt\n",
    "df_crags['altitude'] = df_crags['altitude'].map(strip_numbers)"
   ]
  },
  {
   "cell_type": "code",
   "execution_count": null,
   "metadata": {
    "ExecuteTime": {
     "end_time": "2020-02-07T11:18:52.540621Z",
     "start_time": "2020-02-07T11:18:52.515117Z"
    }
   },
   "outputs": [],
   "source": [
    "df_crags[df_crags['climbs']==0]"
   ]
  },
  {
   "cell_type": "code",
   "execution_count": 10,
   "metadata": {
    "ExecuteTime": {
     "end_time": "2020-03-03T16:39:01.813070Z",
     "start_time": "2020-03-03T16:38:58.267936Z"
    }
   },
   "outputs": [
    {
     "data": {
      "text/plain": [
       "495939"
      ]
     },
     "execution_count": 10,
     "metadata": {},
     "output_type": "execute_result"
    }
   ],
   "source": [
    "climb_id_list = []\n",
    "for crag in df_crags.index:\n",
    "    for climb_id,rating in df_crags.loc[crag].climb_list:\n",
    "#         if rating >=2:\n",
    "            climb = {}\n",
    "            climb_id_list.append((climb_id,crag)) \n",
    "len(climb_id_list)            "
   ]
  },
  {
   "cell_type": "code",
   "execution_count": 11,
   "metadata": {
    "ExecuteTime": {
     "end_time": "2020-03-03T16:39:01.819105Z",
     "start_time": "2020-03-03T16:39:01.815465Z"
    }
   },
   "outputs": [],
   "source": [
    "def sectors(num_finish,num_sec = 10):\n",
    "    chunk_size = int(num_finish/num_sec)\n",
    "    sectors = []\n",
    "    previous = 0 \n",
    "    for i in range(0,num_finish,chunk_size)[1:]:\n",
    "        sectors.append((previous,i))\n",
    "        previous = i\n",
    "    sectors.append(((previous,num_finish-1)))\n",
    "    return sectors"
   ]
  },
  {
   "cell_type": "code",
   "execution_count": 12,
   "metadata": {
    "ExecuteTime": {
     "end_time": "2020-03-03T16:39:01.823921Z",
     "start_time": "2020-03-03T16:39:01.821271Z"
    }
   },
   "outputs": [],
   "source": [
    "scan_sec = sectors(len(climb_id_list),100)"
   ]
  },
  {
   "cell_type": "code",
   "execution_count": 13,
   "metadata": {
    "ExecuteTime": {
     "end_time": "2020-03-03T16:39:01.837536Z",
     "start_time": "2020-03-03T16:39:01.826088Z"
    }
   },
   "outputs": [],
   "source": [
    "climb_id_list_iter = []\n",
    "for sector in scan_sec:\n",
    "    climb_id_list_iter.append(climb_id_list[sector[0]:sector[1]])\n"
   ]
  },
  {
   "cell_type": "code",
   "execution_count": 14,
   "metadata": {
    "ExecuteTime": {
     "end_time": "2020-03-03T16:39:01.842554Z",
     "start_time": "2020-03-03T16:39:01.839602Z"
    }
   },
   "outputs": [],
   "source": [
    "climb_dic = {}"
   ]
  },
  {
   "cell_type": "code",
   "execution_count": 15,
   "metadata": {
    "ExecuteTime": {
     "end_time": "2020-03-03T16:39:05.210370Z",
     "start_time": "2020-03-03T16:39:05.207550Z"
    }
   },
   "outputs": [],
   "source": [
    "from IPython.display import clear_output"
   ]
  },
  {
   "cell_type": "code",
   "execution_count": 16,
   "metadata": {
    "ExecuteTime": {
     "end_time": "2020-03-03T16:39:05.871199Z",
     "start_time": "2020-03-03T16:39:05.708248Z"
    }
   },
   "outputs": [
    {
     "data": {
      "text/plain": [
       "{'id': 3167,\n",
       " 'url': 'https://www.ukclimbing.com/logbook/c.php?i=3167',\n",
       " 'climbname': 'Vanishing Point',\n",
       " 'rating': 0,\n",
       " 'grade': 'E1 5b',\n",
       " 'crag_id': 4,\n",
       " 'desc': '',\n",
       " 'logs': {'187067': '', '63530': ''},\n",
       " 'num_comments': 2}"
      ]
     },
     "execution_count": 16,
     "metadata": {},
     "output_type": "execute_result"
    }
   ],
   "source": [
    "scrape_climb_info((3167,4))"
   ]
  },
  {
   "cell_type": "code",
   "execution_count": 17,
   "metadata": {
    "ExecuteTime": {
     "end_time": "2020-03-03T16:39:07.932617Z",
     "start_time": "2020-03-03T16:39:07.906906Z"
    }
   },
   "outputs": [
    {
     "data": {
      "text/plain": [
       "[('291234', 1017),\n",
       " ('291235', 1017),\n",
       " ('291873', 1017),\n",
       " ('291874', 1017),\n",
       " ('291237', 1017),\n",
       " ('291238', 1017),\n",
       " ('291875', 1017),\n",
       " ('291236', 1017),\n",
       " ('435022', 1017),\n",
       " ('519497', 1017),\n",
       " ('291239', 1017),\n",
       " ('435023', 1017),\n",
       " ('492610', 1017),\n",
       " ('492612', 1017),\n",
       " ('492613', 1017),\n",
       " ('492614', 1017),\n",
       " ('380305', 1018),\n",
       " ('380306', 1018),\n",
       " ('44901', 1018),\n",
       " ('245297', 1018),\n",
       " ('44902', 1018),\n",
       " ('44903', 1018),\n",
       " ('44904', 1018),\n",
       " ('375435', 1018),\n",
       " ('44905', 1018),\n",
       " ('44906', 1018),\n",
       " ('513541', 1018),\n",
       " ('44907', 1018),\n",
       " ('28347', 1018),\n",
       " ('44908', 1018),\n",
       " ('44909', 1018),\n",
       " ('437883', 1018),\n",
       " ('44910', 1018),\n",
       " ('44927', 1018),\n",
       " ('437884', 1018),\n",
       " ('44911', 1018),\n",
       " ('44912', 1018),\n",
       " ('44928', 1018),\n",
       " ('44929', 1018),\n",
       " ('345847', 1018),\n",
       " ('28348', 1018),\n",
       " ('44930', 1018),\n",
       " ('28349', 1018),\n",
       " ('28350', 1018),\n",
       " ('44931', 1018),\n",
       " ('44932', 1018),\n",
       " ('44933', 1018),\n",
       " ('44934', 1018),\n",
       " ('44935', 1018),\n",
       " ('44936', 1018),\n",
       " ('44937', 1018),\n",
       " ('44938', 1018),\n",
       " ('44939', 1018),\n",
       " ('44940', 1018),\n",
       " ('513542', 1018),\n",
       " ('44941', 1018),\n",
       " ('28351', 1018),\n",
       " ('44942', 1018),\n",
       " ('144065', 1018),\n",
       " ('28352', 1018),\n",
       " ('28353', 1018),\n",
       " ('28354', 1018),\n",
       " ('28355', 1018),\n",
       " ('486460', 1018),\n",
       " ('28356', 1018),\n",
       " ('28357', 1018),\n",
       " ('28358', 1018),\n",
       " ('44943', 1018),\n",
       " ('28359', 1018),\n",
       " ('28360', 1018),\n",
       " ('44944', 1018),\n",
       " ('28361', 1018),\n",
       " ('44945', 1018),\n",
       " ('146182', 1018),\n",
       " ('513539', 1018),\n",
       " ('513540', 1018),\n",
       " ('146183', 1018),\n",
       " ('146184', 1018),\n",
       " ('146185', 1018),\n",
       " ('146186', 1018),\n",
       " ('123926', 1019),\n",
       " ('123927', 1019),\n",
       " ('33795', 1019),\n",
       " ('123928', 1019),\n",
       " ('123929', 1019),\n",
       " ('123930', 1019),\n",
       " ('33792', 1019),\n",
       " ('49899', 1019),\n",
       " ('39849', 1019),\n",
       " ('39850', 1019),\n",
       " ('103837', 1019),\n",
       " ('54989', 1019),\n",
       " ('39851', 1019),\n",
       " ('33791', 1019),\n",
       " ('39852', 1019),\n",
       " ('103836', 1019),\n",
       " ('103835', 1019),\n",
       " ('49396', 1019),\n",
       " ('33793', 1019),\n",
       " ('33794', 1019),\n",
       " ('123931', 1019),\n",
       " ('63909', 1019),\n",
       " ('96912', 1019),\n",
       " ('103838', 1019),\n",
       " ('123932', 1019),\n",
       " ('123933', 1019),\n",
       " ('123934', 1019),\n",
       " ('123935', 1019),\n",
       " ('123936', 1019),\n",
       " ('123937', 1019),\n",
       " ('96913', 1019),\n",
       " ('91039', 1019),\n",
       " ('73603', 1019),\n",
       " ('123938', 1019),\n",
       " ('123939', 1019),\n",
       " ('123940', 1019),\n",
       " ('123941', 1019),\n",
       " ('49898', 1019),\n",
       " ('123942', 1019),\n",
       " ('50906', 1019),\n",
       " ('123943', 1019),\n",
       " ('123944', 1019),\n",
       " ('123945', 1019),\n",
       " ('58771', 1019),\n",
       " ('58772', 1019),\n",
       " ('93512', 1019),\n",
       " ('93048', 1279),\n",
       " ('9225', 1279),\n",
       " ('9226', 1279),\n",
       " ('9227', 1279),\n",
       " ('257557', 1279),\n",
       " ('9228', 1279),\n",
       " ('9229', 1279),\n",
       " ('9231', 1279),\n",
       " ('356987', 1279),\n",
       " ('9230', 1279),\n",
       " ('9232', 1279),\n",
       " ('257558', 1279),\n",
       " ('9233', 1279),\n",
       " ('9234', 1279),\n",
       " ('231375', 1279),\n",
       " ('9235', 1279),\n",
       " ('9236', 1279),\n",
       " ('9237', 1279),\n",
       " ('231376', 1279),\n",
       " ('9238', 1279),\n",
       " ('9239', 1279),\n",
       " ('9240', 1279),\n",
       " ('232019', 1279),\n",
       " ('232020', 1279),\n",
       " ('232021', 1279),\n",
       " ('232023', 1279),\n",
       " ('447172', 1279),\n",
       " ('450561', 1279),\n",
       " ('450563', 1279),\n",
       " ('450564', 1279),\n",
       " ('450565', 1279),\n",
       " ('450566', 1279),\n",
       " ('450567', 1279),\n",
       " ('450568', 1279),\n",
       " ('450569', 1279),\n",
       " ('314372', 1021),\n",
       " ('84138', 1021),\n",
       " ('71975', 1021),\n",
       " ('94558', 1021),\n",
       " ('71976', 1021),\n",
       " ('122396', 1021),\n",
       " ('137395', 1021),\n",
       " ('49906', 1021),\n",
       " ('147267', 1021),\n",
       " ('176876', 1021),\n",
       " ('50856', 1021),\n",
       " ('97654', 1021),\n",
       " ('174437', 1021),\n",
       " ('347644', 1021),\n",
       " ('104601', 1021),\n",
       " ('89730', 1021),\n",
       " ('89731', 1021),\n",
       " ('33796', 1021),\n",
       " ('42043', 1021),\n",
       " ('40294', 1021),\n",
       " ('103130', 1021),\n",
       " ('42044', 1021),\n",
       " ('12971', 1021),\n",
       " ('12970', 1021),\n",
       " ('12972', 1021),\n",
       " ('63785', 1021),\n",
       " ('12973', 1021),\n",
       " ('39853', 1021),\n",
       " ('12974', 1021),\n",
       " ('156978', 1021),\n",
       " ('112901', 1021),\n",
       " ('12975', 1021),\n",
       " ('33797', 1021),\n",
       " ('124955', 1021),\n",
       " ('12976', 1021),\n",
       " ('347645', 1021),\n",
       " ('47940', 1021),\n",
       " ('347646', 1021),\n",
       " ('12977', 1021),\n",
       " ('12978', 1021),\n",
       " ('12979', 1021),\n",
       " ('137390', 1021),\n",
       " ('137391', 1021),\n",
       " ('137392', 1021),\n",
       " ('137393', 1021),\n",
       " ('137394', 1021),\n",
       " ('137396', 1021),\n",
       " ('189134', 1021),\n",
       " ('189135', 1021),\n",
       " ('195823', 1021),\n",
       " ('195824', 1021),\n",
       " ('195825', 1021),\n",
       " ('199560', 1021),\n",
       " ('225172', 1021),\n",
       " ('239069', 1021),\n",
       " ('240574', 1021),\n",
       " ('240588', 1021),\n",
       " ('240589', 1021),\n",
       " ('252484', 1021),\n",
       " ('252485', 1021),\n",
       " ('260909', 1021),\n",
       " ('264262', 1021),\n",
       " ('264263', 1021),\n",
       " ('267542', 1021),\n",
       " ('314563', 1021),\n",
       " ('429158', 1021),\n",
       " ('487493', 1021),\n",
       " ('136743', 1022),\n",
       " ('362841', 1022),\n",
       " ('136744', 1022),\n",
       " ('139215', 1022),\n",
       " ('136742', 1022),\n",
       " ('78962', 1022),\n",
       " ('135761', 1022),\n",
       " ('138686', 1022),\n",
       " ('139217', 1022),\n",
       " ('139218', 1022),\n",
       " ('480191', 1022),\n",
       " ('139219', 1022),\n",
       " ('139220', 1022),\n",
       " ('496128', 1022),\n",
       " ('495626', 1022),\n",
       " ('139221', 1022),\n",
       " ('154906', 1022),\n",
       " ('539496', 1022),\n",
       " ('336700', 1022),\n",
       " ('161220', 1022),\n",
       " ('161616', 1022),\n",
       " ('161615', 1022),\n",
       " ('162472', 1022),\n",
       " ('161614', 1022),\n",
       " ('161613', 1022),\n",
       " ('161612', 1022),\n",
       " ('336698', 1022),\n",
       " ('161611', 1022),\n",
       " ('336699', 1022),\n",
       " ('161610', 1022),\n",
       " ('155962', 1022),\n",
       " ('81576', 1022),\n",
       " ('81947', 1022),\n",
       " ('81948', 1022),\n",
       " ('158353', 1022),\n",
       " ('81951', 1022),\n",
       " ('81577', 1022),\n",
       " ('81949', 1022),\n",
       " ('422803', 1022),\n",
       " ('159909', 1022),\n",
       " ('382807', 1022),\n",
       " ('138526', 1022),\n",
       " ('138527', 1022),\n",
       " ('159941', 1022),\n",
       " ('227500', 1022),\n",
       " ('161619', 1022),\n",
       " ('161618', 1022),\n",
       " ('161617', 1022),\n",
       " ('138528', 1022),\n",
       " ('155402', 1022),\n",
       " ('161620', 1022),\n",
       " ('139216', 1022),\n",
       " ('81950', 1022),\n",
       " ('158207', 1022),\n",
       " ('158205', 1022),\n",
       " ('159943', 1022),\n",
       " ('138530', 1022),\n",
       " ('159942', 1022),\n",
       " ('383104', 1022),\n",
       " ('485169', 1023),\n",
       " ('485170', 1023),\n",
       " ('264052', 1023),\n",
       " ('264053', 1023),\n",
       " ('264054', 1023),\n",
       " ('264055', 1023),\n",
       " ('264056', 1023),\n",
       " ('264057', 1023),\n",
       " ('264058', 1023),\n",
       " ('264059', 1023),\n",
       " ('125140', 1023),\n",
       " ('125141', 1023),\n",
       " ('84049', 1023),\n",
       " ('93570', 1023),\n",
       " ('93581', 1023),\n",
       " ('107162', 1023),\n",
       " ('153615', 1023),\n",
       " ('107164', 1023),\n",
       " ('116109', 1023),\n",
       " ('78969', 1023),\n",
       " ('125139', 1023),\n",
       " ('116112', 1023),\n",
       " ('116114', 1023),\n",
       " ('121554', 1023),\n",
       " ('153892', 1023),\n",
       " ('33452', 1023),\n",
       " ('41330', 1023),\n",
       " ('487060', 1023),\n",
       " ('83571', 1023),\n",
       " ('57661', 1023),\n",
       " ('73158', 1023),\n",
       " ('484609', 1023),\n",
       " ('484610', 1023),\n",
       " ('482115', 1023),\n",
       " ('133118', 1023),\n",
       " ('54505', 1023),\n",
       " ('214488', 1023),\n",
       " ('484673', 1023),\n",
       " ('54510', 1023),\n",
       " ('484765', 1023),\n",
       " ('123530', 1023),\n",
       " ('484747', 1023),\n",
       " ('214490', 1023),\n",
       " ('93573', 1023),\n",
       " ('486357', 1023),\n",
       " ('54506', 1023),\n",
       " ('35939', 1023),\n",
       " ('68801', 1023),\n",
       " ('39956', 1023),\n",
       " ('39957', 1023),\n",
       " ('484646', 1023),\n",
       " ('57665', 1023),\n",
       " ('54508', 1023),\n",
       " ('68802', 1023),\n",
       " ('57667', 1023),\n",
       " ('57664', 1023),\n",
       " ('54507', 1023),\n",
       " ('328969', 1023),\n",
       " ('64393', 1023),\n",
       " ('214489', 1023),\n",
       " ('422790', 1023),\n",
       " ('362755', 1023),\n",
       " ('104821', 1023),\n",
       " ('89120', 1023),\n",
       " ('54511', 1023),\n",
       " ('57668', 1023),\n",
       " ('338503', 1023),\n",
       " ('435646', 1023),\n",
       " ('481732', 1023),\n",
       " ('39958', 1023),\n",
       " ('39959', 1023),\n",
       " ('64394', 1023),\n",
       " ('69416', 1023),\n",
       " ('488129', 1023),\n",
       " ('68909', 1023),\n",
       " ('89121', 1023),\n",
       " ('422791', 1023),\n",
       " ('57671', 1023),\n",
       " ('58074', 1023),\n",
       " ('58075', 1023),\n",
       " ('58076', 1023),\n",
       " ('94821', 1023),\n",
       " ('58077', 1023),\n",
       " ('65849', 1023),\n",
       " ('58078', 1023),\n",
       " ('58079', 1023),\n",
       " ('57672', 1023),\n",
       " ('422792', 1023),\n",
       " ('422793', 1023),\n",
       " ('125128', 1023),\n",
       " ('125396', 1023),\n",
       " ('157001', 1023),\n",
       " ('122334', 1023),\n",
       " ('122336', 1023),\n",
       " ('142888', 1023),\n",
       " ('122337', 1023),\n",
       " ('122338', 1023),\n",
       " ('122339', 1023),\n",
       " ('122340', 1023),\n",
       " ('122341', 1023),\n",
       " ('122342', 1023),\n",
       " ('122343', 1023),\n",
       " ('122344', 1023),\n",
       " ('528202', 1023),\n",
       " ('540778', 1023),\n",
       " ('54504', 1023),\n",
       " ('133119', 1023),\n",
       " ('54509', 1023),\n",
       " ('78970', 1024),\n",
       " ('437387', 1024),\n",
       " ('437388', 1024),\n",
       " ('437389', 1024),\n",
       " ('437390', 1024),\n",
       " ('437392', 1024),\n",
       " ('437393', 1024),\n",
       " ('437394', 1024),\n",
       " ('437395', 1024),\n",
       " ('437396', 1024),\n",
       " ('437397', 1024),\n",
       " ('313828', 1499),\n",
       " ('269609', 1499),\n",
       " ('313174', 1500),\n",
       " ('242332', 1500),\n",
       " ('448587', 1500),\n",
       " ('448588', 1500),\n",
       " ('498652', 1501),\n",
       " ('498653', 1501),\n",
       " ('498654', 1501),\n",
       " ('498655', 1501),\n",
       " ('498656', 1501),\n",
       " ('271014', 1025),\n",
       " ('271016', 1025),\n",
       " ('271018', 1025),\n",
       " ('271019', 1025),\n",
       " ('271020', 1025),\n",
       " ('271021', 1025),\n",
       " ('271022', 1025),\n",
       " ('271023', 1025),\n",
       " ('426163', 1025),\n",
       " ('52909', 1025),\n",
       " ('81566', 1025),\n",
       " ('335568', 1025),\n",
       " ('80289', 1025),\n",
       " ('264267', 1025),\n",
       " ('435652', 1025),\n",
       " ('52356', 1025),\n",
       " ('69424', 1025),\n",
       " ('81570', 1025),\n",
       " ('81571', 1025),\n",
       " ('271841', 1025),\n",
       " ('267680', 1025),\n",
       " ('52483', 1025),\n",
       " ('69425', 1025),\n",
       " ('69426', 1025),\n",
       " ('500595', 1025),\n",
       " ('58059', 1025),\n",
       " ('500593', 1025),\n",
       " ('58057', 1025),\n",
       " ('58058', 1025),\n",
       " ('58176', 1025),\n",
       " ('82720', 1025),\n",
       " ('488394', 1025),\n",
       " ('81728', 1025),\n",
       " ('79565', 1025),\n",
       " ('81729', 1025),\n",
       " ('81730', 1025),\n",
       " ('126126', 1025),\n",
       " ('58060', 1025),\n",
       " ('54501', 1025),\n",
       " ('79710', 1025),\n",
       " ('79711', 1025),\n",
       " ('57650', 1025),\n",
       " ('79714', 1025),\n",
       " ('57651', 1025),\n",
       " ('79965', 1025),\n",
       " ('79715', 1025),\n",
       " ('81567', 1025),\n",
       " ('126127', 1025),\n",
       " ('487794', 1025),\n",
       " ('263887', 1025),\n",
       " ('81727', 1025),\n",
       " ('79706', 1025),\n",
       " ('79707', 1025),\n",
       " ('79708', 1025),\n",
       " ('79709', 1025),\n",
       " ('488395', 1025),\n",
       " ('487795', 1025),\n",
       " ('461062', 1025),\n",
       " ('461061', 1025),\n",
       " ('460998', 1025),\n",
       " ('468197', 1025),\n",
       " ('460997', 1025),\n",
       " ('490142', 1025),\n",
       " ('457600', 1025),\n",
       " ('491085', 1025),\n",
       " ('463824', 1025),\n",
       " ('466876', 1025),\n",
       " ('457544', 1025),\n",
       " ('457554', 1025),\n",
       " ('457545', 1025),\n",
       " ('448833', 1025),\n",
       " ('266441', 1025),\n",
       " ('266440', 1025),\n",
       " ('159940', 1025),\n",
       " ('163928', 1025),\n",
       " ('125167', 1025),\n",
       " ('127634', 1025),\n",
       " ('129232', 1025),\n",
       " ('127526', 1025),\n",
       " ('263899', 1025),\n",
       " ('266914', 1025),\n",
       " ('81726', 1025),\n",
       " ('81569', 1025),\n",
       " ('338734', 1025),\n",
       " ('422830', 1025),\n",
       " ('81565', 1025),\n",
       " ('128483', 1025),\n",
       " ('266915', 1025),\n",
       " ('129309', 1025),\n",
       " ('99087', 1025),\n",
       " ('99088', 1025),\n",
       " ('99089', 1025),\n",
       " ('127382', 1025),\n",
       " ('267313', 1025),\n",
       " ('267742', 1025),\n",
       " ('291250', 1025),\n",
       " ('291251', 1025),\n",
       " ('267743', 1025),\n",
       " ('291252', 1025),\n",
       " ('492414', 1025),\n",
       " ('492653', 1025),\n",
       " ('492729', 1025),\n",
       " ('492829', 1025),\n",
       " ('497821', 1025),\n",
       " ('494828', 1025),\n",
       " ('361654', 1025),\n",
       " ('399651', 1025),\n",
       " ('361326', 1025),\n",
       " ('430788', 1025),\n",
       " ('430789', 1025),\n",
       " ('81562', 1025),\n",
       " ('81561', 1025),\n",
       " ('430790', 1025),\n",
       " ('430791', 1025),\n",
       " ('430793', 1025),\n",
       " ('430794', 1025),\n",
       " ('430795', 1025),\n",
       " ('335534', 1025),\n",
       " ('430796', 1025),\n",
       " ('334485', 1025),\n",
       " ('334484', 1025),\n",
       " ('334483', 1025),\n",
       " ('252584', 1025),\n",
       " ('81563', 1025),\n",
       " ('257933', 1025),\n",
       " ('81564', 1025),\n",
       " ('100092', 1025),\n",
       " ('204591', 1025),\n",
       " ('212018', 1025),\n",
       " ('212019', 1025),\n",
       " ('212020', 1025),\n",
       " ('520664', 1025),\n",
       " ('204595', 1025),\n",
       " ('252553', 1025),\n",
       " ('463312', 1025),\n",
       " ('204596', 1025),\n",
       " ('89888', 1025),\n",
       " ('204598', 1025),\n",
       " ('204599', 1025),\n",
       " ('422831', 1025),\n",
       " ('204600', 1025),\n",
       " ('502185', 1025),\n",
       " ('204601', 1025),\n",
       " ('335463', 1025),\n",
       " ('204604', 1025),\n",
       " ('204603', 1025),\n",
       " ('204602', 1025),\n",
       " ('348011', 1025),\n",
       " ('354990', 1025),\n",
       " ('348012', 1025),\n",
       " ('262082', 1025),\n",
       " ('342610', 1025),\n",
       " ('441560', 1025),\n",
       " ('345923', 1025),\n",
       " ('341892', 1025),\n",
       " ('294373', 1025),\n",
       " ('209492', 1025),\n",
       " ('209493', 1025),\n",
       " ('209494', 1025),\n",
       " ('209495', 1025),\n",
       " ('209496', 1025),\n",
       " ('209497', 1025),\n",
       " ('209498', 1025),\n",
       " ('209499', 1025),\n",
       " ('344626', 1025),\n",
       " ('348069', 1025),\n",
       " ('348070', 1025),\n",
       " ('348071', 1025),\n",
       " ('343353', 1025),\n",
       " ('422845', 1025),\n",
       " ('339356', 1025),\n",
       " ('342611', 1025),\n",
       " ('231157', 1025),\n",
       " ('231158', 1025),\n",
       " ('231159', 1025),\n",
       " ('316586', 1025),\n",
       " ('308427', 1025),\n",
       " ('422846', 1025),\n",
       " ('231160', 1025),\n",
       " ('231162', 1025),\n",
       " ('231163', 1025),\n",
       " ('241022', 1025),\n",
       " ('241023', 1025),\n",
       " ('241025', 1025),\n",
       " ('241026', 1025),\n",
       " ('235366', 1025),\n",
       " ('506699', 1025),\n",
       " ('232033', 1025),\n",
       " ('508890', 1025),\n",
       " ('508894', 1025),\n",
       " ('506919', 1025),\n",
       " ('231165', 1025),\n",
       " ('231166', 1025),\n",
       " ('231167', 1025),\n",
       " ('244258', 1025),\n",
       " ('235367', 1025),\n",
       " ('548402', 1025),\n",
       " ('351886', 1025),\n",
       " ('351887', 1025),\n",
       " ('351888', 1025),\n",
       " ('351889', 1025),\n",
       " ('351891', 1025),\n",
       " ('351892', 1025),\n",
       " ('351893', 1025),\n",
       " ('351894', 1025),\n",
       " ('351895', 1025),\n",
       " ('508874', 1025),\n",
       " ('508875', 1025),\n",
       " ('231168', 1025),\n",
       " ('231169', 1025),\n",
       " ('367500', 1025),\n",
       " ('231170', 1025),\n",
       " ('235368', 1025),\n",
       " ('235369', 1025),\n",
       " ('231171', 1025),\n",
       " ('231172', 1025),\n",
       " ('231173', 1025),\n",
       " ('235374', 1025),\n",
       " ('242346', 1025),\n",
       " ('339920', 1025),\n",
       " ('364002', 1025),\n",
       " ('364003', 1025),\n",
       " ('364004', 1025),\n",
       " ('364005', 1025),\n",
       " ('252444', 1026),\n",
       " ('252425', 1026),\n",
       " ('251776', 1026),\n",
       " ('251775', 1026),\n",
       " ('262553', 1026),\n",
       " ('262556', 1026),\n",
       " ('262557', 1026),\n",
       " ('239692', 1026),\n",
       " ('239702', 1026),\n",
       " ('239707', 1026),\n",
       " ('239708', 1026),\n",
       " ('239710', 1026),\n",
       " ('239715', 1026),\n",
       " ('203913', 1026),\n",
       " ('234116', 1026),\n",
       " ('65959', 1026),\n",
       " ('65960', 1026),\n",
       " ('65961', 1026),\n",
       " ('65962', 1026),\n",
       " ('58178', 1026),\n",
       " ('461021', 1026),\n",
       " ('82251', 1026),\n",
       " ('58066', 1026),\n",
       " ('231134', 1026),\n",
       " ('124127', 1026),\n",
       " ('58177', 1026),\n",
       " ('81365', 1026),\n",
       " ('82250', 1026),\n",
       " ('81441', 1026),\n",
       " ('81374', 1026),\n",
       " ('81371', 1026),\n",
       " ('81370', 1026),\n",
       " ('154207', 1026),\n",
       " ('124765', 1026),\n",
       " ('131787', 1026),\n",
       " ('81366', 1026),\n",
       " ('291707', 1026),\n",
       " ('291709', 1026),\n",
       " ('124767', 1026),\n",
       " ('58067', 1026),\n",
       " ('58068', 1026),\n",
       " ('136968', 1026),\n",
       " ('81375', 1026),\n",
       " ('81376', 1026),\n",
       " ('81377', 1026),\n",
       " ('81378', 1026),\n",
       " ('81379', 1026),\n",
       " ('81367', 1026),\n",
       " ('81380', 1026),\n",
       " ('81368', 1026),\n",
       " ('89978', 1026),\n",
       " ('123532', 1026),\n",
       " ('122682', 1026),\n",
       " ('422784', 1026),\n",
       " ('81369', 1026),\n",
       " ('81430', 1026),\n",
       " ('57657', 1026),\n",
       " ('80613', 1026),\n",
       " ('80614', 1026),\n",
       " ('124351', 1026),\n",
       " ('77613', 1026),\n",
       " ('81431', 1026),\n",
       " ('79701', 1026),\n",
       " ('78705', 1026),\n",
       " ('79746', 1026),\n",
       " ('153928', 1026),\n",
       " ('171817', 1026),\n",
       " ('161577', 1026),\n",
       " ('195499', 1026),\n",
       " ('126371', 1026),\n",
       " ('191743', 1026),\n",
       " ('126716', 1026),\n",
       " ('128478', 1026),\n",
       " ('194151', 1026),\n",
       " ('126717', 1026),\n",
       " ('422785', 1026),\n",
       " ('121862', 1026),\n",
       " ('195730', 1026),\n",
       " ('230306', 1026),\n",
       " ('426621', 1026),\n",
       " ('426622', 1026),\n",
       " ('426625', 1026),\n",
       " ('426626', 1026),\n",
       " ('426627', 1026),\n",
       " ('426629', 1026),\n",
       " ('426628', 1026),\n",
       " ('90669', 1026),\n",
       " ('90672', 1026),\n",
       " ('84328', 1026),\n",
       " ('129538', 1026),\n",
       " ('129491', 1026),\n",
       " ('58069', 1026),\n",
       " ('90671', 1026),\n",
       " ('129315', 1026),\n",
       " ('57658', 1026),\n",
       " ('58070', 1026),\n",
       " ('81373', 1026),\n",
       " ('81372', 1026),\n",
       " ('82266', 1026),\n",
       " ('127164', 1026),\n",
       " ('197548', 1026),\n",
       " ('128479', 1026),\n",
       " ('422786', 1026),\n",
       " ('81447', 1026),\n",
       " ('81390', 1026),\n",
       " ('169270', 1026),\n",
       " ('163946', 1026),\n",
       " ('139644', 1026),\n",
       " ('172573', 1026),\n",
       " ('131840', 1026),\n",
       " ('80292', 1026),\n",
       " ('79772', 1026),\n",
       " ('90670', 1026),\n",
       " ('93233', 1026),\n",
       " ('91732', 1026),\n",
       " ('54502', 1026),\n",
       " ('93235', 1026),\n",
       " ('79704', 1026),\n",
       " ('125939', 1026),\n",
       " ('77468', 1026),\n",
       " ('121350', 1026),\n",
       " ('188175', 1026),\n",
       " ('436571', 1026),\n",
       " ('79962', 1026),\n",
       " ('90721', 1026),\n",
       " ('171816', 1026),\n",
       " ('79705', 1026),\n",
       " ('126104', 1026),\n",
       " ('79747', 1026),\n",
       " ('82267', 1026),\n",
       " ('65964', 1026),\n",
       " ('65963', 1026),\n",
       " ('82268', 1026),\n",
       " ('57659', 1026),\n",
       " ('82383', 1026),\n",
       " ('57660', 1026),\n",
       " ('79702', 1026),\n",
       " ('79959', 1026),\n",
       " ('79960', 1026),\n",
       " ('81448', 1026),\n",
       " ('79712', 1026),\n",
       " ('79629', 1026),\n",
       " ('79703', 1026),\n",
       " ('79963', 1026),\n",
       " ('79958', 1026),\n",
       " ('422787', 1026),\n",
       " ('127222', 1026),\n",
       " ('187730', 1026),\n",
       " ('221115', 1026),\n",
       " ('221116', 1026),\n",
       " ('221117', 1026),\n",
       " ('228843', 1026),\n",
       " ('228842', 1026),\n",
       " ('194620', 1026),\n",
       " ('223309', 1026),\n",
       " ('223809', 1026),\n",
       " ('340591', 1026),\n",
       " ('218429', 1026),\n",
       " ('93527', 1026),\n",
       " ('377271', 1026),\n",
       " ('93114', 1026),\n",
       " ('540428', 1026),\n",
       " ('540430', 1026),\n",
       " ('377150', 1026),\n",
       " ('93528', 1026),\n",
       " ('93729', 1026),\n",
       " ('121921', 1026),\n",
       " ('121922', 1026),\n",
       " ('93116', 1026),\n",
       " ('290735', 1026),\n",
       " ('95029', 1026),\n",
       " ('121601', 1026),\n",
       " ('121602', 1026),\n",
       " ('121923', 1026),\n",
       " ('121924', 1026),\n",
       " ('121925', 1026),\n",
       " ('93117', 1026),\n",
       " ('157399', 1026),\n",
       " ('196322', 1026),\n",
       " ('95030', 1026),\n",
       " ('93118', 1026),\n",
       " ('448252', 1026),\n",
       " ('216882', 1026),\n",
       " ('172855', 1026),\n",
       " ('192590', 1026),\n",
       " ('121927', 1026),\n",
       " ('121867', 1026),\n",
       " ('121928', 1026),\n",
       " ('239384', 1026),\n",
       " ('187862', 1026),\n",
       " ('186838', 1026),\n",
       " ('182407', 1026),\n",
       " ('202591', 1026),\n",
       " ('329860', 1026),\n",
       " ('373982', 1026),\n",
       " ('418064', 1026),\n",
       " ('457192', 1026),\n",
       " ('373981', 1026),\n",
       " ('121929', 1026),\n",
       " ('157412', 1026),\n",
       " ('157423', 1026),\n",
       " ('157424', 1026),\n",
       " ('260589', 1026),\n",
       " ('121930', 1026),\n",
       " ('202528', 1026),\n",
       " ('188555', 1026),\n",
       " ('254943', 1026),\n",
       " ('95410', 1026),\n",
       " ('157410', 1026),\n",
       " ('360317', 1026),\n",
       " ('164269', 1026),\n",
       " ('225306', 1026),\n",
       " ('170014', 1026),\n",
       " ('225305', 1026),\n",
       " ('446450', 1026),\n",
       " ('458268', 1026),\n",
       " ('157154', 1026),\n",
       " ('234630', 1026),\n",
       " ('220439', 1026),\n",
       " ('258425', 1026),\n",
       " ('183013', 1026),\n",
       " ('183012', 1026),\n",
       " ('183011', 1026),\n",
       " ('335023', 1026),\n",
       " ('194600', 1026),\n",
       " ('194601', 1026),\n",
       " ('194602', 1026),\n",
       " ('194603', 1026),\n",
       " ('194604', 1026),\n",
       " ('194605', 1026),\n",
       " ('194606', 1026),\n",
       " ('194607', 1026),\n",
       " ('194598', 1026),\n",
       " ('194599', 1026),\n",
       " ('224968', 1026),\n",
       " ('201965', 1026),\n",
       " ('201966', 1026),\n",
       " ('194358', 1026),\n",
       " ('218424', 1026),\n",
       " ('218422', 1026),\n",
       " ('218426', 1026),\n",
       " ('218423', 1026),\n",
       " ('252097', 1026),\n",
       " ('223225', 1026),\n",
       " ('217138', 1026),\n",
       " ('218975', 1026),\n",
       " ('457177', 1026),\n",
       " ('451081', 1026),\n",
       " ('450343', 1026),\n",
       " ('450056', 1026),\n",
       " ('529719', 1026),\n",
       " ('529720', 1026),\n",
       " ('207520', 1026),\n",
       " ('332549', 1026),\n",
       " ('214990', 1026),\n",
       " ('202781', 1026),\n",
       " ('239508', 1026),\n",
       " ('239509', 1026),\n",
       " ('195643', 1026),\n",
       " ('200521', 1026),\n",
       " ('382644', 1026),\n",
       " ('421669', 1026),\n",
       " ('254742', 1026),\n",
       " ('254743', 1026),\n",
       " ('521765', 1026),\n",
       " ('555309', 1026),\n",
       " ('331250', 1026),\n",
       " ('331251', 1026),\n",
       " ('372327', 1026),\n",
       " ('421670', 1026),\n",
       " ('523525', 1028),\n",
       " ('523690', 1028),\n",
       " ('171632', 1028),\n",
       " ('173812', 1028),\n",
       " ('172079', 1028),\n",
       " ('172080', 1028),\n",
       " ('173813', 1028),\n",
       " ('172078', 1028),\n",
       " ('482608', 1028),\n",
       " ('482609', 1028),\n",
       " ('230640', 1028),\n",
       " ('379390', 1028),\n",
       " ('328742', 1028),\n",
       " ('181365', 1028),\n",
       " ('268234', 1028),\n",
       " ('268236', 1028),\n",
       " ('449608', 1028),\n",
       " ('193932', 1028),\n",
       " ('192884', 1028),\n",
       " ('171633', 1028),\n",
       " ('186430', 1028),\n",
       " ('171638', 1028),\n",
       " ('171634', 1028),\n",
       " ('196481', 1028),\n",
       " ('223211', 1028),\n",
       " ('171635', 1028),\n",
       " ('232486', 1028),\n",
       " ('232487', 1028),\n",
       " ('240299', 1028),\n",
       " ('220783', 1028),\n",
       " ('268233', 1028),\n",
       " ('268781', 1028),\n",
       " ('171636', 1028),\n",
       " ('251911', 1028),\n",
       " ('171637', 1028),\n",
       " ('404057', 1028),\n",
       " ('289455', 1028),\n",
       " ('171639', 1028),\n",
       " ('243174', 1028),\n",
       " ('243175', 1028),\n",
       " ('243177', 1028),\n",
       " ('243176', 1028),\n",
       " ('243178', 1028),\n",
       " ('243179', 1028),\n",
       " ('259010', 1028),\n",
       " ('254752', 1028),\n",
       " ('254753', 1028),\n",
       " ('270384', 1028),\n",
       " ('238411', 1028),\n",
       " ('238412', 1028),\n",
       " ('238413', 1028),\n",
       " ('171640', 1028),\n",
       " ('313246', 1028),\n",
       " ('259048', 1028),\n",
       " ('259684', 1028),\n",
       " ('259685', 1028),\n",
       " ('259686', 1028),\n",
       " ('154326', 1028),\n",
       " ('138467', 1028),\n",
       " ('138468', 1028),\n",
       " ('138469', 1028),\n",
       " ('138470', 1028),\n",
       " ('138471', 1028),\n",
       " ('138472', 1028),\n",
       " ('215547', 1028),\n",
       " ('145923', 1028),\n",
       " ('145922', 1028),\n",
       " ('239874', 1028),\n",
       " ('239875', 1028),\n",
       " ('291557', 1028),\n",
       " ('254438', 1028),\n",
       " ('267286', 1028),\n",
       " ('320988', 1028),\n",
       " ('409091', 1028),\n",
       " ('320989', 1028),\n",
       " ('460626', 1028),\n",
       " ('460627', 1028),\n",
       " ('460625', 1028),\n",
       " ('460628', 1028),\n",
       " ('460629', 1028),\n",
       " ('460630', 1028),\n",
       " ('460631', 1028),\n",
       " ('524668', 1028),\n",
       " ('171104', 1028),\n",
       " ('171103', 1028),\n",
       " ('353181', 1028),\n",
       " ('353179', 1028),\n",
       " ('499405', 1028),\n",
       " ('499404', 1028),\n",
       " ...]"
      ]
     },
     "execution_count": 17,
     "metadata": {},
     "output_type": "execute_result"
    }
   ],
   "source": [
    "climb_id_list_iter[15]"
   ]
  },
  {
   "cell_type": "code",
   "execution_count": 18,
   "metadata": {
    "ExecuteTime": {
     "end_time": "2020-03-03T16:39:10.427079Z",
     "start_time": "2020-03-03T16:39:10.406100Z"
    }
   },
   "outputs": [
    {
     "ename": "KeyError",
     "evalue": "64394",
     "output_type": "error",
     "traceback": [
      "\u001b[0;31m---------------------------------------------------------------------------\u001b[0m",
      "\u001b[0;31mKeyError\u001b[0m                                  Traceback (most recent call last)",
      "\u001b[0;32m<ipython-input-18-5b00e6e87d6d>\u001b[0m in \u001b[0;36m<module>\u001b[0;34m\u001b[0m\n\u001b[0;32m----> 1\u001b[0;31m \u001b[0mclimb_dic\u001b[0m\u001b[0;34m[\u001b[0m\u001b[0;36m64394\u001b[0m\u001b[0;34m]\u001b[0m\u001b[0;34m\u001b[0m\u001b[0;34m\u001b[0m\u001b[0m\n\u001b[0m",
      "\u001b[0;31mKeyError\u001b[0m: 64394"
     ]
    }
   ],
   "source": [
    "climb_dic[64394]"
   ]
  },
  {
   "cell_type": "code",
   "execution_count": 20,
   "metadata": {
    "ExecuteTime": {
     "end_time": "2020-03-03T16:51:27.153152Z",
     "start_time": "2020-03-03T16:39:21.624327Z"
    }
   },
   "outputs": [],
   "source": [
    "#81/100\n",
    "itterations = climb_id_list_iter[50:52]\n",
    "for j,i in enumerate(itterations):\n",
    "    print(str(j)+\"/\"+str(len(itterations)))\n",
    "    p = Pool(5)\n",
    "    t = tqdm(p.imap(scrape_climb_info, i), total=len(i))\n",
    "    climb_list = list(t)\n",
    "    p.terminate()\n",
    "    p.join()\n",
    "    t.refresh()\n",
    "    t.reset()\n",
    "    for climb in climb_list:\n",
    "        if climb:\n",
    "            climb_dic[int(climb['id'])] = climb\n",
    "    clear_output()"
   ]
  },
  {
   "cell_type": "code",
   "execution_count": 21,
   "metadata": {
    "ExecuteTime": {
     "end_time": "2020-03-03T16:52:06.494463Z",
     "start_time": "2020-03-03T16:52:06.489125Z"
    }
   },
   "outputs": [
    {
     "data": {
      "text/plain": [
       "9916"
      ]
     },
     "execution_count": 21,
     "metadata": {},
     "output_type": "execute_result"
    }
   ],
   "source": [
    "len(climb_dic)"
   ]
  },
  {
   "cell_type": "code",
   "execution_count": 22,
   "metadata": {
    "ExecuteTime": {
     "end_time": "2020-03-03T16:52:07.900015Z",
     "start_time": "2020-03-03T16:52:07.895784Z"
    }
   },
   "outputs": [],
   "source": [
    "def return_climb_type(grade):\n",
    "    if 'f' in grade or re.match('V[0-9]+',grade):\n",
    "        return 'boulder'\n",
    "    if re.match('^[0-9][abc]\\+?$',grade) or re.match('^5\\.[0-9]+[abcd]?$',grade) :\n",
    "        return 'lead'\n",
    "    if re.match('^M|D|VD|HVD|S|HS|VS|HVS|E[0-9]+',grade):\n",
    "        return 'trad'\n",
    "    else:\n",
    "        return 'other'\n"
   ]
  },
  {
   "cell_type": "code",
   "execution_count": 23,
   "metadata": {
    "ExecuteTime": {
     "end_time": "2020-03-03T16:52:08.154498Z",
     "start_time": "2020-03-03T16:52:08.149998Z"
    }
   },
   "outputs": [],
   "source": [
    "def comments_flat(com_dic,desc):\n",
    "    flat = desc + ' '\n",
    "    for comment in com_dic:\n",
    "        flat += com_dic[comment] + ' '\n",
    "    return flat"
   ]
  },
  {
   "cell_type": "code",
   "execution_count": null,
   "metadata": {
    "ExecuteTime": {
     "end_time": "2020-02-24T14:07:52.889664Z",
     "start_time": "2020-02-24T14:07:51.292083Z"
    }
   },
   "outputs": [],
   "source": []
  },
  {
   "cell_type": "code",
   "execution_count": 24,
   "metadata": {
    "ExecuteTime": {
     "end_time": "2020-03-03T16:52:10.431975Z",
     "start_time": "2020-03-03T16:52:09.085276Z"
    }
   },
   "outputs": [
    {
     "data": {
      "text/plain": [
       "lead       4768\n",
       "boulder    2630\n",
       "other      1545\n",
       "trad        973\n",
       "Name: type, dtype: int64"
      ]
     },
     "execution_count": 24,
     "metadata": {},
     "output_type": "execute_result"
    }
   ],
   "source": [
    "df_climbs=pd.DataFrame(climb_dic).T\n",
    "df_climbs = df_climbs[~df_climbs.index.duplicated()]\n",
    "df_climbs['type'] = df_climbs['grade'].map(return_climb_type)\n",
    "df_climbs['comments_flat'] = df_climbs.apply(lambda x: comments_flat(x.logs,x.desc), axis=1)\n",
    "df_climbs['num_comments'] = df_climbs.apply(lambda x: x.num_comments+1 if x.desc else x.num_comments,axis=1)\n",
    "df_climbs.type.value_counts()"
   ]
  },
  {
   "cell_type": "code",
   "execution_count": 62,
   "metadata": {
    "ExecuteTime": {
     "end_time": "2020-02-24T23:26:51.988969Z",
     "start_time": "2020-02-24T23:26:51.985909Z"
    }
   },
   "outputs": [
    {
     "data": {
      "text/plain": [
       "492853"
      ]
     },
     "execution_count": 62,
     "metadata": {},
     "output_type": "execute_result"
    }
   ],
   "source": [
    "len(df_climbs)"
   ]
  },
  {
   "cell_type": "code",
   "execution_count": 63,
   "metadata": {
    "ExecuteTime": {
     "end_time": "2020-02-24T23:26:52.059091Z",
     "start_time": "2020-02-24T23:26:51.991007Z"
    }
   },
   "outputs": [
    {
     "data": {
      "text/plain": [
       "summit       4150\n",
       "VB           2334\n",
       "18            905\n",
       "17            863\n",
       "19            809\n",
       "             ... \n",
       "XI+             1\n",
       "III 5.6/7       1\n",
       "none 5×         1\n",
       "IV s            1\n",
       "7b s2/3         1\n",
       "Name: grade, Length: 711, dtype: int64"
      ]
     },
     "execution_count": 63,
     "metadata": {},
     "output_type": "execute_result"
    }
   ],
   "source": [
    "df_climbs[(df_climbs['type']=='other') & (df_climbs['num_comments']>0)]['grade'].value_counts()"
   ]
  },
  {
   "cell_type": "code",
   "execution_count": 23,
   "metadata": {
    "ExecuteTime": {
     "end_time": "2020-02-25T05:54:51.589862Z",
     "start_time": "2020-02-25T05:54:51.315426Z"
    }
   },
   "outputs": [],
   "source": [
    "user_list = [user for comment in df_climbs['logs'] for user in comment]"
   ]
  },
  {
   "cell_type": "code",
   "execution_count": 24,
   "metadata": {
    "ExecuteTime": {
     "end_time": "2020-02-25T05:54:51.597408Z",
     "start_time": "2020-02-25T05:54:51.592887Z"
    }
   },
   "outputs": [
    {
     "data": {
      "text/plain": [
       "4544978"
      ]
     },
     "execution_count": 24,
     "metadata": {},
     "output_type": "execute_result"
    }
   ],
   "source": [
    "len(user_list)"
   ]
  },
  {
   "cell_type": "code",
   "execution_count": 25,
   "metadata": {
    "ExecuteTime": {
     "end_time": "2020-02-25T05:54:53.032799Z",
     "start_time": "2020-02-25T05:54:51.599175Z"
    }
   },
   "outputs": [],
   "source": [
    "user_id_list = np.unique(user_list)"
   ]
  },
  {
   "cell_type": "code",
   "execution_count": 67,
   "metadata": {
    "ExecuteTime": {
     "end_time": "2020-02-24T23:26:54.028037Z",
     "start_time": "2020-02-24T23:26:54.024256Z"
    }
   },
   "outputs": [
    {
     "data": {
      "text/plain": [
       "33064"
      ]
     },
     "execution_count": 67,
     "metadata": {},
     "output_type": "execute_result"
    }
   ],
   "source": [
    "len(user_id_list)"
   ]
  },
  {
   "cell_type": "code",
   "execution_count": null,
   "metadata": {},
   "outputs": [],
   "source": []
  },
  {
   "cell_type": "code",
   "execution_count": 57,
   "metadata": {
    "ExecuteTime": {
     "end_time": "2020-02-25T11:04:56.013621Z",
     "start_time": "2020-02-25T10:24:02.016641Z"
    }
   },
   "outputs": [
    {
     "data": {
      "application/vnd.jupyter.widget-view+json": {
       "model_id": "365dd43cce574d6facd5a32809464238",
       "version_major": 2,
       "version_minor": 0
      },
      "text/plain": [
       "HBox(children=(FloatProgress(value=0.0, max=33065.0), HTML(value='')))"
      ]
     },
     "metadata": {},
     "output_type": "display_data"
    },
    {
     "name": "stdout",
     "output_type": "stream",
     "text": [
      "\n"
     ]
    }
   ],
   "source": [
    "\n",
    "p = Pool()\n",
    "user_list = list(tqdm(p.imap(get_user_ids, user_id_list), total=len(user_id_list)))\n",
    "p.terminate()\n",
    "p.join()\n",
    "user_dic = {}\n",
    "for user in user_list:\n",
    "    if user:\n",
    "        user_dic[int(user['id'])] = user\n",
    "df_users = pd.DataFrame(user_dic).T"
   ]
  },
  {
   "cell_type": "code",
   "execution_count": 59,
   "metadata": {
    "ExecuteTime": {
     "end_time": "2020-02-25T11:28:48.594550Z",
     "start_time": "2020-02-25T11:28:48.587981Z"
    }
   },
   "outputs": [
    {
     "data": {
      "text/plain": [
       "33062"
      ]
     },
     "execution_count": 59,
     "metadata": {},
     "output_type": "execute_result"
    }
   ],
   "source": [
    "len(df_users)"
   ]
  },
  {
   "cell_type": "code",
   "execution_count": 111,
   "metadata": {
    "ExecuteTime": {
     "end_time": "2020-02-25T11:42:16.675830Z",
     "start_time": "2020-02-25T11:41:30.924510Z"
    }
   },
   "outputs": [
    {
     "data": {
      "application/vnd.jupyter.widget-view+json": {
       "model_id": "97c784623aa44a57bcf768fc61203a57",
       "version_major": 2,
       "version_minor": 0
      },
      "text/plain": [
       "HBox(children=(FloatProgress(value=1.0, bar_style='info', max=1.0), HTML(value='')))"
      ]
     },
     "metadata": {},
     "output_type": "display_data"
    },
    {
     "name": "stdout",
     "output_type": "stream",
     "text": [
      "\n"
     ]
    },
    {
     "data": {
      "text/plain": [
       "33065"
      ]
     },
     "execution_count": 111,
     "metadata": {},
     "output_type": "execute_result"
    }
   ],
   "source": [
    "users_climbs_dic = {}\n",
    "rows = df_climbs.iterrows()\n",
    "for climb in tqdm(rows):\n",
    "    for log in climb[1].logs:\n",
    "        try:\n",
    "            users_climbs_dic[int(log)].append(climb[0])\n",
    "        except:\n",
    "            users_climbs_dic[int(log)] = [climb[0]]\n",
    "        \n",
    "len(users_climbs_dic)"
   ]
  },
  {
   "cell_type": "code",
   "execution_count": 112,
   "metadata": {
    "ExecuteTime": {
     "end_time": "2020-02-25T11:42:16.812680Z",
     "start_time": "2020-02-25T11:42:16.678111Z"
    }
   },
   "outputs": [],
   "source": [
    "df_users['climbs'] = pd.Series(users_climbs_dic)"
   ]
  },
  {
   "cell_type": "code",
   "execution_count": 114,
   "metadata": {
    "ExecuteTime": {
     "end_time": "2020-02-25T11:44:50.814534Z",
     "start_time": "2020-02-25T11:44:50.774124Z"
    }
   },
   "outputs": [],
   "source": [
    "df_users['num_climbs']=df_users.climbs.map(lambda x:len(x))"
   ]
  },
  {
   "cell_type": "code",
   "execution_count": 115,
   "metadata": {
    "ExecuteTime": {
     "end_time": "2020-02-25T11:44:53.560955Z",
     "start_time": "2020-02-25T11:44:53.535451Z"
    }
   },
   "outputs": [
    {
     "data": {
      "text/html": [
       "<div>\n",
       "<style scoped>\n",
       "    .dataframe tbody tr th:only-of-type {\n",
       "        vertical-align: middle;\n",
       "    }\n",
       "\n",
       "    .dataframe tbody tr th {\n",
       "        vertical-align: top;\n",
       "    }\n",
       "\n",
       "    .dataframe thead th {\n",
       "        text-align: right;\n",
       "    }\n",
       "</style>\n",
       "<table border=\"1\" class=\"dataframe\">\n",
       "  <thead>\n",
       "    <tr style=\"text-align: right;\">\n",
       "      <th></th>\n",
       "      <th>id</th>\n",
       "      <th>logbook_url</th>\n",
       "      <th>profile_url</th>\n",
       "      <th>username</th>\n",
       "      <th>climbs</th>\n",
       "      <th>num_climbs</th>\n",
       "    </tr>\n",
       "  </thead>\n",
       "  <tbody>\n",
       "    <tr>\n",
       "      <th>100002</th>\n",
       "      <td>100002</td>\n",
       "      <td>https://www.ukclimbing.com/logbook/showlog.php...</td>\n",
       "      <td>https://www.ukclimbing.com/user/profile.php?id...</td>\n",
       "      <td>Stephanelericolais</td>\n",
       "      <td>[42012, 18853, 147314]</td>\n",
       "      <td>3</td>\n",
       "    </tr>\n",
       "    <tr>\n",
       "      <th>10002</th>\n",
       "      <td>10002</td>\n",
       "      <td>https://www.ukclimbing.com/logbook/showlog.php...</td>\n",
       "      <td>https://www.ukclimbing.com/user/profile.php?id...</td>\n",
       "      <td>Piers Harley</td>\n",
       "      <td>[8359, 10726, 10731, 10732, 10735, 10744, 1077...</td>\n",
       "      <td>325</td>\n",
       "    </tr>\n",
       "    <tr>\n",
       "      <th>100025</th>\n",
       "      <td>100025</td>\n",
       "      <td>https://www.ukclimbing.com/logbook/showlog.php...</td>\n",
       "      <td>https://www.ukclimbing.com/user/profile.php?id...</td>\n",
       "      <td>george5699</td>\n",
       "      <td>[31435, 33329, 40976, 42231, 86139, 35261, 352...</td>\n",
       "      <td>15</td>\n",
       "    </tr>\n",
       "    <tr>\n",
       "      <th>100031</th>\n",
       "      <td>100031</td>\n",
       "      <td>https://www.ukclimbing.com/logbook/showlog.php...</td>\n",
       "      <td>https://www.ukclimbing.com/user/profile.php?id...</td>\n",
       "      <td>Tak</td>\n",
       "      <td>[10917, 10941, 10969, 10971, 10328, 10342, 103...</td>\n",
       "      <td>16</td>\n",
       "    </tr>\n",
       "    <tr>\n",
       "      <th>100045</th>\n",
       "      <td>100045</td>\n",
       "      <td>https://www.ukclimbing.com/logbook/showlog.php...</td>\n",
       "      <td>https://www.ukclimbing.com/user/profile.php?id...</td>\n",
       "      <td>smeaton</td>\n",
       "      <td>[10729, 10731, 10735, 10814, 10816, 10837, 108...</td>\n",
       "      <td>46</td>\n",
       "    </tr>\n",
       "    <tr>\n",
       "      <th>...</th>\n",
       "      <td>...</td>\n",
       "      <td>...</td>\n",
       "      <td>...</td>\n",
       "      <td>...</td>\n",
       "      <td>...</td>\n",
       "      <td>...</td>\n",
       "    </tr>\n",
       "    <tr>\n",
       "      <th>99962</th>\n",
       "      <td>99962</td>\n",
       "      <td>https://www.ukclimbing.com/logbook/showlog.php...</td>\n",
       "      <td>https://www.ukclimbing.com/user/profile.php?id...</td>\n",
       "      <td>spilla</td>\n",
       "      <td>[10370, 14060, 14061, 51492, 14062, 14063, 140...</td>\n",
       "      <td>19</td>\n",
       "    </tr>\n",
       "    <tr>\n",
       "      <th>99967</th>\n",
       "      <td>99967</td>\n",
       "      <td>https://www.ukclimbing.com/logbook/showlog.php...</td>\n",
       "      <td>https://www.ukclimbing.com/user/profile.php?id...</td>\n",
       "      <td>Andrewbirkett</td>\n",
       "      <td>[33152, 33154, 33286, 35960, 33289, 104598, 37...</td>\n",
       "      <td>68</td>\n",
       "    </tr>\n",
       "    <tr>\n",
       "      <th>99978</th>\n",
       "      <td>99978</td>\n",
       "      <td>https://www.ukclimbing.com/logbook/showlog.php...</td>\n",
       "      <td>https://www.ukclimbing.com/user/profile.php?id...</td>\n",
       "      <td>Jamie Nobbs</td>\n",
       "      <td>[8349, 8351, 8354, 4662, 4684, 34668, 4694, 47...</td>\n",
       "      <td>74</td>\n",
       "    </tr>\n",
       "    <tr>\n",
       "      <th>99997</th>\n",
       "      <td>99997</td>\n",
       "      <td>https://www.ukclimbing.com/logbook/showlog.php...</td>\n",
       "      <td>https://www.ukclimbing.com/user/profile.php?id...</td>\n",
       "      <td>nevets</td>\n",
       "      <td>[11041, 10893, 10894, 10241, 10245, 10252, 102...</td>\n",
       "      <td>28</td>\n",
       "    </tr>\n",
       "    <tr>\n",
       "      <th>99999</th>\n",
       "      <td>99999</td>\n",
       "      <td>https://www.ukclimbing.com/logbook/showlog.php...</td>\n",
       "      <td>https://www.ukclimbing.com/user/profile.php?id...</td>\n",
       "      <td>duncfunk</td>\n",
       "      <td>[452651, 32723, 45132, 47223, 47272, 125727, 2...</td>\n",
       "      <td>243</td>\n",
       "    </tr>\n",
       "  </tbody>\n",
       "</table>\n",
       "<p>33062 rows × 6 columns</p>\n",
       "</div>"
      ],
      "text/plain": [
       "            id                                        logbook_url  \\\n",
       "100002  100002  https://www.ukclimbing.com/logbook/showlog.php...   \n",
       "10002    10002  https://www.ukclimbing.com/logbook/showlog.php...   \n",
       "100025  100025  https://www.ukclimbing.com/logbook/showlog.php...   \n",
       "100031  100031  https://www.ukclimbing.com/logbook/showlog.php...   \n",
       "100045  100045  https://www.ukclimbing.com/logbook/showlog.php...   \n",
       "...        ...                                                ...   \n",
       "99962    99962  https://www.ukclimbing.com/logbook/showlog.php...   \n",
       "99967    99967  https://www.ukclimbing.com/logbook/showlog.php...   \n",
       "99978    99978  https://www.ukclimbing.com/logbook/showlog.php...   \n",
       "99997    99997  https://www.ukclimbing.com/logbook/showlog.php...   \n",
       "99999    99999  https://www.ukclimbing.com/logbook/showlog.php...   \n",
       "\n",
       "                                              profile_url            username  \\\n",
       "100002  https://www.ukclimbing.com/user/profile.php?id...  Stephanelericolais   \n",
       "10002   https://www.ukclimbing.com/user/profile.php?id...        Piers Harley   \n",
       "100025  https://www.ukclimbing.com/user/profile.php?id...          george5699   \n",
       "100031  https://www.ukclimbing.com/user/profile.php?id...                 Tak   \n",
       "100045  https://www.ukclimbing.com/user/profile.php?id...             smeaton   \n",
       "...                                                   ...                 ...   \n",
       "99962   https://www.ukclimbing.com/user/profile.php?id...              spilla   \n",
       "99967   https://www.ukclimbing.com/user/profile.php?id...       Andrewbirkett   \n",
       "99978   https://www.ukclimbing.com/user/profile.php?id...         Jamie Nobbs   \n",
       "99997   https://www.ukclimbing.com/user/profile.php?id...              nevets   \n",
       "99999   https://www.ukclimbing.com/user/profile.php?id...            duncfunk   \n",
       "\n",
       "                                                   climbs  num_climbs  \n",
       "100002                             [42012, 18853, 147314]           3  \n",
       "10002   [8359, 10726, 10731, 10732, 10735, 10744, 1077...         325  \n",
       "100025  [31435, 33329, 40976, 42231, 86139, 35261, 352...          15  \n",
       "100031  [10917, 10941, 10969, 10971, 10328, 10342, 103...          16  \n",
       "100045  [10729, 10731, 10735, 10814, 10816, 10837, 108...          46  \n",
       "...                                                   ...         ...  \n",
       "99962   [10370, 14060, 14061, 51492, 14062, 14063, 140...          19  \n",
       "99967   [33152, 33154, 33286, 35960, 33289, 104598, 37...          68  \n",
       "99978   [8349, 8351, 8354, 4662, 4684, 34668, 4694, 47...          74  \n",
       "99997   [11041, 10893, 10894, 10241, 10245, 10252, 102...          28  \n",
       "99999   [452651, 32723, 45132, 47223, 47272, 125727, 2...         243  \n",
       "\n",
       "[33062 rows x 6 columns]"
      ]
     },
     "execution_count": 115,
     "metadata": {},
     "output_type": "execute_result"
    }
   ],
   "source": [
    "df_users"
   ]
  },
  {
   "cell_type": "markdown",
   "metadata": {},
   "source": [
    "# Write SQL"
   ]
  },
  {
   "cell_type": "code",
   "execution_count": 116,
   "metadata": {
    "ExecuteTime": {
     "end_time": "2020-02-25T11:44:59.761327Z",
     "start_time": "2020-02-25T11:44:59.723040Z"
    }
   },
   "outputs": [],
   "source": [
    "from sqlalchemy import create_engine\n",
    "db_user = 'postgres'\n",
    "# if you need a password to access a database, put it here\n",
    "db_password = ''\n",
    "# on your computer, use localhost\n",
    "db_host = 'localhost'\n",
    "# the default port for postgres is 5432\n",
    "db_port = 5432\n",
    "# we want to connect to the northwind database\n",
    "database = 'climbing'\n",
    "\n",
    "conn_str = f'postgresql://{db_user}:{db_password}@{db_host}:{db_port}/{database}'\n",
    "connection = create_engine(conn_str)"
   ]
  },
  {
   "cell_type": "code",
   "execution_count": 25,
   "metadata": {
    "ExecuteTime": {
     "end_time": "2020-03-03T16:52:28.279948Z",
     "start_time": "2020-03-03T16:52:26.067321Z"
    }
   },
   "outputs": [],
   "source": [
    "# df_climbs['logs_flat'] = [repr(comment) for comment in df_climbs['logs']]\n",
    "# df_climbs.drop('logs',axis=1).to_sql('climbs',connection,if_exists='replace')"
   ]
  },
  {
   "cell_type": "code",
   "execution_count": 117,
   "metadata": {
    "ExecuteTime": {
     "end_time": "2020-02-25T11:45:11.583595Z",
     "start_time": "2020-02-25T11:45:02.295878Z"
    }
   },
   "outputs": [],
   "source": [
    "df_users['climbs_flat'] = [repr(climb) for climb in df_users['climbs']]\n",
    "df_users.drop('climbs',axis=1).to_sql('users',connection,if_exists='replace')"
   ]
  },
  {
   "cell_type": "code",
   "execution_count": null,
   "metadata": {
    "ExecuteTime": {
     "end_time": "2020-02-07T12:11:45.915395Z",
     "start_time": "2020-02-07T12:11:42.432807Z"
    }
   },
   "outputs": [],
   "source": [
    "# df_crags['climbs_flat'] = [repr(climb) for climb in df_crags['climb_list']]\n",
    "# df_crags.drop('climb_list',axis=1).to_sql('crags',connection,if_exists='replace')"
   ]
  },
  {
   "cell_type": "code",
   "execution_count": null,
   "metadata": {
    "ExecuteTime": {
     "end_time": "2020-02-07T12:11:46.517101Z",
     "start_time": "2020-02-07T12:11:45.917683Z"
    }
   },
   "outputs": [],
   "source": [
    "df_crags.to_csv('crags.csv')"
   ]
  },
  {
   "cell_type": "markdown",
   "metadata": {},
   "source": [
    "# Read from SQL Here"
   ]
  },
  {
   "cell_type": "code",
   "execution_count": 8,
   "metadata": {
    "ExecuteTime": {
     "end_time": "2020-03-03T16:38:46.234399Z",
     "start_time": "2020-03-03T16:38:46.022532Z"
    }
   },
   "outputs": [],
   "source": [
    "from sqlalchemy import create_engine\n",
    "db_user = 'postgres'\n",
    "# if you need a password to access a database, put it here\n",
    "db_password = ''\n",
    "# on your computer, use localhost\n",
    "db_host = 'localhost'\n",
    "# the default port for postgres is 5432\n",
    "db_port = 5432\n",
    "# we want to connect to the northwind database\n",
    "database = 'climbing'\n",
    "\n",
    "conn_str = f'postgresql://{db_user}:{db_password}@{db_host}:{db_port}/{database}'\n",
    "connection = create_engine(conn_str)"
   ]
  },
  {
   "cell_type": "code",
   "execution_count": null,
   "metadata": {
    "ExecuteTime": {
     "end_time": "2020-02-20T15:03:25.193488Z",
     "start_time": "2020-02-20T15:03:08.863432Z"
    }
   },
   "outputs": [],
   "source": [
    "df_climbs_sql = pd.read_sql('select * from climbs',connection,index_col='index')\n",
    "df_climbs_sql['logs'] = [eval(flat) for flat in df_climbs_sql['logs_flat']]\n",
    "df_climbs_sql = df_climbs_sql.drop('logs_flat',axis=1)"
   ]
  },
  {
   "cell_type": "code",
   "execution_count": null,
   "metadata": {
    "ExecuteTime": {
     "end_time": "2020-02-20T15:03:29.548439Z",
     "start_time": "2020-02-20T15:03:29.546028Z"
    }
   },
   "outputs": [],
   "source": [
    "df_climbs=df_climbs_sql"
   ]
  },
  {
   "cell_type": "code",
   "execution_count": null,
   "metadata": {
    "ExecuteTime": {
     "end_time": "2020-02-20T15:03:25.202294Z",
     "start_time": "2020-02-20T15:03:25.195870Z"
    }
   },
   "outputs": [],
   "source": [
    "len(df_climbs_sql)"
   ]
  },
  {
   "cell_type": "code",
   "execution_count": 9,
   "metadata": {
    "ExecuteTime": {
     "end_time": "2020-03-03T16:38:50.941180Z",
     "start_time": "2020-03-03T16:38:48.575659Z"
    }
   },
   "outputs": [],
   "source": [
    "df_crags_sql = pd.read_sql('select * from crags',connection,index_col='index')\n",
    "df_crags_sql['climb_list'] = [eval(flat) for flat in df_crags_sql['climbs_flat']]\n",
    "df_crags_sql = df_crags_sql.drop('climbs_flat',axis=1)\n",
    "df_crags_sql\n",
    "\n",
    "df_crags = df_crags_sql"
   ]
  },
  {
   "cell_type": "code",
   "execution_count": null,
   "metadata": {
    "ExecuteTime": {
     "end_time": "2020-02-07T14:00:15.552596Z",
     "start_time": "2020-02-07T14:00:15.509760Z"
    }
   },
   "outputs": [],
   "source": [
    "df_users_sql = pd.read_sql('select * from users',connection,index_col='index')\n",
    "df_users_sql['climbs'] = [eval(flat) for flat in df_users_sql['climbs_flat']]\n",
    "df_users_sql = df_users_sql.drop('climbs_flat',axis=1)\n",
    "df_users_sql"
   ]
  },
  {
   "cell_type": "code",
   "execution_count": null,
   "metadata": {
    "ExecuteTime": {
     "end_time": "2020-02-07T12:17:01.334252Z",
     "start_time": "2020-02-07T12:17:01.222403Z"
    }
   },
   "outputs": [],
   "source": [
    "df_crags_sql.head()"
   ]
  },
  {
   "cell_type": "code",
   "execution_count": null,
   "metadata": {
    "ExecuteTime": {
     "end_time": "2020-02-07T12:14:25.965589Z",
     "start_time": "2020-02-07T12:14:25.928471Z"
    }
   },
   "outputs": [],
   "source": [
    "df_crags_sql.describe()"
   ]
  },
  {
   "cell_type": "code",
   "execution_count": null,
   "metadata": {
    "ExecuteTime": {
     "end_time": "2020-02-07T12:07:34.523395Z",
     "start_time": "2020-02-07T12:07:34.501368Z"
    }
   },
   "outputs": [],
   "source": [
    "df_crags_sql[df_crags_sql['climbs']==0]"
   ]
  },
  {
   "cell_type": "code",
   "execution_count": null,
   "metadata": {
    "ExecuteTime": {
     "end_time": "2020-02-06T11:26:42.173558Z",
     "start_time": "2020-02-06T11:26:42.163014Z"
    }
   },
   "outputs": [],
   "source": []
  },
  {
   "cell_type": "code",
   "execution_count": null,
   "metadata": {
    "ExecuteTime": {
     "end_time": "2020-02-06T11:35:44.522056Z",
     "start_time": "2020-02-06T11:35:44.064627Z"
    }
   },
   "outputs": [],
   "source": [
    "ninetyfive = scrape_crag_info('1652')"
   ]
  },
  {
   "cell_type": "code",
   "execution_count": null,
   "metadata": {
    "ExecuteTime": {
     "end_time": "2020-02-06T12:10:49.086662Z",
     "start_time": "2020-02-06T12:10:47.364007Z"
    }
   },
   "outputs": [],
   "source": [
    "climb = scrape_climb_info(('30358','1652'))\n",
    "from sklearn.feature_extraction.text import CountVectorizer\n",
    "from vaderSentiment.vaderSentiment import SentimentIntensityAnalyzer\n",
    "comments = climb['comments']\n",
    "\n",
    "c_vec = cv.fit_transform(comments)"
   ]
  },
  {
   "cell_type": "code",
   "execution_count": null,
   "metadata": {
    "ExecuteTime": {
     "end_time": "2020-02-06T12:10:50.123525Z",
     "start_time": "2020-02-06T12:10:50.118477Z"
    }
   },
   "outputs": [],
   "source": [
    "c_vec_df = pd.DataFrame(c_vec.asformat('array'),columns=cv.get_feature_names())"
   ]
  },
  {
   "cell_type": "code",
   "execution_count": null,
   "metadata": {
    "ExecuteTime": {
     "end_time": "2020-02-06T12:10:50.336514Z",
     "start_time": "2020-02-06T12:10:50.299604Z"
    }
   },
   "outputs": [],
   "source": [
    "SIA = SentimentIntensityAnalyzer()\n",
    "sentiment = []\n",
    "for t in cv.get_feature_names():\n",
    "    sentiment.append(SIA.polarity_scores(t))\n",
    "\n",
    "df = pd.DataFrame(c_vec_df.sum(),columns=['count'])\n",
    "df['neg'] = [i['neg'] for i in sentiment]\n",
    "df['neu'] = [i['neu'] for i in sentiment]\n",
    "df['pos'] = [i['pos'] for i in sentiment]\n",
    "df['compound'] = [i['compound'] for i in sentiment]"
   ]
  },
  {
   "cell_type": "code",
   "execution_count": null,
   "metadata": {
    "ExecuteTime": {
     "end_time": "2020-02-06T15:25:37.045479Z",
     "start_time": "2020-02-06T15:25:36.971919Z"
    }
   },
   "outputs": [],
   "source": [
    "df_crags_sql.mean()"
   ]
  },
  {
   "cell_type": "code",
   "execution_count": null,
   "metadata": {
    "ExecuteTime": {
     "end_time": "2020-02-06T12:48:14.291290Z",
     "start_time": "2020-02-06T12:48:14.103549Z"
    }
   },
   "outputs": [],
   "source": []
  },
  {
   "cell_type": "code",
   "execution_count": null,
   "metadata": {
    "ExecuteTime": {
     "end_time": "2020-02-06T12:29:32.945447Z",
     "start_time": "2020-02-06T12:29:32.912477Z"
    }
   },
   "outputs": [],
   "source": [
    "from sklearn.cluster import KMeans\n",
    "\n",
    "km = KMeans(n_clusters=6)\n",
    "\n"
   ]
  },
  {
   "cell_type": "code",
   "execution_count": null,
   "metadata": {
    "ExecuteTime": {
     "end_time": "2020-02-06T12:29:44.710244Z",
     "start_time": "2020-02-06T12:29:44.705354Z"
    }
   },
   "outputs": [],
   "source": [
    "km.labels_"
   ]
  },
  {
   "cell_type": "markdown",
   "metadata": {},
   "source": [
    "# Climbing Dic"
   ]
  },
  {
   "cell_type": "code",
   "execution_count": null,
   "metadata": {
    "ExecuteTime": {
     "end_time": "2020-02-11T11:18:05.826177Z",
     "start_time": "2020-02-11T11:18:05.424755Z"
    }
   },
   "outputs": [],
   "source": [
    "wiki = \"https://en.wikipedia.org/wiki/Glossary_of_climbing_terms\"\n",
    "\n",
    "r = requests.get(wiki)\n",
    "soup = BeautifulSoup(r.text,'html.parser')\n",
    "body = soup.find('div',attrs={'class':'mw-parser-output'})\n",
    "list_of_words = [word.text.replace('\\n','') for word in body.find_all('p')[3:]]"
   ]
  },
  {
   "cell_type": "code",
   "execution_count": null,
   "metadata": {
    "ExecuteTime": {
     "end_time": "2020-02-11T11:27:22.558477Z",
     "start_time": "2020-02-11T11:27:22.548490Z"
    }
   },
   "outputs": [],
   "source": []
  },
  {
   "cell_type": "code",
   "execution_count": null,
   "metadata": {
    "ExecuteTime": {
     "end_time": "2020-02-11T11:28:53.583798Z",
     "start_time": "2020-02-11T11:28:53.576201Z"
    }
   },
   "outputs": [],
   "source": [
    "list_of_words\n"
   ]
  },
  {
   "cell_type": "code",
   "execution_count": null,
   "metadata": {},
   "outputs": [],
   "source": []
  }
 ],
 "metadata": {
  "kernelspec": {
   "display_name": "Python 3",
   "language": "python",
   "name": "python3"
  },
  "language_info": {
   "codemirror_mode": {
    "name": "ipython",
    "version": 3
   },
   "file_extension": ".py",
   "mimetype": "text/x-python",
   "name": "python",
   "nbconvert_exporter": "python",
   "pygments_lexer": "ipython3",
   "version": "3.7.6"
  }
 },
 "nbformat": 4,
 "nbformat_minor": 2
}
