{
 "cells": [
  {
   "cell_type": "code",
   "execution_count": 1,
   "metadata": {
    "ExecuteTime": {
     "end_time": "2020-03-05T10:55:23.888809Z",
     "start_time": "2020-03-05T10:55:21.987070Z"
    }
   },
   "outputs": [],
   "source": [
    "import pandas as pd\n",
    "import seaborn as sns\n",
    "import numpy as np\n",
    "from pandas.io import sql\n",
    "from sqlalchemy import create_engine\n",
    "import csv\n",
    "from tqdm.notebook import tqdm\n",
    "import matplotlib.pyplot as plt"
   ]
  },
  {
   "cell_type": "code",
   "execution_count": 2,
   "metadata": {
    "ExecuteTime": {
     "end_time": "2020-03-05T10:55:23.897617Z",
     "start_time": "2020-03-05T10:55:23.891542Z"
    }
   },
   "outputs": [
    {
     "name": "stderr",
     "output_type": "stream",
     "text": [
      "/Users/max/opt/anaconda3/lib/python3.7/site-packages/tqdm/std.py:658: FutureWarning: The Panel class is removed from pandas. Accessing it from the top-level namespace will also be removed in the next version\n",
      "  from pandas import Panel\n"
     ]
    }
   ],
   "source": [
    "tqdm.pandas()"
   ]
  },
  {
   "cell_type": "code",
   "execution_count": 3,
   "metadata": {
    "ExecuteTime": {
     "end_time": "2020-03-05T10:55:23.953183Z",
     "start_time": "2020-03-05T10:55:23.900731Z"
    }
   },
   "outputs": [],
   "source": [
    "db_user = 'postgres'\n",
    "db_password = ''\n",
    "db_host = 'localhost'\n",
    "db_port = 5432\n",
    "database = 'climbing'\n",
    "\n",
    "conn_str = f'postgresql://{db_user}:{db_password}@{db_host}:{db_port}/{database}'\n",
    "connection = create_engine(conn_str)"
   ]
  },
  {
   "cell_type": "code",
   "execution_count": 4,
   "metadata": {
    "ExecuteTime": {
     "end_time": "2020-03-05T10:55:28.863036Z",
     "start_time": "2020-03-05T10:55:23.955408Z"
    }
   },
   "outputs": [],
   "source": [
    "df_users_sql = pd.read_sql('select * from users',connection,index_col='index')\n",
    "df_users_sql['climbs'] = [eval(flat) for flat in df_users_sql['climbs_flat']]\n",
    "df_users_sql = df_users_sql.drop('climbs_flat',axis=1)\n",
    "df_users=df_users_sql"
   ]
  },
  {
   "cell_type": "code",
   "execution_count": 5,
   "metadata": {
    "ExecuteTime": {
     "end_time": "2020-03-05T10:55:30.747022Z",
     "start_time": "2020-03-05T10:55:28.865097Z"
    }
   },
   "outputs": [
    {
     "data": {
      "text/html": [
       "<div>\n",
       "<style scoped>\n",
       "    .dataframe tbody tr th:only-of-type {\n",
       "        vertical-align: middle;\n",
       "    }\n",
       "\n",
       "    .dataframe tbody tr th {\n",
       "        vertical-align: top;\n",
       "    }\n",
       "\n",
       "    .dataframe thead th {\n",
       "        text-align: right;\n",
       "    }\n",
       "</style>\n",
       "<table border=\"1\" class=\"dataframe\">\n",
       "  <thead>\n",
       "    <tr style=\"text-align: right;\">\n",
       "      <th></th>\n",
       "      <th>url</th>\n",
       "      <th>cragname</th>\n",
       "      <th>climbs</th>\n",
       "      <th>rocktype</th>\n",
       "      <th>altitude</th>\n",
       "      <th>faces</th>\n",
       "      <th>lat</th>\n",
       "      <th>long</th>\n",
       "      <th>climb_list</th>\n",
       "    </tr>\n",
       "    <tr>\n",
       "      <th>index</th>\n",
       "      <th></th>\n",
       "      <th></th>\n",
       "      <th></th>\n",
       "      <th></th>\n",
       "      <th></th>\n",
       "      <th></th>\n",
       "      <th></th>\n",
       "      <th></th>\n",
       "      <th></th>\n",
       "    </tr>\n",
       "  </thead>\n",
       "  <tbody>\n",
       "    <tr>\n",
       "      <th>4</th>\n",
       "      <td>https://www.ukclimbing.com/logbook/crag.php?id=4</td>\n",
       "      <td>Dinas Cromlech</td>\n",
       "      <td>79</td>\n",
       "      <td>Rhyolite</td>\n",
       "      <td>500.0</td>\n",
       "      <td>S</td>\n",
       "      <td>53.0917</td>\n",
       "      <td>-4.0489</td>\n",
       "      <td>[(3166, 0), (3167, 0), (3168, 3), (3169, 1), (...</td>\n",
       "    </tr>\n",
       "    <tr>\n",
       "      <th>5</th>\n",
       "      <td>https://www.ukclimbing.com/logbook/crag.php?id=5</td>\n",
       "      <td>Bus Stop Quarry</td>\n",
       "      <td>115</td>\n",
       "      <td>Slate</td>\n",
       "      <td>450.0</td>\n",
       "      <td>None</td>\n",
       "      <td>53.1294</td>\n",
       "      <td>-4.1058</td>\n",
       "      <td>[(141016, 1), (136481, 1), (134391, 1), (1309,...</td>\n",
       "    </tr>\n",
       "    <tr>\n",
       "      <th>6</th>\n",
       "      <td>https://www.ukclimbing.com/logbook/crag.php?id=6</td>\n",
       "      <td>Craig Pant Ifan (Tremadog)</td>\n",
       "      <td>176</td>\n",
       "      <td>Dolerite</td>\n",
       "      <td>NaN</td>\n",
       "      <td>S</td>\n",
       "      <td>52.9436</td>\n",
       "      <td>-4.1311</td>\n",
       "      <td>[(152703, 0), (100182, 1), (2561, 2), (2562, 2...</td>\n",
       "    </tr>\n",
       "    <tr>\n",
       "      <th>7</th>\n",
       "      <td>https://www.ukclimbing.com/logbook/crag.php?id=7</td>\n",
       "      <td>St. Govan's Head</td>\n",
       "      <td>151</td>\n",
       "      <td>Limestone</td>\n",
       "      <td>12.0</td>\n",
       "      <td>SW</td>\n",
       "      <td>51.5977</td>\n",
       "      <td>-4.9277</td>\n",
       "      <td>[(401447, 0), (138693, 1), (58187, 1), (150671...</td>\n",
       "    </tr>\n",
       "    <tr>\n",
       "      <th>8</th>\n",
       "      <td>https://www.ukclimbing.com/logbook/crag.php?id=8</td>\n",
       "      <td>Carreg-y-Barcud Area</td>\n",
       "      <td>128</td>\n",
       "      <td>Sandstone (hard)</td>\n",
       "      <td>13.0</td>\n",
       "      <td>S</td>\n",
       "      <td>51.8719</td>\n",
       "      <td>-5.2350</td>\n",
       "      <td>[(503566, 0), (503567, 0), (503568, 0), (50356...</td>\n",
       "    </tr>\n",
       "    <tr>\n",
       "      <th>...</th>\n",
       "      <td>...</td>\n",
       "      <td>...</td>\n",
       "      <td>...</td>\n",
       "      <td>...</td>\n",
       "      <td>...</td>\n",
       "      <td>...</td>\n",
       "      <td>...</td>\n",
       "      <td>...</td>\n",
       "      <td>...</td>\n",
       "    </tr>\n",
       "    <tr>\n",
       "      <th>27429</th>\n",
       "      <td>https://www.ukclimbing.com/logbook/crag.php?id...</td>\n",
       "      <td>Gap Bon ami boulders</td>\n",
       "      <td>0</td>\n",
       "      <td>UNKNOWN</td>\n",
       "      <td>NaN</td>\n",
       "      <td>None</td>\n",
       "      <td>48.8067</td>\n",
       "      <td>-64.2198</td>\n",
       "      <td>[]</td>\n",
       "    </tr>\n",
       "    <tr>\n",
       "      <th>27430</th>\n",
       "      <td>https://www.ukclimbing.com/logbook/crag.php?id...</td>\n",
       "      <td>Metal Expert</td>\n",
       "      <td>8</td>\n",
       "      <td>UNKNOWN</td>\n",
       "      <td>NaN</td>\n",
       "      <td>None</td>\n",
       "      <td>45.5454</td>\n",
       "      <td>25.5181</td>\n",
       "      <td>[(560519, 3), (560520, 3), (560521, 0), (56052...</td>\n",
       "    </tr>\n",
       "    <tr>\n",
       "      <th>27431</th>\n",
       "      <td>https://www.ukclimbing.com/logbook/crag.php?id...</td>\n",
       "      <td>Las Palomas</td>\n",
       "      <td>3</td>\n",
       "      <td>UNKNOWN</td>\n",
       "      <td>NaN</td>\n",
       "      <td>None</td>\n",
       "      <td>28.1159</td>\n",
       "      <td>-16.5589</td>\n",
       "      <td>[(560451, 2), (560452, 2), (560453, 2)]</td>\n",
       "    </tr>\n",
       "    <tr>\n",
       "      <th>27432</th>\n",
       "      <td>https://www.ukclimbing.com/logbook/crag.php?id...</td>\n",
       "      <td>Corral de Vacos</td>\n",
       "      <td>62</td>\n",
       "      <td>UNKNOWN</td>\n",
       "      <td>NaN</td>\n",
       "      <td>None</td>\n",
       "      <td>39.5282</td>\n",
       "      <td>-0.8342</td>\n",
       "      <td>[(560454, 0), (560455, 0), (560456, 0), (56045...</td>\n",
       "    </tr>\n",
       "    <tr>\n",
       "      <th>27434</th>\n",
       "      <td>https://www.ukclimbing.com/logbook/crag.php?id...</td>\n",
       "      <td>Elsie's Peak</td>\n",
       "      <td>0</td>\n",
       "      <td>UNKNOWN</td>\n",
       "      <td>NaN</td>\n",
       "      <td>None</td>\n",
       "      <td>-34.1501</td>\n",
       "      <td>18.4355</td>\n",
       "      <td>[]</td>\n",
       "    </tr>\n",
       "  </tbody>\n",
       "</table>\n",
       "<p>19749 rows × 9 columns</p>\n",
       "</div>"
      ],
      "text/plain": [
       "                                                     url  \\\n",
       "index                                                      \n",
       "4       https://www.ukclimbing.com/logbook/crag.php?id=4   \n",
       "5       https://www.ukclimbing.com/logbook/crag.php?id=5   \n",
       "6       https://www.ukclimbing.com/logbook/crag.php?id=6   \n",
       "7       https://www.ukclimbing.com/logbook/crag.php?id=7   \n",
       "8       https://www.ukclimbing.com/logbook/crag.php?id=8   \n",
       "...                                                  ...   \n",
       "27429  https://www.ukclimbing.com/logbook/crag.php?id...   \n",
       "27430  https://www.ukclimbing.com/logbook/crag.php?id...   \n",
       "27431  https://www.ukclimbing.com/logbook/crag.php?id...   \n",
       "27432  https://www.ukclimbing.com/logbook/crag.php?id...   \n",
       "27434  https://www.ukclimbing.com/logbook/crag.php?id...   \n",
       "\n",
       "                         cragname  climbs          rocktype  altitude faces  \\\n",
       "index                                                                         \n",
       "4                  Dinas Cromlech      79          Rhyolite     500.0     S   \n",
       "5                 Bus Stop Quarry     115             Slate     450.0  None   \n",
       "6      Craig Pant Ifan (Tremadog)     176          Dolerite       NaN     S   \n",
       "7                St. Govan's Head     151         Limestone      12.0    SW   \n",
       "8            Carreg-y-Barcud Area     128  Sandstone (hard)      13.0     S   \n",
       "...                           ...     ...               ...       ...   ...   \n",
       "27429        Gap Bon ami boulders       0           UNKNOWN       NaN  None   \n",
       "27430                Metal Expert       8           UNKNOWN       NaN  None   \n",
       "27431                 Las Palomas       3           UNKNOWN       NaN  None   \n",
       "27432             Corral de Vacos      62           UNKNOWN       NaN  None   \n",
       "27434                Elsie's Peak       0           UNKNOWN       NaN  None   \n",
       "\n",
       "           lat     long                                         climb_list  \n",
       "index                                                                       \n",
       "4      53.0917  -4.0489  [(3166, 0), (3167, 0), (3168, 3), (3169, 1), (...  \n",
       "5      53.1294  -4.1058  [(141016, 1), (136481, 1), (134391, 1), (1309,...  \n",
       "6      52.9436  -4.1311  [(152703, 0), (100182, 1), (2561, 2), (2562, 2...  \n",
       "7      51.5977  -4.9277  [(401447, 0), (138693, 1), (58187, 1), (150671...  \n",
       "8      51.8719  -5.2350  [(503566, 0), (503567, 0), (503568, 0), (50356...  \n",
       "...        ...      ...                                                ...  \n",
       "27429  48.8067 -64.2198                                                 []  \n",
       "27430  45.5454  25.5181  [(560519, 3), (560520, 3), (560521, 0), (56052...  \n",
       "27431  28.1159 -16.5589            [(560451, 2), (560452, 2), (560453, 2)]  \n",
       "27432  39.5282  -0.8342  [(560454, 0), (560455, 0), (560456, 0), (56045...  \n",
       "27434 -34.1501  18.4355                                                 []  \n",
       "\n",
       "[19749 rows x 9 columns]"
      ]
     },
     "execution_count": 5,
     "metadata": {},
     "output_type": "execute_result"
    }
   ],
   "source": [
    "df_crags = pd.read_sql('select * from crags',connection,index_col='index')\n",
    "df_crags['climb_list'] = [eval(flat) for flat in df_crags['climbs_flat']]\n",
    "df_crags = df_crags.drop('climbs_flat',axis=1)\n",
    "df_crags"
   ]
  },
  {
   "cell_type": "code",
   "execution_count": 6,
   "metadata": {
    "ExecuteTime": {
     "end_time": "2020-03-05T10:55:30.757129Z",
     "start_time": "2020-03-05T10:55:30.749151Z"
    }
   },
   "outputs": [],
   "source": [
    "uk_crags = df_crags[(df_crags['lat']>50)&(df_crags['long']>-8.2)&(df_crags['lat']<58.9)&(df_crags['long']<2.1)].index"
   ]
  },
  {
   "cell_type": "code",
   "execution_count": 7,
   "metadata": {
    "ExecuteTime": {
     "end_time": "2020-03-05T10:55:47.143052Z",
     "start_time": "2020-03-05T10:55:30.760050Z"
    },
    "scrolled": true
   },
   "outputs": [
    {
     "data": {
      "text/html": [
       "<div>\n",
       "<style scoped>\n",
       "    .dataframe tbody tr th:only-of-type {\n",
       "        vertical-align: middle;\n",
       "    }\n",
       "\n",
       "    .dataframe tbody tr th {\n",
       "        vertical-align: top;\n",
       "    }\n",
       "\n",
       "    .dataframe thead th {\n",
       "        text-align: right;\n",
       "    }\n",
       "</style>\n",
       "<table border=\"1\" class=\"dataframe\">\n",
       "  <thead>\n",
       "    <tr style=\"text-align: right;\">\n",
       "      <th></th>\n",
       "      <th>id</th>\n",
       "      <th>url</th>\n",
       "      <th>climbname</th>\n",
       "      <th>rating</th>\n",
       "      <th>grade</th>\n",
       "      <th>crag_id</th>\n",
       "      <th>desc</th>\n",
       "      <th>num_comments</th>\n",
       "      <th>type</th>\n",
       "      <th>comments_flat</th>\n",
       "      <th>logs</th>\n",
       "    </tr>\n",
       "    <tr>\n",
       "      <th>index</th>\n",
       "      <th></th>\n",
       "      <th></th>\n",
       "      <th></th>\n",
       "      <th></th>\n",
       "      <th></th>\n",
       "      <th></th>\n",
       "      <th></th>\n",
       "      <th></th>\n",
       "      <th></th>\n",
       "      <th></th>\n",
       "      <th></th>\n",
       "    </tr>\n",
       "  </thead>\n",
       "  <tbody>\n",
       "    <tr>\n",
       "      <th>3166</th>\n",
       "      <td>3166</td>\n",
       "      <td>https://www.ukclimbing.com/logbook/c.php?i=3166</td>\n",
       "      <td>Millwood's Wall</td>\n",
       "      <td>0</td>\n",
       "      <td>S 4a</td>\n",
       "      <td>4</td>\n",
       "      <td></td>\n",
       "      <td>0</td>\n",
       "      <td>trad</td>\n",
       "      <td>' '</td>\n",
       "      <td>{}</td>\n",
       "    </tr>\n",
       "    <tr>\n",
       "      <th>3167</th>\n",
       "      <td>3167</td>\n",
       "      <td>https://www.ukclimbing.com/logbook/c.php?i=3167</td>\n",
       "      <td>Vanishing Point</td>\n",
       "      <td>0</td>\n",
       "      <td>E1 5b</td>\n",
       "      <td>4</td>\n",
       "      <td></td>\n",
       "      <td>2</td>\n",
       "      <td>trad</td>\n",
       "      <td>'   '</td>\n",
       "      <td>{'187067': '', '63530': ''}</td>\n",
       "    </tr>\n",
       "    <tr>\n",
       "      <th>3168</th>\n",
       "      <td>3168</td>\n",
       "      <td>https://www.ukclimbing.com/logbook/c.php?i=3168</td>\n",
       "      <td>The Thing</td>\n",
       "      <td>3</td>\n",
       "      <td>E2 5c</td>\n",
       "      <td>4</td>\n",
       "      <td></td>\n",
       "      <td>124</td>\n",
       "      <td>trad</td>\n",
       "      <td>\"  Joe led this in one pitch, taking the direc...</td>\n",
       "      <td>{'253245': '', '206609': 'Joe led this in one ...</td>\n",
       "    </tr>\n",
       "    <tr>\n",
       "      <th>3169</th>\n",
       "      <td>3169</td>\n",
       "      <td>https://www.ukclimbing.com/logbook/c.php?i=3169</td>\n",
       "      <td>Rootorooni</td>\n",
       "      <td>1</td>\n",
       "      <td>E3 5c</td>\n",
       "      <td>4</td>\n",
       "      <td></td>\n",
       "      <td>0</td>\n",
       "      <td>trad</td>\n",
       "      <td>' '</td>\n",
       "      <td>{}</td>\n",
       "    </tr>\n",
       "    <tr>\n",
       "      <th>3170</th>\n",
       "      <td>3170</td>\n",
       "      <td>https://www.ukclimbing.com/logbook/c.php?i=3170</td>\n",
       "      <td>Cobweb Crack</td>\n",
       "      <td>2</td>\n",
       "      <td>VS 5a</td>\n",
       "      <td>4</td>\n",
       "      <td></td>\n",
       "      <td>181</td>\n",
       "      <td>trad</td>\n",
       "      <td>'    Note that the description in the CC Llanb...</td>\n",
       "      <td>{'185136': '', '197782': '', '6106': '', '2410...</td>\n",
       "    </tr>\n",
       "    <tr>\n",
       "      <th>...</th>\n",
       "      <td>...</td>\n",
       "      <td>...</td>\n",
       "      <td>...</td>\n",
       "      <td>...</td>\n",
       "      <td>...</td>\n",
       "      <td>...</td>\n",
       "      <td>...</td>\n",
       "      <td>...</td>\n",
       "      <td>...</td>\n",
       "      <td>...</td>\n",
       "      <td>...</td>\n",
       "    </tr>\n",
       "    <tr>\n",
       "      <th>560510</th>\n",
       "      <td>560510</td>\n",
       "      <td>https://www.ukclimbing.com/logbook/c.php?i=560510</td>\n",
       "      <td>El chivo loco</td>\n",
       "      <td>0</td>\n",
       "      <td>6b</td>\n",
       "      <td>27432</td>\n",
       "      <td></td>\n",
       "      <td>0</td>\n",
       "      <td>lead</td>\n",
       "      <td>' '</td>\n",
       "      <td>{}</td>\n",
       "    </tr>\n",
       "    <tr>\n",
       "      <th>560511</th>\n",
       "      <td>560511</td>\n",
       "      <td>https://www.ukclimbing.com/logbook/c.php?i=560511</td>\n",
       "      <td>Victorking</td>\n",
       "      <td>0</td>\n",
       "      <td>6b+</td>\n",
       "      <td>27432</td>\n",
       "      <td></td>\n",
       "      <td>0</td>\n",
       "      <td>lead</td>\n",
       "      <td>' '</td>\n",
       "      <td>{}</td>\n",
       "    </tr>\n",
       "    <tr>\n",
       "      <th>560512</th>\n",
       "      <td>560512</td>\n",
       "      <td>https://www.ukclimbing.com/logbook/c.php?i=560512</td>\n",
       "      <td>Puto Maldonado</td>\n",
       "      <td>0</td>\n",
       "      <td>6c+</td>\n",
       "      <td>27432</td>\n",
       "      <td></td>\n",
       "      <td>0</td>\n",
       "      <td>lead</td>\n",
       "      <td>' '</td>\n",
       "      <td>{}</td>\n",
       "    </tr>\n",
       "    <tr>\n",
       "      <th>560513</th>\n",
       "      <td>560513</td>\n",
       "      <td>https://www.ukclimbing.com/logbook/c.php?i=560513</td>\n",
       "      <td>Bracitos de acero</td>\n",
       "      <td>0</td>\n",
       "      <td>6c</td>\n",
       "      <td>27432</td>\n",
       "      <td></td>\n",
       "      <td>0</td>\n",
       "      <td>lead</td>\n",
       "      <td>' '</td>\n",
       "      <td>{}</td>\n",
       "    </tr>\n",
       "    <tr>\n",
       "      <th>560514</th>\n",
       "      <td>560514</td>\n",
       "      <td>https://www.ukclimbing.com/logbook/c.php?i=560514</td>\n",
       "      <td>Los solidarios</td>\n",
       "      <td>0</td>\n",
       "      <td>6b</td>\n",
       "      <td>27432</td>\n",
       "      <td></td>\n",
       "      <td>0</td>\n",
       "      <td>lead</td>\n",
       "      <td>' '</td>\n",
       "      <td>{}</td>\n",
       "    </tr>\n",
       "  </tbody>\n",
       "</table>\n",
       "<p>492841 rows × 11 columns</p>\n",
       "</div>"
      ],
      "text/plain": [
       "            id                                                url  \\\n",
       "index                                                               \n",
       "3166      3166    https://www.ukclimbing.com/logbook/c.php?i=3166   \n",
       "3167      3167    https://www.ukclimbing.com/logbook/c.php?i=3167   \n",
       "3168      3168    https://www.ukclimbing.com/logbook/c.php?i=3168   \n",
       "3169      3169    https://www.ukclimbing.com/logbook/c.php?i=3169   \n",
       "3170      3170    https://www.ukclimbing.com/logbook/c.php?i=3170   \n",
       "...        ...                                                ...   \n",
       "560510  560510  https://www.ukclimbing.com/logbook/c.php?i=560510   \n",
       "560511  560511  https://www.ukclimbing.com/logbook/c.php?i=560511   \n",
       "560512  560512  https://www.ukclimbing.com/logbook/c.php?i=560512   \n",
       "560513  560513  https://www.ukclimbing.com/logbook/c.php?i=560513   \n",
       "560514  560514  https://www.ukclimbing.com/logbook/c.php?i=560514   \n",
       "\n",
       "                climbname  rating  grade  crag_id desc  num_comments  type  \\\n",
       "index                                                                        \n",
       "3166      Millwood's Wall       0   S 4a        4                  0  trad   \n",
       "3167      Vanishing Point       0  E1 5b        4                  2  trad   \n",
       "3168            The Thing       3  E2 5c        4                124  trad   \n",
       "3169           Rootorooni       1  E3 5c        4                  0  trad   \n",
       "3170         Cobweb Crack       2  VS 5a        4                181  trad   \n",
       "...                   ...     ...    ...      ...  ...           ...   ...   \n",
       "560510      El chivo loco       0     6b    27432                  0  lead   \n",
       "560511         Victorking       0    6b+    27432                  0  lead   \n",
       "560512     Puto Maldonado       0    6c+    27432                  0  lead   \n",
       "560513  Bracitos de acero       0     6c    27432                  0  lead   \n",
       "560514     Los solidarios       0     6b    27432                  0  lead   \n",
       "\n",
       "                                            comments_flat  \\\n",
       "index                                                       \n",
       "3166                                                  ' '   \n",
       "3167                                                '   '   \n",
       "3168    \"  Joe led this in one pitch, taking the direc...   \n",
       "3169                                                  ' '   \n",
       "3170    '    Note that the description in the CC Llanb...   \n",
       "...                                                   ...   \n",
       "560510                                                ' '   \n",
       "560511                                                ' '   \n",
       "560512                                                ' '   \n",
       "560513                                                ' '   \n",
       "560514                                                ' '   \n",
       "\n",
       "                                                     logs  \n",
       "index                                                      \n",
       "3166                                                   {}  \n",
       "3167                          {'187067': '', '63530': ''}  \n",
       "3168    {'253245': '', '206609': 'Joe led this in one ...  \n",
       "3169                                                   {}  \n",
       "3170    {'185136': '', '197782': '', '6106': '', '2410...  \n",
       "...                                                   ...  \n",
       "560510                                                 {}  \n",
       "560511                                                 {}  \n",
       "560512                                                 {}  \n",
       "560513                                                 {}  \n",
       "560514                                                 {}  \n",
       "\n",
       "[492841 rows x 11 columns]"
      ]
     },
     "execution_count": 7,
     "metadata": {},
     "output_type": "execute_result"
    }
   ],
   "source": [
    "df_climbs = pd.read_sql('select * from climbs',connection,index_col='index')\n",
    "df_climbs['logs'] = [eval(flat) for flat in df_climbs['logs_flat']]\n",
    "df_climbs = df_climbs.drop('logs_flat',axis=1)\n",
    "df_climbs"
   ]
  },
  {
   "cell_type": "code",
   "execution_count": 8,
   "metadata": {
    "ExecuteTime": {
     "end_time": "2020-03-05T10:55:47.205980Z",
     "start_time": "2020-03-05T10:55:47.146576Z"
    }
   },
   "outputs": [],
   "source": [
    "from sklearn.feature_extraction.text import TfidfVectorizer"
   ]
  },
  {
   "cell_type": "code",
   "execution_count": 9,
   "metadata": {
    "ExecuteTime": {
     "end_time": "2020-03-05T10:55:47.429872Z",
     "start_time": "2020-03-05T10:55:47.207869Z"
    }
   },
   "outputs": [],
   "source": [
    "df_climbs['in_uk'] = df_climbs.crag_id.map(lambda x : x in uk_crags)"
   ]
  },
  {
   "cell_type": "code",
   "execution_count": 10,
   "metadata": {
    "ExecuteTime": {
     "end_time": "2020-03-05T10:55:47.624909Z",
     "start_time": "2020-03-05T10:55:47.431580Z"
    }
   },
   "outputs": [],
   "source": [
    "df_test = df_climbs[(df_climbs['type']=='boulder')&(df_climbs['comments_flat']!=\"''\")&(df_climbs['comments_flat']!=\"' '\")&(df_climbs['in_uk']==True)]"
   ]
  },
  {
   "cell_type": "code",
   "execution_count": 11,
   "metadata": {
    "ExecuteTime": {
     "end_time": "2020-03-05T10:55:47.629570Z",
     "start_time": "2020-03-05T10:55:47.626918Z"
    }
   },
   "outputs": [],
   "source": [
    "import re"
   ]
  },
  {
   "cell_type": "code",
   "execution_count": 12,
   "metadata": {
    "ExecuteTime": {
     "end_time": "2020-03-05T10:55:48.363392Z",
     "start_time": "2020-03-05T10:55:47.631754Z"
    }
   },
   "outputs": [],
   "source": [
    "from nltk.stem import PorterStemmer "
   ]
  },
  {
   "cell_type": "code",
   "execution_count": 13,
   "metadata": {
    "ExecuteTime": {
     "end_time": "2020-03-05T10:55:48.366939Z",
     "start_time": "2020-03-05T10:55:48.364735Z"
    }
   },
   "outputs": [],
   "source": [
    "\n",
    "ps = PorterStemmer()"
   ]
  },
  {
   "cell_type": "code",
   "execution_count": 83,
   "metadata": {
    "ExecuteTime": {
     "end_time": "2020-03-05T11:15:56.550380Z",
     "start_time": "2020-03-05T11:15:56.546049Z"
    }
   },
   "outputs": [],
   "source": [
    "def split_and_stem(x):\n",
    "\n",
    "\n",
    "\n",
    "    words = re.sub(r\"\"\"\n",
    "               [\\\\,.;@#?!&$\\']+  # Accept one or more copies of punctuation\n",
    "               \\ *           # plus zero or more copies of a space,\n",
    "               \"\"\",\n",
    "               \" \",          # and replace it with a single space\n",
    "               x, flags=re.VERBOSE)\n",
    "    words = re.sub(\"rockfax\",\"\",words).split()\n",
    "    words = [ps.stem(word).lower() for word in words]\n",
    "    flat = \" \".join(words)\n",
    "    return flat"
   ]
  },
  {
   "cell_type": "code",
   "execution_count": 84,
   "metadata": {
    "ExecuteTime": {
     "end_time": "2020-03-05T11:16:25.064538Z",
     "start_time": "2020-03-05T11:15:57.007299Z"
    }
   },
   "outputs": [
    {
     "data": {
      "application/vnd.jupyter.widget-view+json": {
       "model_id": "6a2fac5ddf3243449105e54a18831de3",
       "version_major": 2,
       "version_minor": 0
      },
      "text/plain": [
       "HBox(children=(FloatProgress(value=0.0, max=53643.0), HTML(value='')))"
      ]
     },
     "metadata": {},
     "output_type": "display_data"
    },
    {
     "name": "stdout",
     "output_type": "stream",
     "text": [
      "\n"
     ]
    },
    {
     "name": "stderr",
     "output_type": "stream",
     "text": [
      "/Users/max/opt/anaconda3/lib/python3.7/site-packages/ipykernel_launcher.py:1: SettingWithCopyWarning: \n",
      "A value is trying to be set on a copy of a slice from a DataFrame.\n",
      "Try using .loc[row_indexer,col_indexer] = value instead\n",
      "\n",
      "See the caveats in the documentation: http://pandas.pydata.org/pandas-docs/stable/user_guide/indexing.html#returning-a-view-versus-a-copy\n",
      "  \"\"\"Entry point for launching an IPython kernel.\n"
     ]
    }
   ],
   "source": [
    "df_test['comments_flat'] = df_test.comments_flat.progress_map(split_and_stem)"
   ]
  },
  {
   "cell_type": "code",
   "execution_count": 85,
   "metadata": {
    "ExecuteTime": {
     "end_time": "2020-03-05T11:16:25.073111Z",
     "start_time": "2020-03-05T11:16:25.067300Z"
    },
    "scrolled": true
   },
   "outputs": [
    {
     "data": {
      "text/plain": [
       "index\n",
       "408591    sit start right of lepidopterist at the layawa...\n",
       "407472    a neat left to right traver of the freezer wal...\n",
       "407572    the crack to the right of the flake of wrath n...\n",
       "391777              right hand side hard start bad land r n\n",
       "391772    30m start for equinox and traver all the way t...\n",
       "                                ...                        \n",
       "559492    layback the right aret on lh side - no handhol...\n",
       "559502    climb the right aret on the lh side use hold o...\n",
       "559493    layback the right aret on the rh side - no hol...\n",
       "559503              the right aret use hold on the wall r n\n",
       "560218    start with two hand in the low crack then move...\n",
       "Name: comments_flat, Length: 53643, dtype: object"
      ]
     },
     "execution_count": 85,
     "metadata": {},
     "output_type": "execute_result"
    }
   ],
   "source": [
    "df_test.comments_flat"
   ]
  },
  {
   "cell_type": "code",
   "execution_count": 86,
   "metadata": {
    "ExecuteTime": {
     "end_time": "2020-03-05T11:16:28.972473Z",
     "start_time": "2020-03-05T11:16:25.076489Z"
    }
   },
   "outputs": [
    {
     "data": {
      "text/plain": [
       "<53643x352182 sparse matrix of type '<class 'numpy.float64'>'\n",
       "\twith 1790257 stored elements in Compressed Sparse Row format>"
      ]
     },
     "execution_count": 86,
     "metadata": {},
     "output_type": "execute_result"
    }
   ],
   "source": [
    "cv_climbing_words = TfidfVectorizer(ngram_range=(1,2),stop_words='english')\n",
    "\n",
    "climbs_nlp_spmat = cv_climbing_words.fit_transform(df_test.comments_flat.values)\n",
    "climbs_nlp_spmat"
   ]
  },
  {
   "cell_type": "code",
   "execution_count": 87,
   "metadata": {
    "ExecuteTime": {
     "end_time": "2020-03-05T11:16:29.003069Z",
     "start_time": "2020-03-05T11:16:28.974883Z"
    }
   },
   "outputs": [],
   "source": [
    "from vaderSentiment.vaderSentiment import SentimentIntensityAnalyzer\n",
    "analyser = SentimentIntensityAnalyzer()\n"
   ]
  },
  {
   "cell_type": "code",
   "execution_count": 88,
   "metadata": {
    "ExecuteTime": {
     "end_time": "2020-03-05T11:16:29.010927Z",
     "start_time": "2020-03-05T11:16:29.005863Z"
    }
   },
   "outputs": [],
   "source": [
    "def num_there(s):\n",
    "    return any(i.isdigit() for i in s)"
   ]
  },
  {
   "cell_type": "code",
   "execution_count": 89,
   "metadata": {
    "ExecuteTime": {
     "end_time": "2020-03-05T11:16:29.019764Z",
     "start_time": "2020-03-05T11:16:29.013371Z"
    }
   },
   "outputs": [],
   "source": [
    "def get_vocab(columns):\n",
    "    vocab = []\n",
    "    for i in tqdm(columns):\n",
    "        sent = analyser.polarity_scores(i)\n",
    "        if len(i.split())==1 and sent['neu'] == 1 and num_there(i)==False:\n",
    "            vocab.append(i.lower())\n",
    "        elif len(i.split())==2 and sent['neu'] < 0.5 and num_there(i)==False:\n",
    "            vocab.append(i.lower())\n",
    "    return vocab"
   ]
  },
  {
   "cell_type": "code",
   "execution_count": 90,
   "metadata": {
    "ExecuteTime": {
     "end_time": "2020-03-05T11:16:41.653954Z",
     "start_time": "2020-03-05T11:16:29.023027Z"
    },
    "scrolled": true
   },
   "outputs": [
    {
     "data": {
      "application/vnd.jupyter.widget-view+json": {
       "model_id": "397bfaf0e49843888b6f9ac975b9f10e",
       "version_major": 2,
       "version_minor": 0
      },
      "text/plain": [
       "HBox(children=(FloatProgress(value=0.0, max=352182.0), HTML(value='')))"
      ]
     },
     "metadata": {},
     "output_type": "display_data"
    },
    {
     "name": "stdout",
     "output_type": "stream",
     "text": [
      "\n"
     ]
    }
   ],
   "source": [
    "vocab = get_vocab(cv_climbing_words.get_feature_names())"
   ]
  },
  {
   "cell_type": "code",
   "execution_count": 91,
   "metadata": {
    "ExecuteTime": {
     "end_time": "2020-03-05T11:16:41.663235Z",
     "start_time": "2020-03-05T11:16:41.658144Z"
    }
   },
   "outputs": [],
   "source": [
    "with open('../part-03/list_of_words.csv', newline='') as f:\n",
    "    reader = csv.reader(f)\n",
    "    data = list(reader)\n",
    "# vocab = np.array(data[0])"
   ]
  },
  {
   "cell_type": "code",
   "execution_count": 92,
   "metadata": {
    "ExecuteTime": {
     "end_time": "2020-03-05T11:16:41.720740Z",
     "start_time": "2020-03-05T11:16:41.665723Z"
    }
   },
   "outputs": [],
   "source": [
    "vocab=np.unique(vocab)"
   ]
  },
  {
   "cell_type": "code",
   "execution_count": 93,
   "metadata": {
    "ExecuteTime": {
     "end_time": "2020-03-05T11:16:41.727828Z",
     "start_time": "2020-03-05T11:16:41.722568Z"
    }
   },
   "outputs": [
    {
     "data": {
      "text/plain": [
       "array(['_estuari', '_q', 'aa', ..., 'zuman hard', 'zz', 'zz gain'],\n",
       "      dtype='<U40')"
      ]
     },
     "execution_count": 93,
     "metadata": {},
     "output_type": "execute_result"
    }
   ],
   "source": [
    "vocab"
   ]
  },
  {
   "cell_type": "code",
   "execution_count": 94,
   "metadata": {
    "ExecuteTime": {
     "end_time": "2020-03-05T11:16:43.129601Z",
     "start_time": "2020-03-05T11:16:41.729692Z"
    }
   },
   "outputs": [
    {
     "data": {
      "text/plain": [
       "<53643x85827 sparse matrix of type '<class 'numpy.float64'>'\n",
       "\twith 696951 stored elements in Compressed Sparse Row format>"
      ]
     },
     "execution_count": 94,
     "metadata": {},
     "output_type": "execute_result"
    }
   ],
   "source": [
    "cv_climbing_words = TfidfVectorizer(stop_words='english',vocabulary=vocab)\n",
    "\n",
    "climbs_nlp_spmat = cv_climbing_words.fit_transform(df_test.comments_flat.values)\n",
    "climbs_nlp_spmat"
   ]
  },
  {
   "cell_type": "code",
   "execution_count": 95,
   "metadata": {
    "ExecuteTime": {
     "end_time": "2020-03-05T11:16:43.134809Z",
     "start_time": "2020-03-05T11:16:43.131850Z"
    }
   },
   "outputs": [],
   "source": [
    "from sklearn.cluster import KMeans,Birch\n",
    "from sklearn.decomposition import TruncatedSVD"
   ]
  },
  {
   "cell_type": "code",
   "execution_count": 96,
   "metadata": {
    "ExecuteTime": {
     "end_time": "2020-03-05T11:16:43.140005Z",
     "start_time": "2020-03-05T11:16:43.137176Z"
    }
   },
   "outputs": [],
   "source": [
    "from scipy.sparse import csr_matrix"
   ]
  },
  {
   "cell_type": "code",
   "execution_count": 97,
   "metadata": {
    "ExecuteTime": {
     "end_time": "2020-03-05T11:16:43.147620Z",
     "start_time": "2020-03-05T11:16:43.142154Z"
    }
   },
   "outputs": [],
   "source": [
    "pca = TruncatedSVD(n_components=20)"
   ]
  },
  {
   "cell_type": "code",
   "execution_count": 98,
   "metadata": {
    "ExecuteTime": {
     "end_time": "2020-03-05T11:16:44.036405Z",
     "start_time": "2020-03-05T11:16:43.149808Z"
    }
   },
   "outputs": [],
   "source": [
    "\n",
    "data_fit = pca.fit_transform(climbs_nlp_spmat)"
   ]
  },
  {
   "cell_type": "code",
   "execution_count": 99,
   "metadata": {
    "ExecuteTime": {
     "end_time": "2020-03-05T11:16:44.042393Z",
     "start_time": "2020-03-05T11:16:44.038398Z"
    }
   },
   "outputs": [
    {
     "data": {
      "text/plain": [
       "53643"
      ]
     },
     "execution_count": 99,
     "metadata": {},
     "output_type": "execute_result"
    }
   ],
   "source": [
    "len(data_fit)"
   ]
  },
  {
   "cell_type": "code",
   "execution_count": 100,
   "metadata": {
    "ExecuteTime": {
     "end_time": "2020-03-05T11:17:02.601802Z",
     "start_time": "2020-03-05T11:16:44.044585Z"
    }
   },
   "outputs": [
    {
     "data": {
      "text/plain": [
       "KMeans(algorithm='auto', copy_x=True, init='k-means++', max_iter=300,\n",
       "       n_clusters=50, n_init=10, n_jobs=None, precompute_distances='auto',\n",
       "       random_state=None, tol=0.0001, verbose=0)"
      ]
     },
     "execution_count": 100,
     "metadata": {},
     "output_type": "execute_result"
    }
   ],
   "source": [
    "model = KMeans(n_clusters=50)\n",
    "model.fit(data_fit)"
   ]
  },
  {
   "cell_type": "code",
   "execution_count": 101,
   "metadata": {
    "ExecuteTime": {
     "end_time": "2020-03-05T11:17:02.608047Z",
     "start_time": "2020-03-05T11:17:02.603735Z"
    }
   },
   "outputs": [
    {
     "name": "stderr",
     "output_type": "stream",
     "text": [
      "/Users/max/opt/anaconda3/lib/python3.7/site-packages/ipykernel_launcher.py:1: SettingWithCopyWarning: \n",
      "A value is trying to be set on a copy of a slice from a DataFrame.\n",
      "Try using .loc[row_indexer,col_indexer] = value instead\n",
      "\n",
      "See the caveats in the documentation: http://pandas.pydata.org/pandas-docs/stable/user_guide/indexing.html#returning-a-view-versus-a-copy\n",
      "  \"\"\"Entry point for launching an IPython kernel.\n"
     ]
    }
   ],
   "source": [
    "df_test['labels'] = model.labels_"
   ]
  },
  {
   "cell_type": "code",
   "execution_count": 102,
   "metadata": {
    "ExecuteTime": {
     "end_time": "2020-03-05T11:17:02.616640Z",
     "start_time": "2020-03-05T11:17:02.610082Z"
    }
   },
   "outputs": [
    {
     "data": {
      "text/plain": [
       "1     10122\n",
       "33     3038\n",
       "40     3014\n",
       "38     1834\n",
       "49     1740\n",
       "2      1705\n",
       "29     1690\n",
       "28     1661\n",
       "42     1583\n",
       "5      1403\n",
       "48     1343\n",
       "17     1290\n",
       "34     1273\n",
       "20     1240\n",
       "14     1198\n",
       "12     1124\n",
       "31     1096\n",
       "44     1045\n",
       "4       994\n",
       "10      953\n",
       "7       942\n",
       "9       921\n",
       "13      911\n",
       "27      893\n",
       "39      878\n",
       "36      822\n",
       "15      729\n",
       "21      628\n",
       "0       568\n",
       "11      539\n",
       "41      534\n",
       "3       524\n",
       "22      501\n",
       "8       492\n",
       "23      398\n",
       "16      398\n",
       "30      366\n",
       "32      362\n",
       "45      353\n",
       "26      338\n",
       "24      324\n",
       "35      272\n",
       "47      268\n",
       "43      260\n",
       "19      232\n",
       "46      224\n",
       "25      191\n",
       "37      174\n",
       "18      156\n",
       "6        99\n",
       "Name: labels, dtype: int64"
      ]
     },
     "execution_count": 102,
     "metadata": {},
     "output_type": "execute_result"
    }
   ],
   "source": [
    "df_test.labels.value_counts()"
   ]
  },
  {
   "cell_type": "code",
   "execution_count": 103,
   "metadata": {
    "ExecuteTime": {
     "end_time": "2020-03-05T11:17:04.309449Z",
     "start_time": "2020-03-05T11:17:03.639333Z"
    },
    "scrolled": false
   },
   "outputs": [
    {
     "data": {
      "image/png": "[encoded data removed]",
      "text/plain": [
       "<Figure size 1440x720 with 1 Axes>"
      ]
     },
     "metadata": {
      "needs_background": "light"
     },
     "output_type": "display_data"
    }
   ],
   "source": [
    "fig,ax = plt.subplots(figsize=(20,10))\n",
    "to_plot = df_test.labels.value_counts()\n",
    "sns.barplot(x=to_plot.index,y=to_plot.values)\n",
    "ax.set_title('Clusters')\n",
    "ax.set_xlabel('Cluster')\n",
    "ax.set_ylabel('Number of Climbs')\n",
    "fig.savefig('climbs_per_cluster.png')"
   ]
  },
  {
   "cell_type": "code",
   "execution_count": null,
   "metadata": {},
   "outputs": [],
   "source": []
  },
  {
   "cell_type": "code",
   "execution_count": 104,
   "metadata": {
    "ExecuteTime": {
     "end_time": "2020-03-05T11:17:08.348106Z",
     "start_time": "2020-03-05T11:17:08.345539Z"
    }
   },
   "outputs": [],
   "source": [
    "from sklearn.feature_extraction.text import CountVectorizer"
   ]
  },
  {
   "cell_type": "code",
   "execution_count": 105,
   "metadata": {
    "ExecuteTime": {
     "end_time": "2020-03-05T11:17:08.758276Z",
     "start_time": "2020-03-05T11:17:08.665527Z"
    },
    "scrolled": true
   },
   "outputs": [
    {
     "data": {
      "text/plain": [
       "climb    1485\n",
       "start     293\n",
       "right     289\n",
       "dtype: int64"
      ]
     },
     "execution_count": 105,
     "metadata": {},
     "output_type": "execute_result"
    }
   ],
   "source": [
    "checker_tf = CountVectorizer(stop_words='english')\n",
    "label_15 = checker_tf.fit_transform(df_test[(df_test['labels']==12)].comments_flat.values)\n",
    "pd.DataFrame(label_15.toarray(),columns=checker_tf.get_feature_names()).sum().sort_values(ascending=False).head(3)"
   ]
  },
  {
   "cell_type": "code",
   "execution_count": 106,
   "metadata": {
    "ExecuteTime": {
     "end_time": "2020-03-05T11:17:09.896465Z",
     "start_time": "2020-03-05T11:17:09.894000Z"
    }
   },
   "outputs": [],
   "source": [
    "from wordcloud import WordCloud"
   ]
  },
  {
   "cell_type": "code",
   "execution_count": 110,
   "metadata": {
    "ExecuteTime": {
     "end_time": "2020-03-05T11:17:38.691062Z",
     "start_time": "2020-03-05T11:17:38.097533Z"
    }
   },
   "outputs": [
    {
     "data": {
      "image/png": "[encoded data removed]",
      "text/plain": [
       "<Figure size 1440x720 with 1 Axes>"
      ]
     },
     "metadata": {
      "needs_background": "light"
     },
     "output_type": "display_data"
    }
   ],
   "source": [
    "fig,ax = plt.subplots(figsize=(20,10))\n",
    "plt.imshow(plot_word_cloud(df_test[(df_test['labels']==20)].comments_flat.values))\n",
    "plt.axis('off')\n",
    "fig.savefig('cluster_19.png')"
   ]
  },
  {
   "cell_type": "code",
   "execution_count": 40,
   "metadata": {
    "ExecuteTime": {
     "end_time": "2020-03-05T11:09:06.992319Z",
     "start_time": "2020-03-05T11:09:06.978896Z"
    }
   },
   "outputs": [],
   "source": [
    "\n",
    "def plot_word_cloud(list_of_comments):\n",
    "    text = \" \".join(list_of_comments)\n",
    "    wordcloud = WordCloud(max_font_size=50, max_words=100, background_color=\"white\").generate(text)\n",
    "    return wordcloud"
   ]
  },
  {
   "cell_type": "code",
   "execution_count": 41,
   "metadata": {
    "ExecuteTime": {
     "end_time": "2020-03-05T11:09:07.140402Z",
     "start_time": "2020-03-05T11:09:07.134939Z"
    }
   },
   "outputs": [],
   "source": [
    "def col_to_flat(comments_flat):\n",
    "    total_flat = \"\"\n",
    "    for comments in tqdm(comments_flat):\n",
    "        for word in comments.split():\n",
    "           if word in vocab:\n",
    "                total_flat = total_flat + \" \" + word \n",
    "    return total_flat"
   ]
  },
  {
   "cell_type": "code",
   "execution_count": null,
   "metadata": {
    "ExecuteTime": {
     "end_time": "2020-03-05T11:01:10.742007Z",
     "start_time": "2020-03-05T11:00:57.386Z"
    }
   },
   "outputs": [],
   "source": [
    "from IPython.display import clear_output"
   ]
  },
  {
   "cell_type": "code",
   "execution_count": null,
   "metadata": {
    "ExecuteTime": {
     "end_time": "2020-03-05T11:01:10.742963Z",
     "start_time": "2020-03-05T11:00:57.474Z"
    }
   },
   "outputs": [],
   "source": [
    "\n",
    "# rows=6\n",
    "# cols=6\n",
    "# fig,ax = plt.subplots(figsize=(20,20), ncols=cols,nrows=rows)\n",
    "# count = 0\n",
    "# for i in range(0,rows):\n",
    "#     for j in range(0,cols):\n",
    "#         clear_output()\n",
    "#         print(count)\n",
    "#         plot_words = col_to_flat(df_test[df_test['labels']==count].comments_flat)\n",
    "#         ax[i][j].imshow(plot_word_cloud(plot_words))\n",
    "#         count +=1\n",
    "# plt.show()"
   ]
  },
  {
   "cell_type": "markdown",
   "metadata": {},
   "source": [
    "# Reccomendation"
   ]
  },
  {
   "cell_type": "code",
   "execution_count": 111,
   "metadata": {
    "ExecuteTime": {
     "end_time": "2020-03-05T11:25:08.491841Z",
     "start_time": "2020-03-05T11:25:08.476949Z"
    }
   },
   "outputs": [],
   "source": [
    "clusters = df_test.labels.unique()"
   ]
  },
  {
   "cell_type": "code",
   "execution_count": 112,
   "metadata": {
    "ExecuteTime": {
     "end_time": "2020-03-05T11:25:09.010017Z",
     "start_time": "2020-03-05T11:25:08.969022Z"
    }
   },
   "outputs": [
    {
     "data": {
      "text/html": [
       "<div>\n",
       "<style scoped>\n",
       "    .dataframe tbody tr th:only-of-type {\n",
       "        vertical-align: middle;\n",
       "    }\n",
       "\n",
       "    .dataframe tbody tr th {\n",
       "        vertical-align: top;\n",
       "    }\n",
       "\n",
       "    .dataframe thead th {\n",
       "        text-align: right;\n",
       "    }\n",
       "</style>\n",
       "<table border=\"1\" class=\"dataframe\">\n",
       "  <thead>\n",
       "    <tr style=\"text-align: right;\">\n",
       "      <th></th>\n",
       "      <th>id</th>\n",
       "      <th>url</th>\n",
       "      <th>climbname</th>\n",
       "      <th>rating</th>\n",
       "      <th>grade</th>\n",
       "      <th>crag_id</th>\n",
       "      <th>desc</th>\n",
       "      <th>num_comments</th>\n",
       "      <th>type</th>\n",
       "      <th>comments_flat</th>\n",
       "      <th>logs</th>\n",
       "      <th>in_uk</th>\n",
       "    </tr>\n",
       "    <tr>\n",
       "      <th>index</th>\n",
       "      <th></th>\n",
       "      <th></th>\n",
       "      <th></th>\n",
       "      <th></th>\n",
       "      <th></th>\n",
       "      <th></th>\n",
       "      <th></th>\n",
       "      <th></th>\n",
       "      <th></th>\n",
       "      <th></th>\n",
       "      <th></th>\n",
       "      <th></th>\n",
       "    </tr>\n",
       "  </thead>\n",
       "  <tbody>\n",
       "    <tr>\n",
       "      <th>3166</th>\n",
       "      <td>3166</td>\n",
       "      <td>https://www.ukclimbing.com/logbook/c.php?i=3166</td>\n",
       "      <td>Millwood's Wall</td>\n",
       "      <td>0</td>\n",
       "      <td>S 4a</td>\n",
       "      <td>4</td>\n",
       "      <td></td>\n",
       "      <td>0</td>\n",
       "      <td>trad</td>\n",
       "      <td>' '</td>\n",
       "      <td>{}</td>\n",
       "      <td>True</td>\n",
       "    </tr>\n",
       "    <tr>\n",
       "      <th>3167</th>\n",
       "      <td>3167</td>\n",
       "      <td>https://www.ukclimbing.com/logbook/c.php?i=3167</td>\n",
       "      <td>Vanishing Point</td>\n",
       "      <td>0</td>\n",
       "      <td>E1 5b</td>\n",
       "      <td>4</td>\n",
       "      <td></td>\n",
       "      <td>2</td>\n",
       "      <td>trad</td>\n",
       "      <td>'   '</td>\n",
       "      <td>{'187067': '', '63530': ''}</td>\n",
       "      <td>True</td>\n",
       "    </tr>\n",
       "    <tr>\n",
       "      <th>3168</th>\n",
       "      <td>3168</td>\n",
       "      <td>https://www.ukclimbing.com/logbook/c.php?i=3168</td>\n",
       "      <td>The Thing</td>\n",
       "      <td>3</td>\n",
       "      <td>E2 5c</td>\n",
       "      <td>4</td>\n",
       "      <td></td>\n",
       "      <td>124</td>\n",
       "      <td>trad</td>\n",
       "      <td>\"  Joe led this in one pitch, taking the direc...</td>\n",
       "      <td>{'253245': '', '206609': 'Joe led this in one ...</td>\n",
       "      <td>True</td>\n",
       "    </tr>\n",
       "    <tr>\n",
       "      <th>3169</th>\n",
       "      <td>3169</td>\n",
       "      <td>https://www.ukclimbing.com/logbook/c.php?i=3169</td>\n",
       "      <td>Rootorooni</td>\n",
       "      <td>1</td>\n",
       "      <td>E3 5c</td>\n",
       "      <td>4</td>\n",
       "      <td></td>\n",
       "      <td>0</td>\n",
       "      <td>trad</td>\n",
       "      <td>' '</td>\n",
       "      <td>{}</td>\n",
       "      <td>True</td>\n",
       "    </tr>\n",
       "    <tr>\n",
       "      <th>3170</th>\n",
       "      <td>3170</td>\n",
       "      <td>https://www.ukclimbing.com/logbook/c.php?i=3170</td>\n",
       "      <td>Cobweb Crack</td>\n",
       "      <td>2</td>\n",
       "      <td>VS 5a</td>\n",
       "      <td>4</td>\n",
       "      <td></td>\n",
       "      <td>181</td>\n",
       "      <td>trad</td>\n",
       "      <td>'    Note that the description in the CC Llanb...</td>\n",
       "      <td>{'185136': '', '197782': '', '6106': '', '2410...</td>\n",
       "      <td>True</td>\n",
       "    </tr>\n",
       "  </tbody>\n",
       "</table>\n",
       "</div>"
      ],
      "text/plain": [
       "         id                                              url        climbname  \\\n",
       "index                                                                           \n",
       "3166   3166  https://www.ukclimbing.com/logbook/c.php?i=3166  Millwood's Wall   \n",
       "3167   3167  https://www.ukclimbing.com/logbook/c.php?i=3167  Vanishing Point   \n",
       "3168   3168  https://www.ukclimbing.com/logbook/c.php?i=3168        The Thing   \n",
       "3169   3169  https://www.ukclimbing.com/logbook/c.php?i=3169       Rootorooni   \n",
       "3170   3170  https://www.ukclimbing.com/logbook/c.php?i=3170     Cobweb Crack   \n",
       "\n",
       "       rating  grade  crag_id desc  num_comments  type  \\\n",
       "index                                                    \n",
       "3166        0   S 4a        4                  0  trad   \n",
       "3167        0  E1 5b        4                  2  trad   \n",
       "3168        3  E2 5c        4                124  trad   \n",
       "3169        1  E3 5c        4                  0  trad   \n",
       "3170        2  VS 5a        4                181  trad   \n",
       "\n",
       "                                           comments_flat  \\\n",
       "index                                                      \n",
       "3166                                                 ' '   \n",
       "3167                                               '   '   \n",
       "3168   \"  Joe led this in one pitch, taking the direc...   \n",
       "3169                                                 ' '   \n",
       "3170   '    Note that the description in the CC Llanb...   \n",
       "\n",
       "                                                    logs  in_uk  \n",
       "index                                                            \n",
       "3166                                                  {}   True  \n",
       "3167                         {'187067': '', '63530': ''}   True  \n",
       "3168   {'253245': '', '206609': 'Joe led this in one ...   True  \n",
       "3169                                                  {}   True  \n",
       "3170   {'185136': '', '197782': '', '6106': '', '2410...   True  "
      ]
     },
     "execution_count": 112,
     "metadata": {},
     "output_type": "execute_result"
    }
   ],
   "source": [
    "df_climbs.head()"
   ]
  },
  {
   "cell_type": "code",
   "execution_count": 113,
   "metadata": {
    "ExecuteTime": {
     "end_time": "2020-03-05T11:25:09.075710Z",
     "start_time": "2020-03-05T11:25:09.058709Z"
    }
   },
   "outputs": [
    {
     "data": {
      "text/html": [
       "<div>\n",
       "<style scoped>\n",
       "    .dataframe tbody tr th:only-of-type {\n",
       "        vertical-align: middle;\n",
       "    }\n",
       "\n",
       "    .dataframe tbody tr th {\n",
       "        vertical-align: top;\n",
       "    }\n",
       "\n",
       "    .dataframe thead th {\n",
       "        text-align: right;\n",
       "    }\n",
       "</style>\n",
       "<table border=\"1\" class=\"dataframe\">\n",
       "  <thead>\n",
       "    <tr style=\"text-align: right;\">\n",
       "      <th></th>\n",
       "      <th>id</th>\n",
       "      <th>logbook_url</th>\n",
       "      <th>profile_url</th>\n",
       "      <th>username</th>\n",
       "      <th>num_climbs</th>\n",
       "      <th>climbs</th>\n",
       "    </tr>\n",
       "    <tr>\n",
       "      <th>index</th>\n",
       "      <th></th>\n",
       "      <th></th>\n",
       "      <th></th>\n",
       "      <th></th>\n",
       "      <th></th>\n",
       "      <th></th>\n",
       "    </tr>\n",
       "  </thead>\n",
       "  <tbody>\n",
       "    <tr>\n",
       "      <th>100002</th>\n",
       "      <td>100002</td>\n",
       "      <td>https://www.ukclimbing.com/logbook/showlog.php...</td>\n",
       "      <td>https://www.ukclimbing.com/user/profile.php?id...</td>\n",
       "      <td>Stephanelericolais</td>\n",
       "      <td>3</td>\n",
       "      <td>[42012, 18853, 147314]</td>\n",
       "    </tr>\n",
       "    <tr>\n",
       "      <th>10002</th>\n",
       "      <td>10002</td>\n",
       "      <td>https://www.ukclimbing.com/logbook/showlog.php...</td>\n",
       "      <td>https://www.ukclimbing.com/user/profile.php?id...</td>\n",
       "      <td>Piers Harley</td>\n",
       "      <td>325</td>\n",
       "      <td>[8359, 10726, 10731, 10732, 10735, 10744, 1077...</td>\n",
       "    </tr>\n",
       "    <tr>\n",
       "      <th>100025</th>\n",
       "      <td>100025</td>\n",
       "      <td>https://www.ukclimbing.com/logbook/showlog.php...</td>\n",
       "      <td>https://www.ukclimbing.com/user/profile.php?id...</td>\n",
       "      <td>george5699</td>\n",
       "      <td>15</td>\n",
       "      <td>[31435, 33329, 40976, 42231, 86139, 35261, 352...</td>\n",
       "    </tr>\n",
       "    <tr>\n",
       "      <th>100031</th>\n",
       "      <td>100031</td>\n",
       "      <td>https://www.ukclimbing.com/logbook/showlog.php...</td>\n",
       "      <td>https://www.ukclimbing.com/user/profile.php?id...</td>\n",
       "      <td>Tak</td>\n",
       "      <td>16</td>\n",
       "      <td>[10917, 10941, 10969, 10971, 10328, 10342, 103...</td>\n",
       "    </tr>\n",
       "    <tr>\n",
       "      <th>100045</th>\n",
       "      <td>100045</td>\n",
       "      <td>https://www.ukclimbing.com/logbook/showlog.php...</td>\n",
       "      <td>https://www.ukclimbing.com/user/profile.php?id...</td>\n",
       "      <td>smeaton</td>\n",
       "      <td>46</td>\n",
       "      <td>[10729, 10731, 10735, 10814, 10816, 10837, 108...</td>\n",
       "    </tr>\n",
       "  </tbody>\n",
       "</table>\n",
       "</div>"
      ],
      "text/plain": [
       "            id                                        logbook_url  \\\n",
       "index                                                               \n",
       "100002  100002  https://www.ukclimbing.com/logbook/showlog.php...   \n",
       "10002    10002  https://www.ukclimbing.com/logbook/showlog.php...   \n",
       "100025  100025  https://www.ukclimbing.com/logbook/showlog.php...   \n",
       "100031  100031  https://www.ukclimbing.com/logbook/showlog.php...   \n",
       "100045  100045  https://www.ukclimbing.com/logbook/showlog.php...   \n",
       "\n",
       "                                              profile_url            username  \\\n",
       "index                                                                           \n",
       "100002  https://www.ukclimbing.com/user/profile.php?id...  Stephanelericolais   \n",
       "10002   https://www.ukclimbing.com/user/profile.php?id...        Piers Harley   \n",
       "100025  https://www.ukclimbing.com/user/profile.php?id...          george5699   \n",
       "100031  https://www.ukclimbing.com/user/profile.php?id...                 Tak   \n",
       "100045  https://www.ukclimbing.com/user/profile.php?id...             smeaton   \n",
       "\n",
       "        num_climbs                                             climbs  \n",
       "index                                                                  \n",
       "100002           3                             [42012, 18853, 147314]  \n",
       "10002          325  [8359, 10726, 10731, 10732, 10735, 10744, 1077...  \n",
       "100025          15  [31435, 33329, 40976, 42231, 86139, 35261, 352...  \n",
       "100031          16  [10917, 10941, 10969, 10971, 10328, 10342, 103...  \n",
       "100045          46  [10729, 10731, 10735, 10814, 10816, 10837, 108...  "
      ]
     },
     "execution_count": 113,
     "metadata": {},
     "output_type": "execute_result"
    }
   ],
   "source": [
    "df_users.head()"
   ]
  },
  {
   "cell_type": "code",
   "execution_count": 114,
   "metadata": {
    "ExecuteTime": {
     "end_time": "2020-03-05T11:25:09.143340Z",
     "start_time": "2020-03-05T11:25:09.139429Z"
    }
   },
   "outputs": [],
   "source": [
    "import scipy"
   ]
  },
  {
   "cell_type": "code",
   "execution_count": 115,
   "metadata": {
    "ExecuteTime": {
     "end_time": "2020-03-05T11:25:59.526322Z",
     "start_time": "2020-03-05T11:25:09.243663Z"
    }
   },
   "outputs": [
    {
     "data": {
      "application/vnd.jupyter.widget-view+json": {
       "model_id": "f5496c8e03014697a1381d4aa72700d3",
       "version_major": 2,
       "version_minor": 0
      },
      "text/plain": [
       "HBox(children=(FloatProgress(value=0.0, max=33062.0), HTML(value='')))"
      ]
     },
     "metadata": {},
     "output_type": "display_data"
    },
    {
     "name": "stdout",
     "output_type": "stream",
     "text": [
      "\n"
     ]
    }
   ],
   "source": [
    "df_rec = df_users_sql.climbs.progress_apply(pd.Series)"
   ]
  },
  {
   "cell_type": "code",
   "execution_count": 116,
   "metadata": {
    "ExecuteTime": {
     "end_time": "2020-03-05T11:26:15.377774Z",
     "start_time": "2020-03-05T11:25:59.530006Z"
    }
   },
   "outputs": [],
   "source": [
    "df_rec = df_rec.fillna(0).T"
   ]
  },
  {
   "cell_type": "code",
   "execution_count": 117,
   "metadata": {
    "ExecuteTime": {
     "end_time": "2020-03-05T11:26:20.399008Z",
     "start_time": "2020-03-05T11:26:15.400878Z"
    }
   },
   "outputs": [],
   "source": [
    "rec_mat = scipy.sparse.csr_matrix(df_rec).transpose()"
   ]
  },
  {
   "cell_type": "code",
   "execution_count": 118,
   "metadata": {
    "ExecuteTime": {
     "end_time": "2020-03-05T11:26:20.431108Z",
     "start_time": "2020-03-05T11:26:20.408999Z"
    }
   },
   "outputs": [
    {
     "data": {
      "text/plain": [
       "<33062x13523 sparse matrix of type '<class 'numpy.float64'>'\n",
       "\twith 4544497 stored elements in Compressed Sparse Column format>"
      ]
     },
     "execution_count": 118,
     "metadata": {},
     "output_type": "execute_result"
    }
   ],
   "source": [
    "rec_mat"
   ]
  },
  {
   "cell_type": "code",
   "execution_count": 119,
   "metadata": {
    "ExecuteTime": {
     "end_time": "2020-03-05T11:26:20.516868Z",
     "start_time": "2020-03-05T11:26:20.434242Z"
    }
   },
   "outputs": [],
   "source": [
    "df_climbs['labels']=df_test['labels']"
   ]
  },
  {
   "cell_type": "code",
   "execution_count": 120,
   "metadata": {
    "ExecuteTime": {
     "end_time": "2020-03-05T11:26:20.532214Z",
     "start_time": "2020-03-05T11:26:20.518883Z"
    }
   },
   "outputs": [
    {
     "data": {
      "text/plain": [
       "Index(['id', 'url', 'climbname', 'rating', 'grade', 'crag_id', 'desc',\n",
       "       'num_comments', 'type', 'comments_flat', 'logs', 'in_uk', 'labels'],\n",
       "      dtype='object')"
      ]
     },
     "execution_count": 120,
     "metadata": {},
     "output_type": "execute_result"
    }
   ],
   "source": [
    "df_climbs.columns"
   ]
  },
  {
   "cell_type": "code",
   "execution_count": 125,
   "metadata": {
    "ExecuteTime": {
     "end_time": "2020-03-05T11:30:05.427820Z",
     "start_time": "2020-03-05T11:30:05.321311Z"
    }
   },
   "outputs": [
    {
     "name": "stderr",
     "output_type": "stream",
     "text": [
      "/Users/max/opt/anaconda3/lib/python3.7/site-packages/pandas/core/indexing.py:205: SettingWithCopyWarning: \n",
      "A value is trying to be set on a copy of a slice from a DataFrame\n",
      "\n",
      "See the caveats in the documentation: http://pandas.pydata.org/pandas-docs/stable/user_guide/indexing.html#returning-a-view-versus-a-copy\n",
      "  self._setitem_with_indexer(indexer, value)\n"
     ]
    }
   ],
   "source": [
    "df_test.loc[0] = {'id':'0','url':'1','climbname':'1','rating':'1','grade':'1','crag_id':'1','num_comments':'1','desc':'1','logs':'1','labels':-1,'comments_flat':'1','type':'other','in_uk':True}\n",
    "\n"
   ]
  },
  {
   "cell_type": "code",
   "execution_count": 126,
   "metadata": {
    "ExecuteTime": {
     "end_time": "2020-03-05T11:30:06.110992Z",
     "start_time": "2020-03-05T11:30:06.104873Z"
    }
   },
   "outputs": [
    {
     "data": {
      "text/plain": [
       "id                   0\n",
       "url                  1\n",
       "climbname            1\n",
       "rating               1\n",
       "grade                1\n",
       "crag_id              1\n",
       "desc                 1\n",
       "num_comments         1\n",
       "type             other\n",
       "comments_flat        1\n",
       "logs                 1\n",
       "in_uk             True\n",
       "labels              -1\n",
       "Name: 0, dtype: object"
      ]
     },
     "execution_count": 126,
     "metadata": {},
     "output_type": "execute_result"
    }
   ],
   "source": [
    "df_climbs.loc[0]"
   ]
  },
  {
   "cell_type": "code",
   "execution_count": 131,
   "metadata": {
    "ExecuteTime": {
     "end_time": "2020-03-05T11:43:50.772653Z",
     "start_time": "2020-03-05T11:43:50.530205Z"
    }
   },
   "outputs": [],
   "source": [
    "label_dic = df_climbs[['labels']].fillna(-1).to_dict()['labels']"
   ]
  },
  {
   "cell_type": "code",
   "execution_count": 132,
   "metadata": {
    "ExecuteTime": {
     "end_time": "2020-03-05T11:43:51.613872Z",
     "start_time": "2020-03-05T11:43:51.606703Z"
    }
   },
   "outputs": [
    {
     "data": {
      "text/plain": [
       "-1.0"
      ]
     },
     "execution_count": 132,
     "metadata": {},
     "output_type": "execute_result"
    }
   ],
   "source": [
    "label_dic[0]"
   ]
  },
  {
   "cell_type": "code",
   "execution_count": 133,
   "metadata": {
    "ExecuteTime": {
     "end_time": "2020-03-05T11:43:52.444841Z",
     "start_time": "2020-03-05T11:43:52.347520Z"
    }
   },
   "outputs": [
    {
     "data": {
      "text/html": [
       "<div>\n",
       "<style scoped>\n",
       "    .dataframe tbody tr th:only-of-type {\n",
       "        vertical-align: middle;\n",
       "    }\n",
       "\n",
       "    .dataframe tbody tr th {\n",
       "        vertical-align: top;\n",
       "    }\n",
       "\n",
       "    .dataframe thead th {\n",
       "        text-align: right;\n",
       "    }\n",
       "</style>\n",
       "<table border=\"1\" class=\"dataframe\">\n",
       "  <thead>\n",
       "    <tr style=\"text-align: right;\">\n",
       "      <th>index</th>\n",
       "      <th>100002</th>\n",
       "      <th>10002</th>\n",
       "      <th>100025</th>\n",
       "      <th>100031</th>\n",
       "      <th>100045</th>\n",
       "      <th>100046</th>\n",
       "      <th>100066</th>\n",
       "      <th>100069</th>\n",
       "      <th>100075</th>\n",
       "      <th>10008</th>\n",
       "      <th>...</th>\n",
       "      <th>99926</th>\n",
       "      <th>99929</th>\n",
       "      <th>99931</th>\n",
       "      <th>99933</th>\n",
       "      <th>99939</th>\n",
       "      <th>99962</th>\n",
       "      <th>99967</th>\n",
       "      <th>99978</th>\n",
       "      <th>99997</th>\n",
       "      <th>99999</th>\n",
       "    </tr>\n",
       "  </thead>\n",
       "  <tbody>\n",
       "    <tr>\n",
       "      <th>0</th>\n",
       "      <td>42012.0</td>\n",
       "      <td>8359.0</td>\n",
       "      <td>31435.0</td>\n",
       "      <td>10917.0</td>\n",
       "      <td>10729.0</td>\n",
       "      <td>1312.0</td>\n",
       "      <td>10837.0</td>\n",
       "      <td>30994.0</td>\n",
       "      <td>1862.0</td>\n",
       "      <td>29256.0</td>\n",
       "      <td>...</td>\n",
       "      <td>3195.0</td>\n",
       "      <td>1316.0</td>\n",
       "      <td>3202.0</td>\n",
       "      <td>132027.0</td>\n",
       "      <td>2063.0</td>\n",
       "      <td>10370.0</td>\n",
       "      <td>33152.0</td>\n",
       "      <td>8349.0</td>\n",
       "      <td>11041.0</td>\n",
       "      <td>452651.0</td>\n",
       "    </tr>\n",
       "    <tr>\n",
       "      <th>1</th>\n",
       "      <td>18853.0</td>\n",
       "      <td>10726.0</td>\n",
       "      <td>33329.0</td>\n",
       "      <td>10941.0</td>\n",
       "      <td>10731.0</td>\n",
       "      <td>1316.0</td>\n",
       "      <td>10354.0</td>\n",
       "      <td>32252.0</td>\n",
       "      <td>0.0</td>\n",
       "      <td>163279.0</td>\n",
       "      <td>...</td>\n",
       "      <td>3202.0</td>\n",
       "      <td>1317.0</td>\n",
       "      <td>2629.0</td>\n",
       "      <td>2343.0</td>\n",
       "      <td>51996.0</td>\n",
       "      <td>14060.0</td>\n",
       "      <td>33154.0</td>\n",
       "      <td>8351.0</td>\n",
       "      <td>10893.0</td>\n",
       "      <td>32723.0</td>\n",
       "    </tr>\n",
       "    <tr>\n",
       "      <th>2</th>\n",
       "      <td>147314.0</td>\n",
       "      <td>10731.0</td>\n",
       "      <td>40976.0</td>\n",
       "      <td>10969.0</td>\n",
       "      <td>10735.0</td>\n",
       "      <td>1317.0</td>\n",
       "      <td>10356.0</td>\n",
       "      <td>0.0</td>\n",
       "      <td>0.0</td>\n",
       "      <td>29263.0</td>\n",
       "      <td>...</td>\n",
       "      <td>3212.0</td>\n",
       "      <td>2561.0</td>\n",
       "      <td>2640.0</td>\n",
       "      <td>2353.0</td>\n",
       "      <td>51994.0</td>\n",
       "      <td>14061.0</td>\n",
       "      <td>33286.0</td>\n",
       "      <td>8354.0</td>\n",
       "      <td>10894.0</td>\n",
       "      <td>45132.0</td>\n",
       "    </tr>\n",
       "    <tr>\n",
       "      <th>3</th>\n",
       "      <td>0.0</td>\n",
       "      <td>10732.0</td>\n",
       "      <td>42231.0</td>\n",
       "      <td>10971.0</td>\n",
       "      <td>10814.0</td>\n",
       "      <td>5579.0</td>\n",
       "      <td>10359.0</td>\n",
       "      <td>0.0</td>\n",
       "      <td>0.0</td>\n",
       "      <td>29270.0</td>\n",
       "      <td>...</td>\n",
       "      <td>11075.0</td>\n",
       "      <td>2562.0</td>\n",
       "      <td>58187.0</td>\n",
       "      <td>2356.0</td>\n",
       "      <td>55521.0</td>\n",
       "      <td>51492.0</td>\n",
       "      <td>35960.0</td>\n",
       "      <td>4662.0</td>\n",
       "      <td>10241.0</td>\n",
       "      <td>47223.0</td>\n",
       "    </tr>\n",
       "    <tr>\n",
       "      <th>4</th>\n",
       "      <td>0.0</td>\n",
       "      <td>10735.0</td>\n",
       "      <td>86139.0</td>\n",
       "      <td>10328.0</td>\n",
       "      <td>10816.0</td>\n",
       "      <td>32696.0</td>\n",
       "      <td>181153.0</td>\n",
       "      <td>0.0</td>\n",
       "      <td>0.0</td>\n",
       "      <td>10775.0</td>\n",
       "      <td>...</td>\n",
       "      <td>11076.0</td>\n",
       "      <td>2564.0</td>\n",
       "      <td>24768.0</td>\n",
       "      <td>2361.0</td>\n",
       "      <td>0.0</td>\n",
       "      <td>14062.0</td>\n",
       "      <td>33289.0</td>\n",
       "      <td>4684.0</td>\n",
       "      <td>10245.0</td>\n",
       "      <td>47272.0</td>\n",
       "    </tr>\n",
       "    <tr>\n",
       "      <th>...</th>\n",
       "      <td>...</td>\n",
       "      <td>...</td>\n",
       "      <td>...</td>\n",
       "      <td>...</td>\n",
       "      <td>...</td>\n",
       "      <td>...</td>\n",
       "      <td>...</td>\n",
       "      <td>...</td>\n",
       "      <td>...</td>\n",
       "      <td>...</td>\n",
       "      <td>...</td>\n",
       "      <td>...</td>\n",
       "      <td>...</td>\n",
       "      <td>...</td>\n",
       "      <td>...</td>\n",
       "      <td>...</td>\n",
       "      <td>...</td>\n",
       "      <td>...</td>\n",
       "      <td>...</td>\n",
       "      <td>...</td>\n",
       "      <td>...</td>\n",
       "    </tr>\n",
       "    <tr>\n",
       "      <th>13518</th>\n",
       "      <td>0.0</td>\n",
       "      <td>0.0</td>\n",
       "      <td>0.0</td>\n",
       "      <td>0.0</td>\n",
       "      <td>0.0</td>\n",
       "      <td>0.0</td>\n",
       "      <td>0.0</td>\n",
       "      <td>0.0</td>\n",
       "      <td>0.0</td>\n",
       "      <td>0.0</td>\n",
       "      <td>...</td>\n",
       "      <td>0.0</td>\n",
       "      <td>0.0</td>\n",
       "      <td>0.0</td>\n",
       "      <td>0.0</td>\n",
       "      <td>0.0</td>\n",
       "      <td>0.0</td>\n",
       "      <td>0.0</td>\n",
       "      <td>0.0</td>\n",
       "      <td>0.0</td>\n",
       "      <td>0.0</td>\n",
       "    </tr>\n",
       "    <tr>\n",
       "      <th>13519</th>\n",
       "      <td>0.0</td>\n",
       "      <td>0.0</td>\n",
       "      <td>0.0</td>\n",
       "      <td>0.0</td>\n",
       "      <td>0.0</td>\n",
       "      <td>0.0</td>\n",
       "      <td>0.0</td>\n",
       "      <td>0.0</td>\n",
       "      <td>0.0</td>\n",
       "      <td>0.0</td>\n",
       "      <td>...</td>\n",
       "      <td>0.0</td>\n",
       "      <td>0.0</td>\n",
       "      <td>0.0</td>\n",
       "      <td>0.0</td>\n",
       "      <td>0.0</td>\n",
       "      <td>0.0</td>\n",
       "      <td>0.0</td>\n",
       "      <td>0.0</td>\n",
       "      <td>0.0</td>\n",
       "      <td>0.0</td>\n",
       "    </tr>\n",
       "    <tr>\n",
       "      <th>13520</th>\n",
       "      <td>0.0</td>\n",
       "      <td>0.0</td>\n",
       "      <td>0.0</td>\n",
       "      <td>0.0</td>\n",
       "      <td>0.0</td>\n",
       "      <td>0.0</td>\n",
       "      <td>0.0</td>\n",
       "      <td>0.0</td>\n",
       "      <td>0.0</td>\n",
       "      <td>0.0</td>\n",
       "      <td>...</td>\n",
       "      <td>0.0</td>\n",
       "      <td>0.0</td>\n",
       "      <td>0.0</td>\n",
       "      <td>0.0</td>\n",
       "      <td>0.0</td>\n",
       "      <td>0.0</td>\n",
       "      <td>0.0</td>\n",
       "      <td>0.0</td>\n",
       "      <td>0.0</td>\n",
       "      <td>0.0</td>\n",
       "    </tr>\n",
       "    <tr>\n",
       "      <th>13521</th>\n",
       "      <td>0.0</td>\n",
       "      <td>0.0</td>\n",
       "      <td>0.0</td>\n",
       "      <td>0.0</td>\n",
       "      <td>0.0</td>\n",
       "      <td>0.0</td>\n",
       "      <td>0.0</td>\n",
       "      <td>0.0</td>\n",
       "      <td>0.0</td>\n",
       "      <td>0.0</td>\n",
       "      <td>...</td>\n",
       "      <td>0.0</td>\n",
       "      <td>0.0</td>\n",
       "      <td>0.0</td>\n",
       "      <td>0.0</td>\n",
       "      <td>0.0</td>\n",
       "      <td>0.0</td>\n",
       "      <td>0.0</td>\n",
       "      <td>0.0</td>\n",
       "      <td>0.0</td>\n",
       "      <td>0.0</td>\n",
       "    </tr>\n",
       "    <tr>\n",
       "      <th>13522</th>\n",
       "      <td>0.0</td>\n",
       "      <td>0.0</td>\n",
       "      <td>0.0</td>\n",
       "      <td>0.0</td>\n",
       "      <td>0.0</td>\n",
       "      <td>0.0</td>\n",
       "      <td>0.0</td>\n",
       "      <td>0.0</td>\n",
       "      <td>0.0</td>\n",
       "      <td>0.0</td>\n",
       "      <td>...</td>\n",
       "      <td>0.0</td>\n",
       "      <td>0.0</td>\n",
       "      <td>0.0</td>\n",
       "      <td>0.0</td>\n",
       "      <td>0.0</td>\n",
       "      <td>0.0</td>\n",
       "      <td>0.0</td>\n",
       "      <td>0.0</td>\n",
       "      <td>0.0</td>\n",
       "      <td>0.0</td>\n",
       "    </tr>\n",
       "  </tbody>\n",
       "</table>\n",
       "<p>13523 rows × 33062 columns</p>\n",
       "</div>"
      ],
      "text/plain": [
       "index    100002   10002    100025   100031   100045   100046    100066  \\\n",
       "0       42012.0   8359.0  31435.0  10917.0  10729.0   1312.0   10837.0   \n",
       "1       18853.0  10726.0  33329.0  10941.0  10731.0   1316.0   10354.0   \n",
       "2      147314.0  10731.0  40976.0  10969.0  10735.0   1317.0   10356.0   \n",
       "3           0.0  10732.0  42231.0  10971.0  10814.0   5579.0   10359.0   \n",
       "4           0.0  10735.0  86139.0  10328.0  10816.0  32696.0  181153.0   \n",
       "...         ...      ...      ...      ...      ...      ...       ...   \n",
       "13518       0.0      0.0      0.0      0.0      0.0      0.0       0.0   \n",
       "13519       0.0      0.0      0.0      0.0      0.0      0.0       0.0   \n",
       "13520       0.0      0.0      0.0      0.0      0.0      0.0       0.0   \n",
       "13521       0.0      0.0      0.0      0.0      0.0      0.0       0.0   \n",
       "13522       0.0      0.0      0.0      0.0      0.0      0.0       0.0   \n",
       "\n",
       "index   100069  100075    10008   ...   99926   99929    99931     99933   \\\n",
       "0      30994.0  1862.0   29256.0  ...   3195.0  1316.0   3202.0  132027.0   \n",
       "1      32252.0     0.0  163279.0  ...   3202.0  1317.0   2629.0    2343.0   \n",
       "2          0.0     0.0   29263.0  ...   3212.0  2561.0   2640.0    2353.0   \n",
       "3          0.0     0.0   29270.0  ...  11075.0  2562.0  58187.0    2356.0   \n",
       "4          0.0     0.0   10775.0  ...  11076.0  2564.0  24768.0    2361.0   \n",
       "...        ...     ...       ...  ...      ...     ...      ...       ...   \n",
       "13518      0.0     0.0       0.0  ...      0.0     0.0      0.0       0.0   \n",
       "13519      0.0     0.0       0.0  ...      0.0     0.0      0.0       0.0   \n",
       "13520      0.0     0.0       0.0  ...      0.0     0.0      0.0       0.0   \n",
       "13521      0.0     0.0       0.0  ...      0.0     0.0      0.0       0.0   \n",
       "13522      0.0     0.0       0.0  ...      0.0     0.0      0.0       0.0   \n",
       "\n",
       "index   99939    99962    99967   99978    99997     99999   \n",
       "0       2063.0  10370.0  33152.0  8349.0  11041.0  452651.0  \n",
       "1      51996.0  14060.0  33154.0  8351.0  10893.0   32723.0  \n",
       "2      51994.0  14061.0  33286.0  8354.0  10894.0   45132.0  \n",
       "3      55521.0  51492.0  35960.0  4662.0  10241.0   47223.0  \n",
       "4          0.0  14062.0  33289.0  4684.0  10245.0   47272.0  \n",
       "...        ...      ...      ...     ...      ...       ...  \n",
       "13518      0.0      0.0      0.0     0.0      0.0       0.0  \n",
       "13519      0.0      0.0      0.0     0.0      0.0       0.0  \n",
       "13520      0.0      0.0      0.0     0.0      0.0       0.0  \n",
       "13521      0.0      0.0      0.0     0.0      0.0       0.0  \n",
       "13522      0.0      0.0      0.0     0.0      0.0       0.0  \n",
       "\n",
       "[13523 rows x 33062 columns]"
      ]
     },
     "execution_count": 133,
     "metadata": {},
     "output_type": "execute_result"
    }
   ],
   "source": [
    "df_rec"
   ]
  },
  {
   "cell_type": "code",
   "execution_count": null,
   "metadata": {
    "ExecuteTime": {
     "end_time": "2020-03-02T11:05:35.745770Z",
     "start_time": "2020-03-02T11:04:32.623558Z"
    }
   },
   "outputs": [],
   "source": []
  },
  {
   "cell_type": "code",
   "execution_count": 134,
   "metadata": {
    "ExecuteTime": {
     "end_time": "2020-03-05T11:56:54.035180Z",
     "start_time": "2020-03-05T11:43:53.784297Z"
    },
    "scrolled": false
   },
   "outputs": [
    {
     "data": {
      "application/vnd.jupyter.widget-view+json": {
       "model_id": "51cff81bda1248c8a2ce340bb230bfb0",
       "version_major": 2,
       "version_minor": 0
      },
      "text/plain": [
       "HBox(children=(FloatProgress(value=0.0, max=447097426.0), HTML(value='')))"
      ]
     },
     "metadata": {},
     "output_type": "display_data"
    },
    {
     "name": "stdout",
     "output_type": "stream",
     "text": [
      "\n"
     ]
    }
   ],
   "source": [
    "df_rec = df_rec.progress_applymap(lambda x: label_dic[x])"
   ]
  },
  {
   "cell_type": "code",
   "execution_count": 135,
   "metadata": {
    "ExecuteTime": {
     "end_time": "2020-03-05T11:57:01.913073Z",
     "start_time": "2020-03-05T11:57:01.868907Z"
    }
   },
   "outputs": [
    {
     "data": {
      "text/html": [
       "<div>\n",
       "<style scoped>\n",
       "    .dataframe tbody tr th:only-of-type {\n",
       "        vertical-align: middle;\n",
       "    }\n",
       "\n",
       "    .dataframe tbody tr th {\n",
       "        vertical-align: top;\n",
       "    }\n",
       "\n",
       "    .dataframe thead th {\n",
       "        text-align: right;\n",
       "    }\n",
       "</style>\n",
       "<table border=\"1\" class=\"dataframe\">\n",
       "  <thead>\n",
       "    <tr style=\"text-align: right;\">\n",
       "      <th>index</th>\n",
       "      <th>100002</th>\n",
       "      <th>10002</th>\n",
       "      <th>100025</th>\n",
       "      <th>100031</th>\n",
       "      <th>100045</th>\n",
       "      <th>100046</th>\n",
       "      <th>100066</th>\n",
       "      <th>100069</th>\n",
       "      <th>100075</th>\n",
       "      <th>10008</th>\n",
       "      <th>...</th>\n",
       "      <th>99926</th>\n",
       "      <th>99929</th>\n",
       "      <th>99931</th>\n",
       "      <th>99933</th>\n",
       "      <th>99939</th>\n",
       "      <th>99962</th>\n",
       "      <th>99967</th>\n",
       "      <th>99978</th>\n",
       "      <th>99997</th>\n",
       "      <th>99999</th>\n",
       "    </tr>\n",
       "  </thead>\n",
       "  <tbody>\n",
       "    <tr>\n",
       "      <th>0</th>\n",
       "      <td>-1.0</td>\n",
       "      <td>-1.0</td>\n",
       "      <td>-1.0</td>\n",
       "      <td>-1.0</td>\n",
       "      <td>-1.0</td>\n",
       "      <td>-1.0</td>\n",
       "      <td>-1.0</td>\n",
       "      <td>-1.0</td>\n",
       "      <td>-1.0</td>\n",
       "      <td>17.0</td>\n",
       "      <td>...</td>\n",
       "      <td>-1.0</td>\n",
       "      <td>-1.0</td>\n",
       "      <td>-1.0</td>\n",
       "      <td>-1.0</td>\n",
       "      <td>-1.0</td>\n",
       "      <td>-1.0</td>\n",
       "      <td>-1.0</td>\n",
       "      <td>-1.0</td>\n",
       "      <td>-1.0</td>\n",
       "      <td>-1.0</td>\n",
       "    </tr>\n",
       "    <tr>\n",
       "      <th>1</th>\n",
       "      <td>-1.0</td>\n",
       "      <td>-1.0</td>\n",
       "      <td>-1.0</td>\n",
       "      <td>-1.0</td>\n",
       "      <td>-1.0</td>\n",
       "      <td>-1.0</td>\n",
       "      <td>-1.0</td>\n",
       "      <td>-1.0</td>\n",
       "      <td>-1.0</td>\n",
       "      <td>10.0</td>\n",
       "      <td>...</td>\n",
       "      <td>-1.0</td>\n",
       "      <td>-1.0</td>\n",
       "      <td>-1.0</td>\n",
       "      <td>-1.0</td>\n",
       "      <td>-1.0</td>\n",
       "      <td>-1.0</td>\n",
       "      <td>-1.0</td>\n",
       "      <td>-1.0</td>\n",
       "      <td>-1.0</td>\n",
       "      <td>-1.0</td>\n",
       "    </tr>\n",
       "    <tr>\n",
       "      <th>2</th>\n",
       "      <td>-1.0</td>\n",
       "      <td>-1.0</td>\n",
       "      <td>-1.0</td>\n",
       "      <td>-1.0</td>\n",
       "      <td>-1.0</td>\n",
       "      <td>-1.0</td>\n",
       "      <td>-1.0</td>\n",
       "      <td>-1.0</td>\n",
       "      <td>-1.0</td>\n",
       "      <td>33.0</td>\n",
       "      <td>...</td>\n",
       "      <td>-1.0</td>\n",
       "      <td>-1.0</td>\n",
       "      <td>-1.0</td>\n",
       "      <td>-1.0</td>\n",
       "      <td>-1.0</td>\n",
       "      <td>-1.0</td>\n",
       "      <td>-1.0</td>\n",
       "      <td>-1.0</td>\n",
       "      <td>-1.0</td>\n",
       "      <td>-1.0</td>\n",
       "    </tr>\n",
       "    <tr>\n",
       "      <th>3</th>\n",
       "      <td>-1.0</td>\n",
       "      <td>-1.0</td>\n",
       "      <td>-1.0</td>\n",
       "      <td>-1.0</td>\n",
       "      <td>-1.0</td>\n",
       "      <td>-1.0</td>\n",
       "      <td>-1.0</td>\n",
       "      <td>-1.0</td>\n",
       "      <td>-1.0</td>\n",
       "      <td>10.0</td>\n",
       "      <td>...</td>\n",
       "      <td>-1.0</td>\n",
       "      <td>-1.0</td>\n",
       "      <td>-1.0</td>\n",
       "      <td>-1.0</td>\n",
       "      <td>-1.0</td>\n",
       "      <td>-1.0</td>\n",
       "      <td>-1.0</td>\n",
       "      <td>-1.0</td>\n",
       "      <td>-1.0</td>\n",
       "      <td>17.0</td>\n",
       "    </tr>\n",
       "    <tr>\n",
       "      <th>4</th>\n",
       "      <td>-1.0</td>\n",
       "      <td>-1.0</td>\n",
       "      <td>-1.0</td>\n",
       "      <td>-1.0</td>\n",
       "      <td>-1.0</td>\n",
       "      <td>-1.0</td>\n",
       "      <td>33.0</td>\n",
       "      <td>-1.0</td>\n",
       "      <td>-1.0</td>\n",
       "      <td>17.0</td>\n",
       "      <td>...</td>\n",
       "      <td>-1.0</td>\n",
       "      <td>-1.0</td>\n",
       "      <td>-1.0</td>\n",
       "      <td>-1.0</td>\n",
       "      <td>-1.0</td>\n",
       "      <td>-1.0</td>\n",
       "      <td>-1.0</td>\n",
       "      <td>-1.0</td>\n",
       "      <td>-1.0</td>\n",
       "      <td>17.0</td>\n",
       "    </tr>\n",
       "    <tr>\n",
       "      <th>...</th>\n",
       "      <td>...</td>\n",
       "      <td>...</td>\n",
       "      <td>...</td>\n",
       "      <td>...</td>\n",
       "      <td>...</td>\n",
       "      <td>...</td>\n",
       "      <td>...</td>\n",
       "      <td>...</td>\n",
       "      <td>...</td>\n",
       "      <td>...</td>\n",
       "      <td>...</td>\n",
       "      <td>...</td>\n",
       "      <td>...</td>\n",
       "      <td>...</td>\n",
       "      <td>...</td>\n",
       "      <td>...</td>\n",
       "      <td>...</td>\n",
       "      <td>...</td>\n",
       "      <td>...</td>\n",
       "      <td>...</td>\n",
       "      <td>...</td>\n",
       "    </tr>\n",
       "    <tr>\n",
       "      <th>13518</th>\n",
       "      <td>-1.0</td>\n",
       "      <td>-1.0</td>\n",
       "      <td>-1.0</td>\n",
       "      <td>-1.0</td>\n",
       "      <td>-1.0</td>\n",
       "      <td>-1.0</td>\n",
       "      <td>-1.0</td>\n",
       "      <td>-1.0</td>\n",
       "      <td>-1.0</td>\n",
       "      <td>-1.0</td>\n",
       "      <td>...</td>\n",
       "      <td>-1.0</td>\n",
       "      <td>-1.0</td>\n",
       "      <td>-1.0</td>\n",
       "      <td>-1.0</td>\n",
       "      <td>-1.0</td>\n",
       "      <td>-1.0</td>\n",
       "      <td>-1.0</td>\n",
       "      <td>-1.0</td>\n",
       "      <td>-1.0</td>\n",
       "      <td>-1.0</td>\n",
       "    </tr>\n",
       "    <tr>\n",
       "      <th>13519</th>\n",
       "      <td>-1.0</td>\n",
       "      <td>-1.0</td>\n",
       "      <td>-1.0</td>\n",
       "      <td>-1.0</td>\n",
       "      <td>-1.0</td>\n",
       "      <td>-1.0</td>\n",
       "      <td>-1.0</td>\n",
       "      <td>-1.0</td>\n",
       "      <td>-1.0</td>\n",
       "      <td>-1.0</td>\n",
       "      <td>...</td>\n",
       "      <td>-1.0</td>\n",
       "      <td>-1.0</td>\n",
       "      <td>-1.0</td>\n",
       "      <td>-1.0</td>\n",
       "      <td>-1.0</td>\n",
       "      <td>-1.0</td>\n",
       "      <td>-1.0</td>\n",
       "      <td>-1.0</td>\n",
       "      <td>-1.0</td>\n",
       "      <td>-1.0</td>\n",
       "    </tr>\n",
       "    <tr>\n",
       "      <th>13520</th>\n",
       "      <td>-1.0</td>\n",
       "      <td>-1.0</td>\n",
       "      <td>-1.0</td>\n",
       "      <td>-1.0</td>\n",
       "      <td>-1.0</td>\n",
       "      <td>-1.0</td>\n",
       "      <td>-1.0</td>\n",
       "      <td>-1.0</td>\n",
       "      <td>-1.0</td>\n",
       "      <td>-1.0</td>\n",
       "      <td>...</td>\n",
       "      <td>-1.0</td>\n",
       "      <td>-1.0</td>\n",
       "      <td>-1.0</td>\n",
       "      <td>-1.0</td>\n",
       "      <td>-1.0</td>\n",
       "      <td>-1.0</td>\n",
       "      <td>-1.0</td>\n",
       "      <td>-1.0</td>\n",
       "      <td>-1.0</td>\n",
       "      <td>-1.0</td>\n",
       "    </tr>\n",
       "    <tr>\n",
       "      <th>13521</th>\n",
       "      <td>-1.0</td>\n",
       "      <td>-1.0</td>\n",
       "      <td>-1.0</td>\n",
       "      <td>-1.0</td>\n",
       "      <td>-1.0</td>\n",
       "      <td>-1.0</td>\n",
       "      <td>-1.0</td>\n",
       "      <td>-1.0</td>\n",
       "      <td>-1.0</td>\n",
       "      <td>-1.0</td>\n",
       "      <td>...</td>\n",
       "      <td>-1.0</td>\n",
       "      <td>-1.0</td>\n",
       "      <td>-1.0</td>\n",
       "      <td>-1.0</td>\n",
       "      <td>-1.0</td>\n",
       "      <td>-1.0</td>\n",
       "      <td>-1.0</td>\n",
       "      <td>-1.0</td>\n",
       "      <td>-1.0</td>\n",
       "      <td>-1.0</td>\n",
       "    </tr>\n",
       "    <tr>\n",
       "      <th>13522</th>\n",
       "      <td>-1.0</td>\n",
       "      <td>-1.0</td>\n",
       "      <td>-1.0</td>\n",
       "      <td>-1.0</td>\n",
       "      <td>-1.0</td>\n",
       "      <td>-1.0</td>\n",
       "      <td>-1.0</td>\n",
       "      <td>-1.0</td>\n",
       "      <td>-1.0</td>\n",
       "      <td>-1.0</td>\n",
       "      <td>...</td>\n",
       "      <td>-1.0</td>\n",
       "      <td>-1.0</td>\n",
       "      <td>-1.0</td>\n",
       "      <td>-1.0</td>\n",
       "      <td>-1.0</td>\n",
       "      <td>-1.0</td>\n",
       "      <td>-1.0</td>\n",
       "      <td>-1.0</td>\n",
       "      <td>-1.0</td>\n",
       "      <td>-1.0</td>\n",
       "    </tr>\n",
       "  </tbody>\n",
       "</table>\n",
       "<p>13523 rows × 33062 columns</p>\n",
       "</div>"
      ],
      "text/plain": [
       "index  100002  10002   100025  100031  100045  100046  100066  100069  100075  \\\n",
       "0        -1.0    -1.0    -1.0    -1.0    -1.0    -1.0    -1.0    -1.0    -1.0   \n",
       "1        -1.0    -1.0    -1.0    -1.0    -1.0    -1.0    -1.0    -1.0    -1.0   \n",
       "2        -1.0    -1.0    -1.0    -1.0    -1.0    -1.0    -1.0    -1.0    -1.0   \n",
       "3        -1.0    -1.0    -1.0    -1.0    -1.0    -1.0    -1.0    -1.0    -1.0   \n",
       "4        -1.0    -1.0    -1.0    -1.0    -1.0    -1.0    33.0    -1.0    -1.0   \n",
       "...       ...     ...     ...     ...     ...     ...     ...     ...     ...   \n",
       "13518    -1.0    -1.0    -1.0    -1.0    -1.0    -1.0    -1.0    -1.0    -1.0   \n",
       "13519    -1.0    -1.0    -1.0    -1.0    -1.0    -1.0    -1.0    -1.0    -1.0   \n",
       "13520    -1.0    -1.0    -1.0    -1.0    -1.0    -1.0    -1.0    -1.0    -1.0   \n",
       "13521    -1.0    -1.0    -1.0    -1.0    -1.0    -1.0    -1.0    -1.0    -1.0   \n",
       "13522    -1.0    -1.0    -1.0    -1.0    -1.0    -1.0    -1.0    -1.0    -1.0   \n",
       "\n",
       "index  10008   ...  99926   99929   99931   99933   99939   99962   99967   \\\n",
       "0        17.0  ...    -1.0    -1.0    -1.0    -1.0    -1.0    -1.0    -1.0   \n",
       "1        10.0  ...    -1.0    -1.0    -1.0    -1.0    -1.0    -1.0    -1.0   \n",
       "2        33.0  ...    -1.0    -1.0    -1.0    -1.0    -1.0    -1.0    -1.0   \n",
       "3        10.0  ...    -1.0    -1.0    -1.0    -1.0    -1.0    -1.0    -1.0   \n",
       "4        17.0  ...    -1.0    -1.0    -1.0    -1.0    -1.0    -1.0    -1.0   \n",
       "...       ...  ...     ...     ...     ...     ...     ...     ...     ...   \n",
       "13518    -1.0  ...    -1.0    -1.0    -1.0    -1.0    -1.0    -1.0    -1.0   \n",
       "13519    -1.0  ...    -1.0    -1.0    -1.0    -1.0    -1.0    -1.0    -1.0   \n",
       "13520    -1.0  ...    -1.0    -1.0    -1.0    -1.0    -1.0    -1.0    -1.0   \n",
       "13521    -1.0  ...    -1.0    -1.0    -1.0    -1.0    -1.0    -1.0    -1.0   \n",
       "13522    -1.0  ...    -1.0    -1.0    -1.0    -1.0    -1.0    -1.0    -1.0   \n",
       "\n",
       "index  99978   99997   99999   \n",
       "0        -1.0    -1.0    -1.0  \n",
       "1        -1.0    -1.0    -1.0  \n",
       "2        -1.0    -1.0    -1.0  \n",
       "3        -1.0    -1.0    17.0  \n",
       "4        -1.0    -1.0    17.0  \n",
       "...       ...     ...     ...  \n",
       "13518    -1.0    -1.0    -1.0  \n",
       "13519    -1.0    -1.0    -1.0  \n",
       "13520    -1.0    -1.0    -1.0  \n",
       "13521    -1.0    -1.0    -1.0  \n",
       "13522    -1.0    -1.0    -1.0  \n",
       "\n",
       "[13523 rows x 33062 columns]"
      ]
     },
     "execution_count": 135,
     "metadata": {},
     "output_type": "execute_result"
    }
   ],
   "source": [
    "df_rec"
   ]
  },
  {
   "cell_type": "code",
   "execution_count": 136,
   "metadata": {
    "ExecuteTime": {
     "end_time": "2020-03-05T11:57:04.984144Z",
     "start_time": "2020-03-05T11:57:04.956211Z"
    }
   },
   "outputs": [
    {
     "data": {
      "text/html": [
       "<div>\n",
       "<style scoped>\n",
       "    .dataframe tbody tr th:only-of-type {\n",
       "        vertical-align: middle;\n",
       "    }\n",
       "\n",
       "    .dataframe tbody tr th {\n",
       "        vertical-align: top;\n",
       "    }\n",
       "\n",
       "    .dataframe thead th {\n",
       "        text-align: right;\n",
       "    }\n",
       "</style>\n",
       "<table border=\"1\" class=\"dataframe\">\n",
       "  <thead>\n",
       "    <tr style=\"text-align: right;\">\n",
       "      <th>index</th>\n",
       "      <th>100002</th>\n",
       "      <th>10002</th>\n",
       "      <th>100025</th>\n",
       "      <th>100031</th>\n",
       "      <th>100045</th>\n",
       "      <th>100046</th>\n",
       "      <th>100066</th>\n",
       "      <th>100069</th>\n",
       "      <th>100075</th>\n",
       "      <th>10008</th>\n",
       "    </tr>\n",
       "  </thead>\n",
       "  <tbody>\n",
       "    <tr>\n",
       "      <th>0</th>\n",
       "      <td>-1.0</td>\n",
       "      <td>-1.0</td>\n",
       "      <td>-1.0</td>\n",
       "      <td>-1.0</td>\n",
       "      <td>-1.0</td>\n",
       "      <td>-1.0</td>\n",
       "      <td>-1.0</td>\n",
       "      <td>-1.0</td>\n",
       "      <td>-1.0</td>\n",
       "      <td>17.0</td>\n",
       "    </tr>\n",
       "    <tr>\n",
       "      <th>1</th>\n",
       "      <td>-1.0</td>\n",
       "      <td>-1.0</td>\n",
       "      <td>-1.0</td>\n",
       "      <td>-1.0</td>\n",
       "      <td>-1.0</td>\n",
       "      <td>-1.0</td>\n",
       "      <td>-1.0</td>\n",
       "      <td>-1.0</td>\n",
       "      <td>-1.0</td>\n",
       "      <td>10.0</td>\n",
       "    </tr>\n",
       "    <tr>\n",
       "      <th>2</th>\n",
       "      <td>-1.0</td>\n",
       "      <td>-1.0</td>\n",
       "      <td>-1.0</td>\n",
       "      <td>-1.0</td>\n",
       "      <td>-1.0</td>\n",
       "      <td>-1.0</td>\n",
       "      <td>-1.0</td>\n",
       "      <td>-1.0</td>\n",
       "      <td>-1.0</td>\n",
       "      <td>33.0</td>\n",
       "    </tr>\n",
       "    <tr>\n",
       "      <th>3</th>\n",
       "      <td>-1.0</td>\n",
       "      <td>-1.0</td>\n",
       "      <td>-1.0</td>\n",
       "      <td>-1.0</td>\n",
       "      <td>-1.0</td>\n",
       "      <td>-1.0</td>\n",
       "      <td>-1.0</td>\n",
       "      <td>-1.0</td>\n",
       "      <td>-1.0</td>\n",
       "      <td>10.0</td>\n",
       "    </tr>\n",
       "    <tr>\n",
       "      <th>4</th>\n",
       "      <td>-1.0</td>\n",
       "      <td>-1.0</td>\n",
       "      <td>-1.0</td>\n",
       "      <td>-1.0</td>\n",
       "      <td>-1.0</td>\n",
       "      <td>-1.0</td>\n",
       "      <td>33.0</td>\n",
       "      <td>-1.0</td>\n",
       "      <td>-1.0</td>\n",
       "      <td>17.0</td>\n",
       "    </tr>\n",
       "    <tr>\n",
       "      <th>...</th>\n",
       "      <td>...</td>\n",
       "      <td>...</td>\n",
       "      <td>...</td>\n",
       "      <td>...</td>\n",
       "      <td>...</td>\n",
       "      <td>...</td>\n",
       "      <td>...</td>\n",
       "      <td>...</td>\n",
       "      <td>...</td>\n",
       "      <td>...</td>\n",
       "    </tr>\n",
       "    <tr>\n",
       "      <th>13518</th>\n",
       "      <td>-1.0</td>\n",
       "      <td>-1.0</td>\n",
       "      <td>-1.0</td>\n",
       "      <td>-1.0</td>\n",
       "      <td>-1.0</td>\n",
       "      <td>-1.0</td>\n",
       "      <td>-1.0</td>\n",
       "      <td>-1.0</td>\n",
       "      <td>-1.0</td>\n",
       "      <td>-1.0</td>\n",
       "    </tr>\n",
       "    <tr>\n",
       "      <th>13519</th>\n",
       "      <td>-1.0</td>\n",
       "      <td>-1.0</td>\n",
       "      <td>-1.0</td>\n",
       "      <td>-1.0</td>\n",
       "      <td>-1.0</td>\n",
       "      <td>-1.0</td>\n",
       "      <td>-1.0</td>\n",
       "      <td>-1.0</td>\n",
       "      <td>-1.0</td>\n",
       "      <td>-1.0</td>\n",
       "    </tr>\n",
       "    <tr>\n",
       "      <th>13520</th>\n",
       "      <td>-1.0</td>\n",
       "      <td>-1.0</td>\n",
       "      <td>-1.0</td>\n",
       "      <td>-1.0</td>\n",
       "      <td>-1.0</td>\n",
       "      <td>-1.0</td>\n",
       "      <td>-1.0</td>\n",
       "      <td>-1.0</td>\n",
       "      <td>-1.0</td>\n",
       "      <td>-1.0</td>\n",
       "    </tr>\n",
       "    <tr>\n",
       "      <th>13521</th>\n",
       "      <td>-1.0</td>\n",
       "      <td>-1.0</td>\n",
       "      <td>-1.0</td>\n",
       "      <td>-1.0</td>\n",
       "      <td>-1.0</td>\n",
       "      <td>-1.0</td>\n",
       "      <td>-1.0</td>\n",
       "      <td>-1.0</td>\n",
       "      <td>-1.0</td>\n",
       "      <td>-1.0</td>\n",
       "    </tr>\n",
       "    <tr>\n",
       "      <th>13522</th>\n",
       "      <td>-1.0</td>\n",
       "      <td>-1.0</td>\n",
       "      <td>-1.0</td>\n",
       "      <td>-1.0</td>\n",
       "      <td>-1.0</td>\n",
       "      <td>-1.0</td>\n",
       "      <td>-1.0</td>\n",
       "      <td>-1.0</td>\n",
       "      <td>-1.0</td>\n",
       "      <td>-1.0</td>\n",
       "    </tr>\n",
       "  </tbody>\n",
       "</table>\n",
       "<p>13523 rows × 10 columns</p>\n",
       "</div>"
      ],
      "text/plain": [
       "index  100002  10002   100025  100031  100045  100046  100066  100069  100075  \\\n",
       "0        -1.0    -1.0    -1.0    -1.0    -1.0    -1.0    -1.0    -1.0    -1.0   \n",
       "1        -1.0    -1.0    -1.0    -1.0    -1.0    -1.0    -1.0    -1.0    -1.0   \n",
       "2        -1.0    -1.0    -1.0    -1.0    -1.0    -1.0    -1.0    -1.0    -1.0   \n",
       "3        -1.0    -1.0    -1.0    -1.0    -1.0    -1.0    -1.0    -1.0    -1.0   \n",
       "4        -1.0    -1.0    -1.0    -1.0    -1.0    -1.0    33.0    -1.0    -1.0   \n",
       "...       ...     ...     ...     ...     ...     ...     ...     ...     ...   \n",
       "13518    -1.0    -1.0    -1.0    -1.0    -1.0    -1.0    -1.0    -1.0    -1.0   \n",
       "13519    -1.0    -1.0    -1.0    -1.0    -1.0    -1.0    -1.0    -1.0    -1.0   \n",
       "13520    -1.0    -1.0    -1.0    -1.0    -1.0    -1.0    -1.0    -1.0    -1.0   \n",
       "13521    -1.0    -1.0    -1.0    -1.0    -1.0    -1.0    -1.0    -1.0    -1.0   \n",
       "13522    -1.0    -1.0    -1.0    -1.0    -1.0    -1.0    -1.0    -1.0    -1.0   \n",
       "\n",
       "index  10008   \n",
       "0        17.0  \n",
       "1        10.0  \n",
       "2        33.0  \n",
       "3        10.0  \n",
       "4        17.0  \n",
       "...       ...  \n",
       "13518    -1.0  \n",
       "13519    -1.0  \n",
       "13520    -1.0  \n",
       "13521    -1.0  \n",
       "13522    -1.0  \n",
       "\n",
       "[13523 rows x 10 columns]"
      ]
     },
     "execution_count": 136,
     "metadata": {},
     "output_type": "execute_result"
    }
   ],
   "source": [
    "df_rec.iloc[:,:10]"
   ]
  },
  {
   "cell_type": "code",
   "execution_count": null,
   "metadata": {},
   "outputs": [],
   "source": []
  },
  {
   "cell_type": "code",
   "execution_count": 137,
   "metadata": {
    "ExecuteTime": {
     "end_time": "2020-03-05T11:57:39.665445Z",
     "start_time": "2020-03-05T11:57:07.055597Z"
    },
    "scrolled": true
   },
   "outputs": [
    {
     "data": {
      "application/vnd.jupyter.widget-view+json": {
       "model_id": "cd308cf959f647d78d34e1266704fc04",
       "version_major": 2,
       "version_minor": 0
      },
      "text/plain": [
       "HBox(children=(FloatProgress(value=0.0, max=33062.0), HTML(value='')))"
      ]
     },
     "metadata": {},
     "output_type": "display_data"
    },
    {
     "name": "stdout",
     "output_type": "stream",
     "text": [
      "\n"
     ]
    }
   ],
   "source": [
    "df_clusters = pd.DataFrame(df_rec.progress_apply(lambda x: x.value_counts().to_dict()).to_dict()).fillna(0).drop(-1).sort_index().T\n",
    "\n",
    "df_clusters.columns = ['cluster_'+str(int(col)) for col in df_clusters.columns]"
   ]
  },
  {
   "cell_type": "code",
   "execution_count": 138,
   "metadata": {
    "ExecuteTime": {
     "end_time": "2020-03-05T11:57:39.672636Z",
     "start_time": "2020-03-05T11:57:39.667625Z"
    }
   },
   "outputs": [],
   "source": [
    "df_clusters_T = df_clusters.T"
   ]
  },
  {
   "cell_type": "code",
   "execution_count": 139,
   "metadata": {
    "ExecuteTime": {
     "end_time": "2020-03-05T11:57:39.714648Z",
     "start_time": "2020-03-05T11:57:39.677457Z"
    }
   },
   "outputs": [],
   "source": [
    "df_clusters = df_clusters.div(df_clusters.sum(axis=1),axis=0).fillna(0)"
   ]
  },
  {
   "cell_type": "code",
   "execution_count": 140,
   "metadata": {
    "ExecuteTime": {
     "end_time": "2020-03-05T11:57:56.190724Z",
     "start_time": "2020-03-05T11:57:39.717137Z"
    }
   },
   "outputs": [],
   "source": [
    "df_clusters.to_sql('clusters',connection,if_exists='replace')"
   ]
  },
  {
   "cell_type": "code",
   "execution_count": 141,
   "metadata": {
    "ExecuteTime": {
     "end_time": "2020-03-05T11:57:56.224834Z",
     "start_time": "2020-03-05T11:57:56.193345Z"
    }
   },
   "outputs": [
    {
     "data": {
      "text/html": [
       "<div>\n",
       "<style scoped>\n",
       "    .dataframe tbody tr th:only-of-type {\n",
       "        vertical-align: middle;\n",
       "    }\n",
       "\n",
       "    .dataframe tbody tr th {\n",
       "        vertical-align: top;\n",
       "    }\n",
       "\n",
       "    .dataframe thead th {\n",
       "        text-align: right;\n",
       "    }\n",
       "</style>\n",
       "<table border=\"1\" class=\"dataframe\">\n",
       "  <thead>\n",
       "    <tr style=\"text-align: right;\">\n",
       "      <th></th>\n",
       "      <th>cluster_0</th>\n",
       "      <th>cluster_1</th>\n",
       "      <th>cluster_2</th>\n",
       "      <th>cluster_3</th>\n",
       "      <th>cluster_4</th>\n",
       "      <th>cluster_5</th>\n",
       "      <th>cluster_6</th>\n",
       "      <th>cluster_7</th>\n",
       "      <th>cluster_8</th>\n",
       "      <th>cluster_9</th>\n",
       "      <th>...</th>\n",
       "      <th>cluster_40</th>\n",
       "      <th>cluster_41</th>\n",
       "      <th>cluster_42</th>\n",
       "      <th>cluster_43</th>\n",
       "      <th>cluster_44</th>\n",
       "      <th>cluster_45</th>\n",
       "      <th>cluster_46</th>\n",
       "      <th>cluster_47</th>\n",
       "      <th>cluster_48</th>\n",
       "      <th>cluster_49</th>\n",
       "    </tr>\n",
       "  </thead>\n",
       "  <tbody>\n",
       "    <tr>\n",
       "      <th>100002</th>\n",
       "      <td>0.0</td>\n",
       "      <td>0.000000</td>\n",
       "      <td>0.000000</td>\n",
       "      <td>0.0</td>\n",
       "      <td>0.000000</td>\n",
       "      <td>0.000000</td>\n",
       "      <td>0.0</td>\n",
       "      <td>0.0</td>\n",
       "      <td>0.000000</td>\n",
       "      <td>0.000000</td>\n",
       "      <td>...</td>\n",
       "      <td>0.000000</td>\n",
       "      <td>0.0</td>\n",
       "      <td>0.0</td>\n",
       "      <td>0.0</td>\n",
       "      <td>0.000000</td>\n",
       "      <td>0.0</td>\n",
       "      <td>0.0</td>\n",
       "      <td>0.0</td>\n",
       "      <td>0.000000</td>\n",
       "      <td>0.000000</td>\n",
       "    </tr>\n",
       "    <tr>\n",
       "      <th>10002</th>\n",
       "      <td>0.0</td>\n",
       "      <td>0.000000</td>\n",
       "      <td>0.000000</td>\n",
       "      <td>0.0</td>\n",
       "      <td>0.000000</td>\n",
       "      <td>0.000000</td>\n",
       "      <td>0.0</td>\n",
       "      <td>0.0</td>\n",
       "      <td>0.000000</td>\n",
       "      <td>0.000000</td>\n",
       "      <td>...</td>\n",
       "      <td>0.000000</td>\n",
       "      <td>0.0</td>\n",
       "      <td>0.0</td>\n",
       "      <td>0.0</td>\n",
       "      <td>0.000000</td>\n",
       "      <td>0.0</td>\n",
       "      <td>0.0</td>\n",
       "      <td>0.0</td>\n",
       "      <td>0.000000</td>\n",
       "      <td>0.000000</td>\n",
       "    </tr>\n",
       "    <tr>\n",
       "      <th>100025</th>\n",
       "      <td>0.0</td>\n",
       "      <td>0.000000</td>\n",
       "      <td>0.000000</td>\n",
       "      <td>0.0</td>\n",
       "      <td>0.000000</td>\n",
       "      <td>0.000000</td>\n",
       "      <td>0.0</td>\n",
       "      <td>0.0</td>\n",
       "      <td>0.000000</td>\n",
       "      <td>0.000000</td>\n",
       "      <td>...</td>\n",
       "      <td>0.000000</td>\n",
       "      <td>0.0</td>\n",
       "      <td>0.0</td>\n",
       "      <td>0.0</td>\n",
       "      <td>0.000000</td>\n",
       "      <td>0.0</td>\n",
       "      <td>0.0</td>\n",
       "      <td>0.0</td>\n",
       "      <td>0.000000</td>\n",
       "      <td>0.000000</td>\n",
       "    </tr>\n",
       "    <tr>\n",
       "      <th>100031</th>\n",
       "      <td>0.0</td>\n",
       "      <td>0.000000</td>\n",
       "      <td>0.000000</td>\n",
       "      <td>0.0</td>\n",
       "      <td>0.000000</td>\n",
       "      <td>0.000000</td>\n",
       "      <td>0.0</td>\n",
       "      <td>0.0</td>\n",
       "      <td>0.000000</td>\n",
       "      <td>0.000000</td>\n",
       "      <td>...</td>\n",
       "      <td>0.000000</td>\n",
       "      <td>0.0</td>\n",
       "      <td>0.0</td>\n",
       "      <td>0.0</td>\n",
       "      <td>0.000000</td>\n",
       "      <td>0.0</td>\n",
       "      <td>0.0</td>\n",
       "      <td>0.0</td>\n",
       "      <td>0.000000</td>\n",
       "      <td>0.000000</td>\n",
       "    </tr>\n",
       "    <tr>\n",
       "      <th>100045</th>\n",
       "      <td>0.0</td>\n",
       "      <td>0.000000</td>\n",
       "      <td>0.000000</td>\n",
       "      <td>0.0</td>\n",
       "      <td>0.000000</td>\n",
       "      <td>0.000000</td>\n",
       "      <td>0.0</td>\n",
       "      <td>0.0</td>\n",
       "      <td>0.000000</td>\n",
       "      <td>0.000000</td>\n",
       "      <td>...</td>\n",
       "      <td>0.000000</td>\n",
       "      <td>0.0</td>\n",
       "      <td>0.0</td>\n",
       "      <td>0.0</td>\n",
       "      <td>0.000000</td>\n",
       "      <td>0.0</td>\n",
       "      <td>0.0</td>\n",
       "      <td>0.0</td>\n",
       "      <td>0.000000</td>\n",
       "      <td>0.000000</td>\n",
       "    </tr>\n",
       "    <tr>\n",
       "      <th>...</th>\n",
       "      <td>...</td>\n",
       "      <td>...</td>\n",
       "      <td>...</td>\n",
       "      <td>...</td>\n",
       "      <td>...</td>\n",
       "      <td>...</td>\n",
       "      <td>...</td>\n",
       "      <td>...</td>\n",
       "      <td>...</td>\n",
       "      <td>...</td>\n",
       "      <td>...</td>\n",
       "      <td>...</td>\n",
       "      <td>...</td>\n",
       "      <td>...</td>\n",
       "      <td>...</td>\n",
       "      <td>...</td>\n",
       "      <td>...</td>\n",
       "      <td>...</td>\n",
       "      <td>...</td>\n",
       "      <td>...</td>\n",
       "      <td>...</td>\n",
       "    </tr>\n",
       "    <tr>\n",
       "      <th>99962</th>\n",
       "      <td>0.0</td>\n",
       "      <td>0.000000</td>\n",
       "      <td>0.000000</td>\n",
       "      <td>0.0</td>\n",
       "      <td>0.000000</td>\n",
       "      <td>0.000000</td>\n",
       "      <td>0.0</td>\n",
       "      <td>0.0</td>\n",
       "      <td>0.000000</td>\n",
       "      <td>0.000000</td>\n",
       "      <td>...</td>\n",
       "      <td>0.000000</td>\n",
       "      <td>0.0</td>\n",
       "      <td>0.0</td>\n",
       "      <td>0.0</td>\n",
       "      <td>0.000000</td>\n",
       "      <td>0.0</td>\n",
       "      <td>0.0</td>\n",
       "      <td>0.0</td>\n",
       "      <td>0.000000</td>\n",
       "      <td>0.000000</td>\n",
       "    </tr>\n",
       "    <tr>\n",
       "      <th>99967</th>\n",
       "      <td>0.0</td>\n",
       "      <td>0.000000</td>\n",
       "      <td>0.000000</td>\n",
       "      <td>0.0</td>\n",
       "      <td>0.000000</td>\n",
       "      <td>0.000000</td>\n",
       "      <td>0.0</td>\n",
       "      <td>0.0</td>\n",
       "      <td>0.000000</td>\n",
       "      <td>0.000000</td>\n",
       "      <td>...</td>\n",
       "      <td>0.000000</td>\n",
       "      <td>0.0</td>\n",
       "      <td>0.0</td>\n",
       "      <td>0.0</td>\n",
       "      <td>0.000000</td>\n",
       "      <td>0.0</td>\n",
       "      <td>0.0</td>\n",
       "      <td>0.0</td>\n",
       "      <td>0.000000</td>\n",
       "      <td>0.000000</td>\n",
       "    </tr>\n",
       "    <tr>\n",
       "      <th>99978</th>\n",
       "      <td>0.0</td>\n",
       "      <td>0.000000</td>\n",
       "      <td>0.000000</td>\n",
       "      <td>0.0</td>\n",
       "      <td>0.000000</td>\n",
       "      <td>0.000000</td>\n",
       "      <td>0.0</td>\n",
       "      <td>0.0</td>\n",
       "      <td>0.000000</td>\n",
       "      <td>0.000000</td>\n",
       "      <td>...</td>\n",
       "      <td>0.000000</td>\n",
       "      <td>0.0</td>\n",
       "      <td>0.0</td>\n",
       "      <td>0.0</td>\n",
       "      <td>0.000000</td>\n",
       "      <td>0.0</td>\n",
       "      <td>0.0</td>\n",
       "      <td>0.0</td>\n",
       "      <td>0.000000</td>\n",
       "      <td>0.000000</td>\n",
       "    </tr>\n",
       "    <tr>\n",
       "      <th>99997</th>\n",
       "      <td>0.0</td>\n",
       "      <td>0.000000</td>\n",
       "      <td>0.000000</td>\n",
       "      <td>0.0</td>\n",
       "      <td>0.000000</td>\n",
       "      <td>0.000000</td>\n",
       "      <td>0.0</td>\n",
       "      <td>0.0</td>\n",
       "      <td>0.000000</td>\n",
       "      <td>0.000000</td>\n",
       "      <td>...</td>\n",
       "      <td>0.000000</td>\n",
       "      <td>0.0</td>\n",
       "      <td>0.0</td>\n",
       "      <td>0.0</td>\n",
       "      <td>0.000000</td>\n",
       "      <td>0.0</td>\n",
       "      <td>0.0</td>\n",
       "      <td>0.0</td>\n",
       "      <td>0.000000</td>\n",
       "      <td>0.000000</td>\n",
       "    </tr>\n",
       "    <tr>\n",
       "      <th>99999</th>\n",
       "      <td>0.0</td>\n",
       "      <td>0.084615</td>\n",
       "      <td>0.015385</td>\n",
       "      <td>0.0</td>\n",
       "      <td>0.030769</td>\n",
       "      <td>0.076923</td>\n",
       "      <td>0.0</td>\n",
       "      <td>0.0</td>\n",
       "      <td>0.015385</td>\n",
       "      <td>0.015385</td>\n",
       "      <td>...</td>\n",
       "      <td>0.061538</td>\n",
       "      <td>0.0</td>\n",
       "      <td>0.0</td>\n",
       "      <td>0.0</td>\n",
       "      <td>0.023077</td>\n",
       "      <td>0.0</td>\n",
       "      <td>0.0</td>\n",
       "      <td>0.0</td>\n",
       "      <td>0.030769</td>\n",
       "      <td>0.023077</td>\n",
       "    </tr>\n",
       "  </tbody>\n",
       "</table>\n",
       "<p>33062 rows × 50 columns</p>\n",
       "</div>"
      ],
      "text/plain": [
       "        cluster_0  cluster_1  cluster_2  cluster_3  cluster_4  cluster_5  \\\n",
       "100002        0.0   0.000000   0.000000        0.0   0.000000   0.000000   \n",
       "10002         0.0   0.000000   0.000000        0.0   0.000000   0.000000   \n",
       "100025        0.0   0.000000   0.000000        0.0   0.000000   0.000000   \n",
       "100031        0.0   0.000000   0.000000        0.0   0.000000   0.000000   \n",
       "100045        0.0   0.000000   0.000000        0.0   0.000000   0.000000   \n",
       "...           ...        ...        ...        ...        ...        ...   \n",
       "99962         0.0   0.000000   0.000000        0.0   0.000000   0.000000   \n",
       "99967         0.0   0.000000   0.000000        0.0   0.000000   0.000000   \n",
       "99978         0.0   0.000000   0.000000        0.0   0.000000   0.000000   \n",
       "99997         0.0   0.000000   0.000000        0.0   0.000000   0.000000   \n",
       "99999         0.0   0.084615   0.015385        0.0   0.030769   0.076923   \n",
       "\n",
       "        cluster_6  cluster_7  cluster_8  cluster_9  ...  cluster_40  \\\n",
       "100002        0.0        0.0   0.000000   0.000000  ...    0.000000   \n",
       "10002         0.0        0.0   0.000000   0.000000  ...    0.000000   \n",
       "100025        0.0        0.0   0.000000   0.000000  ...    0.000000   \n",
       "100031        0.0        0.0   0.000000   0.000000  ...    0.000000   \n",
       "100045        0.0        0.0   0.000000   0.000000  ...    0.000000   \n",
       "...           ...        ...        ...        ...  ...         ...   \n",
       "99962         0.0        0.0   0.000000   0.000000  ...    0.000000   \n",
       "99967         0.0        0.0   0.000000   0.000000  ...    0.000000   \n",
       "99978         0.0        0.0   0.000000   0.000000  ...    0.000000   \n",
       "99997         0.0        0.0   0.000000   0.000000  ...    0.000000   \n",
       "99999         0.0        0.0   0.015385   0.015385  ...    0.061538   \n",
       "\n",
       "        cluster_41  cluster_42  cluster_43  cluster_44  cluster_45  \\\n",
       "100002         0.0         0.0         0.0    0.000000         0.0   \n",
       "10002          0.0         0.0         0.0    0.000000         0.0   \n",
       "100025         0.0         0.0         0.0    0.000000         0.0   \n",
       "100031         0.0         0.0         0.0    0.000000         0.0   \n",
       "100045         0.0         0.0         0.0    0.000000         0.0   \n",
       "...            ...         ...         ...         ...         ...   \n",
       "99962          0.0         0.0         0.0    0.000000         0.0   \n",
       "99967          0.0         0.0         0.0    0.000000         0.0   \n",
       "99978          0.0         0.0         0.0    0.000000         0.0   \n",
       "99997          0.0         0.0         0.0    0.000000         0.0   \n",
       "99999          0.0         0.0         0.0    0.023077         0.0   \n",
       "\n",
       "        cluster_46  cluster_47  cluster_48  cluster_49  \n",
       "100002         0.0         0.0    0.000000    0.000000  \n",
       "10002          0.0         0.0    0.000000    0.000000  \n",
       "100025         0.0         0.0    0.000000    0.000000  \n",
       "100031         0.0         0.0    0.000000    0.000000  \n",
       "100045         0.0         0.0    0.000000    0.000000  \n",
       "...            ...         ...         ...         ...  \n",
       "99962          0.0         0.0    0.000000    0.000000  \n",
       "99967          0.0         0.0    0.000000    0.000000  \n",
       "99978          0.0         0.0    0.000000    0.000000  \n",
       "99997          0.0         0.0    0.000000    0.000000  \n",
       "99999          0.0         0.0    0.030769    0.023077  \n",
       "\n",
       "[33062 rows x 50 columns]"
      ]
     },
     "execution_count": 141,
     "metadata": {},
     "output_type": "execute_result"
    }
   ],
   "source": [
    "df_clusters"
   ]
  },
  {
   "cell_type": "code",
   "execution_count": 142,
   "metadata": {
    "ExecuteTime": {
     "end_time": "2020-03-05T11:59:45.089044Z",
     "start_time": "2020-03-05T11:57:56.226918Z"
    }
   },
   "outputs": [],
   "source": [
    "df_climbs['logs_flat'] = [repr(comment) for comment in df_climbs['logs']]\n",
    "df_climbs.drop('logs',axis=1).to_sql('climbs_labled',connection,if_exists='replace')"
   ]
  },
  {
   "cell_type": "code",
   "execution_count": null,
   "metadata": {},
   "outputs": [],
   "source": []
  },
  {
   "cell_type": "code",
   "execution_count": 145,
   "metadata": {
    "ExecuteTime": {
     "end_time": "2020-03-05T12:48:35.975312Z",
     "start_time": "2020-03-05T12:48:35.897106Z"
    }
   },
   "outputs": [
    {
     "data": {
      "text/html": [
       "<div>\n",
       "<style scoped>\n",
       "    .dataframe tbody tr th:only-of-type {\n",
       "        vertical-align: middle;\n",
       "    }\n",
       "\n",
       "    .dataframe tbody tr th {\n",
       "        vertical-align: top;\n",
       "    }\n",
       "\n",
       "    .dataframe thead th {\n",
       "        text-align: right;\n",
       "    }\n",
       "</style>\n",
       "<table border=\"1\" class=\"dataframe\">\n",
       "  <thead>\n",
       "    <tr style=\"text-align: right;\">\n",
       "      <th></th>\n",
       "      <th>id</th>\n",
       "      <th>url</th>\n",
       "      <th>climbname</th>\n",
       "      <th>rating</th>\n",
       "      <th>grade</th>\n",
       "      <th>crag_id</th>\n",
       "      <th>desc</th>\n",
       "      <th>num_comments</th>\n",
       "      <th>type</th>\n",
       "      <th>comments_flat</th>\n",
       "      <th>logs</th>\n",
       "      <th>in_uk</th>\n",
       "      <th>labels</th>\n",
       "      <th>logs_flat</th>\n",
       "    </tr>\n",
       "    <tr>\n",
       "      <th>index</th>\n",
       "      <th></th>\n",
       "      <th></th>\n",
       "      <th></th>\n",
       "      <th></th>\n",
       "      <th></th>\n",
       "      <th></th>\n",
       "      <th></th>\n",
       "      <th></th>\n",
       "      <th></th>\n",
       "      <th></th>\n",
       "      <th></th>\n",
       "      <th></th>\n",
       "      <th></th>\n",
       "      <th></th>\n",
       "    </tr>\n",
       "  </thead>\n",
       "  <tbody>\n",
       "    <tr>\n",
       "      <th>437768</th>\n",
       "      <td>437768</td>\n",
       "      <td>https://www.ukclimbing.com/logbook/c.php?i=437768</td>\n",
       "      <td>Bristol Stool</td>\n",
       "      <td>1</td>\n",
       "      <td>f7A</td>\n",
       "      <td>101</td>\n",
       "      <td>The centre of the square face to a tricky top-...</td>\n",
       "      <td>2</td>\n",
       "      <td>boulder</td>\n",
       "      <td>'The centre of the square face to a tricky top...</td>\n",
       "      <td>{'224045': 'Is this the SS in a midget pocket?'}</td>\n",
       "      <td>True</td>\n",
       "      <td>15.0</td>\n",
       "      <td>{'224045': 'Is this the SS in a midget pocket?'}</td>\n",
       "    </tr>\n",
       "  </tbody>\n",
       "</table>\n",
       "</div>"
      ],
      "text/plain": [
       "            id                                                url  \\\n",
       "index                                                               \n",
       "437768  437768  https://www.ukclimbing.com/logbook/c.php?i=437768   \n",
       "\n",
       "            climbname rating grade crag_id  \\\n",
       "index                                        \n",
       "437768  Bristol Stool      1   f7A     101   \n",
       "\n",
       "                                                     desc num_comments  \\\n",
       "index                                                                    \n",
       "437768  The centre of the square face to a tricky top-...            2   \n",
       "\n",
       "           type                                      comments_flat  \\\n",
       "index                                                                \n",
       "437768  boulder  'The centre of the square face to a tricky top...   \n",
       "\n",
       "                                                    logs  in_uk  labels  \\\n",
       "index                                                                     \n",
       "437768  {'224045': 'Is this the SS in a midget pocket?'}   True    15.0   \n",
       "\n",
       "                                               logs_flat  \n",
       "index                                                     \n",
       "437768  {'224045': 'Is this the SS in a midget pocket?'}  "
      ]
     },
     "execution_count": 145,
     "metadata": {},
     "output_type": "execute_result"
    }
   ],
   "source": [
    "df_climbs[(df_climbs['crag_id']==101)&(df_climbs['labels']==15)]"
   ]
  },
  {
   "cell_type": "code",
   "execution_count": null,
   "metadata": {},
   "outputs": [],
   "source": []
  }
 ],
 "metadata": {
  "kernelspec": {
   "display_name": "Python 3",
   "language": "python",
   "name": "python3"
  },
  "language_info": {
   "codemirror_mode": {
    "name": "ipython",
    "version": 3
   },
   "file_extension": ".py",
   "mimetype": "text/x-python",
   "name": "python",
   "nbconvert_exporter": "python",
   "pygments_lexer": "ipython3",
   "version": "3.7.6"
  }
 },
 "nbformat": 4,
 "nbformat_minor": 2
}
