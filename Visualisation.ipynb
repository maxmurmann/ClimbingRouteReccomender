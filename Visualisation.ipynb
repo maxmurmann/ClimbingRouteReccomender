{
 "cells": [
  {
   "cell_type": "code",
   "execution_count": 1,
   "metadata": {
    "ExecuteTime": {
     "end_time": "2020-03-05T11:50:30.748868Z",
     "start_time": "2020-03-05T11:50:29.306914Z"
    }
   },
   "outputs": [],
   "source": [
    "import pandas as pd\n",
    "import numpy as np\n",
    "import seaborn as sns\n",
    "from pandas.io import sql\n",
    "from sqlalchemy import create_engine\n",
    "import csv\n",
    "from tqdm.notebook import tqdm\n",
    "import matplotlib.pyplot as plt\n",
    "plt.style.use('ggplot')\n",
    "%matplotlib inline\n",
    "%config InlineBackend.figure_format = 'retina'"
   ]
  },
  {
   "cell_type": "code",
   "execution_count": 2,
   "metadata": {
    "ExecuteTime": {
     "end_time": "2020-03-05T11:50:30.755707Z",
     "start_time": "2020-03-05T11:50:30.750906Z"
    }
   },
   "outputs": [
    {
     "name": "stderr",
     "output_type": "stream",
     "text": [
      "/Users/max/opt/anaconda3/lib/python3.7/site-packages/tqdm/std.py:658: FutureWarning: The Panel class is removed from pandas. Accessing it from the top-level namespace will also be removed in the next version\n",
      "  from pandas import Panel\n"
     ]
    }
   ],
   "source": [
    "tqdm.pandas()"
   ]
  },
  {
   "cell_type": "code",
   "execution_count": 3,
   "metadata": {
    "ExecuteTime": {
     "end_time": "2020-03-05T11:50:30.800996Z",
     "start_time": "2020-03-05T11:50:30.758388Z"
    }
   },
   "outputs": [],
   "source": [
    "db_user = 'postgres'\n",
    "db_password = ''\n",
    "db_host = 'localhost'\n",
    "db_port = 5432\n",
    "database = 'climbing'\n",
    "\n",
    "conn_str = f'postgresql://{db_user}:{db_password}@{db_host}:{db_port}/{database}'\n",
    "connection = create_engine(conn_str)"
   ]
  },
  {
   "cell_type": "code",
   "execution_count": 4,
   "metadata": {
    "ExecuteTime": {
     "end_time": "2020-03-05T11:50:32.914359Z",
     "start_time": "2020-03-05T11:50:30.910346Z"
    }
   },
   "outputs": [
    {
     "data": {
      "text/html": [
       "<div>\n",
       "<style scoped>\n",
       "    .dataframe tbody tr th:only-of-type {\n",
       "        vertical-align: middle;\n",
       "    }\n",
       "\n",
       "    .dataframe tbody tr th {\n",
       "        vertical-align: top;\n",
       "    }\n",
       "\n",
       "    .dataframe thead th {\n",
       "        text-align: right;\n",
       "    }\n",
       "</style>\n",
       "<table border=\"1\" class=\"dataframe\">\n",
       "  <thead>\n",
       "    <tr style=\"text-align: right;\">\n",
       "      <th></th>\n",
       "      <th>url</th>\n",
       "      <th>cragname</th>\n",
       "      <th>climbs</th>\n",
       "      <th>rocktype</th>\n",
       "      <th>altitude</th>\n",
       "      <th>faces</th>\n",
       "      <th>lat</th>\n",
       "      <th>long</th>\n",
       "      <th>climb_list</th>\n",
       "    </tr>\n",
       "    <tr>\n",
       "      <th>index</th>\n",
       "      <th></th>\n",
       "      <th></th>\n",
       "      <th></th>\n",
       "      <th></th>\n",
       "      <th></th>\n",
       "      <th></th>\n",
       "      <th></th>\n",
       "      <th></th>\n",
       "      <th></th>\n",
       "    </tr>\n",
       "  </thead>\n",
       "  <tbody>\n",
       "    <tr>\n",
       "      <th>4</th>\n",
       "      <td>https://www.ukclimbing.com/logbook/crag.php?id=4</td>\n",
       "      <td>Dinas Cromlech</td>\n",
       "      <td>79</td>\n",
       "      <td>Rhyolite</td>\n",
       "      <td>500.0</td>\n",
       "      <td>S</td>\n",
       "      <td>53.0917</td>\n",
       "      <td>-4.0489</td>\n",
       "      <td>[(3166, 0), (3167, 0), (3168, 3), (3169, 1), (...</td>\n",
       "    </tr>\n",
       "    <tr>\n",
       "      <th>5</th>\n",
       "      <td>https://www.ukclimbing.com/logbook/crag.php?id=5</td>\n",
       "      <td>Bus Stop Quarry</td>\n",
       "      <td>115</td>\n",
       "      <td>Slate</td>\n",
       "      <td>450.0</td>\n",
       "      <td>None</td>\n",
       "      <td>53.1294</td>\n",
       "      <td>-4.1058</td>\n",
       "      <td>[(141016, 1), (136481, 1), (134391, 1), (1309,...</td>\n",
       "    </tr>\n",
       "    <tr>\n",
       "      <th>6</th>\n",
       "      <td>https://www.ukclimbing.com/logbook/crag.php?id=6</td>\n",
       "      <td>Craig Pant Ifan (Tremadog)</td>\n",
       "      <td>176</td>\n",
       "      <td>Dolerite</td>\n",
       "      <td>NaN</td>\n",
       "      <td>S</td>\n",
       "      <td>52.9436</td>\n",
       "      <td>-4.1311</td>\n",
       "      <td>[(152703, 0), (100182, 1), (2561, 2), (2562, 2...</td>\n",
       "    </tr>\n",
       "    <tr>\n",
       "      <th>7</th>\n",
       "      <td>https://www.ukclimbing.com/logbook/crag.php?id=7</td>\n",
       "      <td>St. Govan's Head</td>\n",
       "      <td>151</td>\n",
       "      <td>Limestone</td>\n",
       "      <td>12.0</td>\n",
       "      <td>SW</td>\n",
       "      <td>51.5977</td>\n",
       "      <td>-4.9277</td>\n",
       "      <td>[(401447, 0), (138693, 1), (58187, 1), (150671...</td>\n",
       "    </tr>\n",
       "    <tr>\n",
       "      <th>8</th>\n",
       "      <td>https://www.ukclimbing.com/logbook/crag.php?id=8</td>\n",
       "      <td>Carreg-y-Barcud Area</td>\n",
       "      <td>128</td>\n",
       "      <td>Sandstone (hard)</td>\n",
       "      <td>13.0</td>\n",
       "      <td>S</td>\n",
       "      <td>51.8719</td>\n",
       "      <td>-5.2350</td>\n",
       "      <td>[(503566, 0), (503567, 0), (503568, 0), (50356...</td>\n",
       "    </tr>\n",
       "    <tr>\n",
       "      <th>...</th>\n",
       "      <td>...</td>\n",
       "      <td>...</td>\n",
       "      <td>...</td>\n",
       "      <td>...</td>\n",
       "      <td>...</td>\n",
       "      <td>...</td>\n",
       "      <td>...</td>\n",
       "      <td>...</td>\n",
       "      <td>...</td>\n",
       "    </tr>\n",
       "    <tr>\n",
       "      <th>27429</th>\n",
       "      <td>https://www.ukclimbing.com/logbook/crag.php?id...</td>\n",
       "      <td>Gap Bon ami boulders</td>\n",
       "      <td>0</td>\n",
       "      <td>UNKNOWN</td>\n",
       "      <td>NaN</td>\n",
       "      <td>None</td>\n",
       "      <td>48.8067</td>\n",
       "      <td>-64.2198</td>\n",
       "      <td>[]</td>\n",
       "    </tr>\n",
       "    <tr>\n",
       "      <th>27430</th>\n",
       "      <td>https://www.ukclimbing.com/logbook/crag.php?id...</td>\n",
       "      <td>Metal Expert</td>\n",
       "      <td>8</td>\n",
       "      <td>UNKNOWN</td>\n",
       "      <td>NaN</td>\n",
       "      <td>None</td>\n",
       "      <td>45.5454</td>\n",
       "      <td>25.5181</td>\n",
       "      <td>[(560519, 3), (560520, 3), (560521, 0), (56052...</td>\n",
       "    </tr>\n",
       "    <tr>\n",
       "      <th>27431</th>\n",
       "      <td>https://www.ukclimbing.com/logbook/crag.php?id...</td>\n",
       "      <td>Las Palomas</td>\n",
       "      <td>3</td>\n",
       "      <td>UNKNOWN</td>\n",
       "      <td>NaN</td>\n",
       "      <td>None</td>\n",
       "      <td>28.1159</td>\n",
       "      <td>-16.5589</td>\n",
       "      <td>[(560451, 2), (560452, 2), (560453, 2)]</td>\n",
       "    </tr>\n",
       "    <tr>\n",
       "      <th>27432</th>\n",
       "      <td>https://www.ukclimbing.com/logbook/crag.php?id...</td>\n",
       "      <td>Corral de Vacos</td>\n",
       "      <td>62</td>\n",
       "      <td>UNKNOWN</td>\n",
       "      <td>NaN</td>\n",
       "      <td>None</td>\n",
       "      <td>39.5282</td>\n",
       "      <td>-0.8342</td>\n",
       "      <td>[(560454, 0), (560455, 0), (560456, 0), (56045...</td>\n",
       "    </tr>\n",
       "    <tr>\n",
       "      <th>27434</th>\n",
       "      <td>https://www.ukclimbing.com/logbook/crag.php?id...</td>\n",
       "      <td>Elsie's Peak</td>\n",
       "      <td>0</td>\n",
       "      <td>UNKNOWN</td>\n",
       "      <td>NaN</td>\n",
       "      <td>None</td>\n",
       "      <td>-34.1501</td>\n",
       "      <td>18.4355</td>\n",
       "      <td>[]</td>\n",
       "    </tr>\n",
       "  </tbody>\n",
       "</table>\n",
       "<p>19749 rows × 9 columns</p>\n",
       "</div>"
      ],
      "text/plain": [
       "                                                     url  \\\n",
       "index                                                      \n",
       "4       https://www.ukclimbing.com/logbook/crag.php?id=4   \n",
       "5       https://www.ukclimbing.com/logbook/crag.php?id=5   \n",
       "6       https://www.ukclimbing.com/logbook/crag.php?id=6   \n",
       "7       https://www.ukclimbing.com/logbook/crag.php?id=7   \n",
       "8       https://www.ukclimbing.com/logbook/crag.php?id=8   \n",
       "...                                                  ...   \n",
       "27429  https://www.ukclimbing.com/logbook/crag.php?id...   \n",
       "27430  https://www.ukclimbing.com/logbook/crag.php?id...   \n",
       "27431  https://www.ukclimbing.com/logbook/crag.php?id...   \n",
       "27432  https://www.ukclimbing.com/logbook/crag.php?id...   \n",
       "27434  https://www.ukclimbing.com/logbook/crag.php?id...   \n",
       "\n",
       "                         cragname  climbs          rocktype  altitude faces  \\\n",
       "index                                                                         \n",
       "4                  Dinas Cromlech      79          Rhyolite     500.0     S   \n",
       "5                 Bus Stop Quarry     115             Slate     450.0  None   \n",
       "6      Craig Pant Ifan (Tremadog)     176          Dolerite       NaN     S   \n",
       "7                St. Govan's Head     151         Limestone      12.0    SW   \n",
       "8            Carreg-y-Barcud Area     128  Sandstone (hard)      13.0     S   \n",
       "...                           ...     ...               ...       ...   ...   \n",
       "27429        Gap Bon ami boulders       0           UNKNOWN       NaN  None   \n",
       "27430                Metal Expert       8           UNKNOWN       NaN  None   \n",
       "27431                 Las Palomas       3           UNKNOWN       NaN  None   \n",
       "27432             Corral de Vacos      62           UNKNOWN       NaN  None   \n",
       "27434                Elsie's Peak       0           UNKNOWN       NaN  None   \n",
       "\n",
       "           lat     long                                         climb_list  \n",
       "index                                                                       \n",
       "4      53.0917  -4.0489  [(3166, 0), (3167, 0), (3168, 3), (3169, 1), (...  \n",
       "5      53.1294  -4.1058  [(141016, 1), (136481, 1), (134391, 1), (1309,...  \n",
       "6      52.9436  -4.1311  [(152703, 0), (100182, 1), (2561, 2), (2562, 2...  \n",
       "7      51.5977  -4.9277  [(401447, 0), (138693, 1), (58187, 1), (150671...  \n",
       "8      51.8719  -5.2350  [(503566, 0), (503567, 0), (503568, 0), (50356...  \n",
       "...        ...      ...                                                ...  \n",
       "27429  48.8067 -64.2198                                                 []  \n",
       "27430  45.5454  25.5181  [(560519, 3), (560520, 3), (560521, 0), (56052...  \n",
       "27431  28.1159 -16.5589            [(560451, 2), (560452, 2), (560453, 2)]  \n",
       "27432  39.5282  -0.8342  [(560454, 0), (560455, 0), (560456, 0), (56045...  \n",
       "27434 -34.1501  18.4355                                                 []  \n",
       "\n",
       "[19749 rows x 9 columns]"
      ]
     },
     "execution_count": 4,
     "metadata": {},
     "output_type": "execute_result"
    }
   ],
   "source": [
    "df_crags = pd.read_sql('select * from crags',connection,index_col='index')\n",
    "df_crags['climb_list'] = [eval(flat) for flat in df_crags['climbs_flat']]\n",
    "df_crags = df_crags.drop('climbs_flat',axis=1)\n",
    "df_crags"
   ]
  },
  {
   "cell_type": "code",
   "execution_count": 5,
   "metadata": {
    "ExecuteTime": {
     "end_time": "2020-03-05T11:50:50.985188Z",
     "start_time": "2020-03-05T11:50:32.916455Z"
    }
   },
   "outputs": [
    {
     "data": {
      "text/html": [
       "<div>\n",
       "<style scoped>\n",
       "    .dataframe tbody tr th:only-of-type {\n",
       "        vertical-align: middle;\n",
       "    }\n",
       "\n",
       "    .dataframe tbody tr th {\n",
       "        vertical-align: top;\n",
       "    }\n",
       "\n",
       "    .dataframe thead th {\n",
       "        text-align: right;\n",
       "    }\n",
       "</style>\n",
       "<table border=\"1\" class=\"dataframe\">\n",
       "  <thead>\n",
       "    <tr style=\"text-align: right;\">\n",
       "      <th></th>\n",
       "      <th>id</th>\n",
       "      <th>url</th>\n",
       "      <th>climbname</th>\n",
       "      <th>rating</th>\n",
       "      <th>grade</th>\n",
       "      <th>crag_id</th>\n",
       "      <th>desc</th>\n",
       "      <th>num_comments</th>\n",
       "      <th>type</th>\n",
       "      <th>comments_flat</th>\n",
       "      <th>logs</th>\n",
       "    </tr>\n",
       "    <tr>\n",
       "      <th>index</th>\n",
       "      <th></th>\n",
       "      <th></th>\n",
       "      <th></th>\n",
       "      <th></th>\n",
       "      <th></th>\n",
       "      <th></th>\n",
       "      <th></th>\n",
       "      <th></th>\n",
       "      <th></th>\n",
       "      <th></th>\n",
       "      <th></th>\n",
       "    </tr>\n",
       "  </thead>\n",
       "  <tbody>\n",
       "    <tr>\n",
       "      <th>3166</th>\n",
       "      <td>3166</td>\n",
       "      <td>https://www.ukclimbing.com/logbook/c.php?i=3166</td>\n",
       "      <td>Millwood's Wall</td>\n",
       "      <td>0</td>\n",
       "      <td>S 4a</td>\n",
       "      <td>4</td>\n",
       "      <td></td>\n",
       "      <td>0</td>\n",
       "      <td>trad</td>\n",
       "      <td>' '</td>\n",
       "      <td>{}</td>\n",
       "    </tr>\n",
       "    <tr>\n",
       "      <th>3167</th>\n",
       "      <td>3167</td>\n",
       "      <td>https://www.ukclimbing.com/logbook/c.php?i=3167</td>\n",
       "      <td>Vanishing Point</td>\n",
       "      <td>0</td>\n",
       "      <td>E1 5b</td>\n",
       "      <td>4</td>\n",
       "      <td></td>\n",
       "      <td>2</td>\n",
       "      <td>trad</td>\n",
       "      <td>'   '</td>\n",
       "      <td>{'187067': '', '63530': ''}</td>\n",
       "    </tr>\n",
       "    <tr>\n",
       "      <th>3168</th>\n",
       "      <td>3168</td>\n",
       "      <td>https://www.ukclimbing.com/logbook/c.php?i=3168</td>\n",
       "      <td>The Thing</td>\n",
       "      <td>3</td>\n",
       "      <td>E2 5c</td>\n",
       "      <td>4</td>\n",
       "      <td></td>\n",
       "      <td>124</td>\n",
       "      <td>trad</td>\n",
       "      <td>\"  Joe led this in one pitch, taking the direc...</td>\n",
       "      <td>{'253245': '', '206609': 'Joe led this in one ...</td>\n",
       "    </tr>\n",
       "    <tr>\n",
       "      <th>3169</th>\n",
       "      <td>3169</td>\n",
       "      <td>https://www.ukclimbing.com/logbook/c.php?i=3169</td>\n",
       "      <td>Rootorooni</td>\n",
       "      <td>1</td>\n",
       "      <td>E3 5c</td>\n",
       "      <td>4</td>\n",
       "      <td></td>\n",
       "      <td>0</td>\n",
       "      <td>trad</td>\n",
       "      <td>' '</td>\n",
       "      <td>{}</td>\n",
       "    </tr>\n",
       "    <tr>\n",
       "      <th>3170</th>\n",
       "      <td>3170</td>\n",
       "      <td>https://www.ukclimbing.com/logbook/c.php?i=3170</td>\n",
       "      <td>Cobweb Crack</td>\n",
       "      <td>2</td>\n",
       "      <td>VS 5a</td>\n",
       "      <td>4</td>\n",
       "      <td></td>\n",
       "      <td>181</td>\n",
       "      <td>trad</td>\n",
       "      <td>'    Note that the description in the CC Llanb...</td>\n",
       "      <td>{'185136': '', '197782': '', '6106': '', '2410...</td>\n",
       "    </tr>\n",
       "    <tr>\n",
       "      <th>...</th>\n",
       "      <td>...</td>\n",
       "      <td>...</td>\n",
       "      <td>...</td>\n",
       "      <td>...</td>\n",
       "      <td>...</td>\n",
       "      <td>...</td>\n",
       "      <td>...</td>\n",
       "      <td>...</td>\n",
       "      <td>...</td>\n",
       "      <td>...</td>\n",
       "      <td>...</td>\n",
       "    </tr>\n",
       "    <tr>\n",
       "      <th>560510</th>\n",
       "      <td>560510</td>\n",
       "      <td>https://www.ukclimbing.com/logbook/c.php?i=560510</td>\n",
       "      <td>El chivo loco</td>\n",
       "      <td>0</td>\n",
       "      <td>6b</td>\n",
       "      <td>27432</td>\n",
       "      <td></td>\n",
       "      <td>0</td>\n",
       "      <td>lead</td>\n",
       "      <td>' '</td>\n",
       "      <td>{}</td>\n",
       "    </tr>\n",
       "    <tr>\n",
       "      <th>560511</th>\n",
       "      <td>560511</td>\n",
       "      <td>https://www.ukclimbing.com/logbook/c.php?i=560511</td>\n",
       "      <td>Victorking</td>\n",
       "      <td>0</td>\n",
       "      <td>6b+</td>\n",
       "      <td>27432</td>\n",
       "      <td></td>\n",
       "      <td>0</td>\n",
       "      <td>lead</td>\n",
       "      <td>' '</td>\n",
       "      <td>{}</td>\n",
       "    </tr>\n",
       "    <tr>\n",
       "      <th>560512</th>\n",
       "      <td>560512</td>\n",
       "      <td>https://www.ukclimbing.com/logbook/c.php?i=560512</td>\n",
       "      <td>Puto Maldonado</td>\n",
       "      <td>0</td>\n",
       "      <td>6c+</td>\n",
       "      <td>27432</td>\n",
       "      <td></td>\n",
       "      <td>0</td>\n",
       "      <td>lead</td>\n",
       "      <td>' '</td>\n",
       "      <td>{}</td>\n",
       "    </tr>\n",
       "    <tr>\n",
       "      <th>560513</th>\n",
       "      <td>560513</td>\n",
       "      <td>https://www.ukclimbing.com/logbook/c.php?i=560513</td>\n",
       "      <td>Bracitos de acero</td>\n",
       "      <td>0</td>\n",
       "      <td>6c</td>\n",
       "      <td>27432</td>\n",
       "      <td></td>\n",
       "      <td>0</td>\n",
       "      <td>lead</td>\n",
       "      <td>' '</td>\n",
       "      <td>{}</td>\n",
       "    </tr>\n",
       "    <tr>\n",
       "      <th>560514</th>\n",
       "      <td>560514</td>\n",
       "      <td>https://www.ukclimbing.com/logbook/c.php?i=560514</td>\n",
       "      <td>Los solidarios</td>\n",
       "      <td>0</td>\n",
       "      <td>6b</td>\n",
       "      <td>27432</td>\n",
       "      <td></td>\n",
       "      <td>0</td>\n",
       "      <td>lead</td>\n",
       "      <td>' '</td>\n",
       "      <td>{}</td>\n",
       "    </tr>\n",
       "  </tbody>\n",
       "</table>\n",
       "<p>492841 rows × 11 columns</p>\n",
       "</div>"
      ],
      "text/plain": [
       "            id                                                url  \\\n",
       "index                                                               \n",
       "3166      3166    https://www.ukclimbing.com/logbook/c.php?i=3166   \n",
       "3167      3167    https://www.ukclimbing.com/logbook/c.php?i=3167   \n",
       "3168      3168    https://www.ukclimbing.com/logbook/c.php?i=3168   \n",
       "3169      3169    https://www.ukclimbing.com/logbook/c.php?i=3169   \n",
       "3170      3170    https://www.ukclimbing.com/logbook/c.php?i=3170   \n",
       "...        ...                                                ...   \n",
       "560510  560510  https://www.ukclimbing.com/logbook/c.php?i=560510   \n",
       "560511  560511  https://www.ukclimbing.com/logbook/c.php?i=560511   \n",
       "560512  560512  https://www.ukclimbing.com/logbook/c.php?i=560512   \n",
       "560513  560513  https://www.ukclimbing.com/logbook/c.php?i=560513   \n",
       "560514  560514  https://www.ukclimbing.com/logbook/c.php?i=560514   \n",
       "\n",
       "                climbname  rating  grade  crag_id desc  num_comments  type  \\\n",
       "index                                                                        \n",
       "3166      Millwood's Wall       0   S 4a        4                  0  trad   \n",
       "3167      Vanishing Point       0  E1 5b        4                  2  trad   \n",
       "3168            The Thing       3  E2 5c        4                124  trad   \n",
       "3169           Rootorooni       1  E3 5c        4                  0  trad   \n",
       "3170         Cobweb Crack       2  VS 5a        4                181  trad   \n",
       "...                   ...     ...    ...      ...  ...           ...   ...   \n",
       "560510      El chivo loco       0     6b    27432                  0  lead   \n",
       "560511         Victorking       0    6b+    27432                  0  lead   \n",
       "560512     Puto Maldonado       0    6c+    27432                  0  lead   \n",
       "560513  Bracitos de acero       0     6c    27432                  0  lead   \n",
       "560514     Los solidarios       0     6b    27432                  0  lead   \n",
       "\n",
       "                                            comments_flat  \\\n",
       "index                                                       \n",
       "3166                                                  ' '   \n",
       "3167                                                '   '   \n",
       "3168    \"  Joe led this in one pitch, taking the direc...   \n",
       "3169                                                  ' '   \n",
       "3170    '    Note that the description in the CC Llanb...   \n",
       "...                                                   ...   \n",
       "560510                                                ' '   \n",
       "560511                                                ' '   \n",
       "560512                                                ' '   \n",
       "560513                                                ' '   \n",
       "560514                                                ' '   \n",
       "\n",
       "                                                     logs  \n",
       "index                                                      \n",
       "3166                                                   {}  \n",
       "3167                          {'187067': '', '63530': ''}  \n",
       "3168    {'253245': '', '206609': 'Joe led this in one ...  \n",
       "3169                                                   {}  \n",
       "3170    {'185136': '', '197782': '', '6106': '', '2410...  \n",
       "...                                                   ...  \n",
       "560510                                                 {}  \n",
       "560511                                                 {}  \n",
       "560512                                                 {}  \n",
       "560513                                                 {}  \n",
       "560514                                                 {}  \n",
       "\n",
       "[492841 rows x 11 columns]"
      ]
     },
     "execution_count": 5,
     "metadata": {},
     "output_type": "execute_result"
    }
   ],
   "source": [
    "df_climbs = pd.read_sql('select * from climbs',connection,index_col='index')\n",
    "df_climbs['logs'] = [eval(flat) for flat in df_climbs['logs_flat']]\n",
    "df_climbs = df_climbs.drop('logs_flat',axis=1)\n",
    "df_climbs"
   ]
  },
  {
   "cell_type": "code",
   "execution_count": 6,
   "metadata": {
    "ExecuteTime": {
     "end_time": "2020-03-05T11:50:55.964447Z",
     "start_time": "2020-03-05T11:50:50.988685Z"
    }
   },
   "outputs": [
    {
     "data": {
      "text/html": [
       "<div>\n",
       "<style scoped>\n",
       "    .dataframe tbody tr th:only-of-type {\n",
       "        vertical-align: middle;\n",
       "    }\n",
       "\n",
       "    .dataframe tbody tr th {\n",
       "        vertical-align: top;\n",
       "    }\n",
       "\n",
       "    .dataframe thead th {\n",
       "        text-align: right;\n",
       "    }\n",
       "</style>\n",
       "<table border=\"1\" class=\"dataframe\">\n",
       "  <thead>\n",
       "    <tr style=\"text-align: right;\">\n",
       "      <th></th>\n",
       "      <th>id</th>\n",
       "      <th>logbook_url</th>\n",
       "      <th>profile_url</th>\n",
       "      <th>username</th>\n",
       "      <th>num_climbs</th>\n",
       "      <th>climbs</th>\n",
       "    </tr>\n",
       "    <tr>\n",
       "      <th>index</th>\n",
       "      <th></th>\n",
       "      <th></th>\n",
       "      <th></th>\n",
       "      <th></th>\n",
       "      <th></th>\n",
       "      <th></th>\n",
       "    </tr>\n",
       "  </thead>\n",
       "  <tbody>\n",
       "    <tr>\n",
       "      <th>100002</th>\n",
       "      <td>100002</td>\n",
       "      <td>https://www.ukclimbing.com/logbook/showlog.php...</td>\n",
       "      <td>https://www.ukclimbing.com/user/profile.php?id...</td>\n",
       "      <td>Stephanelericolais</td>\n",
       "      <td>3</td>\n",
       "      <td>[42012, 18853, 147314]</td>\n",
       "    </tr>\n",
       "    <tr>\n",
       "      <th>10002</th>\n",
       "      <td>10002</td>\n",
       "      <td>https://www.ukclimbing.com/logbook/showlog.php...</td>\n",
       "      <td>https://www.ukclimbing.com/user/profile.php?id...</td>\n",
       "      <td>Piers Harley</td>\n",
       "      <td>325</td>\n",
       "      <td>[8359, 10726, 10731, 10732, 10735, 10744, 1077...</td>\n",
       "    </tr>\n",
       "    <tr>\n",
       "      <th>100025</th>\n",
       "      <td>100025</td>\n",
       "      <td>https://www.ukclimbing.com/logbook/showlog.php...</td>\n",
       "      <td>https://www.ukclimbing.com/user/profile.php?id...</td>\n",
       "      <td>george5699</td>\n",
       "      <td>15</td>\n",
       "      <td>[31435, 33329, 40976, 42231, 86139, 35261, 352...</td>\n",
       "    </tr>\n",
       "    <tr>\n",
       "      <th>100031</th>\n",
       "      <td>100031</td>\n",
       "      <td>https://www.ukclimbing.com/logbook/showlog.php...</td>\n",
       "      <td>https://www.ukclimbing.com/user/profile.php?id...</td>\n",
       "      <td>Tak</td>\n",
       "      <td>16</td>\n",
       "      <td>[10917, 10941, 10969, 10971, 10328, 10342, 103...</td>\n",
       "    </tr>\n",
       "    <tr>\n",
       "      <th>100045</th>\n",
       "      <td>100045</td>\n",
       "      <td>https://www.ukclimbing.com/logbook/showlog.php...</td>\n",
       "      <td>https://www.ukclimbing.com/user/profile.php?id...</td>\n",
       "      <td>smeaton</td>\n",
       "      <td>46</td>\n",
       "      <td>[10729, 10731, 10735, 10814, 10816, 10837, 108...</td>\n",
       "    </tr>\n",
       "    <tr>\n",
       "      <th>...</th>\n",
       "      <td>...</td>\n",
       "      <td>...</td>\n",
       "      <td>...</td>\n",
       "      <td>...</td>\n",
       "      <td>...</td>\n",
       "      <td>...</td>\n",
       "    </tr>\n",
       "    <tr>\n",
       "      <th>99962</th>\n",
       "      <td>99962</td>\n",
       "      <td>https://www.ukclimbing.com/logbook/showlog.php...</td>\n",
       "      <td>https://www.ukclimbing.com/user/profile.php?id...</td>\n",
       "      <td>spilla</td>\n",
       "      <td>19</td>\n",
       "      <td>[10370, 14060, 14061, 51492, 14062, 14063, 140...</td>\n",
       "    </tr>\n",
       "    <tr>\n",
       "      <th>99967</th>\n",
       "      <td>99967</td>\n",
       "      <td>https://www.ukclimbing.com/logbook/showlog.php...</td>\n",
       "      <td>https://www.ukclimbing.com/user/profile.php?id...</td>\n",
       "      <td>Andrewbirkett</td>\n",
       "      <td>68</td>\n",
       "      <td>[33152, 33154, 33286, 35960, 33289, 104598, 37...</td>\n",
       "    </tr>\n",
       "    <tr>\n",
       "      <th>99978</th>\n",
       "      <td>99978</td>\n",
       "      <td>https://www.ukclimbing.com/logbook/showlog.php...</td>\n",
       "      <td>https://www.ukclimbing.com/user/profile.php?id...</td>\n",
       "      <td>Jamie Nobbs</td>\n",
       "      <td>74</td>\n",
       "      <td>[8349, 8351, 8354, 4662, 4684, 34668, 4694, 47...</td>\n",
       "    </tr>\n",
       "    <tr>\n",
       "      <th>99997</th>\n",
       "      <td>99997</td>\n",
       "      <td>https://www.ukclimbing.com/logbook/showlog.php...</td>\n",
       "      <td>https://www.ukclimbing.com/user/profile.php?id...</td>\n",
       "      <td>nevets</td>\n",
       "      <td>28</td>\n",
       "      <td>[11041, 10893, 10894, 10241, 10245, 10252, 102...</td>\n",
       "    </tr>\n",
       "    <tr>\n",
       "      <th>99999</th>\n",
       "      <td>99999</td>\n",
       "      <td>https://www.ukclimbing.com/logbook/showlog.php...</td>\n",
       "      <td>https://www.ukclimbing.com/user/profile.php?id...</td>\n",
       "      <td>duncfunk</td>\n",
       "      <td>243</td>\n",
       "      <td>[452651, 32723, 45132, 47223, 47272, 125727, 2...</td>\n",
       "    </tr>\n",
       "  </tbody>\n",
       "</table>\n",
       "<p>33062 rows × 6 columns</p>\n",
       "</div>"
      ],
      "text/plain": [
       "            id                                        logbook_url  \\\n",
       "index                                                               \n",
       "100002  100002  https://www.ukclimbing.com/logbook/showlog.php...   \n",
       "10002    10002  https://www.ukclimbing.com/logbook/showlog.php...   \n",
       "100025  100025  https://www.ukclimbing.com/logbook/showlog.php...   \n",
       "100031  100031  https://www.ukclimbing.com/logbook/showlog.php...   \n",
       "100045  100045  https://www.ukclimbing.com/logbook/showlog.php...   \n",
       "...        ...                                                ...   \n",
       "99962    99962  https://www.ukclimbing.com/logbook/showlog.php...   \n",
       "99967    99967  https://www.ukclimbing.com/logbook/showlog.php...   \n",
       "99978    99978  https://www.ukclimbing.com/logbook/showlog.php...   \n",
       "99997    99997  https://www.ukclimbing.com/logbook/showlog.php...   \n",
       "99999    99999  https://www.ukclimbing.com/logbook/showlog.php...   \n",
       "\n",
       "                                              profile_url            username  \\\n",
       "index                                                                           \n",
       "100002  https://www.ukclimbing.com/user/profile.php?id...  Stephanelericolais   \n",
       "10002   https://www.ukclimbing.com/user/profile.php?id...        Piers Harley   \n",
       "100025  https://www.ukclimbing.com/user/profile.php?id...          george5699   \n",
       "100031  https://www.ukclimbing.com/user/profile.php?id...                 Tak   \n",
       "100045  https://www.ukclimbing.com/user/profile.php?id...             smeaton   \n",
       "...                                                   ...                 ...   \n",
       "99962   https://www.ukclimbing.com/user/profile.php?id...              spilla   \n",
       "99967   https://www.ukclimbing.com/user/profile.php?id...       Andrewbirkett   \n",
       "99978   https://www.ukclimbing.com/user/profile.php?id...         Jamie Nobbs   \n",
       "99997   https://www.ukclimbing.com/user/profile.php?id...              nevets   \n",
       "99999   https://www.ukclimbing.com/user/profile.php?id...            duncfunk   \n",
       "\n",
       "        num_climbs                                             climbs  \n",
       "index                                                                  \n",
       "100002           3                             [42012, 18853, 147314]  \n",
       "10002          325  [8359, 10726, 10731, 10732, 10735, 10744, 1077...  \n",
       "100025          15  [31435, 33329, 40976, 42231, 86139, 35261, 352...  \n",
       "100031          16  [10917, 10941, 10969, 10971, 10328, 10342, 103...  \n",
       "100045          46  [10729, 10731, 10735, 10814, 10816, 10837, 108...  \n",
       "...            ...                                                ...  \n",
       "99962           19  [10370, 14060, 14061, 51492, 14062, 14063, 140...  \n",
       "99967           68  [33152, 33154, 33286, 35960, 33289, 104598, 37...  \n",
       "99978           74  [8349, 8351, 8354, 4662, 4684, 34668, 4694, 47...  \n",
       "99997           28  [11041, 10893, 10894, 10241, 10245, 10252, 102...  \n",
       "99999          243  [452651, 32723, 45132, 47223, 47272, 125727, 2...  \n",
       "\n",
       "[33062 rows x 6 columns]"
      ]
     },
     "execution_count": 6,
     "metadata": {},
     "output_type": "execute_result"
    }
   ],
   "source": [
    "df_users = pd.read_sql('select * from users',connection,index_col='index')\n",
    "df_users['climbs'] = [eval(flat) for flat in df_users['climbs_flat']]\n",
    "df_users = df_users.drop('climbs_flat',axis=1)\n",
    "df_users"
   ]
  },
  {
   "cell_type": "code",
   "execution_count": 7,
   "metadata": {
    "ExecuteTime": {
     "end_time": "2020-03-05T11:50:55.984138Z",
     "start_time": "2020-03-05T11:50:55.966865Z"
    }
   },
   "outputs": [],
   "source": [
    "uk_crags = df_crags[(df_crags['lat']>50)&(df_crags['long']>-8.2)&(df_crags['lat']<58.9)&(df_crags['long']<2.1)].index"
   ]
  },
  {
   "cell_type": "code",
   "execution_count": null,
   "metadata": {},
   "outputs": [],
   "source": []
  },
  {
   "cell_type": "code",
   "execution_count": 8,
   "metadata": {
    "ExecuteTime": {
     "end_time": "2020-03-05T11:50:56.662075Z",
     "start_time": "2020-03-05T11:50:55.986084Z"
    }
   },
   "outputs": [
    {
     "name": "stderr",
     "output_type": "stream",
     "text": [
      "/Users/max/opt/anaconda3/lib/python3.7/site-packages/ipykernel_launcher.py:2: UserWarning: Boolean Series key will be reindexed to match DataFrame index.\n",
      "  \n"
     ]
    },
    {
     "data": {
      "image/png": "[encoded data removed]",
      "text/plain": [
       "<Figure size 720x720 with 1 Axes>"
      ]
     },
     "metadata": {
      "image/png": {
       "height": 607,
       "width": 603
      },
      "needs_background": "light"
     },
     "output_type": "display_data"
    }
   ],
   "source": [
    "fig,ax = plt.subplots(figsize=(10,10))\n",
    "to_plot = df_crags.loc[uk_crags][df_crags['climbs']<600].climbs\n",
    "sns.distplot(to_plot,bins=100)\n",
    "ax.set_title('Climb count histogram')\n",
    "fig.savefig('num_climbs_plot.png')"
   ]
  },
  {
   "cell_type": "code",
   "execution_count": 9,
   "metadata": {
    "ExecuteTime": {
     "end_time": "2020-03-05T11:50:57.184479Z",
     "start_time": "2020-03-05T11:50:56.663831Z"
    }
   },
   "outputs": [
    {
     "data": {
      "image/png": "[encoded data removed]",
      "text/plain": [
       "<Figure size 720x720 with 1 Axes>"
      ]
     },
     "metadata": {
      "image/png": {
       "height": 591,
       "width": 668
      },
      "needs_background": "light"
     },
     "output_type": "display_data"
    }
   ],
   "source": [
    "fig,ax = plt.subplots(figsize=(10,10))\n",
    "to_plot = df_crags.loc[uk_crags].rocktype.value_counts().drop('UNKNOWN')\n",
    "sns.barplot(y=to_plot.index,x=to_plot.values,orient='h')\n",
    "ax.set_title('Rock Types')\n",
    "fig.savefig('rock_type_plot.png')"
   ]
  },
  {
   "cell_type": "code",
   "execution_count": 10,
   "metadata": {
    "ExecuteTime": {
     "end_time": "2020-03-05T11:50:57.393932Z",
     "start_time": "2020-03-05T11:50:57.186592Z"
    }
   },
   "outputs": [],
   "source": [
    "df_climbs['in_uk'] = df_climbs.crag_id.map(lambda x : x in uk_crags)"
   ]
  },
  {
   "cell_type": "code",
   "execution_count": 11,
   "metadata": {
    "ExecuteTime": {
     "end_time": "2020-03-05T11:50:57.437121Z",
     "start_time": "2020-03-05T11:50:57.397224Z"
    }
   },
   "outputs": [],
   "source": [
    "df_climbs_uk = df_climbs[df_climbs['in_uk']]"
   ]
  },
  {
   "cell_type": "code",
   "execution_count": 12,
   "metadata": {
    "ExecuteTime": {
     "end_time": "2020-03-05T11:50:57.460071Z",
     "start_time": "2020-03-05T11:50:57.439810Z"
    }
   },
   "outputs": [
    {
     "data": {
      "text/html": [
       "<div>\n",
       "<style scoped>\n",
       "    .dataframe tbody tr th:only-of-type {\n",
       "        vertical-align: middle;\n",
       "    }\n",
       "\n",
       "    .dataframe tbody tr th {\n",
       "        vertical-align: top;\n",
       "    }\n",
       "\n",
       "    .dataframe thead th {\n",
       "        text-align: right;\n",
       "    }\n",
       "</style>\n",
       "<table border=\"1\" class=\"dataframe\">\n",
       "  <thead>\n",
       "    <tr style=\"text-align: right;\">\n",
       "      <th></th>\n",
       "      <th>id</th>\n",
       "      <th>url</th>\n",
       "      <th>climbname</th>\n",
       "      <th>rating</th>\n",
       "      <th>grade</th>\n",
       "      <th>crag_id</th>\n",
       "      <th>desc</th>\n",
       "      <th>num_comments</th>\n",
       "      <th>type</th>\n",
       "      <th>comments_flat</th>\n",
       "      <th>logs</th>\n",
       "      <th>in_uk</th>\n",
       "    </tr>\n",
       "    <tr>\n",
       "      <th>index</th>\n",
       "      <th></th>\n",
       "      <th></th>\n",
       "      <th></th>\n",
       "      <th></th>\n",
       "      <th></th>\n",
       "      <th></th>\n",
       "      <th></th>\n",
       "      <th></th>\n",
       "      <th></th>\n",
       "      <th></th>\n",
       "      <th></th>\n",
       "      <th></th>\n",
       "    </tr>\n",
       "  </thead>\n",
       "  <tbody>\n",
       "    <tr>\n",
       "      <th>3166</th>\n",
       "      <td>3166</td>\n",
       "      <td>https://www.ukclimbing.com/logbook/c.php?i=3166</td>\n",
       "      <td>Millwood's Wall</td>\n",
       "      <td>0</td>\n",
       "      <td>S 4a</td>\n",
       "      <td>4</td>\n",
       "      <td></td>\n",
       "      <td>0</td>\n",
       "      <td>trad</td>\n",
       "      <td>' '</td>\n",
       "      <td>{}</td>\n",
       "      <td>True</td>\n",
       "    </tr>\n",
       "    <tr>\n",
       "      <th>3167</th>\n",
       "      <td>3167</td>\n",
       "      <td>https://www.ukclimbing.com/logbook/c.php?i=3167</td>\n",
       "      <td>Vanishing Point</td>\n",
       "      <td>0</td>\n",
       "      <td>E1 5b</td>\n",
       "      <td>4</td>\n",
       "      <td></td>\n",
       "      <td>2</td>\n",
       "      <td>trad</td>\n",
       "      <td>'   '</td>\n",
       "      <td>{'187067': '', '63530': ''}</td>\n",
       "      <td>True</td>\n",
       "    </tr>\n",
       "    <tr>\n",
       "      <th>3168</th>\n",
       "      <td>3168</td>\n",
       "      <td>https://www.ukclimbing.com/logbook/c.php?i=3168</td>\n",
       "      <td>The Thing</td>\n",
       "      <td>3</td>\n",
       "      <td>E2 5c</td>\n",
       "      <td>4</td>\n",
       "      <td></td>\n",
       "      <td>124</td>\n",
       "      <td>trad</td>\n",
       "      <td>\"  Joe led this in one pitch, taking the direc...</td>\n",
       "      <td>{'253245': '', '206609': 'Joe led this in one ...</td>\n",
       "      <td>True</td>\n",
       "    </tr>\n",
       "    <tr>\n",
       "      <th>3169</th>\n",
       "      <td>3169</td>\n",
       "      <td>https://www.ukclimbing.com/logbook/c.php?i=3169</td>\n",
       "      <td>Rootorooni</td>\n",
       "      <td>1</td>\n",
       "      <td>E3 5c</td>\n",
       "      <td>4</td>\n",
       "      <td></td>\n",
       "      <td>0</td>\n",
       "      <td>trad</td>\n",
       "      <td>' '</td>\n",
       "      <td>{}</td>\n",
       "      <td>True</td>\n",
       "    </tr>\n",
       "    <tr>\n",
       "      <th>3170</th>\n",
       "      <td>3170</td>\n",
       "      <td>https://www.ukclimbing.com/logbook/c.php?i=3170</td>\n",
       "      <td>Cobweb Crack</td>\n",
       "      <td>2</td>\n",
       "      <td>VS 5a</td>\n",
       "      <td>4</td>\n",
       "      <td></td>\n",
       "      <td>181</td>\n",
       "      <td>trad</td>\n",
       "      <td>'    Note that the description in the CC Llanb...</td>\n",
       "      <td>{'185136': '', '197782': '', '6106': '', '2410...</td>\n",
       "      <td>True</td>\n",
       "    </tr>\n",
       "    <tr>\n",
       "      <th>...</th>\n",
       "      <td>...</td>\n",
       "      <td>...</td>\n",
       "      <td>...</td>\n",
       "      <td>...</td>\n",
       "      <td>...</td>\n",
       "      <td>...</td>\n",
       "      <td>...</td>\n",
       "      <td>...</td>\n",
       "      <td>...</td>\n",
       "      <td>...</td>\n",
       "      <td>...</td>\n",
       "      <td>...</td>\n",
       "    </tr>\n",
       "    <tr>\n",
       "      <th>559493</th>\n",
       "      <td>559493</td>\n",
       "      <td>https://www.ukclimbing.com/logbook/c.php?i=559493</td>\n",
       "      <td>Layback Right Arete RH</td>\n",
       "      <td>0</td>\n",
       "      <td>f6C+</td>\n",
       "      <td>27396</td>\n",
       "      <td>Layback the right arete on the RH side - no ho...</td>\n",
       "      <td>1</td>\n",
       "      <td>boulder</td>\n",
       "      <td>'Layback the right arete on the RH side - no h...</td>\n",
       "      <td>{}</td>\n",
       "      <td>True</td>\n",
       "    </tr>\n",
       "    <tr>\n",
       "      <th>559503</th>\n",
       "      <td>559503</td>\n",
       "      <td>https://www.ukclimbing.com/logbook/c.php?i=559503</td>\n",
       "      <td>Right Arete RH and Holds</td>\n",
       "      <td>0</td>\n",
       "      <td>f6B+</td>\n",
       "      <td>27396</td>\n",
       "      <td>The right arete using holds on the wall\\r\\n   ...</td>\n",
       "      <td>1</td>\n",
       "      <td>boulder</td>\n",
       "      <td>'The right arete using holds on the wall\\r\\n  ...</td>\n",
       "      <td>{}</td>\n",
       "      <td>True</td>\n",
       "    </tr>\n",
       "    <tr>\n",
       "      <th>560150</th>\n",
       "      <td>560150</td>\n",
       "      <td>https://www.ukclimbing.com/logbook/c.php?i=560150</td>\n",
       "      <td>The North Face</td>\n",
       "      <td>3</td>\n",
       "      <td>XS</td>\n",
       "      <td>27418</td>\n",
       "      <td>The XS is for Extremely Silly. Best to find yo...</td>\n",
       "      <td>3</td>\n",
       "      <td>other</td>\n",
       "      <td>'The XS is for Extremely Silly. Best to find y...</td>\n",
       "      <td>{'57759': 'Failed to finish this due to route ...</td>\n",
       "      <td>True</td>\n",
       "    </tr>\n",
       "    <tr>\n",
       "      <th>560151</th>\n",
       "      <td>560151</td>\n",
       "      <td>https://www.ukclimbing.com/logbook/c.php?i=560151</td>\n",
       "      <td>Cold Dark Matter</td>\n",
       "      <td>2</td>\n",
       "      <td>E1 5a</td>\n",
       "      <td>27420</td>\n",
       "      <td>10m. From the middle of the lower left to righ...</td>\n",
       "      <td>2</td>\n",
       "      <td>trad</td>\n",
       "      <td>\"10m. From the middle of the lower left to rig...</td>\n",
       "      <td>{'118023': 'Snow and rain. A very patient bela...</td>\n",
       "      <td>True</td>\n",
       "    </tr>\n",
       "    <tr>\n",
       "      <th>560218</th>\n",
       "      <td>560218</td>\n",
       "      <td>https://www.ukclimbing.com/logbook/c.php?i=560218</td>\n",
       "      <td>The blob</td>\n",
       "      <td>3</td>\n",
       "      <td>V7</td>\n",
       "      <td>27421</td>\n",
       "      <td>Start with two hands in the low crack then mov...</td>\n",
       "      <td>1</td>\n",
       "      <td>boulder</td>\n",
       "      <td>'Start with two hands in the low crack then mo...</td>\n",
       "      <td>{}</td>\n",
       "      <td>True</td>\n",
       "    </tr>\n",
       "  </tbody>\n",
       "</table>\n",
       "<p>178654 rows × 12 columns</p>\n",
       "</div>"
      ],
      "text/plain": [
       "            id                                                url  \\\n",
       "index                                                               \n",
       "3166      3166    https://www.ukclimbing.com/logbook/c.php?i=3166   \n",
       "3167      3167    https://www.ukclimbing.com/logbook/c.php?i=3167   \n",
       "3168      3168    https://www.ukclimbing.com/logbook/c.php?i=3168   \n",
       "3169      3169    https://www.ukclimbing.com/logbook/c.php?i=3169   \n",
       "3170      3170    https://www.ukclimbing.com/logbook/c.php?i=3170   \n",
       "...        ...                                                ...   \n",
       "559493  559493  https://www.ukclimbing.com/logbook/c.php?i=559493   \n",
       "559503  559503  https://www.ukclimbing.com/logbook/c.php?i=559503   \n",
       "560150  560150  https://www.ukclimbing.com/logbook/c.php?i=560150   \n",
       "560151  560151  https://www.ukclimbing.com/logbook/c.php?i=560151   \n",
       "560218  560218  https://www.ukclimbing.com/logbook/c.php?i=560218   \n",
       "\n",
       "                       climbname  rating  grade  crag_id  \\\n",
       "index                                                      \n",
       "3166             Millwood's Wall       0   S 4a        4   \n",
       "3167             Vanishing Point       0  E1 5b        4   \n",
       "3168                   The Thing       3  E2 5c        4   \n",
       "3169                  Rootorooni       1  E3 5c        4   \n",
       "3170                Cobweb Crack       2  VS 5a        4   \n",
       "...                          ...     ...    ...      ...   \n",
       "559493    Layback Right Arete RH       0   f6C+    27396   \n",
       "559503  Right Arete RH and Holds       0   f6B+    27396   \n",
       "560150            The North Face       3     XS    27418   \n",
       "560151          Cold Dark Matter       2  E1 5a    27420   \n",
       "560218                  The blob       3     V7    27421   \n",
       "\n",
       "                                                     desc  num_comments  \\\n",
       "index                                                                     \n",
       "3166                                                                  0   \n",
       "3167                                                                  2   \n",
       "3168                                                                124   \n",
       "3169                                                                  0   \n",
       "3170                                                                181   \n",
       "...                                                   ...           ...   \n",
       "559493  Layback the right arete on the RH side - no ho...             1   \n",
       "559503  The right arete using holds on the wall\\r\\n   ...             1   \n",
       "560150  The XS is for Extremely Silly. Best to find yo...             3   \n",
       "560151  10m. From the middle of the lower left to righ...             2   \n",
       "560218  Start with two hands in the low crack then mov...             1   \n",
       "\n",
       "           type                                      comments_flat  \\\n",
       "index                                                                \n",
       "3166       trad                                                ' '   \n",
       "3167       trad                                              '   '   \n",
       "3168       trad  \"  Joe led this in one pitch, taking the direc...   \n",
       "3169       trad                                                ' '   \n",
       "3170       trad  '    Note that the description in the CC Llanb...   \n",
       "...         ...                                                ...   \n",
       "559493  boulder  'Layback the right arete on the RH side - no h...   \n",
       "559503  boulder  'The right arete using holds on the wall\\r\\n  ...   \n",
       "560150    other  'The XS is for Extremely Silly. Best to find y...   \n",
       "560151     trad  \"10m. From the middle of the lower left to rig...   \n",
       "560218  boulder  'Start with two hands in the low crack then mo...   \n",
       "\n",
       "                                                     logs  in_uk  \n",
       "index                                                             \n",
       "3166                                                   {}   True  \n",
       "3167                          {'187067': '', '63530': ''}   True  \n",
       "3168    {'253245': '', '206609': 'Joe led this in one ...   True  \n",
       "3169                                                   {}   True  \n",
       "3170    {'185136': '', '197782': '', '6106': '', '2410...   True  \n",
       "...                                                   ...    ...  \n",
       "559493                                                 {}   True  \n",
       "559503                                                 {}   True  \n",
       "560150  {'57759': 'Failed to finish this due to route ...   True  \n",
       "560151  {'118023': 'Snow and rain. A very patient bela...   True  \n",
       "560218                                                 {}   True  \n",
       "\n",
       "[178654 rows x 12 columns]"
      ]
     },
     "execution_count": 12,
     "metadata": {},
     "output_type": "execute_result"
    }
   ],
   "source": [
    "df_climbs_uk"
   ]
  },
  {
   "cell_type": "code",
   "execution_count": 13,
   "metadata": {
    "ExecuteTime": {
     "end_time": "2020-03-05T11:50:57.563376Z",
     "start_time": "2020-03-05T11:50:57.461712Z"
    }
   },
   "outputs": [
    {
     "name": "stderr",
     "output_type": "stream",
     "text": [
      "/Users/max/opt/anaconda3/lib/python3.7/site-packages/ipykernel_launcher.py:1: FutureWarning: set_value is deprecated and will be removed in a future release. Please use .at[] or .iat[] accessors instead\n",
      "  \"\"\"Entry point for launching an IPython kernel.\n",
      "/Users/max/opt/anaconda3/lib/python3.7/site-packages/pandas/core/frame.py:2909: SettingWithCopyWarning: \n",
      "A value is trying to be set on a copy of a slice from a DataFrame\n",
      "\n",
      "See the caveats in the documentation: http://pandas.pydata.org/pandas-docs/stable/user_guide/indexing.html#returning-a-view-versus-a-copy\n",
      "  self.loc[index, col] = value\n",
      "/Users/max/opt/anaconda3/lib/python3.7/site-packages/ipykernel_launcher.py:2: FutureWarning: set_value is deprecated and will be removed in a future release. Please use .at[] or .iat[] accessors instead\n",
      "  \n"
     ]
    }
   ],
   "source": [
    "df_climbs_uk=df_climbs_uk.set_value(0, 'type', 'other')\n",
    "df_climbs_uk=df_climbs_uk.set_value(0, 'num_comments', '0')"
   ]
  },
  {
   "cell_type": "code",
   "execution_count": 14,
   "metadata": {
    "ExecuteTime": {
     "end_time": "2020-03-05T11:50:57.598388Z",
     "start_time": "2020-03-05T11:50:57.565547Z"
    }
   },
   "outputs": [
    {
     "data": {
      "text/plain": [
       "trad       90325\n",
       "boulder    56756\n",
       "lead       16513\n",
       "other      15061\n",
       "Name: type, dtype: int64"
      ]
     },
     "execution_count": 14,
     "metadata": {},
     "output_type": "execute_result"
    }
   ],
   "source": [
    "df_climbs_uk.type.value_counts()"
   ]
  },
  {
   "cell_type": "code",
   "execution_count": 15,
   "metadata": {
    "ExecuteTime": {
     "end_time": "2020-03-05T11:50:57.888741Z",
     "start_time": "2020-03-05T11:50:57.600280Z"
    }
   },
   "outputs": [
    {
     "data": {
      "image/png": "[encoded data removed]",
      "text/plain": [
       "<Figure size 720x720 with 1 Axes>"
      ]
     },
     "metadata": {
      "image/png": {
       "height": 591,
       "width": 613
      },
      "needs_background": "light"
     },
     "output_type": "display_data"
    }
   ],
   "source": [
    "fig,ax = plt.subplots(figsize=(10,10))\n",
    "to_plot = df_climbs_uk.type.value_counts()\n",
    "sns.barplot(x=to_plot.index,y=to_plot.values,palette=['red','blue','purple','grey'],orient='v')\n",
    "ax.set_title('Climb Types')\n",
    "fig.savefig('climb_type_plot.png')"
   ]
  },
  {
   "cell_type": "code",
   "execution_count": 16,
   "metadata": {
    "ExecuteTime": {
     "end_time": "2020-03-05T11:50:57.895483Z",
     "start_time": "2020-03-05T11:50:57.890588Z"
    }
   },
   "outputs": [
    {
     "data": {
      "text/plain": [
       "index\n",
       "3166        0.0\n",
       "3167        2.0\n",
       "3168      124.0\n",
       "3169        0.0\n",
       "3170      181.0\n",
       "          ...  \n",
       "559503      1.0\n",
       "560150      3.0\n",
       "560151      2.0\n",
       "560218      1.0\n",
       "0           0.0\n",
       "Name: num_comments, Length: 178655, dtype: float64"
      ]
     },
     "execution_count": 16,
     "metadata": {},
     "output_type": "execute_result"
    }
   ],
   "source": [
    "df_climbs_uk['num_comments']"
   ]
  },
  {
   "cell_type": "code",
   "execution_count": 17,
   "metadata": {
    "ExecuteTime": {
     "end_time": "2020-03-05T11:50:57.901673Z",
     "start_time": "2020-03-05T11:50:57.897465Z"
    }
   },
   "outputs": [],
   "source": [
    "df_climbs_uk['num_comments']=df_climbs_uk.num_comments.astype(int)"
   ]
  },
  {
   "cell_type": "code",
   "execution_count": 18,
   "metadata": {
    "ExecuteTime": {
     "end_time": "2020-03-05T11:50:58.072542Z",
     "start_time": "2020-03-05T11:50:57.903107Z"
    }
   },
   "outputs": [
    {
     "data": {
      "text/html": [
       "<div>\n",
       "<style scoped>\n",
       "    .dataframe tbody tr th:only-of-type {\n",
       "        vertical-align: middle;\n",
       "    }\n",
       "\n",
       "    .dataframe tbody tr th {\n",
       "        vertical-align: top;\n",
       "    }\n",
       "\n",
       "    .dataframe thead th {\n",
       "        text-align: right;\n",
       "    }\n",
       "</style>\n",
       "<table border=\"1\" class=\"dataframe\">\n",
       "  <thead>\n",
       "    <tr style=\"text-align: right;\">\n",
       "      <th></th>\n",
       "      <th>rating</th>\n",
       "      <th>crag_id</th>\n",
       "      <th>num_comments</th>\n",
       "    </tr>\n",
       "    <tr>\n",
       "      <th>type</th>\n",
       "      <th></th>\n",
       "      <th></th>\n",
       "      <th></th>\n",
       "    </tr>\n",
       "  </thead>\n",
       "  <tbody>\n",
       "    <tr>\n",
       "      <th>boulder</th>\n",
       "      <td>37267.0</td>\n",
       "      <td>498843140.0</td>\n",
       "      <td>735724</td>\n",
       "    </tr>\n",
       "    <tr>\n",
       "      <th>lead</th>\n",
       "      <td>15220.0</td>\n",
       "      <td>82862855.0</td>\n",
       "      <td>670564</td>\n",
       "    </tr>\n",
       "    <tr>\n",
       "      <th>other</th>\n",
       "      <td>8576.0</td>\n",
       "      <td>123337908.0</td>\n",
       "      <td>341261</td>\n",
       "    </tr>\n",
       "    <tr>\n",
       "      <th>trad</th>\n",
       "      <td>58784.0</td>\n",
       "      <td>390712095.0</td>\n",
       "      <td>2632811</td>\n",
       "    </tr>\n",
       "  </tbody>\n",
       "</table>\n",
       "</div>"
      ],
      "text/plain": [
       "          rating      crag_id  num_comments\n",
       "type                                       \n",
       "boulder  37267.0  498843140.0        735724\n",
       "lead     15220.0   82862855.0        670564\n",
       "other     8576.0  123337908.0        341261\n",
       "trad     58784.0  390712095.0       2632811"
      ]
     },
     "execution_count": 18,
     "metadata": {},
     "output_type": "execute_result"
    }
   ],
   "source": [
    "df_climbs_uk.groupby('type').sum()"
   ]
  },
  {
   "cell_type": "code",
   "execution_count": 19,
   "metadata": {
    "ExecuteTime": {
     "end_time": "2020-03-05T11:50:58.428656Z",
     "start_time": "2020-03-05T11:50:58.075398Z"
    }
   },
   "outputs": [
    {
     "data": {
      "image/png": "[encoded data removed]",
      "text/plain": [
       "<Figure size 720x720 with 1 Axes>"
      ]
     },
     "metadata": {
      "image/png": {
       "height": 607,
       "width": 609
      },
      "needs_background": "light"
     },
     "output_type": "display_data"
    }
   ],
   "source": [
    "fig,ax = plt.subplots(figsize=(10,10))\n",
    "to_plot = (df_climbs_uk.groupby('type').num_comments.sum()/df_climbs_uk.groupby('type').num_comments.count())\n",
    "sns.barplot(x=to_plot.index,y=to_plot.values,palette=['blue','purple','grey','red']);\n",
    "ax.set_title('Comments per climb type')\n",
    "ax.set_ylabel('Avg Comments per Climb')\n",
    "fig.savefig('comments_per_type_plot.png')"
   ]
  },
  {
   "cell_type": "code",
   "execution_count": 20,
   "metadata": {
    "ExecuteTime": {
     "end_time": "2020-03-05T11:50:58.477898Z",
     "start_time": "2020-03-05T11:50:58.430596Z"
    }
   },
   "outputs": [],
   "source": [
    "df_climbs_uk = df_climbs_uk.drop(435643)"
   ]
  },
  {
   "cell_type": "code",
   "execution_count": 26,
   "metadata": {
    "ExecuteTime": {
     "end_time": "2020-03-05T11:55:00.795430Z",
     "start_time": "2020-03-05T11:55:00.436588Z"
    }
   },
   "outputs": [
    {
     "data": {
      "image/png": "[encoded data removed]",
      "text/plain": [
       "<Figure size 720x720 with 1 Axes>"
      ]
     },
     "metadata": {
      "image/png": {
       "height": 607,
       "width": 609
      },
      "needs_background": "light"
     },
     "output_type": "display_data"
    }
   ],
   "source": [
    "fig,ax = plt.subplots(figsize=(10,10))\n",
    "to_plot = (df_climbs_uk.groupby('rating').num_comments.sum()/df_climbs_uk.groupby('rating').num_comments.count())\n",
    "sns.barplot(x=to_plot.index,y=to_plot.values,palette=['blue','purple','grey','red']);\n",
    "ax.set_title('Comments per rating')\n",
    "ax.set_ylabel('Avg Comments per Climb')\n",
    "fig.savefig('comments_per_rating_plot.png')"
   ]
  },
  {
   "cell_type": "code",
   "execution_count": 28,
   "metadata": {
    "ExecuteTime": {
     "end_time": "2020-03-05T13:00:57.573488Z",
     "start_time": "2020-03-05T13:00:57.567008Z"
    }
   },
   "outputs": [
    {
     "data": {
      "text/plain": [
       "1586"
      ]
     },
     "execution_count": 28,
     "metadata": {},
     "output_type": "execute_result"
    }
   ],
   "source": [
    "df_crags.climbs.max()"
   ]
  },
  {
   "cell_type": "code",
   "execution_count": null,
   "metadata": {},
   "outputs": [],
   "source": []
  },
  {
   "cell_type": "code",
   "execution_count": null,
   "metadata": {
    "ExecuteTime": {
     "end_time": "2020-03-05T11:02:07.404926Z",
     "start_time": "2020-03-05T11:01:47.263Z"
    }
   },
   "outputs": [],
   "source": [
    "from sklearn.manifold import TSNE"
   ]
  }
 ],
 "metadata": {
  "kernelspec": {
   "display_name": "Python 3",
   "language": "python",
   "name": "python3"
  },
  "language_info": {
   "codemirror_mode": {
    "name": "ipython",
    "version": 3
   },
   "file_extension": ".py",
   "mimetype": "text/x-python",
   "name": "python",
   "nbconvert_exporter": "python",
   "pygments_lexer": "ipython3",
   "version": "3.7.6"
  }
 },
 "nbformat": 4,
 "nbformat_minor": 2
}
